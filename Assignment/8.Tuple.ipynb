{
 "cells": [
  {
   "cell_type": "code",
   "execution_count": null,
   "id": "0062611c",
   "metadata": {},
   "outputs": [
    {
     "name": "stdout",
     "output_type": "stream",
     "text": [
      "('apple', 'banana', 'orange', 'kiwi', 'potato', 'cauliflower', 'tomato', 'ladyfinger')\n"
     ]
    }
   ],
   "source": [
    "#1  create a tuple containing name of fruits and vegetables\n",
    "fruits = ('apple', 'banana', 'orange', 'kiwi')\n",
    "vegetables = ('potato', 'cauliflower','tomato','ladyfinger')\n"
   ]
  },
  {
   "cell_type": "code",
   "execution_count": 3,
   "id": "3206613b",
   "metadata": {},
   "outputs": [
    {
     "name": "stdout",
     "output_type": "stream",
     "text": [
      "('apple', 'banana', 'orange', 'kiwi', 'potato', 'cauliflower', 'tomato', 'ladyfinger')\n"
     ]
    }
   ],
   "source": [
    "#2 join fruits and vegetables tuples and assign it to fruits_vegetables\n",
    "fruits_vegetables = fruits + vegetables\n",
    "print(fruits_vegetables)"
   ]
  },
  {
   "cell_type": "code",
   "execution_count": 4,
   "id": "ab9bf053",
   "metadata": {},
   "outputs": [
    {
     "name": "stdout",
     "output_type": "stream",
     "text": [
      "8\n"
     ]
    }
   ],
   "source": [
    "#3 How many fruits_vegetables do you have ?\n",
    "print(len(fruits_vegetables))"
   ]
  },
  {
   "cell_type": "code",
   "execution_count": 7,
   "id": "c8ebd165",
   "metadata": {},
   "outputs": [
    {
     "name": "stdout",
     "output_type": "stream",
     "text": [
      "('apple', 'banana', 'orange', 'kiwi', 'potato', 'cauliflower', 'tomato', 'ladyfinger', 'mushroom', 'Coke')\n"
     ]
    },
    {
     "data": {
      "text/plain": [
       "10"
      ]
     },
     "execution_count": 7,
     "metadata": {},
     "output_type": "execute_result"
    }
   ],
   "source": [
    "#4 Modify the fruits_vegetables tuple and add the name of your favorite mushroom an beverage and assign it to food_tuple\n",
    "favourite = 'mushroom','Coke'\n",
    "food_tuple = fruits_vegetables + favourite\n",
    "print(food_tuple)\n",
    "len(food_tuple)"
   ]
  },
  {
   "cell_type": "code",
   "execution_count": 8,
   "id": "be9076d0",
   "metadata": {},
   "outputs": [],
   "source": [
    "#5 unpack fruits_vegetables and mushroom and beverage from food_tuple \n"
   ]
  },
  {
   "cell_type": "code",
   "execution_count": 9,
   "id": "28bf259c",
   "metadata": {},
   "outputs": [],
   "source": [
    "#6 change the about food_tuple tuple to food_list list"
   ]
  },
  {
   "cell_type": "code",
   "execution_count": 10,
   "id": "9d1ee152",
   "metadata": {},
   "outputs": [],
   "source": [
    "# Slice out the middle item or items from the food_tuple tuple or food_list list\n"
   ]
  },
  {
   "cell_type": "code",
   "execution_count": 11,
   "id": "d4967a6f",
   "metadata": {},
   "outputs": [],
   "source": [
    "#8 Delete the food_tuple tuple completely"
   ]
  },
  {
   "cell_type": "code",
   "execution_count": null,
   "id": "72e439b4",
   "metadata": {},
   "outputs": [
    {
     "ename": "TypeError",
     "evalue": "'tuple' object is not callable",
     "output_type": "error",
     "traceback": [
      "\u001b[31m---------------------------------------------------------------------------\u001b[39m",
      "\u001b[31mTypeError\u001b[39m                                 Traceback (most recent call last)",
      "\u001b[36mCell\u001b[39m\u001b[36m \u001b[39m\u001b[32mIn[16]\u001b[39m\u001b[32m, line 7\u001b[39m\n\u001b[32m      5\u001b[39m asian_countries= (\u001b[33m\"\u001b[39m\u001b[33mIndia\u001b[39m\u001b[33m\"\u001b[39m,\u001b[33m\"\u001b[39m\u001b[33mChina\u001b[39m\u001b[33m\"\u001b[39m,\u001b[33m\"\u001b[39m\u001b[33mSingapore\u001b[39m\u001b[33m\"\u001b[39m,\u001b[33m\"\u001b[39m\u001b[33mThailand\u001b[39m\u001b[33m\"\u001b[39m,\u001b[33m\"\u001b[39m\u001b[33mIndonesia\u001b[39m\u001b[33m\"\u001b[39m)\n\u001b[32m      6\u001b[39m \u001b[38;5;66;03m# print(asian_countries.get(\"Finland\",\"There is no such country in asia\"))\u001b[39;00m\n\u001b[32m----> \u001b[39m\u001b[32m7\u001b[39m \u001b[38;5;28mprint\u001b[39m(\u001b[43masian_countries\u001b[49m\u001b[43m(\u001b[49m\u001b[33;43m\"\u001b[39;49m\u001b[33;43mIndia\u001b[39;49m\u001b[33;43m\"\u001b[39;49m\u001b[43m)\u001b[49m)\n",
      "\u001b[31mTypeError\u001b[39m: 'tuple' object is not callable"
     ]
    }
   ],
   "source": [
    "#check if an item exits in tuple :\n",
    "#asian_countries = (\"India\",\"China\",\"Singapore\",\"Thailand\",\"Indonesi\")\n",
    "#check if \"finland \" is a asia country\n",
    "#check if \"India \" is a asian country\n",
    "asian_countries= (\"India\",\"China\",\"Singapore\",\"Thailand\",\"Indonesia\")\n",
    "# print(asian_countries.get(\"Finland\",\"There is no such country in asia\"))\n",
    "print(asian_countries(\"India\"))\n"
   ]
  },
  {
   "cell_type": "code",
   "execution_count": null,
   "id": "ee9068b2",
   "metadata": {},
   "outputs": [],
   "source": []
  }
 ],
 "metadata": {
  "kernelspec": {
   "display_name": "Python 3",
   "language": "python",
   "name": "python3"
  },
  "language_info": {
   "codemirror_mode": {
    "name": "ipython",
    "version": 3
   },
   "file_extension": ".py",
   "mimetype": "text/x-python",
   "name": "python",
   "nbconvert_exporter": "python",
   "pygments_lexer": "ipython3",
   "version": "3.13.3"
  }
 },
 "nbformat": 4,
 "nbformat_minor": 5
}
