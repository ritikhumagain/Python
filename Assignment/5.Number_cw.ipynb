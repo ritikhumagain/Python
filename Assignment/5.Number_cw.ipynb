{
 "cells": [
  {
   "cell_type": "code",
   "execution_count": 1,
   "id": "0fcb18f0",
   "metadata": {},
   "outputs": [
    {
     "name": "stdout",
     "output_type": "stream",
     "text": [
      "10\n"
     ]
    }
   ],
   "source": [
    "#declae a number and print it \n",
    "\n",
    "num = 10\n",
    "print(num)  # Output: 10\n"
   ]
  },
  {
   "cell_type": "code",
   "execution_count": null,
   "id": "19d8c728",
   "metadata": {},
   "outputs": [
    {
     "name": "stdout",
     "output_type": "stream",
     "text": [
      "no is even\n"
     ]
    }
   ],
   "source": [
    "#check if a number is even or odd using modulo\n",
    "num = input('Enter the number : ')\n",
    "num=int(num)\n",
    "# if num % 2 ==0:\n",
    "#     print('no is even')\n",
    "# else:\n",
    "#     print('no is odd')\n",
    "\n",
    "\n",
    "\n"
   ]
  },
  {
   "cell_type": "code",
   "execution_count": 9,
   "id": "f7131077",
   "metadata": {},
   "outputs": [
    {
     "name": "stdout",
     "output_type": "stream",
     "text": [
      "adding no 6 and 4 you will get :10\n",
      "subtracting no 6 and 4 you will get :2\n",
      "Multiplying no 6 and 4 you will get :24\n",
      "dividing no 6 and 4 you will get :1.5\n",
      "finding remainder from dividing  6 and 4 you will get :2\n",
      "6 to power 4  will be : 1296\n"
     ]
    }
   ],
   "source": [
    "#performing bacis operations \n",
    "#4. Declare 6 as num_1 and 4 as num_2\n",
    "num_1 = 6\n",
    "num_2 = 4\n",
    "#Add num_1 and num_2 and assign the value to a variable \n",
    "total = num_1 + num_2\n",
    "print(f'adding no 6 and 4 you will get :{total}')\n",
    "#Subtract num_2 from num_1 and assign the value to a variable difference\n",
    "difference = num_1 - num_2\n",
    "print(f'subtracting no 6 and 4 you will get :{difference}')\n",
    "#Multiply num_2 and num_1 and assign the value to a variable product\n",
    "product = num_1 * num_2\n",
    "print(f'Multiplying no 6 and 4 you will get :{product}')\n",
    "#Divide num_1 by num_2 and assign the value to a variable division\n",
    "division = num_1 / num_2\n",
    "print(f'dividing no 6 and 4 you will get :{division}')\n",
    "#Use modulus division to find num_2 divided by num_1 and use var remainder\n",
    "remainder = num_1 % num_2\n",
    "print(f'finding remainder from dividing  6 and 4 you will get :{remainder}')\n",
    "#Calculate num_1 to the power of num_2 and assign the value to a variable exp\n",
    "exp = num_1 ** num_2\n",
    "print(f'{num_1} to power {num_2}  will be : {exp}')"
   ]
  },
  {
   "cell_type": "code",
   "execution_count": 12,
   "id": "ba8d167c",
   "metadata": {},
   "outputs": [
    {
     "name": "stdout",
     "output_type": "stream",
     "text": [
      "1\n"
     ]
    }
   ],
   "source": [
    "#finding the remainder \n",
    "x = 12\n",
    "y = 10\n",
    "rem = x//y\n",
    "print(rem)"
   ]
  },
  {
   "cell_type": "code",
   "execution_count": null,
   "id": "7354e950",
   "metadata": {},
   "outputs": [
    {
     "name": "stdout",
     "output_type": "stream",
     "text": [
      "3\n"
     ]
    }
   ],
   "source": [
    "#converting the float to an integer and observe the result\n",
    "x = 3.7 \n",
    "y = int(x)\n",
    "print(y)  \n"
   ]
  },
  {
   "cell_type": "code",
   "execution_count": null,
   "id": "9f1c1787",
   "metadata": {},
   "outputs": [
    {
     "name": "stdout",
     "output_type": "stream",
     "text": [
      "5\n"
     ]
    }
   ],
   "source": [
    "# find the absolute value of a number\n",
    "x = -5\n",
    "x=abs(x)\n",
    "print(x)  "
   ]
  },
  {
   "cell_type": "code",
   "execution_count": 16,
   "id": "1c1e32f0",
   "metadata": {},
   "outputs": [
    {
     "name": "stdout",
     "output_type": "stream",
     "text": [
      "4.0\n",
      "2.0\n"
     ]
    }
   ],
   "source": [
    "# find a square root of a number \n",
    "import math\n",
    "x = 16\n",
    "sum = x ** 0.5\n",
    "print(sum)  \n",
    "y = 4\n",
    "print(math.sqrt(y))"
   ]
  },
  {
   "cell_type": "code",
   "execution_count": 17,
   "id": "f32f2395",
   "metadata": {},
   "outputs": [
    {
     "name": "stdout",
     "output_type": "stream",
     "text": [
      "3.14\n"
     ]
    }
   ],
   "source": [
    "# Round a float number to 2 decimal places\n",
    "x = 3.14159265359\n",
    "print(round(x, 2)) \n"
   ]
  },
  {
   "cell_type": "code",
   "execution_count": 26,
   "id": "56d66575",
   "metadata": {},
   "outputs": [
    {
     "name": "stdout",
     "output_type": "stream",
     "text": [
      "30\n",
      "10\n"
     ]
    }
   ],
   "source": [
    "#find the largest and smallest number among three numbers.\n",
    "x=10\n",
    "y= 20\n",
    "z= 30\n",
    "largest=max(x,y,z)\n",
    "smallest=min(x,y,z)\n",
    "print(largest)\n",
    "print(smallest)\n",
    "# print(f\"The largest number is :{max}\")"
   ]
  },
  {
   "cell_type": "code",
   "execution_count": null,
   "id": "be063e18",
   "metadata": {},
   "outputs": [],
   "source": [
    "# check if a number is positive , negative or zero \n",
    "input('enter any no')\n"
   ]
  }
 ],
 "metadata": {
  "kernelspec": {
   "display_name": "Python 3",
   "language": "python",
   "name": "python3"
  },
  "language_info": {
   "codemirror_mode": {
    "name": "ipython",
    "version": 3
   },
   "file_extension": ".py",
   "mimetype": "text/x-python",
   "name": "python",
   "nbconvert_exporter": "python",
   "pygments_lexer": "ipython3",
   "version": "3.13.3"
  }
 },
 "nbformat": 4,
 "nbformat_minor": 5
}
