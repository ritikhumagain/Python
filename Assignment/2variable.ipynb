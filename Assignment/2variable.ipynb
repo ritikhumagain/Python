{
 "cells": [
  {
   "cell_type": "code",
   "execution_count": null,
   "id": "196c439b",
   "metadata": {},
   "outputs": [
    {
     "name": "stdout",
     "output_type": "stream",
     "text": [
      "<class 'int'>\n",
      "<class 'float'>\n",
      "<class 'str'>\n",
      "<class 'complex'>\n",
      "<class 'bool'>\n",
      "<class 'list'>\n",
      "<class 'set'>\n",
      "<class 'tuple'>\n",
      "<class 'dict'>\n"
     ]
    }
   ],
   "source": [
    "# 1. Check the data type of all your variables using type() BIF\n",
    "#Declaring the different type of variables\n",
    "x = 1  #integer\n",
    "y = 2.56  #float\n",
    "num = 3 + 4j  #complex\n",
    "z = 'Ritik Humagain' #string\n",
    "light_status= True #boolean\n",
    "fruit = ['apple','banana', 'kiwi', 'orange'] #list\n",
    "vowel = {'a','e','i','o','u'} #set\n",
    "colour =  ('red', 'blue', 'green') #tuple\n",
    "person = {                         #dictionary\n",
    "    'name':'Ritik Humagain ',\n",
    "    'roll': 30,\n",
    "    'address': 'Balaju',\n",
    "    'parent_name': 'Tara Adhikari',\n",
    "}\n",
    "\n",
    "\n",
    "\n",
    "# check_variables=input(\"enter any key \")\n",
    "\n",
    "\n",
    "# checking the data type \n",
    "\n",
    "print(type(x))\n",
    "print(type(y))\n",
    "print(type(z))\n",
    "print(type(num))\n",
    "print(type(light_status))\n",
    "print(type(fruit))\n",
    "print(type(vowel))\n",
    "print(type(colour))\n",
    "print(type(person))\n",
    "\n",
    "\n",
    "\n",
    "# print(f'you entered {type(check_variables)} data type')\n",
    "\n"
   ]
  },
  {
   "cell_type": "code",
   "execution_count": null,
   "id": "f050c244",
   "metadata": {},
   "outputs": [
    {
     "name": "stdout",
     "output_type": "stream",
     "text": [
      "your first name is : Ritik \n",
      " length of your first name is 5\n",
      "your last name is : Humagain \n",
      " length of your last name is 8\n"
     ]
    },
    {
     "data": {
      "text/plain": [
       "False"
      ]
     },
     "execution_count": 30,
     "metadata": {},
     "output_type": "execute_result"
    }
   ],
   "source": [
    "# 2. Using the len() built-in function, find the length of your first name\n",
    "first_name= input('Enter your first name :')\n",
    "print(f'your first name is : {first_name} \\n length of your first name is {len(first_name)}')\n",
    "last_name= input('Enter your last name ')\n",
    "print(f'your last name is : {last_name} \\n length of your last name is {len(last_name)}')\n",
    "#3. Compare the length of your first_name and your last_name\n",
    "len(first_name)==len(last_name)"
   ]
  },
  {
   "cell_type": "code",
   "execution_count": 45,
   "id": "be52cd68",
   "metadata": {},
   "outputs": [
    {
     "name": "stdout",
     "output_type": "stream",
     "text": [
      "adding no 6 and 4 you will get :10\n",
      "subtracting no 6 and 4 you will get :2\n",
      "Multiplying no 6 and 4 you will get :24\n",
      "dividing no 6 and 4 you will get :1.5\n",
      "finding remainder from dividing  6 and 4 you will get :2\n",
      "6 to power 4  will be : 1296\n"
     ]
    }
   ],
   "source": [
    "#4. Declare 6 as num_1 and 4 as num_2\n",
    "num_1 = 6\n",
    "num_2 = 4\n",
    "#Add num_1 and num_2 and assign the value to a variable \n",
    "total = num_1 + num_2\n",
    "print(f'adding no 6 and 4 you will get :{total}')\n",
    "#Subtract num_2 from num_1 and assign the value to a variable difference\n",
    "difference = num_1 - num_2\n",
    "print(f'subtracting no 6 and 4 you will get :{difference}')\n",
    "#Multiply num_2 and num_1 and assign the value to a variable product\n",
    "product = num_1 * num_2\n",
    "print(f'Multiplying no 6 and 4 you will get :{product}')\n",
    "#Divide num_1 by num_2 and assign the value to a variable division\n",
    "division = num_1 / num_2\n",
    "print(f'dividing no 6 and 4 you will get :{division}')\n",
    "#Use modulus division to find num_2 divided by num_1 and use var remainder\n",
    "remainder = num_1 % num_2\n",
    "print(f'finding remainder from dividing  6 and 4 you will get :{remainder}')\n",
    "#Calculate num_1 to the power of num_2 and assign the value to a variable exp\n",
    "exp = num_1 ** num_2\n",
    "print(f'{num_1} to power {num_2}  will be : {exp}')\n"
   ]
  },
  {
   "cell_type": "code",
   "execution_count": 66,
   "id": "3429cf2d",
   "metadata": {},
   "outputs": [
    {
     "name": "stdout",
     "output_type": "stream",
     "text": [
      "2827.3500000000004\n",
      "the radius of an circle is : 30.0\n",
      "When radius of circle is 30.0 then area will be :2827.3500000000004\n",
      "When radius of circle is 30.0 then circumference will be :188.49\n"
     ]
    }
   ],
   "source": [
    "#5. The radius of a circle is 30 meters\n",
    "r = 30\n",
    "PI = 3.1415\n",
    "area_of_circle = PI* r**2\n",
    "print(area_of_circle)\n",
    "# Taking input from user\n",
    "radius = float(input('Enter the radius of circle'))\n",
    "# float(radius)                   yo line garda kina mildaina\n",
    "print(f'the radius of an circle is : {radius}')\n",
    "area_of_new_circle = PI * radius ** 2\n",
    "print(f'When radius of circle is {radius} then area will be :{area_of_new_circle}')\n",
    "\n",
    "#claculating the circumference\n",
    "\n",
    "circum_of_circle=2*PI*radius\n",
    "print(f'When radius of circle is {radius} then circumference will be :{circum_of_circle}')\n",
    "\n",
    "\n"
   ]
  },
  {
   "cell_type": "code",
   "execution_count": 73,
   "id": "e91f5227",
   "metadata": {},
   "outputs": [
    {
     "name": "stdout",
     "output_type": "stream",
     "text": [
      "ABOUT YOU\n",
      "your first name is Ritik\n",
      "your last name is Humagain\n",
      "your country name is Nepal\n",
      "your age is 25\n",
      "ABOUT MY FRIEND \n",
      "your friend first name is Barnnita\n",
      "your friend last name is Shrestha\n",
      "your friend country name is China\n",
      "your friend  age is 20\n"
     ]
    }
   ],
   "source": [
    "# 6. Use the built-in input()function to get first name, last name, country and age from a user and \n",
    "# store the value to their corresponding variable names\n",
    "\n",
    "print('ABOUT YOU')\n",
    "first_name = input('enter your first name')\n",
    "print(f'your first name is {first_name}')\n",
    "last_name = input ('enter your last name')\n",
    "print(f'your last name is {last_name}')\n",
    "country_name = input('enter your country name')\n",
    "print(f'your country name is {country_name}')\n",
    "age = int(input('enter your age'))\n",
    "print(f'your age is {age}')\n",
    "\n",
    "\n",
    "#using dictionary \n",
    "\n",
    "user_data = {\n",
    "    'first_name': input('enter your friend first name'),\n",
    "    'last_name': input('enter your friend last name'),\n",
    "    'country_name': input('enter your friend country name'),\n",
    "    'age': input('enter friend your age'),\n",
    "\n",
    "}\n",
    "print('ABOUT MY FRIEND ')\n",
    "print(f'your friend first name is {user_data['first_name']}')\n",
    "print(f'your friend last name is {user_data['last_name']}')\n",
    "print(f'your friend country name is {user_data['country_name']}')\n",
    "print(f'your friend  age is {user_data['age']}')\n",
    "\n",
    "\n",
    "\n"
   ]
  },
  {
   "cell_type": "code",
   "execution_count": null,
   "id": "57a1f258",
   "metadata": {},
   "outputs": [],
   "source": []
  }
 ],
 "metadata": {
  "kernelspec": {
   "display_name": "Python 3",
   "language": "python",
   "name": "python3"
  },
  "language_info": {
   "codemirror_mode": {
    "name": "ipython",
    "version": 3
   },
   "file_extension": ".py",
   "mimetype": "text/x-python",
   "name": "python",
   "nbconvert_exporter": "python",
   "pygments_lexer": "ipython3",
   "version": "3.13.3"
  }
 },
 "nbformat": 4,
 "nbformat_minor": 5
}
