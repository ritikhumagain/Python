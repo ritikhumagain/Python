{
 "cells": [
  {
   "cell_type": "code",
   "execution_count": 2,
   "id": "3d1cbf3f",
   "metadata": {},
   "outputs": [
    {
     "name": "stdout",
     "output_type": "stream",
     "text": [
      "python\n"
     ]
    }
   ],
   "source": [
    "#slice out the first word from the string \"python 4 data science\"\n",
    "x= \"python 4 data science\"\n",
    "print(x[0 :6])"
   ]
  },
  {
   "cell_type": "code",
   "execution_count": 6,
   "id": "c9aa4490",
   "metadata": {},
   "outputs": [
    {
     "name": "stdout",
     "output_type": "stream",
     "text": [
      "'because',because 'because '\n"
     ]
    }
   ],
   "source": [
    "#2 \n",
    "s =\"We cannot end the sentence with 'because',because 'because 'is a conjunction\"\n",
    "print(s[32:60])"
   ]
  },
  {
   "cell_type": "code",
   "execution_count": null,
   "id": "82529862",
   "metadata": {},
   "outputs": [
    {
     "name": "stdout",
     "output_type": "stream",
     "text": [
      "Data\n",
      "Fun\n",
      "Science\n",
      "DtSinesu\n",
      "nuFsIecneicSataD\n"
     ]
    }
   ],
   "source": [
    "#3 \n",
    "text = \"DataScienceIsFun\"\n",
    "\n",
    "#the first 4 characters.\n",
    "print(text[:4])\n",
    "\n",
    "#the last 3 character\n",
    "print(text[-3:])\n",
    "\n",
    "#Charaters from index 4 to 10.\n",
    "print(text[4:11])\n",
    "\n",
    "#every second character from thee string\n",
    "print(text[::2])\n",
    "\n",
    "#the string in reverse\n",
    "print(text[::-1])\n",
    "\n",
    "\n",
    "\n",
    "\n"
   ]
  },
  {
   "cell_type": "code",
   "execution_count": 22,
   "id": "a60ba375",
   "metadata": {},
   "outputs": [
    {
     "name": "stdout",
     "output_type": "stream",
     "text": [
      "machine\n",
      "learning \n",
      "with\n",
      " python\n"
     ]
    }
   ],
   "source": [
    "#4 \n",
    "sentence = \"machine learning with python \"\n",
    "#slice out \"machine\"\n",
    "print(sentence[0 :7])\n",
    "print(sentence[8:17])\n",
    "print(sentence[17 :21])\n",
    "print(sentence[21 :-1])\n"
   ]
  },
  {
   "cell_type": "code",
   "execution_count": null,
   "id": "b35335ad",
   "metadata": {},
   "outputs": [
    {
     "name": "stdout",
     "output_type": "stream",
     "text": [
      "chris\n"
     ]
    }
   ],
   "source": [
    "# 5 \n",
    "name = \"christopher \"\n",
    "print(name[0 :5])\n"
   ]
  },
  {
   "cell_type": "code",
   "execution_count": 27,
   "id": "5902b2a8",
   "metadata": {},
   "outputs": [
    {
     "name": "stdout",
     "output_type": "stream",
     "text": [
      "4 Data \n",
      " Data Science\n"
     ]
    }
   ],
   "source": [
    "#6\n",
    "cours = \"Python 4 Data Science\"\n",
    "print(cours[7:-7])\n",
    "print (cours[-13:])"
   ]
  },
  {
   "cell_type": "code",
   "execution_count": 34,
   "id": "03e3bd62",
   "metadata": {},
   "outputs": [
    {
     "name": "stdout",
     "output_type": "stream",
     "text": [
      "python 4 data science\n"
     ]
    }
   ],
   "source": [
    "#concatenate the word \n",
    "# x = \"python\"\n",
    "# y = \"4\"\n",
    "# z = \"data science \"\n",
    "# word= x +y' '+z\n",
    "# print(word)\n",
    "print ('python'+' 4 '+ 'data science')"
   ]
  },
  {
   "cell_type": "code",
   "execution_count": 35,
   "id": "646e3684",
   "metadata": {},
   "outputs": [],
   "source": [
    "course = \"python\" \n",
    "x = \"python 4 data science\"\n",
    "\n"
   ]
  },
  {
   "cell_type": "code",
   "execution_count": 36,
   "id": "767fa1ca",
   "metadata": {},
   "outputs": [
    {
     "name": "stdout",
     "output_type": "stream",
     "text": [
      "6\n"
     ]
    }
   ],
   "source": [
    "x= course \n",
    "print(len(x))"
   ]
  },
  {
   "cell_type": "code",
   "execution_count": 43,
   "id": "226bcd49",
   "metadata": {},
   "outputs": [
    {
     "name": "stdout",
     "output_type": "stream",
     "text": [
      "COMPANY\n",
      "company\n"
     ]
    }
   ],
   "source": [
    "x = \"Company\" \n",
    "print(x.upper())\n",
    "print(x.lower())"
   ]
  },
  {
   "cell_type": "code",
   "execution_count": 50,
   "id": "47ad4b31",
   "metadata": {},
   "outputs": [
    {
     "name": "stdout",
     "output_type": "stream",
     "text": [
      "Python 4 data science\n",
      "Python 4 Data Science\n",
      "pYTHON 4 dATA sCIENCE\n",
      "Python\n"
     ]
    },
    {
     "ename": "ValueError",
     "evalue": "substring not found",
     "output_type": "error",
     "traceback": [
      "\u001b[31m---------------------------------------------------------------------------\u001b[39m",
      "\u001b[31mValueError\u001b[39m                                Traceback (most recent call last)",
      "\u001b[36mCell\u001b[39m\u001b[36m \u001b[39m\u001b[32mIn[50]\u001b[39m\u001b[32m, line 9\u001b[39m\n\u001b[32m      7\u001b[39m \u001b[38;5;28mprint\u001b[39m(x[\u001b[32m0\u001b[39m :\u001b[32m6\u001b[39m])\n\u001b[32m      8\u001b[39m \u001b[38;5;66;03m# 7 \u001b[39;00m\n\u001b[32m----> \u001b[39m\u001b[32m9\u001b[39m \u001b[38;5;28mprint\u001b[39m(\u001b[43mx\u001b[49m\u001b[43m.\u001b[49m\u001b[43mindex\u001b[49m\u001b[43m(\u001b[49m\u001b[33;43m'\u001b[39;49m\u001b[33;43mpython\u001b[39;49m\u001b[33;43m'\u001b[39;49m\u001b[43m)\u001b[49m)\n",
      "\u001b[31mValueError\u001b[39m: substring not found"
     ]
    }
   ],
   "source": [
    "#5 \n",
    "x = 'Python 4 Data Science'\n",
    "print(x.capitalize())\n",
    "print(x.title())\n",
    "print(x.swapcase())\n",
    "#6\n",
    "print(x[0 :6])\n",
    "# 7 \n",
    "print(x.index('python'))"
   ]
  },
  {
   "cell_type": "code",
   "execution_count": null,
   "id": "4e79af4d",
   "metadata": {},
   "outputs": [],
   "source": [
    "#6 Manipulation "
   ]
  }
 ],
 "metadata": {
  "kernelspec": {
   "display_name": "Python 3",
   "language": "python",
   "name": "python3"
  },
  "language_info": {
   "codemirror_mode": {
    "name": "ipython",
    "version": 3
   },
   "file_extension": ".py",
   "mimetype": "text/x-python",
   "name": "python",
   "nbconvert_exporter": "python",
   "pygments_lexer": "ipython3",
   "version": "3.13.3"
  }
 },
 "nbformat": 4,
 "nbformat_minor": 5
}
