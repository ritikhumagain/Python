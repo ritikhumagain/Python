{
 "cells": [
  {
   "cell_type": "code",
   "execution_count": null,
   "id": "7977993e",
   "metadata": {},
   "outputs": [],
   "source": [
    "#1. write a python comment saying python variables and constant\n",
    "\n",
    "# Python variables and constants "
   ]
  },
  {
   "cell_type": "code",
   "execution_count": 8,
   "id": "38b738bc",
   "metadata": {},
   "outputs": [
    {
     "name": "stdout",
     "output_type": "stream",
     "text": [
      "Ritik Humagain\n"
     ]
    }
   ],
   "source": [
    "#2 Declare a First_name variable and assign a value to it\n",
    "first_name = 'Ritik'\n",
    "#3 declare a last_name variable and assign a value to it \n",
    "last_name = 'Humagain'\n",
    "#4 Declare a full_name variable and assign a value to it\n",
    "full_name = first_name +' '+ last_name\n",
    "print(full_name)"
   ]
  },
  {
   "cell_type": "code",
   "execution_count": 15,
   "id": "1140029a",
   "metadata": {},
   "outputs": [
    {
     "name": "stdout",
     "output_type": "stream",
     "text": [
      "Your first name is Ritik\n",
      "Your last name is Humagain\n",
      "Your good name is Ritik Humagain\n"
     ]
    }
   ],
   "source": [
    "#taking input from user \n",
    "first_name = input('Enter your first name ')\n",
    "print(f\"Your first name is {first_name}\")\n",
    "last_name = input('Enter your last name :')\n",
    "print(f'Your last name is {last_name}')\n",
    "full_name = first_name +' ' +last_name\n",
    "print(f'Your good name is {full_name}')\n",
    "\n",
    "\n",
    "\n",
    "\n"
   ]
  },
  {
   "cell_type": "code",
   "execution_count": 17,
   "id": "436b7513",
   "metadata": {},
   "outputs": [
    {
     "name": "stdout",
     "output_type": "stream",
     "text": [
      "True\n"
     ]
    }
   ],
   "source": [
    "#5 Declare a variable is_light_on and assign a value to it \n",
    "is_light_on = True\n",
    "print(is_light_on)\n",
    "\n"
   ]
  },
  {
   "cell_type": "code",
   "execution_count": 24,
   "id": "e07e0778",
   "metadata": {},
   "outputs": [
    {
     "name": "stdout",
     "output_type": "stream",
     "text": [
      "1\n",
      "2\n",
      "3\n",
      "Adding all variable = 6\n"
     ]
    }
   ],
   "source": [
    "#6. Declare multiple variable on one line\n",
    "x,y,z = 1,2,3\n",
    "print(x)\n",
    "print(y)\n",
    "print(z)\n",
    "sum=x+y+z\n",
    "print(f\"Adding all variable = {sum}\")\n",
    "\n"
   ]
  },
  {
   "cell_type": "code",
   "execution_count": null,
   "id": "ee06eac1",
   "metadata": {},
   "outputs": [],
   "source": []
  }
 ],
 "metadata": {
  "kernelspec": {
   "display_name": "Python 3",
   "language": "python",
   "name": "python3"
  },
  "language_info": {
   "codemirror_mode": {
    "name": "ipython",
    "version": 3
   },
   "file_extension": ".py",
   "mimetype": "text/x-python",
   "name": "python",
   "nbconvert_exporter": "python",
   "pygments_lexer": "ipython3",
   "version": "3.13.3"
  }
 },
 "nbformat": 4,
 "nbformat_minor": 5
}
