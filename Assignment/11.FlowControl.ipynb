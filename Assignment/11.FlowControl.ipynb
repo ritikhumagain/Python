{
 "cells": [
  {
   "cell_type": "code",
   "execution_count": 5,
   "id": "ea78fd88",
   "metadata": {},
   "outputs": [
    {
     "name": "stdout",
     "output_type": "stream",
     "text": [
      "child\n"
     ]
    }
   ],
   "source": [
    "#Age 1 - 12 child \n",
    "#Age 13 -17 Teenager\n",
    "#Age 18 -35 Teenager\n",
    "#age 36-45 middle agedf\n",
    "#age 46 and above  = older adult / senior\n",
    "\n",
    "\n",
    "age = int(input(\"Enter your age\"))\n",
    "if age <= 12:\n",
    "    print(\"child\")\n",
    "elif age <= 17:\n",
    "    print(\"Teenager\")\n",
    "elif age <= 35:\n",
    "    print(\"Young Adult\")\n",
    "elif age <= 45:\n",
    "    print(\"Middle Age\")\n",
    "else:\n",
    "    print(\"Older age\")"
   ]
  },
  {
   "cell_type": "code",
   "execution_count": 3,
   "id": "e2fb289f",
   "metadata": {},
   "outputs": [
    {
     "name": "stdout",
     "output_type": "stream",
     "text": [
      "* \n",
      "* * \n",
      "* * * \n",
      "* * * * \n",
      "* * * * * \n"
     ]
    }
   ],
   "source": [
    "for b in range (1,6):\n",
    "        string = \"* \"*b\n",
    "        print(string)"
   ]
  },
  {
   "cell_type": "code",
   "execution_count": 11,
   "id": "305ed38b",
   "metadata": {},
   "outputs": [
    {
     "name": "stdout",
     "output_type": "stream",
     "text": [
      ":) \n",
      ":) :) \n",
      ":) :) :) \n",
      ":) :) :) :) \n",
      ":) :) :) :) :) \n"
     ]
    }
   ],
   "source": [
    "for i in range(1, 6):         # Outer loop (rows)\n",
    "    for j in range(i):        # Inner loop (columns)\n",
    "        print(':',end=\") \")\n",
    "    print()                   # Move to next line\n"
   ]
  },
  {
   "cell_type": "code",
   "execution_count": null,
   "id": "7a99c341",
   "metadata": {},
   "outputs": [
    {
     "name": "stdout",
     "output_type": "stream",
     "text": [
      "1\n",
      "3\n",
      "6\n",
      "10\n",
      "15\n",
      "15\n"
     ]
    }
   ],
   "source": [
    "#sum of given number \n",
    "x = 1,2,3,4,5\n",
    "sum = 0\n",
    "for i in x:\n",
    "    sum += i # sum = sum + i \n",
    "    print(sum)\n",
    "print(sum)\n",
    "    "
   ]
  },
  {
   "cell_type": "code",
   "execution_count": 4,
   "id": "ce7a08d3",
   "metadata": {},
   "outputs": [
    {
     "name": "stdout",
     "output_type": "stream",
     "text": [
      "[1]\n",
      "[1, 1]\n",
      "[1, 1, 1, 1, 1, 1]\n",
      "[1, 1, 1, 1, 1, 1, 1, 1, 1, 1, 1, 1, 1, 1, 1, 1, 1, 1, 1, 1, 1, 1, 1, 1]\n",
      "[1, 1, 1, 1, 1, 1, 1, 1, 1, 1, 1, 1, 1, 1, 1, 1, 1, 1, 1, 1, 1, 1, 1, 1, 1, 1, 1, 1, 1, 1, 1, 1, 1, 1, 1, 1, 1, 1, 1, 1, 1, 1, 1, 1, 1, 1, 1, 1, 1, 1, 1, 1, 1, 1, 1, 1, 1, 1, 1, 1, 1, 1, 1, 1, 1, 1, 1, 1, 1, 1, 1, 1, 1, 1, 1, 1, 1, 1, 1, 1, 1, 1, 1, 1, 1, 1, 1, 1, 1, 1, 1, 1, 1, 1, 1, 1, 1, 1, 1, 1, 1, 1, 1, 1, 1, 1, 1, 1, 1, 1, 1, 1, 1, 1, 1, 1, 1, 1, 1, 1]\n",
      "[1, 1, 1, 1, 1, 1, 1, 1, 1, 1, 1, 1, 1, 1, 1, 1, 1, 1, 1, 1, 1, 1, 1, 1, 1, 1, 1, 1, 1, 1, 1, 1, 1, 1, 1, 1, 1, 1, 1, 1, 1, 1, 1, 1, 1, 1, 1, 1, 1, 1, 1, 1, 1, 1, 1, 1, 1, 1, 1, 1, 1, 1, 1, 1, 1, 1, 1, 1, 1, 1, 1, 1, 1, 1, 1, 1, 1, 1, 1, 1, 1, 1, 1, 1, 1, 1, 1, 1, 1, 1, 1, 1, 1, 1, 1, 1, 1, 1, 1, 1, 1, 1, 1, 1, 1, 1, 1, 1, 1, 1, 1, 1, 1, 1, 1, 1, 1, 1, 1, 1]\n"
     ]
    }
   ],
   "source": [
    "#Multiplication of given number \n",
    "x = 1,2,3,4,5\n",
    "sum = [1]\n",
    "for i in x:\n",
    "    sum *= i # sum = sum * i \n",
    "    print(sum)\n",
    "print(sum)"
   ]
  },
  {
   "cell_type": "code",
   "execution_count": 12,
   "id": "1840a5c2",
   "metadata": {},
   "outputs": [
    {
     "name": "stdout",
     "output_type": "stream",
     "text": [
      "[1, 4, 9, 16, 25]\n"
     ]
    }
   ],
   "source": [
    "x = [1,2,3,4,5]\n",
    "output = []\n",
    "for i in x :\n",
    "    square = i ** 2 \n",
    "    output.append(square)\n",
    "print (output)\n",
    "    "
   ]
  },
  {
   "cell_type": "code",
   "execution_count": 10,
   "id": "7ec2aae6",
   "metadata": {},
   "outputs": [
    {
     "name": "stdout",
     "output_type": "stream",
     "text": [
      "Help on method_descriptor:\n",
      "\n",
      "append(self, object, /) unbound builtins.list method\n",
      "    Append object to the end of the list.\n",
      "\n"
     ]
    }
   ],
   "source": [
    "help(list.append)"
   ]
  },
  {
   "cell_type": "code",
   "execution_count": 15,
   "id": "f7249aa8",
   "metadata": {},
   "outputs": [
    {
     "name": "stdout",
     "output_type": "stream",
     "text": [
      "5\n",
      "2\n",
      "5\n"
     ]
    }
   ],
   "source": [
    "x = 5 \n",
    "def hello():\n",
    "    x = 2 \n",
    "    print(x)\n",
    "print(x)\n",
    "hello()\n",
    "print(x)    \n"
   ]
  },
  {
   "cell_type": "code",
   "execution_count": null,
   "id": "0a98bc93",
   "metadata": {},
   "outputs": [],
   "source": []
  }
 ],
 "metadata": {
  "kernelspec": {
   "display_name": "Python 3",
   "language": "python",
   "name": "python3"
  },
  "language_info": {
   "codemirror_mode": {
    "name": "ipython",
    "version": 3
   },
   "file_extension": ".py",
   "mimetype": "text/x-python",
   "name": "python",
   "nbconvert_exporter": "python",
   "pygments_lexer": "ipython3",
   "version": "3.13.3"
  }
 },
 "nbformat": 4,
 "nbformat_minor": 5
}
