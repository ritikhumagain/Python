{
 "cells": [
  {
   "cell_type": "code",
   "execution_count": 1,
   "id": "82a78dbc",
   "metadata": {},
   "outputs": [],
   "source": [
    "mix_fruits = {'Guava', 'Pear', 'Mango','Apple','Fig','Orange','Banana'}\n",
    "a = {19,22, 24, 20 , 25 , 26 }\n",
    "b = { 19, 22 ,20 , 25 , 26, 24, 28, 27} \n",
    "num  = [22,19, 24, 25, 26, 24, 25, 24]\n"
   ]
  },
  {
   "cell_type": "code",
   "execution_count": 2,
   "id": "895e31ff",
   "metadata": {},
   "outputs": [
    {
     "data": {
      "text/plain": [
       "7"
      ]
     },
     "execution_count": 2,
     "metadata": {},
     "output_type": "execute_result"
    }
   ],
   "source": [
    "#level 1 \n",
    "\n",
    "#1 Find the length of the set mix_fruits \n",
    "len(mix_fruits)"
   ]
  },
  {
   "cell_type": "code",
   "execution_count": 8,
   "id": "d6028803",
   "metadata": {},
   "outputs": [
    {
     "name": "stdout",
     "output_type": "stream",
     "text": [
      "{'Pear', 'Apple', 'kiwi', 'Mango', 'watermellon ', 'Orange', 'Banana', 'Fig', 'Pineapple', 'DragonFruit', 'Guava'}\n",
      "{'Pear', 'Apple', 'kiwi', 'Mango', 'watermellon ', 'Orange', 'Banana', 'Fig', 'Pineapple', 'DragonFruit', 'Guava'}\n"
     ]
    }
   ],
   "source": [
    "#2 Add \"kiwi \" to mix_fruits \n",
    "mix_fruits.add('kiwi')\n",
    "print(mix_fruits)\n",
    "\n",
    "mix_fruits.update(('watermellon ', 'Pineapple','DragonFruit'))\n",
    "print(mix_fruits)"
   ]
  },
  {
   "cell_type": "code",
   "execution_count": 23,
   "id": "52d3ac83",
   "metadata": {},
   "outputs": [
    {
     "name": "stdout",
     "output_type": "stream",
     "text": [
      "{'Fig', 'Apple', 'Orange', 'Mango', 'Banana', 'Guava'}\n"
     ]
    }
   ],
   "source": [
    "#3 Remove one of the fruit from the set mix_fruits\n",
    "# mix_fruits.pop()\n",
    "mix_fruits = {'Guava', 'Pear', 'Mango','Apple','Fig','Orange','Banana'}\n",
    "mix_fruits.remove('Pear')\n",
    "print(mix_fruits)"
   ]
  },
  {
   "cell_type": "code",
   "execution_count": null,
   "id": "12b3bed8",
   "metadata": {},
   "outputs": [],
   "source": []
  }
 ],
 "metadata": {
  "kernelspec": {
   "display_name": "Python 3",
   "language": "python",
   "name": "python3"
  },
  "language_info": {
   "codemirror_mode": {
    "name": "ipython",
    "version": 3
   },
   "file_extension": ".py",
   "mimetype": "text/x-python",
   "name": "python",
   "nbconvert_exporter": "python",
   "pygments_lexer": "ipython3",
   "version": "3.13.3"
  }
 },
 "nbformat": 4,
 "nbformat_minor": 5
}
