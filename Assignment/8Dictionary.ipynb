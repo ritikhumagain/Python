{
 "cells": [
  {
   "cell_type": "code",
   "execution_count": 2,
   "id": "6ba7b31c",
   "metadata": {},
   "outputs": [
    {
     "name": "stdout",
     "output_type": "stream",
     "text": [
      "<class 'dict'>\n"
     ]
    }
   ],
   "source": [
    "#1 create an empyt dictionary called bird\n",
    "bird= {\n",
    "\n",
    "}\n",
    "print(type(bird))"
   ]
  },
  {
   "cell_type": "code",
   "execution_count": null,
   "id": "c269007b",
   "metadata": {},
   "outputs": [
    {
     "name": "stdout",
     "output_type": "stream",
     "text": [
      "{'name': 'Crow', 'color': 'Black', 'Breed': 'African', 'legs': 2, 'age': 3.5}\n"
     ]
    }
   ],
   "source": [
    "# 2 Add name , color , breed , legs , age to the bird dictionary \n",
    "bird.update({'name':'Crow','color':'Black','Breed':'African','legs': 2, 'age':3.5,})\n",
    "print(bird)"
   ]
  },
  {
   "cell_type": "code",
   "execution_count": 7,
   "id": "f43c1d9d",
   "metadata": {},
   "outputs": [],
   "source": [
    "#3 create a student dicitionary and add first_name , last_name, gender, age , marital_status, skills , country,city and address"
   ]
  },
  {
   "cell_type": "code",
   "execution_count": 8,
   "id": "c43d7568",
   "metadata": {},
   "outputs": [],
   "source": [
    "#Get the length of the student dictionary\n"
   ]
  },
  {
   "cell_type": "code",
   "execution_count": 9,
   "id": "b69c442a",
   "metadata": {},
   "outputs": [],
   "source": [
    "#get the value of skills and check the data type , it should be a list \n"
   ]
  },
  {
   "cell_type": "code",
   "execution_count": 10,
   "id": "369e3ab5",
   "metadata": {},
   "outputs": [],
   "source": [
    "#Modify the skills values by adding one or two skills"
   ]
  },
  {
   "cell_type": "code",
   "execution_count": 11,
   "id": "9535598f",
   "metadata": {},
   "outputs": [],
   "source": [
    "#get the dictionary keys as a list "
   ]
  },
  {
   "cell_type": "code",
   "execution_count": 12,
   "id": "f0f7235d",
   "metadata": {},
   "outputs": [],
   "source": [
    "#get the dictionary values as a list "
   ]
  },
  {
   "cell_type": "code",
   "execution_count": 13,
   "id": "b100595d",
   "metadata": {},
   "outputs": [],
   "source": [
    "#Change the dictionary to a list of tuples using items ()method"
   ]
  },
  {
   "cell_type": "code",
   "execution_count": 14,
   "id": "d72e6418",
   "metadata": {},
   "outputs": [],
   "source": [
    "#delete one of the items in the dictionary "
   ]
  },
  {
   "cell_type": "code",
   "execution_count": null,
   "id": "72956d9b",
   "metadata": {},
   "outputs": [],
   "source": [
    "#deleter "
   ]
  }
 ],
 "metadata": {
  "kernelspec": {
   "display_name": "Python 3",
   "language": "python",
   "name": "python3"
  },
  "language_info": {
   "codemirror_mode": {
    "name": "ipython",
    "version": 3
   },
   "file_extension": ".py",
   "mimetype": "text/x-python",
   "name": "python",
   "nbconvert_exporter": "python",
   "pygments_lexer": "ipython3",
   "version": "3.13.3"
  }
 },
 "nbformat": 4,
 "nbformat_minor": 5
}
