{
 "cells": [
  {
   "cell_type": "code",
   "execution_count": 4,
   "id": "6ea1937b",
   "metadata": {},
   "outputs": [
    {
     "name": "stdout",
     "output_type": "stream",
     "text": [
      "25\n",
      "<class 'int'>\n"
     ]
    }
   ],
   "source": [
    "#1 declare your age as integer variable \n",
    "age = 25\n",
    "print(age)\n",
    "print(type(age))"
   ]
  },
  {
   "cell_type": "code",
   "execution_count": 6,
   "id": "ec484f5b",
   "metadata": {},
   "outputs": [
    {
     "name": "stdout",
     "output_type": "stream",
     "text": [
      "5.11\n",
      "<class 'float'>\n"
     ]
    }
   ],
   "source": [
    "#2 Declare your height as a float variable\n",
    "height = 5.11\n",
    "print(height)\n",
    "print(type(height))\n"
   ]
  },
  {
   "cell_type": "code",
   "execution_count": 7,
   "id": "09b6eabb",
   "metadata": {},
   "outputs": [
    {
     "name": "stdout",
     "output_type": "stream",
     "text": [
      "(30+4j)\n",
      "<class 'complex'>\n"
     ]
    }
   ],
   "source": [
    "#3 Declare a variable that store a complex number\n",
    "complex= 30+4j\n",
    "print(complex)\n",
    "print(type(complex))"
   ]
  },
  {
   "cell_type": "code",
   "execution_count": 14,
   "id": "0b99310b",
   "metadata": {},
   "outputs": [
    {
     "name": "stdout",
     "output_type": "stream",
     "text": [
      "100.0\n"
     ]
    }
   ],
   "source": [
    "#4 Write a code that prompts the user to enter base and height of the triangle and calculate and area of this triangle \n",
    "b = int(input('enter the breath of an triangle'))\n",
    "h =int( input('enter the height of an triangle'))\n",
    "area = 0.5 * b * h\n",
    "# area = float(area)\n",
    "print(area)"
   ]
  },
  {
   "cell_type": "code",
   "execution_count": 17,
   "id": "651bfea0",
   "metadata": {},
   "outputs": [
    {
     "name": "stdout",
     "output_type": "stream",
     "text": [
      "the perimete of given triangle is 12\n"
     ]
    }
   ],
   "source": [
    "# 5 Write a code tht prompts the user to ente side a , side b , and side c of the triangle .calculat the perimeter of the triangle \n",
    "a = int(input('enter the length of a'))\n",
    "b = int(input('enter the length of b'))\n",
    "c = int(input('enter the length of c'))\n",
    "perimeter = a + b+ c\n",
    "print(f'the perimete of given triangle is {perimeter}')        \n"
   ]
  },
  {
   "cell_type": "code",
   "execution_count": 19,
   "id": "57031b5f",
   "metadata": {},
   "outputs": [
    {
     "name": "stdout",
     "output_type": "stream",
     "text": [
      "the area of an rectangle 100\n",
      "perimeter of an given rectangle 40\n"
     ]
    }
   ],
   "source": [
    "#6 get length and width of a rectangle using prompt .and calculate area and perimeter\n",
    "length  = int(input('Enter the length of an rectangle'))\n",
    "width  = int(input('Enter the breath of an rectangle '))\n",
    "area = length * width\n",
    "perimeter = 2 *(length+width)\n",
    "print(f'''the area of an rectangle {area}\n",
    "perimeter of an given rectangle {perimeter}''')"
   ]
  },
  {
   "cell_type": "code",
   "execution_count": 27,
   "id": "a110006c",
   "metadata": {},
   "outputs": [
    {
     "name": "stdout",
     "output_type": "stream",
     "text": [
      "314.1592653589793\n",
      "62.83185307179586\n"
     ]
    }
   ],
   "source": [
    "#7 Get radius of a circle using prompt . Calculate the area (area = pi * r *r)and crumference \n",
    "import math\n",
    "r = int(input ('Enter the radius of an circle'))\n",
    "area = math.pi*r**2\n",
    "print(area)\n",
    "circumference=2*math.pi*r\n",
    "print(circumference)"
   ]
  },
  {
   "cell_type": "code",
   "execution_count": 28,
   "id": "5b26de39",
   "metadata": {},
   "outputs": [],
   "source": [
    "#8 calculate the slope,x intercept and y intercept of y= 2x-2\n",
    "\n"
   ]
  },
  {
   "cell_type": "code",
   "execution_count": 43,
   "id": "2b533b37",
   "metadata": {},
   "outputs": [
    {
     "name": "stdout",
     "output_type": "stream",
     "text": [
      "2\n",
      "8.94427190999916\n",
      "2.0\n"
     ]
    }
   ],
   "source": [
    "#9 Find the slope and euclidean distance between point (2,2) and point (6,10)\n",
    "import math\n",
    "from decimal import Decimal as D \n",
    "x = [2,2]\n",
    "y = [6,10]\n",
    "print(x[0])\n",
    "distance =float( D(math.sqrt((y[0]-x[0])**2 + (x[1]-y[1])**2)))\n",
    "print(distance)\n",
    "slope = (y[1]-x[1])/(y[0]-x[0])\n",
    "print(slope)"
   ]
  },
  {
   "cell_type": "code",
   "execution_count": 44,
   "id": "a410c277",
   "metadata": {},
   "outputs": [
    {
     "data": {
      "text/plain": [
       "False"
      ]
     },
     "execution_count": 44,
     "metadata": {},
     "output_type": "execute_result"
    }
   ],
   "source": [
    "#10 compare the sloes in task \n",
    "slope1 = 0.5\n",
    "slope2 = 2\n",
    "slope1 == slope2"
   ]
  },
  {
   "cell_type": "code",
   "execution_count": null,
   "id": "bc2e5b77",
   "metadata": {},
   "outputs": [
    {
     "name": "stdout",
     "output_type": "stream",
     "text": [
      "0\n"
     ]
    }
   ],
   "source": [
    "#11. Calculate the value of y (y = x^2 + 6x + 9). Try to use different x values and figure out at what x value y is going to be 0. \n",
    "x = int(input(\"enter the value\"))\n",
    "y = x**2 + 6 * x + 9\n",
    "print(y)\n",
    "#x = -3 \n"
   ]
  },
  {
   "cell_type": "code",
   "execution_count": null,
   "id": "4d247727",
   "metadata": {},
   "outputs": [
    {
     "name": "stdout",
     "output_type": "stream",
     "text": [
      "6\n",
      "11\n"
     ]
    }
   ],
   "source": [
    "# 12. Find the length of **`'python'`** and **`'datascience'`** and make a falsy comparison statement.\n",
    "x='python'\n",
    "y ='datascience'\n",
    "print(len(x))\n",
    "print(len(y))\n"
   ]
  },
  {
   "cell_type": "code",
   "execution_count": 50,
   "id": "aef5877e",
   "metadata": {},
   "outputs": [
    {
     "data": {
      "text/plain": [
       "True"
      ]
     },
     "execution_count": 50,
     "metadata": {},
     "output_type": "execute_result"
    }
   ],
   "source": [
    "#13 Use and operator to check if on is found in both python and cannon\n",
    "course ='Python'\n",
    "tools= 'cannon'\n",
    "'on' in course and 'on' in tools"
   ]
  },
  {
   "cell_type": "code",
   "execution_count": 51,
   "id": "6421636b",
   "metadata": {},
   "outputs": [
    {
     "data": {
      "text/plain": [
       "True"
      ]
     },
     "execution_count": 51,
     "metadata": {},
     "output_type": "execute_result"
    }
   ],
   "source": [
    "#14. I hope this course is not full of jargon. Use in operator to check if `jargon` is in the sentence.\n",
    "sent= 'I hope this course is not full of jargon'\n",
    "'jargon'in sent"
   ]
  },
  {
   "cell_type": "code",
   "execution_count": null,
   "id": "389ef560",
   "metadata": {},
   "outputs": [
    {
     "data": {
      "text/plain": [
       "True"
      ]
     },
     "execution_count": 52,
     "metadata": {},
     "output_type": "execute_result"
    }
   ],
   "source": [
    "# 15 . There is no on in both both python and cannon\n",
    "\n",
    "course ='Python'\n",
    "tools= 'cannon'\n",
    "'on' in coursec\n",
    "'on' in tools\n",
    "\n"
   ]
  },
  {
   "cell_type": "code",
   "execution_count": 57,
   "id": "4e29fb43",
   "metadata": {},
   "outputs": [
    {
     "name": "stdout",
     "output_type": "stream",
     "text": [
      "<class 'str'>\n"
     ]
    }
   ],
   "source": [
    "#16 find the length of the text python and convert the vaalue to float and convert it to string\n",
    "x = 'python'\n",
    "y = float(len(x))\n",
    "y = str(y)\n",
    "print(type(y))\n",
    "\n"
   ]
  },
  {
   "cell_type": "code",
   "execution_count": 66,
   "id": "55b77b26",
   "metadata": {},
   "outputs": [
    {
     "data": {
      "text/plain": [
       "True"
      ]
     },
     "execution_count": 66,
     "metadata": {},
     "output_type": "execute_result"
    }
   ],
   "source": [
    "#17 even numbers are divisible by 2 and the remainder is zero how do you check if a number is even or not using python \n",
    "x = int(input('enter number'))\n",
    "x %2 == 0\n",
    "\n",
    "\n"
   ]
  },
  {
   "cell_type": "code",
   "execution_count": 68,
   "id": "314c70d7",
   "metadata": {},
   "outputs": [
    {
     "name": "stdout",
     "output_type": "stream",
     "text": [
      "3\n"
     ]
    },
    {
     "data": {
      "text/plain": [
       "False"
      ]
     },
     "execution_count": 68,
     "metadata": {},
     "output_type": "execute_result"
    }
   ],
   "source": [
    "#18 check if the floor division of 7 by 3 is equal to the int converted value of 2.7\n",
    "x = 7 \n",
    "y = 3\n",
    "floor_division = 7 // 2 \n",
    "print(floor_division)\n",
    "z = 2.7\n",
    "z = float(z)\n",
    "z==floor_division"
   ]
  },
  {
   "cell_type": "code",
   "execution_count": 69,
   "id": "7da3b73b",
   "metadata": {},
   "outputs": [
    {
     "data": {
      "text/plain": [
       "False"
      ]
     },
     "execution_count": 69,
     "metadata": {},
     "output_type": "execute_result"
    }
   ],
   "source": [
    "#19 check '10' is equal to 10 \n",
    "x = 10 \n",
    "y = '10'\n",
    "x == y"
   ]
  },
  {
   "cell_type": "code",
   "execution_count": null,
   "id": "ddc3c186",
   "metadata": {},
   "outputs": [
    {
     "data": {
      "text/plain": [
       "False"
      ]
     },
     "execution_count": 71,
     "metadata": {},
     "output_type": "execute_result"
    }
   ],
   "source": [
    "#20 check int 9.6 is equal to 10\n",
    "x = int(float(9.6))\n",
    "y = 10 \n",
    "x == y \n"
   ]
  },
  {
   "cell_type": "code",
   "execution_count": 3,
   "id": "5e302533",
   "metadata": {},
   "outputs": [
    {
     "name": "stdout",
     "output_type": "stream",
     "text": [
      "Your salary is 484\n"
     ]
    }
   ],
   "source": [
    "#21. Write a code that prompts the user to enter hours and rate per hour. Calculate pay of the person?\n",
    "hours=int(input('Enter hour '))\n",
    "rate_per_hour=int(input('enter the rate per hour '))\n",
    "pay=hours*rate_per_hour\n",
    "print(f'Your salary is {pay}')"
   ]
  },
  {
   "cell_type": "code",
   "execution_count": 5,
   "id": "ced60c69",
   "metadata": {},
   "outputs": [
    {
     "name": "stdout",
     "output_type": "stream",
     "text": [
      "you have lived 756864000sec :) <3\n"
     ]
    }
   ],
   "source": [
    "#22. Write a script that prompts the user to enter number of years . Calculate the number of seconds a percan can live . Assume a person can live hundred years\n",
    "age= int(input ('enter your age '))\n",
    "second = age*365*24*60*60\n",
    "print(f'you have lived {second}sec :) <3')\n",
    "\n",
    "\n"
   ]
  },
  {
   "cell_type": "code",
   "execution_count": 2,
   "id": "0ff81b8d",
   "metadata": {},
   "outputs": [
    {
     "name": "stdout",
     "output_type": "stream",
     "text": [
      "you have lived 747187200sec :) <3\n",
      "24.022222222222222\n"
     ]
    }
   ],
   "source": [
    "#22. Write a script that prompts the user to enter number of years. Calculate the number of seconds a person can live. Assume a person can live hundred years\n",
    "year= int(input ('enter your dob year'))\n",
    "month= int(input ('enter your dob month'))\n",
    "day = int(input('enter day '))\n",
    "year1 = 2025-year\n",
    "month1 = 12-month\n",
    "day1 = 30- day \n",
    "second = ((year1*12*30*24*60*60)+(month1*30*24*60*60)+(day1*24*60*60))\n",
    "print(f'you have lived {second}sec :) <3')\n",
    "age = second/60/60/24/30/12\n",
    "print(age)\n",
    "\n"
   ]
  },
  {
   "cell_type": "code",
   "execution_count": null,
   "id": "b1532dcc",
   "metadata": {},
   "outputs": [],
   "source": []
  },
  {
   "cell_type": "code",
   "execution_count": 94,
   "id": "b2f7deaa",
   "metadata": {},
   "outputs": [
    {
     "name": "stdout",
     "output_type": "stream",
     "text": [
      "1 2 3 4 5\n",
      "2 4 6 8 10\n",
      "3 6 9 12 15\n",
      "4 8 12 16 20\n",
      "5 10 15 20 25\n"
     ]
    }
   ],
   "source": [
    "#23\n",
    "x= (1,2,3,4,5)\n",
    "result0=(i*1 for i in x)\n",
    "print(*result0)\n",
    "result1= (i * 2 for i in x)\n",
    "print(*result1)\n",
    "result2= (i * 3 for i in x)\n",
    "print(*result2)\n",
    "result3= (i * 4 for i in x)\n",
    "print(*result3)\n",
    "result3= (i * 5 for i in x)\n",
    "print(*result3)\n",
    "\n"
   ]
  },
  {
   "cell_type": "code",
   "execution_count": null,
   "id": "bff28b97",
   "metadata": {},
   "outputs": [],
   "source": []
  }
 ],
 "metadata": {
  "kernelspec": {
   "display_name": "Python 3",
   "language": "python",
   "name": "python3"
  },
  "language_info": {
   "codemirror_mode": {
    "name": "ipython",
    "version": 3
   },
   "file_extension": ".py",
   "mimetype": "text/x-python",
   "name": "python",
   "nbconvert_exporter": "python",
   "pygments_lexer": "ipython3",
   "version": "3.13.3"
  }
 },
 "nbformat": 4,
 "nbformat_minor": 5
}
