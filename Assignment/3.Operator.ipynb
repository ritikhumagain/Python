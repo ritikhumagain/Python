{
 "cells": [
  {
   "cell_type": "code",
   "execution_count": 1,
   "id": "4b7183b8",
   "metadata": {},
   "outputs": [
    {
     "data": {
      "text/plain": [
       "5.0"
      ]
     },
     "execution_count": 1,
     "metadata": {},
     "output_type": "execute_result"
    }
   ],
   "source": [
    "#conversion from one type of data structure into another structure\n",
    "float (5)"
   ]
  },
  {
   "cell_type": "code",
   "execution_count": 2,
   "id": "350573ea",
   "metadata": {},
   "outputs": [
    {
     "data": {
      "text/plain": [
       "89"
      ]
     },
     "execution_count": 2,
     "metadata": {},
     "output_type": "execute_result"
    }
   ],
   "source": [
    "#conversion from float to int will truncate the value make it closer to zero\n",
    "int (89.54)"
   ]
  },
  {
   "cell_type": "code",
   "execution_count": null,
   "id": "18e50de3",
   "metadata": {},
   "outputs": [
    {
     "data": {
      "text/plain": [
       "{4, 344}"
      ]
     },
     "execution_count": 3,
     "metadata": {},
     "output_type": "execute_result"
    }
   ],
   "source": [
    "#converting one sequence to another \n",
    "set ([344,4,4,4])"
   ]
  },
  {
   "cell_type": "code",
   "execution_count": 4,
   "id": "e0d39752",
   "metadata": {},
   "outputs": [
    {
     "data": {
      "text/plain": [
       "{1: 2, 3: 4}"
      ]
     },
     "execution_count": 4,
     "metadata": {},
     "output_type": "execute_result"
    }
   ],
   "source": [
    "#To convert to dictionary , each element must be a pair\n",
    "dict([[1,2],[3,4]])"
   ]
  },
  {
   "cell_type": "code",
   "execution_count": 5,
   "id": "e163a72a",
   "metadata": {},
   "outputs": [
    {
     "name": "stdout",
     "output_type": "stream",
     "text": [
      "<class 'int'>\n",
      "<class 'int'>\n",
      "7\n"
     ]
    }
   ],
   "source": [
    "x= int(input('enter the value of x'))\n",
    "y= int(input('enter the value of y'))\n",
    "\n",
    "print(type(x))\n",
    "print(type(y))\n",
    "\n",
    "sum = x + y\n",
    "\n",
    "print(sum)"
   ]
  },
  {
   "cell_type": "code",
   "execution_count": 11,
   "id": "1bbb6315",
   "metadata": {},
   "outputs": [
    {
     "name": "stdout",
     "output_type": "stream",
     "text": [
      "the principle amount is :2\n",
      "The simple intrest is 0.12\n"
     ]
    }
   ],
   "source": [
    "#to calculate the intrest simple intrest = p t r by 100\n",
    "p = int(input ('enter the value of p'))\n",
    "t = int(input ('enter the value of time taken'))\n",
    "r = float (input ('enter the value of rate '))\n",
    "print(f\"the principle amount is :{p}\")\n",
    "\n",
    "intrest = p * t * r/100\n",
    "\n",
    "print(f'The simple intrest is {intrest}')\n"
   ]
  },
  {
   "cell_type": "code",
   "execution_count": 12,
   "id": "d2ccb3a4",
   "metadata": {},
   "outputs": [
    {
     "name": "stdout",
     "output_type": "stream",
     "text": [
      "the lenght of an object is 3\n",
      "the breath of an object is 4\n",
      "the area of an object is 12\n",
      "the perimeter of an object is 14\n"
     ]
    }
   ],
   "source": [
    "#area and perimeter of the rectangle \n",
    "#area = lxb\n",
    "# perimeter = 2 x(l+b)\n",
    "\n",
    "length = int(input('enter the length of an object'))\n",
    "print(f'the lenght of an object is {length}')\n",
    "breath = int(input('enter the breath of an object'))\n",
    "print(f'the breath of an object is {breath}')\n",
    "\n",
    "area = length * breath\n",
    "print(f'the area of an object is {area}')\n",
    "\n",
    "perimeter = 2 * (length + breath)\n",
    "print(f'the perimeter of an object is {perimeter}')"
   ]
  },
  {
   "cell_type": "code",
   "execution_count": 13,
   "id": "9b93975e",
   "metadata": {},
   "outputs": [],
   "source": [
    "#homework area an perimeter of an circle"
   ]
  },
  {
   "cell_type": "code",
   "execution_count": 14,
   "id": "d8da49e8",
   "metadata": {},
   "outputs": [],
   "source": [
    "#arithmetic operator\n",
    "#+addition \n",
    "# -sub\n",
    "# *multiplication\n",
    "# /divide\n",
    "#// integer division yeaslea chai . vanda aagadi ko matra deakhaucha \n",
    "#% remainder or modulus operator  5 / 2 garda 1 aaucha\n",
    "#** power operator  2 **5 = 2*2*2*2*2\n"
   ]
  },
  {
   "cell_type": "code",
   "execution_count": null,
   "id": "2885ecca",
   "metadata": {},
   "outputs": [],
   "source": [
    "# comparision operator\n",
    "    #> greater than\n",
    "    #< less than\n",
    "    # == equal\n",
    "    #!= not equal to \n",
    "    # >= greater than or equal to \n",
    "    #<=  less than or equal to "
   ]
  },
  {
   "cell_type": "code",
   "execution_count": 16,
   "id": "35b30ccb",
   "metadata": {},
   "outputs": [
    {
     "data": {
      "text/plain": [
       "6"
      ]
     },
     "execution_count": 16,
     "metadata": {},
     "output_type": "execute_result"
    }
   ],
   "source": [
    "# number of character \n",
    "name = ('ramesh')\n",
    "len(name)"
   ]
  },
  {
   "cell_type": "code",
   "execution_count": 17,
   "id": "c97df72c",
   "metadata": {},
   "outputs": [
    {
     "data": {
      "text/plain": [
       "False"
      ]
     },
     "execution_count": 17,
     "metadata": {},
     "output_type": "execute_result"
    }
   ],
   "source": [
    "len('apple')== len('banana')"
   ]
  },
  {
   "cell_type": "code",
   "execution_count": null,
   "id": "4a5ce8ac",
   "metadata": {},
   "outputs": [
    {
     "data": {
      "text/plain": [
       "False"
      ]
     },
     "execution_count": 24,
     "metadata": {},
     "output_type": "execute_result"
    }
   ],
   "source": [
    "#logical operator \n",
    "    #and= all value true \n",
    "    #or = any of the value is true so true \n",
    "    #not= if value is true it will be false \n",
    "(True or False) and False\n"
   ]
  },
  {
   "cell_type": "code",
   "execution_count": null,
   "id": "f0a3bce7",
   "metadata": {},
   "outputs": [
    {
     "data": {
      "text/plain": [
       "2"
      ]
     },
     "execution_count": 25,
     "metadata": {},
     "output_type": "execute_result"
    }
   ],
   "source": [
    "# And bitwise operator\n",
    "a = 2  #0010\n",
    "b= 3   #0011\n",
    "a & b # ans= 0010"
   ]
  },
  {
   "cell_type": "code",
   "execution_count": null,
   "id": "510de4fe",
   "metadata": {},
   "outputs": [
    {
     "data": {
      "text/plain": [
       "3"
      ]
     },
     "execution_count": 26,
     "metadata": {},
     "output_type": "execute_result"
    }
   ],
   "source": [
    "#OR bitwise operrator\n",
    "a = 2  #0010\n",
    "b= 3   #0011\n",
    "a | b # ans= 0010"
   ]
  },
  {
   "cell_type": "code",
   "execution_count": 33,
   "id": "05d32050",
   "metadata": {},
   "outputs": [
    {
     "name": "stdout",
     "output_type": "stream",
     "text": [
      "10\n",
      "10\n",
      "10\n"
     ]
    },
    {
     "data": {
      "text/plain": [
       "True"
      ]
     },
     "execution_count": 33,
     "metadata": {},
     "output_type": "execute_result"
    }
   ],
   "source": [
    "#assignment operator\n",
    "x= 5 \n",
    "x = x + 5 #yo pani assignment operator\n",
    "print(x) \n",
    "\n",
    "x= 5 \n",
    "x += 5\n",
    "print (x) \n",
    " \n",
    "\n",
    "\n",
    "x = 15 \n",
    "x -= 5\n",
    "print(x)\n",
    "\n",
    "\n",
    "x = 2 \n",
    "y = 2 \n",
    "x == y"
   ]
  },
  {
   "cell_type": "code",
   "execution_count": null,
   "id": "9fa5f4be",
   "metadata": {},
   "outputs": [
    {
     "name": "stdout",
     "output_type": "stream",
     "text": [
      "140728949547976\n",
      "140728949547976\n",
      "140728949554312\n",
      "140728949554312\n"
     ]
    },
    {
     "data": {
      "text/plain": [
       "True"
      ]
     },
     "execution_count": 36,
     "metadata": {},
     "output_type": "execute_result"
    }
   ],
   "source": [
    "#identity operator \n",
    "x = 2 \n",
    "y =2 \n",
    "print(id(x))\n",
    "print(id(y))\n",
    "\n",
    "x is y #memory address vanna khojyeako \n",
    "# tara 0 - 256 same memory address huncha kina vanyea yo pahilai memory address ma \n",
    "#basisakyeako huncha \n",
    "x = 300 \n",
    "y = 300 \n",
    "print(id(x))\n",
    "print(id(y))\n",
    "x is y"
   ]
  },
  {
   "cell_type": "code",
   "execution_count": 44,
   "id": "8034ef20",
   "metadata": {},
   "outputs": [
    {
     "data": {
      "text/plain": [
       "True"
      ]
     },
     "execution_count": 44,
     "metadata": {},
     "output_type": "execute_result"
    }
   ],
   "source": [
    "#membership operator\n",
    "1 in (1,2,3,4,5)\n",
    "1 in {1,2,3,4,5}\n",
    "1 in [1,2,3,4,5]\n",
    "# alos in dictionary but only for key \n",
    "'a' in {'a':1,'b':2}"
   ]
  }
 ],
 "metadata": {
  "kernelspec": {
   "display_name": "Python 3",
   "language": "python",
   "name": "python3"
  },
  "language_info": {
   "codemirror_mode": {
    "name": "ipython",
    "version": 3
   },
   "file_extension": ".py",
   "mimetype": "text/x-python",
   "name": "python",
   "nbconvert_exporter": "python",
   "pygments_lexer": "ipython3",
   "version": "3.13.3"
  }
 },
 "nbformat": 4,
 "nbformat_minor": 5
}
