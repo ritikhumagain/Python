{
 "cells": [
  {
   "cell_type": "code",
   "execution_count": 3,
   "id": "7ea7a96a",
   "metadata": {},
   "outputs": [],
   "source": [
    "# if = Do some code only if some condition is true \n",
    "# else do something else"
   ]
  },
  {
   "cell_type": "code",
   "execution_count": 12,
   "id": "adf88525",
   "metadata": {},
   "outputs": [
    {
     "name": "stdout",
     "output_type": "stream",
     "text": [
      "You are not born yet\n"
     ]
    }
   ],
   "source": [
    "age = int(input(\"enter your age :\"))\n",
    "\n",
    "if age >= 18:\n",
    "    print(\"You are now signed up:\")\n",
    "elif age <= 0:\n",
    "    print(\"You are not born yet\")\n",
    "elif age <= 10:\n",
    "    print(\"Your age is less than 10\")\n",
    "elif age <= 18:\n",
    "    print(f\"Your age is {age} and you have {18-age } years left to signed in\")\n",
    "else:\n",
    "    print(\"You are underage and cannot signed up\")"
   ]
  },
  {
   "cell_type": "code",
   "execution_count": 28,
   "id": "874b4dbf",
   "metadata": {},
   "outputs": [
    {
     "name": "stdout",
     "output_type": "stream",
     "text": [
      "have some food \n"
     ]
    }
   ],
   "source": [
    "# exer 2  key = lower use garyeasi kam sakincha\n",
    "response = input(\"Would you like food ? (Y/N):\").lower()\n",
    "if response == \"y\" :\n",
    "    print(\"have some food \")\n",
    "else :\n",
    "    print('no food for you')"
   ]
  },
  {
   "cell_type": "code",
   "execution_count": 33,
   "id": "b0e29e1e",
   "metadata": {},
   "outputs": [
    {
     "name": "stdout",
     "output_type": "stream",
     "text": [
      " Enter name\n"
     ]
    }
   ],
   "source": [
    "#exercise 3 \n",
    "name = input('enter your name:').strip()\n",
    "if name == \"\":\n",
    "    print(\" Enter name\")\n",
    "else :\n",
    "    print(f\"Hello {name}\")\n"
   ]
  },
  {
   "cell_type": "code",
   "execution_count": 37,
   "id": "2a0b80d9",
   "metadata": {},
   "outputs": [
    {
     "name": "stdout",
     "output_type": "stream",
     "text": [
      "the user is not online \n"
     ]
    }
   ],
   "source": [
    "# use of boolean with if statement \n",
    "online = False\n",
    "if online:\n",
    "    print(\"the user is online\")\n",
    "else:\n",
    "    print(\"the user is not online \")\n",
    "\n",
    "\n"
   ]
  },
  {
   "cell_type": "code",
   "execution_count": null,
   "id": "59a3cdd8",
   "metadata": {},
   "outputs": [],
   "source": []
  }
 ],
 "metadata": {
  "kernelspec": {
   "display_name": "Python 3",
   "language": "python",
   "name": "python3"
  },
  "language_info": {
   "codemirror_mode": {
    "name": "ipython",
    "version": 3
   },
   "file_extension": ".py",
   "mimetype": "text/x-python",
   "name": "python",
   "nbconvert_exporter": "python",
   "pygments_lexer": "ipython3",
   "version": "3.13.3"
  }
 },
 "nbformat": 4,
 "nbformat_minor": 5
}
