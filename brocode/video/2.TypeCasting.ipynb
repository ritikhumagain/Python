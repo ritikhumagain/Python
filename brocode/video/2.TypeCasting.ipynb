{
 "cells": [
  {
   "cell_type": "code",
   "execution_count": null,
   "id": "de0c3d0d",
   "metadata": {},
   "outputs": [],
   "source": [
    "# typecasting = The process of converting a value of one data type to another \n",
    "#   we can change string to integer or float to integer \n",
    "#   Explicit vs Implicit"
   ]
  },
  {
   "cell_type": "code",
   "execution_count": null,
   "id": "e6ec274e",
   "metadata": {},
   "outputs": [
    {
     "name": "stdout",
     "output_type": "stream",
     "text": [
      "21.0\n",
      "1\n",
      "True\n"
     ]
    }
   ],
   "source": [
    "# Explicit \n",
    "name = 'bro'\n",
    "age = 21 \n",
    "gpa = 1.9 \n",
    "student= True\n",
    "\n",
    "type(name)\n",
    "type(age)\n",
    "type (gpa) \n",
    "\n",
    "age = float(age)\n",
    "print(age)\n",
    "\n",
    "gpa = int(gpa )\n",
    "print (gpa )\n",
    "\n",
    "age =  bool(age)\n",
    "# print(age)"
   ]
  },
  {
   "cell_type": "code",
   "execution_count": 11,
   "id": "040773a5",
   "metadata": {},
   "outputs": [
    {
     "name": "stdout",
     "output_type": "stream",
     "text": [
      "<class 'int'>\n",
      "<class 'float'>\n"
     ]
    }
   ],
   "source": [
    "# implicit (affai convert huni )\n",
    "x = 2 \n",
    "y = 2.0\n",
    "print(type(x))\n",
    "x = x /y \n",
    "print(type(x))\n"
   ]
  },
  {
   "cell_type": "code",
   "execution_count": null,
   "id": "cbeefe5f",
   "metadata": {},
   "outputs": [],
   "source": []
  }
 ],
 "metadata": {
  "kernelspec": {
   "display_name": "Python 3",
   "language": "python",
   "name": "python3"
  },
  "language_info": {
   "codemirror_mode": {
    "name": "ipython",
    "version": 3
   },
   "file_extension": ".py",
   "mimetype": "text/x-python",
   "name": "python",
   "nbconvert_exporter": "python",
   "pygments_lexer": "ipython3",
   "version": "3.13.3"
  }
 },
 "nbformat": 4,
 "nbformat_minor": 5
}
