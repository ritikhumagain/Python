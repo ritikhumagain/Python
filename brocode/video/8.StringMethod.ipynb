{
 "cells": [
  {
   "cell_type": "code",
   "execution_count": null,
   "id": "01073329",
   "metadata": {},
   "outputs": [
    {
     "name": "stdout",
     "output_type": "stream",
     "text": [
      "15\n"
     ]
    }
   ],
   "source": [
    "# Length of an string \n",
    "# len(variable)\n",
    "name = input(\"Enter your full name:\")\n",
    "result = len(name)\n",
    "print(result)"
   ]
  },
  {
   "cell_type": "code",
   "execution_count": null,
   "id": "af4a3655",
   "metadata": {},
   "outputs": [
    {
     "name": "stdout",
     "output_type": "stream",
     "text": [
      "-1\n",
      "51\n",
      "10\n"
     ]
    }
   ],
   "source": [
    "#find the first occurance of an given string\n",
    "name = \"therfe are many place where you can relax your mind \"\n",
    "\n",
    "# this is the first occurance \n",
    "a =name.find(\"k\")  \n",
    "print(a)               # Return -1 if no result \n",
    "\n",
    "# this is the last occurance \n",
    "a =name.rfind(\" \")  \n",
    "print(a)\n",
    "\n",
    "b =name.count(\" \")\n",
    "print(b)\n"
   ]
  },
  {
   "cell_type": "code",
   "execution_count": null,
   "id": "2dc9a023",
   "metadata": {},
   "outputs": [],
   "source": []
  }
 ],
 "metadata": {
  "kernelspec": {
   "display_name": "Python 3",
   "language": "python",
   "name": "python3"
  },
  "language_info": {
   "codemirror_mode": {
    "name": "ipython",
    "version": 3
   },
   "file_extension": ".py",
   "mimetype": "text/x-python",
   "name": "python",
   "nbconvert_exporter": "python",
   "pygments_lexer": "ipython3",
   "version": "3.13.3"
  }
 },
 "nbformat": 4,
 "nbformat_minor": 5
}
