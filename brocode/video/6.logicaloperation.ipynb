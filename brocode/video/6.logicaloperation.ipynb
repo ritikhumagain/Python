{
 "cells": [
  {
   "cell_type": "code",
   "execution_count": 1,
   "id": "00f6bfaf",
   "metadata": {},
   "outputs": [],
   "source": [
    "# logical operators = used on conditional statement \n",
    "# and = checks two or more conditions if True\n",
    "# or = Checks if at least one condition is True \n",
    "# not = True if condition is false , and vise versa \n"
   ]
  },
  {
   "cell_type": "code",
   "execution_count": null,
   "id": "8952ef42",
   "metadata": {},
   "outputs": [
    {
     "name": "stdout",
     "output_type": "stream",
     "text": [
      "The temperature is good \n"
     ]
    }
   ],
   "source": [
    "# 2tai condition milna paryo natra execute gardaina\n",
    "# and\n",
    "\n",
    "temp = 30\n",
    "\n",
    "if temp >0 and temp<= 30:\n",
    "    print(\"The temperature is good \")\n",
    "else:\n",
    "    print(\"The temperature is bad\")\n"
   ]
  },
  {
   "cell_type": "code",
   "execution_count": null,
   "id": "8a09422d",
   "metadata": {},
   "outputs": [
    {
     "name": "stdout",
     "output_type": "stream",
     "text": [
      "The temperature is good\n"
     ]
    }
   ],
   "source": [
    "# 1 ota condition milyea pani right huncha \n",
    "# or\n",
    "\n",
    "temp = 20\n",
    "\n",
    "\n",
    "\n",
    "if temp <= 0 or temp >= 30:\n",
    "    print(\"The temperature is bad \")\n",
    "else:\n",
    "    print(\"The temperature is good\")"
   ]
  },
  {
   "cell_type": "code",
   "execution_count": 12,
   "id": "93e55002",
   "metadata": {},
   "outputs": [
    {
     "name": "stdout",
     "output_type": "stream",
     "text": [
      "It is cloudy outside\n"
     ]
    }
   ],
   "source": [
    "# not \n",
    "# opposite banaucha \n",
    "\n",
    "sunny = False\n",
    "if not sunny :\n",
    "    print(\"It is cloudy outside\")\n",
    "else :\n",
    "    print (\"it is sunny \")"
   ]
  },
  {
   "cell_type": "code",
   "execution_count": null,
   "id": "6b09fc7f",
   "metadata": {},
   "outputs": [],
   "source": []
  }
 ],
 "metadata": {
  "kernelspec": {
   "display_name": "Python 3",
   "language": "python",
   "name": "python3"
  },
  "language_info": {
   "codemirror_mode": {
    "name": "ipython",
    "version": 3
   },
   "file_extension": ".py",
   "mimetype": "text/x-python",
   "name": "python",
   "nbconvert_exporter": "python",
   "pygments_lexer": "ipython3",
   "version": "3.13.3"
  }
 },
 "nbformat": 4,
 "nbformat_minor": 5
}
