{
 "cells": [
  {
   "cell_type": "code",
   "execution_count": null,
   "id": "dcef2634",
   "metadata": {},
   "outputs": [
    {
     "name": "stdout",
     "output_type": "stream",
     "text": [
      "Bro\n"
     ]
    }
   ],
   "source": [
    "# Variable = A container for a value (string,integer, float, boolean)\n",
    "#            A variable behave as if it was the value it contains \n",
    "\n",
    "first_name = \"Bro\"\n",
    "print(first_name)\n",
    "\n",
    "\n"
   ]
  },
  {
   "cell_type": "code",
   "execution_count": 3,
   "id": "9088ea0a",
   "metadata": {},
   "outputs": [],
   "source": [
    "# strings \n",
    "first_name = \"bro\"\n",
    "food = \"pizza\"\n",
    "symbol_no = \"84848488A\"\n"
   ]
  },
  {
   "cell_type": "code",
   "execution_count": 4,
   "id": "84f147b2",
   "metadata": {},
   "outputs": [],
   "source": [
    "# integer \n",
    "quantity = 3 \n",
    "num_of_student = 30 \n"
   ]
  },
  {
   "cell_type": "code",
   "execution_count": 5,
   "id": "a6c77e76",
   "metadata": {},
   "outputs": [],
   "source": [
    "# float \n",
    "price = 10.99 \n",
    "gpa = 3.2\n",
    "distance = 5.5\n"
   ]
  },
  {
   "cell_type": "code",
   "execution_count": null,
   "id": "e7d2597f",
   "metadata": {},
   "outputs": [],
   "source": [
    "#Boolen \n",
    "is_student = True\n",
    "is_not_student = False "
   ]
  }
 ],
 "metadata": {
  "kernelspec": {
   "display_name": "Python 3",
   "language": "python",
   "name": "python3"
  },
  "language_info": {
   "codemirror_mode": {
    "name": "ipython",
    "version": 3
   },
   "file_extension": ".py",
   "mimetype": "text/x-python",
   "name": "python",
   "nbconvert_exporter": "python",
   "pygments_lexer": "ipython3",
   "version": "3.13.3"
  }
 },
 "nbformat": 4,
 "nbformat_minor": 5
}
