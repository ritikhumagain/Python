{
 "cells": [
  {
   "cell_type": "code",
   "execution_count": null,
   "id": "0ea91bf1",
   "metadata": {},
   "outputs": [],
   "source": [
    "# Conditional expression= A-one line shortcut for the if-else statement \n",
    "# Print or assign one of two values based on a condition \n",
    "# X if condition else y"
   ]
  },
  {
   "cell_type": "code",
   "execution_count": 4,
   "id": "a9ddf7ae",
   "metadata": {},
   "outputs": [
    {
     "name": "stdout",
     "output_type": "stream",
     "text": [
      "positive \n"
     ]
    }
   ],
   "source": [
    "# using conditional expression finding positive or negative number\n",
    "num = 5 \n",
    "print(\"positive \"if num>0 else \"negative\")"
   ]
  },
  {
   "cell_type": "code",
   "execution_count": 11,
   "id": "aff7680a",
   "metadata": {},
   "outputs": [
    {
     "name": "stdout",
     "output_type": "stream",
     "text": [
      "55\n",
      "no is odd \n"
     ]
    }
   ],
   "source": [
    "# Number is even or odd \n",
    "num = int(input(\"Enter any number you want\"))\n",
    "print(num)\n",
    "result = 'no is even'if num % 2 == 0 else \"no is odd \"\n",
    "print(result)"
   ]
  },
  {
   "cell_type": "code",
   "execution_count": 13,
   "id": "b5e6eab8",
   "metadata": {},
   "outputs": [
    {
     "name": "stdout",
     "output_type": "stream",
     "text": [
      "55 is the maximum no you enter\n",
      "44 is the minimum no you enter \n",
      "addult \n"
     ]
    }
   ],
   "source": [
    "#Finding maximum no between number\n",
    "a = int(input(\"enter any no you want \"))\n",
    "b = int(input(\"enter any no you want \"))\n",
    "age = 25 \n",
    "max_result = a if a >b else b\n",
    "print(f\"{max_result} is the maximum no you enter\")\n",
    "min = a if a<b else b\n",
    "print(f\"{min} is the minimum no you enter \")\n",
    "status = \"addult \" if age >= 18 else \"child\"\n",
    "print(status)"
   ]
  },
  {
   "cell_type": "code",
   "execution_count": 14,
   "id": "c659eb6a",
   "metadata": {},
   "outputs": [],
   "source": [
    "# Finding temperatue is hot or sunny \n",
    "input_tem = int(input(\"Enter the temperatur \"))\n",
    "status = \"hot\" if input_tem >20 else \"normal\""
   ]
  },
  {
   "cell_type": "code",
   "execution_count": null,
   "id": "371a0c77",
   "metadata": {},
   "outputs": [
    {
     "name": "stdout",
     "output_type": "stream",
     "text": [
      "full acess \n"
     ]
    }
   ],
   "source": [
    "# finding full acess or not \n",
    "user_role = input(\"enter your role \").lower()\n",
    "user_role = user_role.strip()\n",
    "access_level = \"full acess \" if user_role == \"admin\" else \"limited access\"\n",
    "print(access_level)\n"
   ]
  }
 ],
 "metadata": {
  "kernelspec": {
   "display_name": "Python 3",
   "language": "python",
   "name": "python3"
  },
  "language_info": {
   "codemirror_mode": {
    "name": "ipython",
    "version": 3
   },
   "file_extension": ".py",
   "mimetype": "text/x-python",
   "name": "python",
   "nbconvert_exporter": "python",
   "pygments_lexer": "ipython3",
   "version": "3.13.3"
  }
 },
 "nbformat": 4,
 "nbformat_minor": 5
}
