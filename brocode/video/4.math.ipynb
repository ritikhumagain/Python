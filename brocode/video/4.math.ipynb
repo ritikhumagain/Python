{
 "cells": [
  {
   "cell_type": "code",
   "execution_count": null,
   "id": "87f2b476",
   "metadata": {},
   "outputs": [
    {
     "name": "stdout",
     "output_type": "stream",
     "text": [
      "4\n",
      "2\n",
      "16\n",
      "5.333333333333333\n",
      "28.44\n",
      "1.44\n"
     ]
    }
   ],
   "source": [
    "# Basic Arithmetic operation \n",
    "\n",
    "friends =  0 \n",
    "friends += 4  # addition\n",
    "print(friends)\n",
    "friends -= 2  # substraction\n",
    "print(friends)\n",
    "friends *= 8   #multiplication\n",
    "print(friends)\n",
    "friends /= 3   #division\n",
    "print(friends)\n",
    "\n",
    "#exponenents\n",
    "friends **= 2\n",
    "print(round(friends,2))\n",
    "\n",
    "#remainder also known as modulus\n",
    "remainder = friends % 3  # 28.44/3 remainder = 1.44 # dividing friend into 3 group\n",
    "print(round(remainder,2))\n",
    "\n",
    "\n",
    "\n"
   ]
  },
  {
   "cell_type": "code",
   "execution_count": 25,
   "id": "d5e8947c",
   "metadata": {},
   "outputs": [
    {
     "name": "stdout",
     "output_type": "stream",
     "text": [
      "4\n",
      "4\n",
      "25\n",
      "5\n",
      "-4\n",
      "5\n"
     ]
    }
   ],
   "source": [
    "# build in math function \n",
    "\n",
    "#round function\n",
    "x = 3.6\n",
    "y = -4\n",
    "z = 5\n",
    "result = round(x)\n",
    "print(result)\n",
    "\n",
    "#absolut function\n",
    "result = abs(y)  #distance from 0 \n",
    "print(result)\n",
    "\n",
    "#power fuction\n",
    "result = pow (z , 2)\n",
    "print(result)\n",
    "\n",
    "#max / min function\n",
    "result = max(x,y,z)\n",
    "print(max(x,y,z))\n",
    "print(min(x,y,z))\n",
    "print(result)\n"
   ]
  },
  {
   "cell_type": "code",
   "execution_count": null,
   "id": "07008b37",
   "metadata": {},
   "outputs": [
    {
     "name": "stdout",
     "output_type": "stream",
     "text": [
      "3.1416\n",
      "2.718281828459045\n",
      "3.0\n",
      "10\n",
      "9\n"
     ]
    }
   ],
   "source": [
    "# some usefull math function \n",
    "\n",
    "import math\n",
    "#pi \n",
    "print(round(math.pi,4))\n",
    "\n",
    "# exponential \n",
    "print(math.e)\n",
    "\n",
    "#square root \n",
    "result = math.sqrt(3)\n",
    "print(math.sqrt(9))\n",
    "type(result)\n",
    "\n",
    "#ceiling / floor\n",
    "result= math.ceil(9.1)\n",
    "print(result)\n",
    "result= math.floor(9.9)\n",
    "print(result)\n",
    "\n",
    "\n",
    "\n"
   ]
  },
  {
   "cell_type": "code",
   "execution_count": 39,
   "id": "38182a2e",
   "metadata": {},
   "outputs": [
    {
     "name": "stdout",
     "output_type": "stream",
     "text": [
      "The circimference of an circle is 65.97\n",
      "The area of an circle is 346.3605900582747\n",
      "the hypothenous of an triangle is 14.142135623730951\n"
     ]
    }
   ],
   "source": [
    "# exercise\n",
    "import math\n",
    "\n",
    "#1 calculation of circumference of an circle C=2πr\n",
    "radius = float(input(\"Enter the radius of an circle\"))\n",
    "circum = 2 *math.pi*radius\n",
    "print (f\"The circimference of an circle is {round(circum,2)}\")\n",
    "\n",
    "#2 Area of an circle  2 pi r\n",
    "area =math.pi*pow(radius,2)\n",
    "print (f'The area of an circle is {area}')\n",
    "\n",
    "\n",
    "\n",
    "#3 Hypothenous of an triangle rootsquare a squar + b square\n",
    "a = int(input(\"enter the side of an triangle\"))\n",
    "b = int(input(\"enter the side of an triangle\"))\n",
    "\n",
    "hypo = math.sqrt(pow(a,2)+pow(b,2))\n",
    "print(f\"the hypothenous of an triangle is {hypo}\")\n",
    "\n",
    "\n"
   ]
  },
  {
   "cell_type": "code",
   "execution_count": null,
   "id": "e7309c38",
   "metadata": {},
   "outputs": [],
   "source": []
  }
 ],
 "metadata": {
  "kernelspec": {
   "display_name": "Python 3",
   "language": "python",
   "name": "python3"
  },
  "language_info": {
   "codemirror_mode": {
    "name": "ipython",
    "version": 3
   },
   "file_extension": ".py",
   "mimetype": "text/x-python",
   "name": "python",
   "nbconvert_exporter": "python",
   "pygments_lexer": "ipython3",
   "version": "3.13.3"
  }
 },
 "nbformat": 4,
 "nbformat_minor": 5
}
