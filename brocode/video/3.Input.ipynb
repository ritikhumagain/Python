{
 "cells": [
  {
   "cell_type": "code",
   "execution_count": 1,
   "id": "62d3c3cb",
   "metadata": {},
   "outputs": [
    {
     "name": "stdout",
     "output_type": "stream",
     "text": [
      "helloritik\n",
      "your age is 56\n"
     ]
    }
   ],
   "source": [
    "name = input(\"Enter Your name : \")\n",
    "print (f\"hello{name }\")\n",
    "age = int(input(\"Enter Your age :\"))\n",
    "age += 1 \n",
    "print (f\"your age is {age }\")"
   ]
  },
  {
   "cell_type": "code",
   "execution_count": 3,
   "id": "108be851",
   "metadata": {},
   "outputs": [
    {
     "name": "stdout",
     "output_type": "stream",
     "text": [
      "Today i went to a big zoo.\n",
      "In an exhibit , i saw ritik humagain\n",
      "ritik humagain was sad and playing\n",
      "I was happy\n"
     ]
    }
   ],
   "source": [
    "# mad libs \n",
    "adjective1 = input(\"enter an adjective:\")\n",
    "noun = input(\"enter an noun:\")\n",
    "adjective2 = input(\"enter an adjective:\")\n",
    "verb= input(\"enter a verb:\")\n",
    "adjective3 = input(\"enter an adjective\")\n",
    "print(f'Today i went to a {adjective1} zoo.')\n",
    "print(f'In an exhibit , i saw {noun}')\n",
    "print(f'{noun } was {adjective2} and {verb}ing')\n",
    "print(f\"I was {adjective3}\")\n"
   ]
  },
  {
   "cell_type": "code",
   "execution_count": null,
   "id": "2e602871",
   "metadata": {},
   "outputs": [
    {
     "name": "stdout",
     "output_type": "stream",
     "text": [
      "The area of an rectange is 100cm square .\n",
      "The volume of an rectange is 1000cm cube\n"
     ]
    }
   ],
   "source": [
    "# area and volume  of rectangle \n",
    "len = int(input(\"enter the length of an rectange\"))\n",
    "width = int(input(\"enter the width of an rectange\"))\n",
    "height = int(input(\"enter the height of an rectange\"))\n",
    "a = len * width\n",
    "v = len* width * height\n",
    "print(f'The area of an rectange is {a}cm square .\\nThe volume of an rectange is {v}cm cube')"
   ]
  },
  {
   "cell_type": "code",
   "execution_count": 17,
   "id": "3cfdd1c0",
   "metadata": {},
   "outputs": [
    {
     "name": "stdout",
     "output_type": "stream",
     "text": [
      "You have bought riti at 333.55555555 and total of 55 riti  and total will be RS18345.556 \n"
     ]
    }
   ],
   "source": [
    "# shopping cart \n",
    "item = str(input('what item would you like to buy '))\n",
    "price =float( input('what is the price '))\n",
    "quantity = int(input('how many would you like to buy  '))\n",
    "total_cost = price * quantity\n",
    "print(f'You have bought {item} at {price} and total of {quantity} {item}  and total will be RS{round(total_cost,3)} ')\n"
   ]
  },
  {
   "cell_type": "code",
   "execution_count": null,
   "id": "777e357a",
   "metadata": {},
   "outputs": [],
   "source": []
  }
 ],
 "metadata": {
  "kernelspec": {
   "display_name": "Python 3",
   "language": "python",
   "name": "python3"
  },
  "language_info": {
   "codemirror_mode": {
    "name": "ipython",
    "version": 3
   },
   "file_extension": ".py",
   "mimetype": "text/x-python",
   "name": "python",
   "nbconvert_exporter": "python",
   "pygments_lexer": "ipython3",
   "version": "3.13.3"
  }
 },
 "nbformat": 4,
 "nbformat_minor": 5
}
