{
 "cells": [
  {
   "cell_type": "code",
   "execution_count": null,
   "id": "87f2774e",
   "metadata": {},
   "outputs": [],
   "source": [
    "#indexing = accessing elements of a sequence using [] (indexing operator)\n",
    "#[start:end:step]"
   ]
  },
  {
   "cell_type": "code",
   "execution_count": 15,
   "id": "15931d05",
   "metadata": {},
   "outputs": [
    {
     "name": "stdout",
     "output_type": "stream",
     "text": [
      "-\n",
      "3\n",
      "13-6891-46\n",
      "3456\n"
     ]
    }
   ],
   "source": [
    "credit_number  =\"1234-5678-9012-3456\"\n",
    "print(credit_number[4])\n",
    "print(credit_number[-4])\n",
    "print(credit_number[::2])\n",
    "#Exercise \n",
    "#last digit from last \n",
    "last_digits = credit_number[-4:\n",
    "                            ]\n",
    "print(last_digits)"
   ]
  },
  {
   "cell_type": "code",
   "execution_count": 16,
   "id": "5d4e4a76",
   "metadata": {},
   "outputs": [
    {
     "data": {
      "text/plain": [
       "'kitir'"
      ]
     },
     "execution_count": 16,
     "metadata": {},
     "output_type": "execute_result"
    }
   ],
   "source": [
    "#negative in step will reverse the string \n",
    "name = \"ritik\"\n",
    "name[::-1]"
   ]
  },
  {
   "cell_type": "code",
   "execution_count": null,
   "id": "cf47e303",
   "metadata": {},
   "outputs": [],
   "source": []
  }
 ],
 "metadata": {
  "kernelspec": {
   "display_name": "Python 3",
   "language": "python",
   "name": "python3"
  },
  "language_info": {
   "codemirror_mode": {
    "name": "ipython",
    "version": 3
   },
   "file_extension": ".py",
   "mimetype": "text/x-python",
   "name": "python",
   "nbconvert_exporter": "python",
   "pygments_lexer": "ipython3",
   "version": "3.13.3"
  }
 },
 "nbformat": 4,
 "nbformat_minor": 5
}
