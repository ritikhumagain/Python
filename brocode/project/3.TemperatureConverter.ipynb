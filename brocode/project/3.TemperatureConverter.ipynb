{
 "cells": [
  {
   "cell_type": "code",
   "execution_count": 7,
   "id": "026e30a2",
   "metadata": {},
   "outputs": [
    {
     "name": "stdout",
     "output_type": "stream",
     "text": [
      "The Temperature in Celcius is 38.3333 °C\n"
     ]
    }
   ],
   "source": [
    "# Temperature converter \n",
    "unit = input(\"Is this temperature in Celcius or Fahrenhite c / f\").lower()\n",
    "unit = unit.strip()\n",
    "temp = float(input(\"enter the temperature\"))\n",
    "if unit == \"c\":\n",
    "    temp = round((9*temp)/5+32,4)\n",
    "    print(f\"The Temperature in fahrenheit is {temp} ° F\")\n",
    "elif unit == \"f\":\n",
    "    temp = round((temp- 32 )*5/9,4)\n",
    "    print(f\"The Temperature in Celcius is {temp} °C\")\n",
    "else:\n",
    "    print(f\"{unit} is an invalid unit of measurement \")"
   ]
  },
  {
   "cell_type": "code",
   "execution_count": null,
   "id": "d398a48e",
   "metadata": {},
   "outputs": [],
   "source": []
  }
 ],
 "metadata": {
  "kernelspec": {
   "display_name": "Python 3",
   "language": "python",
   "name": "python3"
  },
  "language_info": {
   "codemirror_mode": {
    "name": "ipython",
    "version": 3
   },
   "file_extension": ".py",
   "mimetype": "text/x-python",
   "name": "python",
   "nbconvert_exporter": "python",
   "pygments_lexer": "ipython3",
   "version": "3.13.3"
  }
 },
 "nbformat": 4,
 "nbformat_minor": 5
}
