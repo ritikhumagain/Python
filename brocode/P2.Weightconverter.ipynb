{
 "cells": [
  {
   "cell_type": "code",
   "execution_count": 9,
   "id": "ec2f9746",
   "metadata": {},
   "outputs": [
    {
     "name": "stdout",
     "output_type": "stream",
     "text": [
      "pizza is not valid operator\n"
     ]
    }
   ],
   "source": [
    "# python calculator \n",
    "a = float(input(\"Enter any no:\"))\n",
    "operator = input(\"Enter an operator (+,-,*,/):\").strip()\n",
    "\n",
    "b = float(input(\"Enter any no:\"))\n",
    "if operator == \"+\":\n",
    "    print(\"Addition\")\n",
    "    sum = a + b \n",
    "    print(sum)\n",
    "elif operator == \"-\":\n",
    "    print(\"Subtraction\") \n",
    "    sum = a - b \n",
    "    print(sum)\n",
    "elif operator == \"*\":\n",
    "    print(\"Multiplication\") \n",
    "    sum = a * b \n",
    "    print(sum)\n",
    "elif operator == \"/\":\n",
    "    print(\"Division\") \n",
    "    sum = a / b \n",
    "    print(round(sum,4))\n",
    "else:\n",
    "    print(f\"{operator} is not valid operator\")"
   ]
  },
  {
   "cell_type": "code",
   "execution_count": null,
   "id": "24fed199",
   "metadata": {},
   "outputs": [],
   "source": [
    "# weight converter"
   ]
  }
 ],
 "metadata": {
  "kernelspec": {
   "display_name": "Python 3",
   "language": "python",
   "name": "python3"
  },
  "language_info": {
   "codemirror_mode": {
    "name": "ipython",
    "version": 3
   },
   "file_extension": ".py",
   "mimetype": "text/x-python",
   "name": "python",
   "nbconvert_exporter": "python",
   "pygments_lexer": "ipython3",
   "version": "3.13.3"
  }
 },
 "nbformat": 4,
 "nbformat_minor": 5
}
