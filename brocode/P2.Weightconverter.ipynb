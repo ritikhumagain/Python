{
 "cells": [
  {
   "cell_type": "code",
   "execution_count": 9,
   "id": "ec2f9746",
   "metadata": {},
   "outputs": [
    {
     "name": "stdout",
     "output_type": "stream",
     "text": [
      "pizza is not valid operator\n"
     ]
    }
   ],
   "source": [
    "# python calculator \n",
    "a = float(input(\"Enter any no:\"))\n",
    "operator = input(\"Enter an operator (+,-,*,/):\").strip()\n",
    "\n",
    "b = float(input(\"Enter any no:\"))\n",
    "if operator == \"+\":\n",
    "    print(\"Addition\")\n",
    "    sum = a + b \n",
    "    print(sum)\n",
    "elif operator == \"-\":\n",
    "    print(\"Subtraction\") \n",
    "    sum = a - b \n",
    "    print(sum)\n",
    "elif operator == \"*\":\n",
    "    print(\"Multiplication\") \n",
    "    sum = a * b \n",
    "    print(sum)\n",
    "elif operator == \"/\":\n",
    "    print(\"Division\") \n",
    "    sum = a / b \n",
    "    print(round(sum,4))\n",
    "else:\n",
    "    print(f\"{operator} is not valid operator\")"
   ]
  },
  {
   "cell_type": "code",
   "execution_count": 8,
   "id": "24fed199",
   "metadata": {},
<<<<<<< HEAD
=======
   "outputs": [
    {
     "name": "stdout",
     "output_type": "stream",
     "text": [
      "convert weight to pound type 1 if pound to weight press 2\n",
      "Converting pound into weight \n",
      "180pound is 81.65 kg\n"
     ]
    }
   ],
   "source": [
    "# weight converter\n",
    "user_weight = int(input(\"press Your weight \"))\n",
    "INTO_POUND= 2.2046\n",
    "print(\"convert weight to pound type 1 if pound to weight press 2\")\n",
    "a= int(input(\"convert weight to pound type 1 if pound to weight press any key\"))\n",
    "if a == 1 :\n",
    "    pound = user_weight * INTO_POUND\n",
    "    print(f\"Converting weight into pound \\n{user_weight}kg is {round(pound,2)} pound\")\n",
    "else:\n",
    "    pound = user_weight / INTO_POUND\n",
    "    print(f\"Converting pound into weight \\n{user_weight}pound is {round(pound,2)} kg\")\n"
   ]
  },
  {
   "cell_type": "code",
   "execution_count": null,
   "id": "7ebb5885",
   "metadata": {},
>>>>>>> 0e447db329136e81e788e75a818e469301dbe13f
   "outputs": [],
   "source": []
  }
 ],
 "metadata": {
  "kernelspec": {
   "display_name": "Python 3",
   "language": "python",
   "name": "python3"
  },
  "language_info": {
   "codemirror_mode": {
    "name": "ipython",
    "version": 3
   },
   "file_extension": ".py",
   "mimetype": "text/x-python",
   "name": "python",
   "nbconvert_exporter": "python",
   "pygments_lexer": "ipython3",
   "version": "3.13.3"
  }
 },
 "nbformat": 4,
 "nbformat_minor": 5
}
