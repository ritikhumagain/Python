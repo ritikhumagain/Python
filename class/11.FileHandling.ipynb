{
 "cells": [
  {
   "cell_type": "code",
   "execution_count": null,
   "id": "b31339dd",
   "metadata": {},
   "outputs": [],
   "source": [
    "# Creating file from python and writing \n",
    "f = open('hello.txt','w')\n",
    "f.write (\"This is my first file from python\")\n",
    "f.close()"
   ]
  },
  {
   "cell_type": "code",
   "execution_count": null,
   "id": "739c9bdc",
   "metadata": {},
   "outputs": [
    {
     "name": "stdout",
     "output_type": "stream",
     "text": [
      "This is my first file from python\n"
     ]
    }
   ],
   "source": [
    "# reading into file \n",
    "f = open('hello.txt','r')\n",
    "print(f.read())\n",
    "f.close()"
   ]
  },
  {
   "cell_type": "code",
   "execution_count": 3,
   "id": "a452aa7b",
   "metadata": {},
   "outputs": [
    {
     "data": {
      "text/plain": [
       "True"
      ]
     },
     "execution_count": 3,
     "metadata": {},
     "output_type": "execute_result"
    }
   ],
   "source": [
    "f.closed"
   ]
  },
  {
   "cell_type": "code",
   "execution_count": null,
   "id": "85db64c7",
   "metadata": {},
   "outputs": [
    {
     "name": "stdout",
     "output_type": "stream",
     "text": [
      "he\n"
     ]
    },
    {
     "ename": "ZeroDivisionError",
     "evalue": "division by zero",
     "output_type": "error",
     "traceback": [
      "\u001b[31m---------------------------------------------------------------------------\u001b[39m",
      "\u001b[31mZeroDivisionError\u001b[39m                         Traceback (most recent call last)",
      "\u001b[36mCell\u001b[39m\u001b[36m \u001b[39m\u001b[32mIn[5]\u001b[39m\u001b[32m, line 2\u001b[39m\n\u001b[32m      1\u001b[39m \u001b[38;5;28mprint\u001b[39m(\u001b[33m'\u001b[39m\u001b[33mhe\u001b[39m\u001b[33m'\u001b[39m)\n\u001b[32m----> \u001b[39m\u001b[32m2\u001b[39m \u001b[32;43m1\u001b[39;49m\u001b[43m \u001b[49m\u001b[43m/\u001b[49m\u001b[32;43m0\u001b[39;49m\n\u001b[32m      3\u001b[39m \u001b[38;5;28mprint\u001b[39m(\u001b[33m'\u001b[39m\u001b[33mhello\u001b[39m\u001b[33m'\u001b[39m)\n",
      "\u001b[31mZeroDivisionError\u001b[39m: division by zero"
     ]
    }
   ],
   "source": [
    "print('he') # YO Run hunch \n",
    "1 /0\n",
    "print('hello') # yo chai run hudaina\n"
   ]
  },
  {
   "cell_type": "code",
   "execution_count": 6,
   "id": "ec5be7d2",
   "metadata": {},
   "outputs": [
    {
     "name": "stdout",
     "output_type": "stream",
     "text": [
      "This is my first file from python\n"
     ]
    },
    {
     "ename": "ZeroDivisionError",
     "evalue": "division by zero",
     "output_type": "error",
     "traceback": [
      "\u001b[31m---------------------------------------------------------------------------\u001b[39m",
      "\u001b[31mZeroDivisionError\u001b[39m                         Traceback (most recent call last)",
      "\u001b[36mCell\u001b[39m\u001b[36m \u001b[39m\u001b[32mIn[6]\u001b[39m\u001b[32m, line 4\u001b[39m\n\u001b[32m      2\u001b[39m f = \u001b[38;5;28mopen\u001b[39m(\u001b[33m'\u001b[39m\u001b[33mhello.txt\u001b[39m\u001b[33m'\u001b[39m,\u001b[33m'\u001b[39m\u001b[33mr\u001b[39m\u001b[33m'\u001b[39m)\n\u001b[32m      3\u001b[39m \u001b[38;5;28mprint\u001b[39m(f.read())\n\u001b[32m----> \u001b[39m\u001b[32m4\u001b[39m \u001b[32;43m1\u001b[39;49m\u001b[43m \u001b[49m\u001b[43m/\u001b[49m\u001b[43m \u001b[49m\u001b[32;43m0\u001b[39;49m\n\u001b[32m      5\u001b[39m f.close()\n",
      "\u001b[31mZeroDivisionError\u001b[39m: division by zero"
     ]
    }
   ],
   "source": [
    "# reading into file \n",
    "f = open('hello.txt','r')\n",
    "print(f.read())\n",
    "1 / 0\n",
    "f.close()"
   ]
  },
  {
   "cell_type": "code",
   "execution_count": 7,
   "id": "26b9dc49",
   "metadata": {},
   "outputs": [
    {
     "data": {
      "text/plain": [
       "False"
      ]
     },
     "execution_count": 7,
     "metadata": {},
     "output_type": "execute_result"
    }
   ],
   "source": [
    "f. closed"
   ]
  },
  {
   "cell_type": "code",
   "execution_count": null,
   "id": "5325425c",
   "metadata": {},
   "outputs": [
    {
     "name": "stdout",
     "output_type": "stream",
     "text": [
      "division by zero\n",
      "unsupported operand type(s) for /: 'int' and 'str'\n"
     ]
    }
   ],
   "source": [
    "# error /  exception handling \n",
    "def division (a,b):\n",
    "    try:\n",
    "        div = a / b \n",
    "        return div\n",
    "    # except ZeroDivisionError:\n",
    "    #     print('Cannot divide by 0.')   \n",
    "    # except TypeError:\n",
    "    #     print('Invalid datatype')\n",
    "    except Exception as e:    # yeaslea chai sabai erro handle garcha \n",
    "        print(e)\n",
    "division(4,0)\n",
    "division(4,\"b\")\n"
   ]
  },
  {
   "cell_type": "code",
   "execution_count": null,
   "id": "0044a73d",
   "metadata": {},
   "outputs": [
    {
     "data": {
      "text/plain": [
       "('i will run if there is no exception\\n', 2.0)"
      ]
     },
     "execution_count": 19,
     "metadata": {},
     "output_type": "execute_result"
    }
   ],
   "source": [
    "def division (a,b):\n",
    "    try:\n",
    "        div = a / b \n",
    "        return \"i will run if there is no exception\", div\n",
    "    # except ZeroDivisionError:\n",
    "    #     print('Cannot divide by 0.')   \n",
    "    # except TypeError:\n",
    "    #     print('Invalid datatype')\n",
    "    except Exception as e:    # yeaslea chai sabai erro handle garcha \n",
    "        print(e)\n",
    "    finally:\n",
    "        print(\"i wil run no matter what happens in the code.\")\n",
    "division(4,2)"
   ]
  },
  {
   "cell_type": "code",
   "execution_count": 24,
   "id": "10fdb35d",
   "metadata": {},
   "outputs": [
    {
     "name": "stdout",
     "output_type": "stream",
     "text": [
      "\n",
      "division by zero\n"
     ]
    }
   ],
   "source": [
    "p = open ('hello.txt', \"r\")\n",
    "print (f. read ())\n",
    "try :\n",
    "    1 / 0 \n",
    "except Exception as e:\n",
    "    print(e)\n",
    "p.close()\n"
   ]
  },
  {
   "cell_type": "code",
   "execution_count": 25,
   "id": "82a62304",
   "metadata": {},
   "outputs": [
    {
     "data": {
      "text/plain": [
       "True"
      ]
     },
     "execution_count": 25,
     "metadata": {},
     "output_type": "execute_result"
    }
   ],
   "source": [
    "p.closed"
   ]
  },
  {
   "cell_type": "code",
   "execution_count": 26,
   "id": "b9ca7171",
   "metadata": {},
   "outputs": [
    {
     "data": {
      "text/plain": [
       "True"
      ]
     },
     "execution_count": 26,
     "metadata": {},
     "output_type": "execute_result"
    }
   ],
   "source": [
    "with open ('hello.txt','w') as f:\n",
    "    f.write('Hello world')\n",
    "f.closed"
   ]
  },
  {
   "cell_type": "code",
   "execution_count": 27,
   "id": "ad4de6e8",
   "metadata": {},
   "outputs": [
    {
     "name": "stdout",
     "output_type": "stream",
     "text": [
      "False\n",
      "Hello world\n",
      "False\n",
      "True\n"
     ]
    }
   ],
   "source": [
    "with open ('hello.txt', 'r') as f :\n",
    "    print (f.closed)\n",
    "    print(f.read())\n",
    "    print(f.closed)\n",
    "print(f.closed)"
   ]
  },
  {
   "cell_type": "code",
   "execution_count": 28,
   "id": "fb626c76",
   "metadata": {},
   "outputs": [
    {
     "name": "stdout",
     "output_type": "stream",
     "text": [
      "False\n",
      "Hello world\n"
     ]
    },
    {
     "ename": "ZeroDivisionError",
     "evalue": "division by zero",
     "output_type": "error",
     "traceback": [
      "\u001b[31m---------------------------------------------------------------------------\u001b[39m",
      "\u001b[31mZeroDivisionError\u001b[39m                         Traceback (most recent call last)",
      "\u001b[36mCell\u001b[39m\u001b[36m \u001b[39m\u001b[32mIn[28]\u001b[39m\u001b[32m, line 4\u001b[39m\n\u001b[32m      2\u001b[39m     \u001b[38;5;28mprint\u001b[39m (f.closed)\n\u001b[32m      3\u001b[39m     \u001b[38;5;28mprint\u001b[39m(f.read())\n\u001b[32m----> \u001b[39m\u001b[32m4\u001b[39m     \u001b[32;43m1\u001b[39;49m\u001b[43m \u001b[49m\u001b[43m/\u001b[49m\u001b[43m \u001b[49m\u001b[32;43m0\u001b[39;49m \n\u001b[32m      5\u001b[39m f.closed\n",
      "\u001b[31mZeroDivisionError\u001b[39m: division by zero"
     ]
    }
   ],
   "source": [
    "with open ('hello.txt', 'r') as f :\n",
    "    print (f.closed)\n",
    "    print(f.read())\n",
    "    1 / 0 \n",
    "f.closed"
   ]
  },
  {
   "cell_type": "code",
   "execution_count": 29,
   "id": "63d673be",
   "metadata": {},
   "outputs": [
    {
     "data": {
      "text/plain": [
       "True"
      ]
     },
     "execution_count": 29,
     "metadata": {},
     "output_type": "execute_result"
    }
   ],
   "source": [
    "f.closed"
   ]
  },
  {
   "cell_type": "code",
   "execution_count": null,
   "id": "d2a0f7eb",
   "metadata": {},
   "outputs": [],
   "source": []
  }
 ],
 "metadata": {
  "kernelspec": {
   "display_name": "Python 3",
   "language": "python",
   "name": "python3"
  },
  "language_info": {
   "codemirror_mode": {
    "name": "ipython",
    "version": 3
   },
   "file_extension": ".py",
   "mimetype": "text/x-python",
   "name": "python",
   "nbconvert_exporter": "python",
   "pygments_lexer": "ipython3",
   "version": "3.13.3"
  }
 },
 "nbformat": 4,
 "nbformat_minor": 5
}
