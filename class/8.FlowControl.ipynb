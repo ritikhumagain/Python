{
 "cells": [
  {
   "cell_type": "code",
   "execution_count": null,
   "id": "c28faa01",
   "metadata": {},
   "outputs": [
    {
     "name": "stdout",
     "output_type": "stream",
     "text": [
      "Positive\n",
      "Count: 1\n",
      "Count: 2\n",
      "Count: 3\n",
      "Index: 0\n",
      "Index: 1\n",
      "Index: 2\n",
      "0\n",
      "1\n",
      "2\n",
      "0\n",
      "1\n",
      "3\n",
      "4\n",
      "Two\n",
      "Loop: 0\n",
      "Loop: 1\n",
      "Loop Done\n",
      "Cannot divide by zero!\n",
      "Always runs\n",
      "Adult\n",
      "False\n",
      "True\n",
      "0 Alice\n",
      "1 Bob\n",
      "Alice 25\n",
      "Bob 30\n"
     ]
    }
   ],
   "source": [
    "# 📘 Python Flow Control — All-Purpose Reference with Examples\n",
    "\n",
    "# ✅ 1. if, elif, else\n",
    "# Syntax: if condition:, elif condition:, else:\n",
    "x = 10\n",
    "if x > 0:\n",
    "    print(\"Positive\")       # Output: Positive\n",
    "elif x == 0:\n",
    "    print(\"Zero\")\n",
    "else:\n",
    "    print(\"Negative\")\n",
    "\n",
    "f\n",
    "\n",
    "# ✅ 3. for loop\n",
    "# Syntax: for item in iterable:\n",
    "for i in range(3):\n",
    "    print(\"Index:\", i)      # Output: 0, 1, 2\n",
    "\n",
    "# ✅ 4. break\n",
    "# Syntax: break → exits loop\n",
    "for i in range(5):\n",
    "    if i == 3:\n",
    "        break\n",
    "    print(i)                # Output: 0, 1, 2\n",
    "\n",
    "# ✅ 5. continue\n",
    "# Syntax: continue → skips to next loop iteration\n",
    "for i in range(5):\n",
    "    if i == 2:\n",
    "        continue\n",
    "    print(i)                # Output: 0, 1, 3, 4\n",
    "\n",
    "# ✅ 6. pass\n",
    "# Syntax: pass → does nothing (placeholder)\n",
    "for i in range(3):\n",
    "    pass                    # No output\n",
    "\n",
    "# ✅ 7. match-case (Python 3.10+)\n",
    "# Syntax: match variable: case value:\n",
    "value = 2\n",
    "match value:\n",
    "    case 1:\n",
    "        print(\"One\")\n",
    "    case 2:\n",
    "        print(\"Two\")        # Output: Two\n",
    "    case _:\n",
    "        print(\"Other\")\n",
    "\n",
    "# ✅ 8. else with loop\n",
    "# Syntax: loop ... else:\n",
    "for i in range(2):\n",
    "    print(\"Loop:\", i)       # Output: 0, 1\n",
    "else:\n",
    "    print(\"Loop Done\")      # Output after loop ends\n",
    "\n",
    "# ✅ 9. try-except-finally\n",
    "# Syntax: try: ... except: ... finally:\n",
    "try:\n",
    "    x = 10 / 0\n",
    "except ZeroDivisionError:\n",
    "    print(\"Cannot divide by zero!\")  # Output\n",
    "finally:\n",
    "    print(\"Always runs\")     # Output\n",
    "\n",
    "# ✅ 10. assert\n",
    "# Syntax: assert condition\n",
    "x = 5\n",
    "assert x > 0                # Passes silently\n",
    "# assert x < 0              # Would raise AssertionError\n",
    "\n",
    "# ✅ 11. Ternary (Conditional) Expression\n",
    "# Syntax: value_if_true if condition else value_if_false\n",
    "age = 20\n",
    "status = \"Adult\" if age >= 18 else \"Minor\"\n",
    "print(status)               # Output: Adult\n",
    "\n",
    "# ✅ 12. all(), any()\n",
    "# Syntax: all(iterable), any(iterable)\n",
    "print(all([True, True, False]))   # Output: False\n",
    "print(any([False, False, True]))  # Output: True\n",
    "\n",
    "# ✅ 13. enumerate() and zip()\n",
    "# Syntax: for i, val in enumerate(iterable), zip(iter1, iter2)\n",
    "names = [\"Alice\", \"Bob\"]\n",
    "ages = [25, 30]\n",
    "\n",
    "for i, name in enumerate(names):\n",
    "    print(i, name)          # Output: 0 Alice, 1 Bob\n",
    "\n",
    "for name, age in zip(names, ages):\n",
    "    print(name, age)        # Output: Alice 25, Bob 30\n"
   ]
  },
  {
   "cell_type": "code",
   "execution_count": null,
   "id": "0481ea83",
   "metadata": {},
   "outputs": [
    {
     "name": "stdout",
     "output_type": "stream",
     "text": [
      "Autorized\n",
      "Hello\n"
     ]
    }
   ],
   "source": [
    "# if else\n",
    "age = 17 \n",
    "if age> 16:\n",
    "    print('Autorized') # indentation\n",
    "print(\"Hello\")"
   ]
  },
  {
   "cell_type": "code",
   "execution_count": null,
   "id": "47f5489f",
   "metadata": {},
   "outputs": [
    {
     "name": "stdout",
     "output_type": "stream",
     "text": [
      "hello\n"
     ]
    }
   ],
   "source": [
    "age = 17 \n",
    "if age >=18:\n",
    "    print('Authorized')\n",
    "    print('hi')\n",
    "\n",
    "print('hello'\n",
    ")"
   ]
  },
  {
   "cell_type": "code",
   "execution_count": null,
   "id": "ea034cf9",
   "metadata": {},
   "outputs": [
    {
     "name": "stdout",
     "output_type": "stream",
     "text": [
      "your age is : 11\n",
      "Your are UnAuthorized\n"
     ]
    }
   ],
   "source": [
    "#only if statement  yeasma chai sabai check garch ans aayea pani \n",
    "age = int(input('enter your age'))\n",
    "if age >=18: \n",
    "    print(f'your age is :',age)\n",
    "    print(\"Your are Authorized\")\n",
    "if age <18:\n",
    "    print(f'your age is :',age)\n",
    "    print(\"Your are UnAuthorized\")"
   ]
  },
  {
   "cell_type": "code",
   "execution_count": null,
   "id": "fac0592b",
   "metadata": {},
   "outputs": [],
   "source": []
  },
  {
   "cell_type": "code",
   "execution_count": null,
   "id": "27968d57",
   "metadata": {},
   "outputs": [
    {
     "name": "stdout",
     "output_type": "stream",
     "text": [
      "x and y are equal \n"
     ]
    }
   ],
   "source": [
    "# greatest\n",
    "x = int(input('Enter the value of x :'))\n",
    "y = int(input('Enter the value of y :'))\n",
    "if x > y : \n",
    "    print(f'x is {x} and Y is {y} so x is greater ')\n",
    "    \n",
    "if y > x:\n",
    "    print(f'x is {x} and Y is {y} so y is greater ')\n",
    "\n",
    "if x == y :\n",
    "    print('x and y are equal ')\n",
    "\n",
    "\n",
    "\n"
   ]
  },
  {
   "cell_type": "code",
   "execution_count": null,
   "id": "c208107a",
   "metadata": {},
   "outputs": [
    {
     "name": "stdout",
     "output_type": "stream",
     "text": [
      "your age is : 11\n",
      "Your are UnAuthorized\n"
     ]
    }
   ],
   "source": [
    "#else if \n",
    "age = int(input('enter your age'))\n",
    "if age >=18: \n",
    "    print(f'your age is :',age)\n",
    "    print(\"Your are Authorized\")\n",
    "else:\n",
    "    print(f'your age is :',age)\n",
    "    print(\"Your are UnAuthorized\")"
   ]
  },
  {
   "cell_type": "code",
   "execution_count": 1,
   "id": "143581df",
   "metadata": {},
   "outputs": [
    {
     "name": "stdout",
     "output_type": "stream",
     "text": [
      "x is 11 and Y is 1 so x is greater \n"
     ]
    }
   ],
   "source": [
    "# elif yesma chai ans aayo vanea aaru ma check gardaina\n",
    "x = int(input('Enter the value of x :'))\n",
    "y = int(input('Enter the value of y :'))\n",
    "if x > y : \n",
    "    print(f'x is {x} and Y is {y} so x is greater ')\n",
    "    \n",
    "elif y > x:\n",
    "    print(f'x is {x} and Y is {y} so y is greater ')\n",
    "\n",
    "else :\n",
    "    print('x and y are equal ')"
   ]
  },
  {
   "cell_type": "code",
   "execution_count": null,
   "id": "4b86d979",
   "metadata": {},
   "outputs": [
    {
     "name": "stdout",
     "output_type": "stream",
     "text": [
      "Final Hello\n"
     ]
    }
   ],
   "source": [
    "# harek ma check gardai aaucha true aayo \n",
    "if False:\n",
    "    print('hello1')\n",
    "elif False:\n",
    "    print('hello2')\n",
    "elif False:\n",
    "    print('hello3')   \n",
    "else:\n",
    "    print(\"Final Hello\")\n"
   ]
  },
  {
   "cell_type": "code",
   "execution_count": null,
   "id": "644557c8",
   "metadata": {},
   "outputs": [],
   "source": [
    "if False:\n",
    "    print('hello1')\n",
    "elif False:\n",
    "    print('hello2')\n",
    "elif False:\n",
    "    print('hello3')"
   ]
  },
  {
   "cell_type": "code",
   "execution_count": null,
   "id": "260d4855",
   "metadata": {},
   "outputs": [
    {
     "name": "stdout",
     "output_type": "stream",
     "text": [
      "hello0\n",
      "hello2\n",
      "hello3\n"
     ]
    }
   ],
   "source": [
    "if True:\n",
    "    print('hello0')\n",
    "\n",
    "if False:\n",
    "    print('hello1')\n",
    "else:\n",
    "    print('hello2')\n",
    "\n",
    "if True:\n",
    "    print('hello3')    \n",
    "elif False:\n",
    "    print('hello4')"
   ]
  },
  {
   "cell_type": "code",
   "execution_count": null,
   "id": "be9544c8",
   "metadata": {},
   "outputs": [],
   "source": [
    "if False:\n",
    "    print(\"hello1 \")\n",
    "\n",
    "if True:\n",
    "    print(\"hello2 \")\n",
    "elif True:\n",
    "    print(\"hello13 \")\n",
    "\n",
    "if True:\n",
    "    print(\"hello4 \")\n",
    "else :\n",
    "    print(\"hello5 \")\n",
    "\n"
   ]
  },
  {
   "cell_type": "code",
   "execution_count": null,
   "id": "e9916eb1",
   "metadata": {},
   "outputs": [
    {
     "name": "stdout",
     "output_type": "stream",
     "text": [
      "hello2 \n",
      "hello 3\n",
      "hello 8\n"
     ]
    }
   ],
   "source": [
    "if False:\n",
    "    print(\"hello1 \")\n",
    "\n",
    "if True:\n",
    "    print(\"hello2 \")\n",
    "\n",
    "if True:\n",
    "    print(\"hello 3\")\n",
    "elif True:\n",
    "    print(\"hello1 4 \")\n",
    "else:\n",
    "    print (\"hello 5\")\n",
    "\n",
    "if False:\n",
    "    print(\"hello 6\")\n",
    "elif False:\n",
    "    print(\"hello1 7 \")\n",
    "else:\n",
    "    print (\"hello 8\")\n"
   ]
  },
  {
   "cell_type": "code",
   "execution_count": null,
   "id": "7c5d17cc",
   "metadata": {},
   "outputs": [
    {
     "name": "stdout",
     "output_type": "stream",
     "text": [
      "incorrect password\n"
     ]
    }
   ],
   "source": [
    "# task \n",
    "username = input(\"Enter Username\")\n",
    "password = input(\"Enter Password\")\n",
    "if username == \"admin\" and password == \"admin123\":\n",
    "    print(\"correct username and password\")\n",
    "else : \n",
    "    print(\"Incorrect password\")\n",
    "\n"
   ]
  },
  {
   "cell_type": "code",
   "execution_count": null,
   "id": "3fc203bd",
   "metadata": {},
   "outputs": [
    {
     "name": "stdout",
     "output_type": "stream",
     "text": [
      "Successfully logged in \n"
     ]
    }
   ],
   "source": [
    "#  task \n",
    "username = input(\"Enter Username\")\n",
    "password = input(\"Enter Password\")\n",
    "secret = int(input(\"Enter Pin\"))\n",
    "if username == \"admin\" and password == \"admin123\":\n",
    "    print(\"Successfully logged in\")\n",
    "elif secret == 9900:\n",
    "    print(\"Successfully logged in \")\n",
    "else : \n",
    "    print(\"Cannot Login\")\n",
    "\n",
    "# alternative way \n",
    "if ((username == \"admin\" and password == \"admin123\")or secret==9900):\n",
    "    print(\"Successfully logged in\")\n",
    "else : \n",
    "    print(\"Cannot Login\")\n",
    "\n"
   ]
  },
  {
   "cell_type": "code",
   "execution_count": null,
   "id": "f5640890",
   "metadata": {},
   "outputs": [
    {
     "name": "stdout",
     "output_type": "stream",
     "text": [
      "Cannot Login\n"
     ]
    }
   ],
   "source": [
    "#  task \n",
    "username = input(\"Enter Username\")\n",
    "password = input(\"Enter Password\")\n",
    "\n",
    "if username == \"admin\" and password == \"admin123\":\n",
    "    print(\"Successfully logged in\")\n",
    "elif username != \"admin\" and password != \"admin123\":\n",
    "    secret = int(input(\"Enter Pin\"))\n",
    "    if secret == 9900:\n",
    "        print(\"Successfully logged in \")\n",
    "    else:\n",
    "        print(\"Wrong secret pin\")\n",
    "\n",
    "else:\n",
    "    print(\"Cannot Login\")\n",
    "    \n"
   ]
  },
  {
   "cell_type": "code",
   "execution_count": null,
   "id": "0c523a70",
   "metadata": {},
   "outputs": [
    {
     "name": "stdout",
     "output_type": "stream",
     "text": [
      "Successfully logged in\n"
     ]
    }
   ],
   "source": [
    "username = input(\"Enter Username: \")\n",
    "password = input(\"Enter Password: \")\n",
    "\n",
    "if username == \"admin\" and password == \"admin123\":\n",
    "    print(\"Successfully logged in\")\n",
    "\n",
    "elif username != \"admin\" and password != \"admin123\":\n",
    "    secret = int(input(\"Enter Pin: \"))\n",
    "    if secret == 9900:\n",
    "        print(\"Successfully logged in\")\n",
    "    else:\n",
    "        print(\"Wrong secret pin\")\n",
    "\n",
    "else:\n",
    "    print(\"Cannot Login\")\n"
   ]
  },
  {
   "cell_type": "code",
   "execution_count": 2,
   "id": "337ec6dc",
   "metadata": {},
   "outputs": [
    {
     "name": "stdout",
     "output_type": "stream",
     "text": [
      "your marks is \n",
      "Third division\n"
     ]
    }
   ],
   "source": [
    "sub1 = int(input('Marks Obtained in sub1'))\n",
    "sub2 = int(input('Marks Obtained in sub2'))\n",
    "sub3 = int(input('Marks Obtained in sub1'))\n",
    "sub4 = int(input('Marks Obtained in sub1'))\n",
    "sub5 = int(input('Marks Obtained in sub1'))\n",
    "sub6 = int(input('Marks Obtained in sub1'))\n",
    "sub7 = int(input('Marks Obtained in sub1'))\n",
    "sub8 = int(input('Marks Obtained in sub1'))\n",
    "\n",
    "\n",
    "final_marks= (sub1+sub2+sub3+sub4+sub5+sub6+sub7+sub8)/8\n",
    "print(\"your marks is \")\n",
    "if final_marks>=  80:\n",
    "    print(\"distinction\")\n",
    "elif (final_marks>=  60 and final_marks< 80): #last ma yo narakyea pani huncha \n",
    "    print(\"first division\")\n",
    "elif (final_marks>=  50 and final_marks< 60):\n",
    "    print(\"second division\")\n",
    "elif (final_marks>=  35 and final_marks< 50):\n",
    "    print(\"Third division\")\n",
    "else:\n",
    "    print(\"fail\")\n"
   ]
  },
  {
   "cell_type": "code",
   "execution_count": null,
   "id": "aaee0838",
   "metadata": {},
   "outputs": [],
   "source": [
    "\n",
    "sub1 = int(input('Marks Obtained in sub1'))\n",
    "sub2 = int(input('Marks Obtained in sub1'))\n",
    "sub3 = int(input('Marks Obtained in sub1'))\n",
    "sub4 = int(input('Marks Obtained in sub1'))\n",
    "sub5 = int(input('Marks Obtained in sub1'))\n",
    "sub6 = int(input('Marks Obtained in sub1'))\n",
    "sub7 = int(input('Marks Obtained in sub1'))\n",
    "sub8 = int(input('Marks Obtained in sub1'))\n",
    "\n",
    "\n",
    "final_marks= (sub1+sub2+sub3+sub4+sub5+sub6+sub7+sub8)/8\n",
    "if final_marks>=  80:\n",
    "    print(\"distinction\")\n",
    "if (final_marks>=  60 and final_marks< 80): #last ma yo narakyea pani huncha \n",
    "    print(\"first division\")\n",
    "if (final_marks>=  50 and final_marks< 60):\n",
    "    print(\"second division\")\n",
    "if (final_marks>=  35 and final_marks< 50):\n",
    "    print(\"Third division\")\n",
    "else:\n",
    "    print(\"fail\")\n"
   ]
  },
  {
   "cell_type": "code",
   "execution_count": null,
   "id": "45d784bb",
   "metadata": {},
   "outputs": [],
   "source": [
    "s1 = int(input(\"Enter the marks obtained in Subject 1\"))\n",
    "s2 = int(input(\"Enter the marks obtained in Subject 2\"))\n",
    "s3 = int(input(\"Enter the marks obtained in Subject 3\"))\n",
    "s4 = int(input(\"Enter the marks obtained in Subject 4\"))\n",
    "s5 = int(input(\"Enter the marks obtained in Subject 5\"))\n",
    "s6 = int(input(\"Enter the marks obtained in Subject 6\"))\n",
    "s7 = int(input(\"Enter the marks obtained in Subject 7\"))\n",
    "s8 = int(input(\"Enter the marks obtained in Subject 8\"))\n",
    " \n",
    "average = (s1 + s2 + s3 + s4 + s5 + s6 + s7 + s8)/8\n",
    " \n",
    "if average >= 80:\n",
    "    print(\"Distinction\")\n",
    "elif average >= 60:\n",
    "    print(\"First Division\")\n",
    "elif average >= 50:\n",
    "    print(\"Second Division\")\n",
    "elif average >= 35:\n",
    "    print(\"Third Division\")\n",
    "else: \n",
    "    print(\"Fail\")"
   ]
  },
  {
   "cell_type": "code",
   "execution_count": 1,
   "id": "64b8fb08",
   "metadata": {},
   "outputs": [],
   "source": [
    "#age 1-12 child\n",
    "# age 13 -17 teenager\n",
    "# age 18 -35 young adult\n",
    "# age 36 - 45 middle aged \n",
    "# age 45 and above older adult"
   ]
  },
  {
   "cell_type": "code",
   "execution_count": 11,
   "id": "800e3ff5",
   "metadata": {},
   "outputs": [
    {
     "name": "stdout",
     "output_type": "stream",
     "text": [
      "Running total: 1\n",
      "Running total: 2\n",
      "Running total: 6\n",
      "Running total: 24\n",
      "Running total: 120\n",
      "Final Sum: 120\n"
     ]
    }
   ],
   "source": [
    "x = {1, 2, 3, 4, 5}\n",
    "add = 1\n",
    "\n",
    "for i in x:\n",
    "    add *= i\n",
    "    print(\"Running total:\", add)\n",
    "\n",
    "print(\"Final Sum:\", add)\n"
   ]
  },
  {
   "cell_type": "code",
   "execution_count": 9,
   "id": "c217f46d",
   "metadata": {},
   "outputs": [
    {
     "name": "stdout",
     "output_type": "stream",
     "text": [
      "Running total: 2\n",
      "Running total: 4\n",
      "Running total: 7\n",
      "Running total: 11\n",
      "Running total: 16\n",
      "Final Sum: 16\n"
     ]
    }
   ],
   "source": [
    "x = {1, 2, 3, 4, 5}\n",
    "add = 1\n",
    "\n",
    "for i in x:\n",
    "    add += i\n",
    "    print(\"Running total:\", add)\n",
    "\n",
    "print(\"Final Sum:\", add)\n"
   ]
  },
  {
   "cell_type": "code",
   "execution_count": 27,
   "id": "b7f1329e",
   "metadata": {},
   "outputs": [
    {
     "name": "stdout",
     "output_type": "stream",
     "text": [
      "[1, 4, 9, 16, 25]\n",
      "even\n",
      "even\n",
      "even\n",
      "even\n",
      "even\n"
     ]
    }
   ],
   "source": [
    "x = {1, 2, 3, 4, 5}\n",
    "add = 1\n",
    "output =[]\n",
    "for i in x:\n",
    "    output.append(i**2)\n",
    "print(output)\n",
    "\n",
    "for i in x :\n",
    "    i % 2 == 0\n",
    "    print(\"even\")\n",
    "\n",
    "\n",
    "\n"
   ]
  },
  {
   "cell_type": "code",
   "execution_count": 33,
   "id": "688cafbc",
   "metadata": {},
   "outputs": [
    {
     "name": "stdout",
     "output_type": "stream",
     "text": [
      "['odd', 'even', 'odd', 'even', 'odd']\n"
     ]
    }
   ],
   "source": [
    "x = {1, 2, 3, 4, 5}\n",
    "output = []\n",
    "for i in x:  # Loop from 1 to 20\n",
    "    if i % 2 == 0:\n",
    "        output.append('even')\n",
    "    else:\n",
    "        (output.append('odd'))\n",
    "\n",
    "print(output)\n",
    "\n"
   ]
  },
  {
   "cell_type": "code",
   "execution_count": 44,
   "id": "0daf3c4b",
   "metadata": {},
   "outputs": [
    {
     "name": "stdout",
     "output_type": "stream",
     "text": [
      "A is a vowel\n",
      "e is a vowel\n",
      "a is a vowel\n",
      "a is a vowel\n",
      "Total vowels: ['A', 'e', 'a', 'a']\n"
     ]
    }
   ],
   "source": [
    "text = \"rAmesh pradhan\"\n",
    "vowels = \"aeiouAEIOU\"\n",
    "count = 0\n",
    "output = []\n",
    "\n",
    "for char in text:\n",
    "    if char in vowels:\n",
    "        print(char, \"is a vowel\")\n",
    "        count += 1\n",
    "        output.append(char)\n",
    "\n",
    "print(\"Total vowels:\", output)\n"
   ]
  },
  {
   "cell_type": "code",
   "execution_count": 45,
   "id": "4e25de67",
   "metadata": {},
   "outputs": [
    {
     "name": "stdout",
     "output_type": "stream",
     "text": [
      "Total Marks: 231\n"
     ]
    }
   ],
   "source": [
    "marks = {'alan':99,'Bill':55,'cory':77} #find the sum of all person \n",
    "total = sum(marks.values())\n",
    "print(\"Total Marks:\", total)\n"
   ]
  },
  {
   "cell_type": "code",
   "execution_count": 47,
   "id": "8bafd899",
   "metadata": {},
   "outputs": [
    {
     "ename": "SyntaxError",
     "evalue": "expected ':' (1771838734.py, line 3)",
     "output_type": "error",
     "traceback": [
      "  \u001b[36mCell\u001b[39m\u001b[36m \u001b[39m\u001b[32mIn[47]\u001b[39m\u001b[32m, line 3\u001b[39m\n\u001b[31m    \u001b[39m\u001b[31mfor marks in marks.values()\u001b[39m\n                               ^\n\u001b[31mSyntaxError\u001b[39m\u001b[31m:\u001b[39m expected ':'\n"
     ]
    }
   ],
   "source": [
    "marks = {'alan':99,'Bill':55,'cory':77} #find the sum of all person \n",
    "output = 0\n",
    "for marks in marks.values()\n",
    "    total_marks += marks\n",
    "print(total_marks)"
   ]
  },
  {
   "cell_type": "code",
   "execution_count": 48,
   "id": "d94c3aaf",
   "metadata": {},
   "outputs": [
    {
     "name": "stdout",
     "output_type": "stream",
     "text": [
      "Help on class dict in module builtins:\n",
      "\n",
      "class dict(object)\n",
      " |  dict() -> new empty dictionary\n",
      " |  dict(mapping) -> new dictionary initialized from a mapping object's\n",
      " |      (key, value) pairs\n",
      " |  dict(iterable) -> new dictionary initialized as if via:\n",
      " |      d = {}\n",
      " |      for k, v in iterable:\n",
      " |          d[k] = v\n",
      " |  dict(**kwargs) -> new dictionary initialized with the name=value pairs\n",
      " |      in the keyword argument list.  For example:  dict(one=1, two=2)\n",
      " |\n",
      " |  Methods defined here:\n",
      " |\n",
      " |  __contains__(self, key, /)\n",
      " |      True if the dictionary has the specified key, else False.\n",
      " |\n",
      " |  __delitem__(self, key, /)\n",
      " |      Delete self[key].\n",
      " |\n",
      " |  __eq__(self, value, /)\n",
      " |      Return self==value.\n",
      " |\n",
      " |  __ge__(self, value, /)\n",
      " |      Return self>=value.\n",
      " |\n",
      " |  __getattribute__(self, name, /)\n",
      " |      Return getattr(self, name).\n",
      " |\n",
      " |  __getitem__(self, key, /)\n",
      " |      Return self[key].\n",
      " |\n",
      " |  __gt__(self, value, /)\n",
      " |      Return self>value.\n",
      " |\n",
      " |  __init__(self, /, *args, **kwargs)\n",
      " |      Initialize self.  See help(type(self)) for accurate signature.\n",
      " |\n",
      " |  __ior__(self, value, /)\n",
      " |      Return self|=value.\n",
      " |\n",
      " |  __iter__(self, /)\n",
      " |      Implement iter(self).\n",
      " |\n",
      " |  __le__(self, value, /)\n",
      " |      Return self<=value.\n",
      " |\n",
      " |  __len__(self, /)\n",
      " |      Return len(self).\n",
      " |\n",
      " |  __lt__(self, value, /)\n",
      " |      Return self<value.\n",
      " |\n",
      " |  __ne__(self, value, /)\n",
      " |      Return self!=value.\n",
      " |\n",
      " |  __or__(self, value, /)\n",
      " |      Return self|value.\n",
      " |\n",
      " |  __repr__(self, /)\n",
      " |      Return repr(self).\n",
      " |\n",
      " |  __reversed__(self, /)\n",
      " |      Return a reverse iterator over the dict keys.\n",
      " |\n",
      " |  __ror__(self, value, /)\n",
      " |      Return value|self.\n",
      " |\n",
      " |  __setitem__(self, key, value, /)\n",
      " |      Set self[key] to value.\n",
      " |\n",
      " |  __sizeof__(self, /)\n",
      " |      Return the size of the dict in memory, in bytes.\n",
      " |\n",
      " |  clear(self, /)\n",
      " |      Remove all items from the dict.\n",
      " |\n",
      " |  copy(self, /)\n",
      " |      Return a shallow copy of the dict.\n",
      " |\n",
      " |  get(self, key, default=None, /)\n",
      " |      Return the value for key if key is in the dictionary, else default.\n",
      " |\n",
      " |  items(self, /)\n",
      " |      Return a set-like object providing a view on the dict's items.\n",
      " |\n",
      " |  keys(self, /)\n",
      " |      Return a set-like object providing a view on the dict's keys.\n",
      " |\n",
      " |  pop(self, key, default=<unrepresentable>, /)\n",
      " |      D.pop(k[,d]) -> v, remove specified key and return the corresponding value.\n",
      " |\n",
      " |      If the key is not found, return the default if given; otherwise,\n",
      " |      raise a KeyError.\n",
      " |\n",
      " |  popitem(self, /)\n",
      " |      Remove and return a (key, value) pair as a 2-tuple.\n",
      " |\n",
      " |      Pairs are returned in LIFO (last-in, first-out) order.\n",
      " |      Raises KeyError if the dict is empty.\n",
      " |\n",
      " |  setdefault(self, key, default=None, /)\n",
      " |      Insert key with a value of default if key is not in the dictionary.\n",
      " |\n",
      " |      Return the value for key if key is in the dictionary, else default.\n",
      " |\n",
      " |  update(...)\n",
      " |      D.update([E, ]**F) -> None.  Update D from mapping/iterable E and F.\n",
      " |      If E is present and has a .keys() method, then does:  for k in E.keys(): D[k] = E[k]\n",
      " |      If E is present and lacks a .keys() method, then does:  for k, v in E: D[k] = v\n",
      " |      In either case, this is followed by: for k in F:  D[k] = F[k]\n",
      " |\n",
      " |  values(self, /)\n",
      " |      Return an object providing a view on the dict's values.\n",
      " |\n",
      " |  ----------------------------------------------------------------------\n",
      " |  Class methods defined here:\n",
      " |\n",
      " |  __class_getitem__(object, /)\n",
      " |      See PEP 585\n",
      " |\n",
      " |  fromkeys(iterable, value=None, /)\n",
      " |      Create a new dictionary with keys from iterable and values set to value.\n",
      " |\n",
      " |  ----------------------------------------------------------------------\n",
      " |  Static methods defined here:\n",
      " |\n",
      " |  __new__(*args, **kwargs)\n",
      " |      Create and return a new object.  See help(type) for accurate signature.\n",
      " |\n",
      " |  ----------------------------------------------------------------------\n",
      " |  Data and other attributes defined here:\n",
      " |\n",
      " |  __hash__ = None\n",
      "\n"
     ]
    }
   ],
   "source": [
    "help(dict)\n"
   ]
  },
  {
   "cell_type": "code",
   "execution_count": 49,
   "id": "a5cc4740",
   "metadata": {},
   "outputs": [
    {
     "data": {
      "text/plain": [
       "[0, 1, 2, 3, 4, 5, 6, 7, 8, 9]"
      ]
     },
     "execution_count": 49,
     "metadata": {},
     "output_type": "execute_result"
    }
   ],
   "source": [
    "list(range(0,10))"
   ]
  },
  {
   "cell_type": "code",
   "execution_count": 52,
   "id": "768bcfa9",
   "metadata": {},
   "outputs": [
    {
     "name": "stdout",
     "output_type": "stream",
     "text": [
      "0\n",
      "2\n",
      "4\n",
      "6\n",
      "8\n",
      "10\n",
      "12\n",
      "14\n",
      "16\n",
      "18\n",
      "20\n",
      "22\n",
      "24\n",
      "26\n",
      "28\n"
     ]
    }
   ],
   "source": [
    "for i in range (0,30,2):\n",
    "    print(i)"
   ]
  },
  {
   "cell_type": "code",
   "execution_count": 55,
   "id": "6c34a500",
   "metadata": {},
   "outputs": [
    {
     "name": "stdout",
     "output_type": "stream",
     "text": [
      "10\n",
      "8\n",
      "6\n",
      "4\n",
      "2\n"
     ]
    }
   ],
   "source": [
    "for i in range (10 , 1, -2):\n",
    "    print(i)"
   ]
  },
  {
   "cell_type": "code",
   "execution_count": null,
   "id": "4339c813",
   "metadata": {},
   "outputs": [],
   "source": [
    "output={}\n",
    "index = 0 \n",
    "for i in range.value:\n",
    "    output.update({i:index})\n",
    "    index += 1\n",
    "print(outpt)j"
   ]
  }
 ],
 "metadata": {
  "kernelspec": {
   "display_name": "Python 3",
   "language": "python",
   "name": "python3"
  },
  "language_info": {
   "codemirror_mode": {
    "name": "ipython",
    "version": 3
   },
   "file_extension": ".py",
   "mimetype": "text/x-python",
   "name": "python",
   "nbconvert_exporter": "python",
   "pygments_lexer": "ipython3",
   "version": "3.13.3"
  }
 },
 "nbformat": 4,
 "nbformat_minor": 5
}
