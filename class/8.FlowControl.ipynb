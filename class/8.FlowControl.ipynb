{
 "cells": [
  {
   "cell_type": "code",
   "execution_count": null,
   "id": "0481ea83",
   "metadata": {},
   "outputs": [
    {
     "name": "stdout",
     "output_type": "stream",
     "text": [
      "Autorized\n",
      "Hello\n"
     ]
    }
   ],
   "source": [
    "# if else\n",
    "age = 17 \n",
    "if age> 16:\n",
    "    print('Autorized') # indentation\n",
    "print(\"Hello\")"
   ]
  },
  {
   "cell_type": "code",
   "execution_count": null,
   "id": "47f5489f",
   "metadata": {},
   "outputs": [
    {
     "name": "stdout",
     "output_type": "stream",
     "text": [
      "hello\n"
     ]
    }
   ],
   "source": [
    "age = 17 \n",
    "if age >=18:\n",
    "    print('Authorized')\n",
    "    print('hi')\n",
    "\n",
    "print('hello'\n",
    ")"
   ]
  },
  {
   "cell_type": "code",
   "execution_count": null,
   "id": "ea034cf9",
   "metadata": {},
   "outputs": [
    {
     "name": "stdout",
     "output_type": "stream",
     "text": [
      "your age is : 11\n",
      "Your are UnAuthorized\n"
     ]
    }
   ],
   "source": [
    "#only if statement  yeasma chai sabai check garch ans aayea pani \n",
    "age = int(input('enter your age'))\n",
    "if age >=18: \n",
    "    print(f'your age is :',age)\n",
    "    print(\"Your are Authorized\")\n",
    "if age <18:\n",
    "    print(f'your age is :',age)\n",
    "    print(\"Your are UnAuthorized\")"
   ]
  },
  {
   "cell_type": "code",
   "execution_count": null,
   "id": "27968d57",
   "metadata": {},
   "outputs": [
    {
     "name": "stdout",
     "output_type": "stream",
     "text": [
      "x and y are equal \n"
     ]
    }
   ],
   "source": [
    "# greatest\n",
    "x = int(input('Enter the value of x :'))\n",
    "y = int(input('Enter the value of y :'))\n",
    "if x > y : \n",
    "    print(f'x is {x} and Y is {y} so x is greater ')\n",
    "    \n",
    "if y > x:\n",
    "    print(f'x is {x} and Y is {y} so y is greater ')\n",
    "\n",
    "if x == y :\n",
    "    print('x and y are equal ')\n",
    "\n",
    "\n",
    "\n"
   ]
  },
  {
   "cell_type": "code",
   "execution_count": null,
   "id": "c208107a",
   "metadata": {},
   "outputs": [
    {
     "name": "stdout",
     "output_type": "stream",
     "text": [
      "your age is : 11\n",
      "Your are UnAuthorized\n"
     ]
    }
   ],
   "source": [
    "#else if \n",
    "age = int(input('enter your age'))\n",
    "if age >=18: \n",
    "    print(f'your age is :',age)\n",
    "    print(\"Your are Authorized\")\n",
    "else:\n",
    "    print(f'your age is :',age)\n",
    "    print(\"Your are UnAuthorized\")"
   ]
  },
  {
   "cell_type": "code",
   "execution_count": 1,
   "id": "143581df",
   "metadata": {},
   "outputs": [
    {
     "name": "stdout",
     "output_type": "stream",
     "text": [
      "x is 11 and Y is 1 so x is greater \n"
     ]
    }
   ],
   "source": [
    "# elif yesma chai ans aayo vanea aaru ma check gardaina\n",
    "x = int(input('Enter the value of x :'))\n",
    "y = int(input('Enter the value of y :'))\n",
    "if x > y : \n",
    "    print(f'x is {x} and Y is {y} so x is greater ')\n",
    "    \n",
    "elif y > x:\n",
    "    print(f'x is {x} and Y is {y} so y is greater ')\n",
    "\n",
    "else :\n",
    "    print('x and y are equal ')"
   ]
  },
  {
   "cell_type": "code",
   "execution_count": null,
   "id": "4b86d979",
   "metadata": {},
   "outputs": [
    {
     "name": "stdout",
     "output_type": "stream",
     "text": [
      "Final Hello\n"
     ]
    }
   ],
   "source": [
    "# harek ma check gardai aaucha true aayo \n",
    "if False:\n",
    "    print('hello1')\n",
    "elif False:\n",
    "    print('hello2')\n",
    "elif False:\n",
    "    print('hello3')   \n",
    "else:\n",
    "    print(\"Final Hello\")\n"
   ]
  },
  {
   "cell_type": "code",
   "execution_count": null,
   "id": "644557c8",
   "metadata": {},
   "outputs": [],
   "source": [
    "if False:\n",
    "    print('hello1')\n",
    "elif False:\n",
    "    print('hello2')\n",
    "elif False:\n",
    "    print('hello3')"
   ]
  },
  {
   "cell_type": "code",
   "execution_count": null,
   "id": "260d4855",
   "metadata": {},
   "outputs": [
    {
     "name": "stdout",
     "output_type": "stream",
     "text": [
      "hello0\n",
      "hello2\n",
      "hello3\n"
     ]
    }
   ],
   "source": [
    "if True:\n",
    "    print('hello0')\n",
    "\n",
    "if False:\n",
    "    print('hello1')\n",
    "else:\n",
    "    print('hello2')\n",
    "\n",
    "if True:\n",
    "    print('hello3')    \n",
    "elif False:\n",
    "    print('hello4')"
   ]
  },
  {
   "cell_type": "code",
   "execution_count": null,
   "id": "be9544c8",
   "metadata": {},
   "outputs": [],
   "source": [
    "if False:\n",
    "    print(\"hello1 \")\n",
    "\n",
    "if True:\n",
    "    print(\"hello2 \")\n",
    "elif True:\n",
    "    print(\"hello13 \")\n",
    "\n",
    "if True:\n",
    "    print(\"hello4 \")\n",
    "else :\n",
    "    print(\"hello5 \")\n",
    "\n"
   ]
  },
  {
   "cell_type": "code",
   "execution_count": null,
   "id": "e9916eb1",
   "metadata": {},
   "outputs": [
    {
     "name": "stdout",
     "output_type": "stream",
     "text": [
      "hello2 \n",
      "hello 3\n",
      "hello 8\n"
     ]
    }
   ],
   "source": [
    "if False:\n",
    "    print(\"hello1 \")\n",
    "\n",
    "if True:\n",
    "    print(\"hello2 \")\n",
    "\n",
    "if True:\n",
    "    print(\"hello 3\")\n",
    "elif True:\n",
    "    print(\"hello1 4 \")\n",
    "else:\n",
    "    print (\"hello 5\")\n",
    "\n",
    "if False:\n",
    "    print(\"hello 6\")\n",
    "elif False:\n",
    "    print(\"hello1 7 \")\n",
    "else:\n",
    "    print (\"hello 8\")\n"
   ]
  },
  {
   "cell_type": "code",
   "execution_count": null,
   "id": "7c5d17cc",
   "metadata": {},
   "outputs": [
    {
     "name": "stdout",
     "output_type": "stream",
     "text": [
      "incorrect password\n"
     ]
    }
   ],
   "source": [
    "# task \n",
    "username = input(\"Enter Username\")\n",
    "password = input(\"Enter Password\")\n",
    "if username == \"admin\" and password == \"admin123\":\n",
    "    print(\"correct username and password\")\n",
    "else : \n",
    "    print(\"Incorrect password\")\n",
    "\n"
   ]
  },
  {
   "cell_type": "code",
   "execution_count": null,
   "id": "3fc203bd",
   "metadata": {},
   "outputs": [
    {
     "name": "stdout",
     "output_type": "stream",
     "text": [
      "Successfully logged in \n"
     ]
    }
   ],
   "source": [
    "#  task \n",
    "username = input(\"Enter Username\")\n",
    "password = input(\"Enter Password\")\n",
    "secret = int(input(\"Enter Pin\"))\n",
    "if username == \"admin\" and password == \"admin123\":\n",
    "    print(\"Successfully logged in\")\n",
    "elif secret == 9900:\n",
    "    print(\"Successfully logged in \")\n",
    "else : \n",
    "    print(\"Cannot Login\")\n",
    "\n",
    "# alternative way \n",
    "if ((username == \"admin\" and password == \"admin123\")or secret==9900):\n",
    "    print(\"Successfully logged in\")\n",
    "else : \n",
    "    print(\"Cannot Login\")\n",
    "\n"
   ]
  },
  {
   "cell_type": "code",
   "execution_count": null,
   "id": "f5640890",
   "metadata": {},
   "outputs": [
    {
     "name": "stdout",
     "output_type": "stream",
     "text": [
      "Cannot Login\n"
     ]
    }
   ],
   "source": [
    "#  task \n",
    "username = input(\"Enter Username\")\n",
    "password = input(\"Enter Password\")\n",
    "\n",
    "if username == \"admin\" and password == \"admin123\":\n",
    "    print(\"Successfully logged in\")\n",
    "elif username != \"admin\" and password != \"admin123\":\n",
    "    secret = int(input(\"Enter Pin\"))\n",
    "    if secret == 9900:\n",
    "        print(\"Successfully logged in \")\n",
    "    else:\n",
    "        print(\"Wrong secret pin\")\n",
    "\n",
    "else:\n",
    "    print(\"Cannot Login\")\n",
    "    \n"
   ]
  },
  {
   "cell_type": "code",
   "execution_count": null,
   "id": "0c523a70",
   "metadata": {},
   "outputs": [
    {
     "name": "stdout",
     "output_type": "stream",
     "text": [
      "Successfully logged in\n"
     ]
    }
   ],
   "source": [
    "username = input(\"Enter Username: \")\n",
    "password = input(\"Enter Password: \")\n",
    "\n",
    "if username == \"admin\" and password == \"admin123\":\n",
    "    print(\"Successfully logged in\")\n",
    "\n",
    "elif username != \"admin\" and password != \"admin123\":\n",
    "    secret = int(input(\"Enter Pin: \"))\n",
    "    if secret == 9900:\n",
    "        print(\"Successfully logged in\")\n",
    "    else:\n",
    "        print(\"Wrong secret pin\")\n",
    "\n",
    "else:\n",
    "    print(\"Cannot Login\")\n"
   ]
  },
  {
   "cell_type": "code",
   "execution_count": 2,
   "id": "337ec6dc",
   "metadata": {},
   "outputs": [
    {
     "name": "stdout",
     "output_type": "stream",
     "text": [
      "your marks is \n",
      "Third division\n"
     ]
    }
   ],
   "source": [
    "sub1 = int(input('Marks Obtained in sub1'))\n",
    "sub2 = int(input('Marks Obtained in sub2'))\n",
    "sub3 = int(input('Marks Obtained in sub1'))\n",
    "sub4 = int(input('Marks Obtained in sub1'))\n",
    "sub5 = int(input('Marks Obtained in sub1'))\n",
    "sub6 = int(input('Marks Obtained in sub1'))\n",
    "sub7 = int(input('Marks Obtained in sub1'))\n",
    "sub8 = int(input('Marks Obtained in sub1'))\n",
    "\n",
    "\n",
    "final_marks= (sub1+sub2+sub3+sub4+sub5+sub6+sub7+sub8)/8\n",
    "print(\"your marks is \")\n",
    "if final_marks>=  80:\n",
    "    print(\"distinction\")\n",
    "elif (final_marks>=  60 and final_marks< 80): #last ma yo narakyea pani huncha \n",
    "    print(\"first division\")\n",
    "elif (final_marks>=  50 and final_marks< 60):\n",
    "    print(\"second division\")\n",
    "elif (final_marks>=  35 and final_marks< 50):\n",
    "    print(\"Third division\")\n",
    "else:\n",
    "    print(\"fail\")\n"
   ]
  },
  {
   "cell_type": "code",
   "execution_count": null,
   "id": "aaee0838",
   "metadata": {},
   "outputs": [],
   "source": [
    "\n",
    "sub1 = int(input('Marks Obtained in sub1'))\n",
    "sub2 = int(input('Marks Obtained in sub1'))\n",
    "sub3 = int(input('Marks Obtained in sub1'))\n",
    "sub4 = int(input('Marks Obtained in sub1'))\n",
    "sub5 = int(input('Marks Obtained in sub1'))\n",
    "sub6 = int(input('Marks Obtained in sub1'))\n",
    "sub7 = int(input('Marks Obtained in sub1'))\n",
    "sub8 = int(input('Marks Obtained in sub1'))\n",
    "\n",
    "\n",
    "final_marks= (sub1+sub2+sub3+sub4+sub5+sub6+sub7+sub8)/8\n",
    "if final_marks>=  80:\n",
    "    print(\"distinction\")\n",
    "if (final_marks>=  60 and final_marks< 80): #last ma yo narakyea pani huncha \n",
    "    print(\"first division\")\n",
    "if (final_marks>=  50 and final_marks< 60):\n",
    "    print(\"second division\")\n",
    "if (final_marks>=  35 and final_marks< 50):\n",
    "    print(\"Third division\")\n",
    "else:\n",
    "    print(\"fail\")\n"
   ]
  },
  {
   "cell_type": "code",
   "execution_count": 1,
   "id": "45d784bb",
   "metadata": {},
   "outputs": [
    {
     "name": "stdout",
     "output_type": "stream",
     "text": [
      "Second Division\n"
     ]
    }
   ],
   "source": [
    "s1 = int(input(\"Enter the marks obtained in Subject 1\"))\n",
    "s2 = int(input(\"Enter the marks obtained in Subject 2\"))\n",
    "s3 = int(input(\"Enter the marks obtained in Subject 3\"))\n",
    "s4 = int(input(\"Enter the marks obtained in Subject 4\"))\n",
    "s5 = int(input(\"Enter the marks obtained in Subject 5\"))\n",
    "s6 = int(input(\"Enter the marks obtained in Subject 6\"))\n",
    "s7 = int(input(\"Enter the marks obtained in Subject 7\"))\n",
    "s8 = int(input(\"Enter the marks obtained in Subject 8\"))\n",
    " \n",
    "average = (s1 + s2 + s3 + s4 + s5 + s6 + s7 + s8)/8\n",
    " \n",
    "if average >= 80:\n",
    "    print(\"Distinction\")\n",
    "elif average >= 60:\n",
    "    print(\"First Division\")\n",
    "elif average >= 50:\n",
    "    print(\"Second Division\")\n",
    "elif average >= 35:\n",
    "    print(\"Third Division\")\n",
    "else: \n",
    "    print(\"Fail\")"
   ]
  },
  {
   "cell_type": "code",
   "execution_count": null,
   "id": "64b8fb08",
   "metadata": {},
   "outputs": [],
   "source": [
    "# for loop \n",
    "# Syntax : for variable in sequence:"
   ]
  },
  {
   "cell_type": "code",
   "execution_count": null,
   "id": "687defae",
   "metadata": {},
   "outputs": [
    {
     "name": "stdout",
     "output_type": "stream",
     "text": [
      "1\n",
      "3\n",
      "6\n",
      "10\n",
      "15\n",
      "15\n"
     ]
    }
   ],
   "source": []
  },
  {
   "cell_type": "code",
   "execution_count": 12,
   "id": "19cfcd1f",
   "metadata": {},
   "outputs": [
    {
     "name": "stdout",
     "output_type": "stream",
     "text": [
      "1\n",
      "3\n",
      "6\n",
      "11\n",
      "16\n",
      "16\n"
     ]
    }
   ],
   "source": [
    "x = 1,2,3,5,5\n",
    "i = 0\n",
    "sum = 0 \n",
    "for i in x:\n",
    "    sum += i\n",
    "    print(sum)\n",
    "print(sum)"
   ]
  },
  {
   "cell_type": "code",
   "execution_count": 2,
   "id": "b64c6f3b",
   "metadata": {},
   "outputs": [
    {
     "name": "stdout",
     "output_type": "stream",
     "text": [
      "Incorrect Password\n",
      "Incorrect Password\n",
      "Incorrect Password\n",
      "Incorrect Password\n",
      "correct password\n"
     ]
    }
   ],
   "source": [
    "password = 'ritik'\n",
    "enter_password = input('enter password')\n",
    "while password != enter_password:\n",
    "    print('Incorrect Password')\n",
    "    enter_password = input(\"Enter password again \")\n",
    "else:\n",
    "    print('correct password')"
   ]
  },
  {
   "cell_type": "code",
   "execution_count": 1,
   "id": "a395a1e2",
   "metadata": {},
   "outputs": [
    {
     "name": "stdout",
     "output_type": "stream",
     "text": [
      "0 0\n",
      "0 1\n",
      "1 0\n",
      "1 1\n",
      "2 0\n",
      "2 1\n"
     ]
    }
   ],
   "source": [
    "for i in range(3):\n",
    "    for j in range(2):\n",
    "        print(i, j)\n",
    "\n",
    "\n",
    "# 001101201"
   ]
  },
  {
   "cell_type": "code",
   "execution_count": 2,
   "id": "4976604d",
   "metadata": {},
   "outputs": [
    {
     "name": "stdout",
     "output_type": "stream",
     "text": [
      "[1, 4, 9, 16, 25]\n"
     ]
    }
   ],
   "source": [
    "#Taking output in the form of list\n",
    "x = [1,2,3,4,5]\n",
    "output= []  #First mai initiate garyo vanea list ma aaucha \n",
    "#output = [1,4,9,16,25]\n",
    "for i in x:\n",
    "    sum = i **2 \n",
    "    output.append(sum)   # Mathi ko list ma add gardai jani \n",
    "print(output)\n"
   ]
  },
  {
   "cell_type": "code",
   "execution_count": 4,
   "id": "cca3d169",
   "metadata": {},
   "outputs": [
    {
     "name": "stdout",
     "output_type": "stream",
     "text": [
      "['odd', 'Even', 'odd', 'Even', 'odd', 'odd']\n"
     ]
    }
   ],
   "source": [
    "# find even or odd from the list \n",
    "x = [1,2,3,4,5,7]\n",
    "output = []\n",
    "for i in x :\n",
    "    if i % 2 == 0:\n",
    "        output.append(\"Even\")\n",
    "    else:\n",
    "        output.append(\"odd\")\n",
    "   \n",
    "print(output)\n",
    "\n"
   ]
  },
  {
   "cell_type": "code",
   "execution_count": 17,
   "id": "33853eb5",
   "metadata": {},
   "outputs": [
    {
     "name": "stdout",
     "output_type": "stream",
     "text": [
      "i\n",
      "ii\n",
      "iiu\n",
      "iiua\n",
      "iiuaa\n",
      "iiuaai\n",
      "The Number of vowel in given word is : 6\n"
     ]
    }
   ],
   "source": [
    "#Counting the no of vowels present in the string and listing them \n",
    "name = input(\"Enter your name:\")  # Ritik Humagain \n",
    "vowel = \"aeiouAEIOU\"\n",
    "no_vowel = 0\n",
    "all_vowel = \"\"\n",
    "for char in name:\n",
    "    if char in vowel:\n",
    "        all_vowel += char\n",
    "        # all_vowel = \" \".join(char)\n",
    "        no_vowel += 1\n",
    "        print(all_vowel)\n",
    "print(f'The Number of vowel in given word is :',no_vowel) # 6\n",
    "# print(all_vowel)\n",
    "    \n",
    "\n"
   ]
  },
  {
   "cell_type": "code",
   "execution_count": 24,
   "id": "03071f50",
   "metadata": {},
   "outputs": [
    {
     "name": "stdout",
     "output_type": "stream",
     "text": [
      "231\n"
     ]
    }
   ],
   "source": [
    "#Calculating marks from dictionary\n",
    "marks = {\"Alan\":99, \"Bill\":55,\"Cory\":77}\n",
    "sum = 0\n",
    "for i in marks.values():\n",
    "    sum += i\n",
    "print(sum)\n",
    "\n"
   ]
  },
  {
   "cell_type": "code",
   "execution_count": 38,
   "id": "3343db17",
   "metadata": {},
   "outputs": [
    {
     "name": "stdout",
     "output_type": "stream",
     "text": [
      "{'alan': 4, 'bill': 4, 'ramesh': 6, 'corry': 5, 'ram': 3, 'shyam bahadur': 13, 'gita': 4}\n"
     ]
    }
   ],
   "source": [
    "# find leng of an string from dict\n",
    "students = ['alan','bill','ramesh','corry','ram','shyam bahadur','gita']\n",
    "new_students = {}\n",
    "#output=['alan':4,'bill':4,'ramesh':6,'corry':5,'ram':3,'shyam bahadur':13,'gita':4]\n",
    "\n",
    "for string in students:\n",
    "    number = len(string)\n",
    "    new_students.update({string:number})\n",
    "print(new_students)\n",
    "    \n"
   ]
  },
  {
   "cell_type": "code",
   "execution_count": 40,
   "id": "57ac6415",
   "metadata": {},
   "outputs": [
    {
     "name": "stdout",
     "output_type": "stream",
     "text": [
      "{'alan': 0, 'bill': 1, 'ramesh': 2, 'corry': 3, 'ram': 4, 'shyam bahadur': 5, 'gita': 6}\n"
     ]
    }
   ],
   "source": [
    "# find index of an string from dict\n",
    "students = ['alan','bill','ramesh','corry','ram','shyam bahadur','gita']\n",
    "new_students = {}\n",
    "#output=['alan':4,'bill':4,'ramesh':6,'corry':5,'ram':3,'shyam bahadur':13,'gita':4]\n",
    "\n",
    "for string in students:\n",
    "    number = students.index(string)\n",
    "    new_students.update({string:number})\n",
    "print(new_students)\n"
   ]
  },
  {
   "cell_type": "code",
   "execution_count": 41,
   "id": "3278b150",
   "metadata": {},
   "outputs": [
    {
     "data": {
      "text/plain": [
       "range(0, 10)"
      ]
     },
     "execution_count": 41,
     "metadata": {},
     "output_type": "execute_result"
    }
   ],
   "source": [
    "range (0,10)"
   ]
  },
  {
   "cell_type": "code",
   "execution_count": 42,
   "id": "b3b9c131",
   "metadata": {},
   "outputs": [
    {
     "data": {
      "text/plain": [
       "[0, 1, 2, 3, 4, 5, 6, 7, 8, 9]"
      ]
     },
     "execution_count": 42,
     "metadata": {},
     "output_type": "execute_result"
    }
   ],
   "source": [
    "list(range(0,10))"
   ]
  },
  {
   "cell_type": "code",
   "execution_count": 46,
   "id": "6d93e6ce",
   "metadata": {},
   "outputs": [
    {
     "name": "stdout",
     "output_type": "stream",
     "text": [
      "0 1 2 3 4 5 6 7 8 9 "
     ]
    }
   ],
   "source": [
    "for i in range (0,10):\n",
    "    print (i, end=\" \")"
   ]
  },
  {
   "cell_type": "code",
   "execution_count": 47,
   "id": "5588f69f",
   "metadata": {},
   "outputs": [
    {
     "name": "stdout",
     "output_type": "stream",
     "text": [
      "0 2 4 6 8 "
     ]
    }
   ],
   "source": [
    "for i in range (0,10, 2):\n",
    "    print (i, end=\" \")"
   ]
  },
  {
   "cell_type": "code",
   "execution_count": 50,
   "id": "6200b6b2",
   "metadata": {},
   "outputs": [
    {
     "name": "stdout",
     "output_type": "stream",
     "text": [
      "10 9 8 7 6 5 4 3 2 1 "
     ]
    }
   ],
   "source": [
    "for i in range (10, 0, -1):\n",
    "    print (i, end=\" \")"
   ]
  },
  {
   "cell_type": "code",
   "execution_count": 53,
   "id": "9f437527",
   "metadata": {},
   "outputs": [
    {
     "name": "stdout",
     "output_type": "stream",
     "text": [
      "{'alan': 0, 'bill': 1, 'ramesh': 2, 'corry': 3, 'ram': 4, 'shyam bahadur': 5, 'gita': 6}\n"
     ]
    }
   ],
   "source": [
    "# find index of an string from dict\n",
    "students = ['alan','bill','ramesh','corry','ram','shyam bahadur','gita']\n",
    "new_students = {}\n",
    "#output=['alan':4,'bill':4,'ramesh':6,'corry':5,'ram':3,'shyam bahadur':13,'gita':4]\n",
    "\n",
    "for string in range(0,len(students)):\n",
    "    \n",
    "    new_students.update({students[string]:string})\n",
    "print(new_students)\n"
   ]
  },
  {
   "cell_type": "code",
   "execution_count": 71,
   "id": "74c1ca43",
   "metadata": {},
   "outputs": [
    {
     "name": "stdout",
     "output_type": "stream",
     "text": [
      "{'milk': 267.96, 'bread': 343.2, 'butter': 475.2}\n"
     ]
    }
   ],
   "source": [
    "#converting usd into npr \n",
    "us_price = {\"milk\": 2.03, \"bread\":2.6,'butter':3.6}\n",
    "#1 use = npr 132\n",
    "nrs_price = {}\n",
    "for item,usd in us_price.items():\n",
    "    nrp = usd * 132\n",
    "    nrs_price[item]= round(nrp,4)\n",
    "print(nrs_price)\n",
    "    "
   ]
  },
  {
   "cell_type": "code",
   "execution_count": 69,
   "id": "2303ce58",
   "metadata": {},
   "outputs": [
    {
     "name": "stdout",
     "output_type": "stream",
     "text": [
      "{'milk': 267.96, 'bread': 343.2, 'butter': 475.2}\n"
     ]
    }
   ],
   "source": [
    "#converting usd into npr  2nd method\n",
    "us_price = {\"milk\": 2.03, \"bread\":2.6,'butter':3.6}\n",
    "#1 use = npr 132\n",
    "nrs_price = {}\n",
    "for item,usd in us_price.items():\n",
    "    nrs_price.update({item:usd*132})\n",
    "print(nrs_price)\n"
   ]
  },
  {
   "cell_type": "code",
   "execution_count": 72,
   "id": "814c5427",
   "metadata": {},
   "outputs": [
    {
     "name": "stdout",
     "output_type": "stream",
     "text": [
      "{'milk': 302.7948, 'bread': 387.816, 'butter': 536.976}\n"
     ]
    }
   ],
   "source": [
    "# add 13% tax and calculate nepali price\n",
    "us_price = {\"milk\": 2.03, \"bread\":2.6,'butter':3.6}\n",
    "nrs_price_vat = {}\n",
    "for k,v in us_price.items():\n",
    "    value = v * 132\n",
    "    value_with_vat = value*(13/100)+value\n",
    "    nrs_price_vat.update({k:value_with_vat})\n",
    "print(nrs_price_vat)"
   ]
  },
  {
   "cell_type": "code",
   "execution_count": 74,
   "id": "495c5408",
   "metadata": {},
   "outputs": [
    {
     "name": "stdout",
     "output_type": "stream",
     "text": [
      "{'milk': 302.7948, 'bread': 387.816, 'butter': 536.976}\n"
     ]
    }
   ],
   "source": [
    "# add 13% tax and calculate nepali price 2nd method \n",
    "us_price = {\"milk\": 2.03, \"bread\":2.6,'butter':3.6}\n",
    "nrs_price_vat1 = {}\n",
    "for k,v in us_price.items():\n",
    "    value = v * 132\n",
    "    value_with_vat = value*(13/100)+value\n",
    "    nrs_price_vat1[k]= value_with_vat\n",
    "print(nrs_price_vat1)"
   ]
  },
  {
   "cell_type": "code",
   "execution_count": 79,
   "id": "2d6533e6",
   "metadata": {},
   "outputs": [
    {
     "name": "stdout",
     "output_type": "stream",
     "text": [
      "{'milk': 302.79479999999995, 'bread': 387.816, 'iphone': 158241.6, 'butter': 536.9759999999999, 'meat': 792.0, 'mobile': 79200.0, 'laptop': 158400.0, 'television': 53856.0}\n"
     ]
    }
   ],
   "source": [
    "us_price = {\n",
    "    'milk': 2.03,\n",
    "    'bread':2.6,\n",
    "    'iphone': 999,\n",
    "    'butter': 3.6,\n",
    "    'meat': 5,\n",
    "    'mobile':500,\n",
    "    'laptop':1000,\n",
    "    'television':340\n",
    "}\n",
    "np_price= {}\n",
    "for k,v in us_price.items():\n",
    "    if v >= 5:\n",
    "        v = v*132*1.20\n",
    "        np_price[k]=v\n",
    "\n",
    "    else :\n",
    "        v = v*132*1.13\n",
    "        np_price.update({k:v})\n",
    "print(np_price)\n",
    "    \n",
    "\n"
   ]
  },
  {
   "cell_type": "code",
   "execution_count": 84,
   "id": "15bfb333",
   "metadata": {},
   "outputs": [
    {
     "name": "stdout",
     "output_type": "stream",
     "text": [
      "hello world\n"
     ]
    }
   ],
   "source": [
    "#pass , continue , break \n",
    "age = 17 \n",
    "if age < 18 :\n",
    "    pass  # pass vannna le aahilea code kehi pani chaina \n",
    "print('hello world')\n"
   ]
  },
  {
   "cell_type": "code",
   "execution_count": null,
   "id": "c53f3a08",
   "metadata": {},
   "outputs": [],
   "source": [
    "x = [1,2,3,4,5,6]\n",
    "for i in x :\n",
    "    pass"
   ]
  },
  {
   "cell_type": "code",
   "execution_count": 95,
   "id": "4a6a4c61",
   "metadata": {},
   "outputs": [
    {
     "name": "stdout",
     "output_type": "stream",
     "text": [
      "30\n"
     ]
    }
   ],
   "source": [
    "x = (1,2,6,8,9,6,10)\n",
    "sum = 0 \n",
    "\n",
    "for i in x :\n",
    "    if i == 6 :\n",
    "        pass\n",
    "    else:\n",
    "        sum += i\n",
    "print(sum)\n"
   ]
  },
  {
   "cell_type": "code",
   "execution_count": 98,
   "id": "170997e4",
   "metadata": {},
   "outputs": [
    {
     "name": "stdout",
     "output_type": "stream",
     "text": [
      "42\n"
     ]
    }
   ],
   "source": [
    "# pass ko kam keahi hudaina \n",
    "x = (1,2,6,8,9,6,10)\n",
    "sum = 0 \n",
    "\n",
    "for i in x :\n",
    "    if i == 6 :\n",
    "        pass\n",
    "    \n",
    "    sum += i\n",
    "print(sum)"
   ]
  },
  {
   "cell_type": "code",
   "execution_count": 99,
   "id": "425560bd",
   "metadata": {},
   "outputs": [
    {
     "name": "stdout",
     "output_type": "stream",
     "text": [
      "30\n"
     ]
    }
   ],
   "source": [
    "#continue\n",
    "# jun item le teo skip garyera sidai feari code run garcha \n",
    "# skip the currently iterated item \n",
    "# does not run anything after continue \n",
    "# and jumps to next ite m\n",
    "x = (1,2,6,8,9,6,10)\n",
    "sum = 0 \n",
    "\n",
    "for i in x :\n",
    "    if i == 6 :\n",
    "        continue\n",
    "    \n",
    "    sum += i\n",
    "print(sum)"
   ]
  },
  {
   "cell_type": "code",
   "execution_count": 100,
   "id": "40903751",
   "metadata": {},
   "outputs": [
    {
     "name": "stdout",
     "output_type": "stream",
     "text": [
      "3\n"
     ]
    }
   ],
   "source": [
    "# Break\n",
    "x = (1,2,6,8,9,6,10)\n",
    "sum = 0 \n",
    "\n",
    "for i in x :\n",
    "    if i == 6 :\n",
    "        break # terminate exit from current loop\n",
    "    \n",
    "    sum += i\n",
    "print(sum)"
   ]
  },
  {
   "cell_type": "code",
   "execution_count": 101,
   "id": "970299b1",
   "metadata": {},
   "outputs": [
    {
     "name": "stdout",
     "output_type": "stream",
     "text": [
      "ram  eats momo\n",
      "ram  eats chowmein\n",
      "ram  eats thukpa\n",
      "shyam eats momo\n",
      "shyam eats chowmein\n",
      "shyam eats thukpa\n",
      "gita eats momo\n",
      "gita eats chowmein\n",
      "gita eats thukpa\n",
      "sita eats momo\n",
      "sita eats chowmein\n",
      "sita eats thukpa\n"
     ]
    }
   ],
   "source": [
    "#Nested loop \n",
    "name = 'ram ','shyam','gita','sita'\n",
    "food = 'momo','chowmein','thukpa'\n",
    "for i in name:\n",
    "    for j in food:\n",
    "        print(f'{i} eats {j}')\n",
    "\n"
   ]
  },
  {
   "cell_type": "code",
   "execution_count": 102,
   "id": "a9574abe",
   "metadata": {},
   "outputs": [
    {
     "name": "stdout",
     "output_type": "stream",
     "text": [
      "ram\n",
      "shyam\n",
      "gita\n",
      "sita\n"
     ]
    }
   ],
   "source": [
    "#while loop \n",
    "name = 'ram','shyam','gita','sita'\n",
    "i = 0   # initializer\n",
    "while i < len(name):  #Condition\n",
    "    print(name[i])\n",
    "    i  += 1   # increment / decrement\n"
   ]
  },
  {
   "cell_type": "code",
   "execution_count": 114,
   "id": "5b59351c",
   "metadata": {},
   "outputs": [
    {
     "name": "stdout",
     "output_type": "stream",
     "text": [
      "10\n"
     ]
    }
   ],
   "source": [
    "#while loop\n",
    "# for for loops \n",
    "# finite iteration\n",
    "#if yu know how many times you are iterating\n",
    "\n",
    "#why while loop \n",
    "# infinite iterarion \n",
    "# if you dont know how many times you are iteratin \n",
    "number = 1,2,3,4\n",
    "i = 0 \n",
    "sum = 0\n",
    "while i < len(number):\n",
    "    sum += number[i] \n",
    "    i += 1\n",
    "print(sum)"
   ]
  },
  {
   "cell_type": "code",
   "execution_count": 120,
   "id": "0123626e",
   "metadata": {},
   "outputs": [
    {
     "name": "stdout",
     "output_type": "stream",
     "text": [
      "welcome\n"
     ]
    }
   ],
   "source": [
    "age = int(input('enter the your age'))\n",
    "# i = 0 \n",
    "while age < 18:\n",
    "    \n",
    "    age = int(input('enter the your age'))\n",
    "    # i+= 1\n",
    "    # print('welcome')\n",
    "print('welcome') "
   ]
  },
  {
   "cell_type": "code",
   "execution_count": null,
   "id": "0700a457",
   "metadata": {},
   "outputs": [],
   "source": [
    "x = 1 \n",
    "y"
   ]
  }
 ],
 "metadata": {
  "kernelspec": {
   "display_name": "Python 3",
   "language": "python",
   "name": "python3"
  },
  "language_info": {
   "codemirror_mode": {
    "name": "ipython",
    "version": 3
   },
   "file_extension": ".py",
   "mimetype": "text/x-python",
   "name": "python",
   "nbconvert_exporter": "python",
   "pygments_lexer": "ipython3",
   "version": "3.13.3"
  }
 },
 "nbformat": 4,
 "nbformat_minor": 5
}
