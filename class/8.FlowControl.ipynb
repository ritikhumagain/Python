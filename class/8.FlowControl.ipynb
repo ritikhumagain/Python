{
 "cells": [
  {
   "cell_type": "code",
   "execution_count": 2,
   "id": "0481ea83",
   "metadata": {},
   "outputs": [
    {
     "name": "stdout",
     "output_type": "stream",
     "text": [
      "Autorized\n",
      "Hello\n"
     ]
    }
   ],
   "source": [
    "# if else\n",
    "age = 17 \n",
    "if age> 16:\n",
    "    print('Autorized') # indentation\n",
    "print(\"Hello\")"
   ]
  },
  {
   "cell_type": "code",
   "execution_count": 3,
   "id": "47f5489f",
   "metadata": {},
   "outputs": [
    {
     "name": "stdout",
     "output_type": "stream",
     "text": [
      "hello\n"
     ]
    }
   ],
   "source": [
    "age = 17 \n",
    "if age >=18:\n",
    "    print('Authorized')\n",
    "    print('hi')\n",
    "\n",
    "print('hello'\n",
    ")"
   ]
  },
  {
   "cell_type": "code",
   "execution_count": 20,
   "id": "ea034cf9",
   "metadata": {},
   "outputs": [
    {
     "name": "stdout",
     "output_type": "stream",
     "text": [
      "your age is : 11\n",
      "Your are UnAuthorized\n"
     ]
    }
   ],
   "source": [
    "#only if statement  yeasma chai sabai check garch ans aayea pani \n",
    "age = int(input('enter your age'))\n",
    "if age >=18: \n",
    "    print(f'your age is :',age)\n",
    "    print(\"Your are Authorized\")\n",
    "if age <18:\n",
    "    print(f'your age is :',age)\n",
    "    print(\"Your are UnAuthorized\")"
   ]
  },
  {
   "cell_type": "code",
   "execution_count": 17,
   "id": "27968d57",
   "metadata": {},
   "outputs": [
    {
     "name": "stdout",
     "output_type": "stream",
     "text": [
      "x and y are equal \n"
     ]
    }
   ],
   "source": [
    "# greatest\n",
    "x = int(input('Enter the value of x :'))\n",
    "y = int(input('Enter the value of y :'))\n",
    "if x > y : \n",
    "    print(f'x is {x} and Y is {y} so x is greater ')\n",
    "    \n",
    "if y > x:\n",
    "    print(f'x is {x} and Y is {y} so y is greater ')\n",
    "\n",
    "if x == y :\n",
    "    print('x and y are equal ')\n",
    "\n",
    "\n",
    "\n"
   ]
  },
  {
   "cell_type": "code",
   "execution_count": 19,
   "id": "c208107a",
   "metadata": {},
   "outputs": [
    {
     "name": "stdout",
     "output_type": "stream",
     "text": [
      "your age is : 11\n",
      "Your are UnAuthorized\n"
     ]
    }
   ],
   "source": [
    "#else if \n",
    "age = int(input('enter your age'))\n",
    "if age >=18: \n",
    "    print(f'your age is :',age)\n",
    "    print(\"Your are Authorized\")\n",
    "else:\n",
    "    print(f'your age is :',age)\n",
    "    print(\"Your are UnAuthorized\")"
   ]
  },
  {
   "cell_type": "code",
   "execution_count": 22,
   "id": "143581df",
   "metadata": {},
   "outputs": [
    {
     "name": "stdout",
     "output_type": "stream",
     "text": [
      "x is 11 and Y is 12 so y is greater \n"
     ]
    }
   ],
   "source": [
    "# elif yesma chai ans aayo vanea aaru ma check gardaina\n",
    "x = int(input('Enter the value of x :'))\n",
    "y = int(input('Enter the value of y :'))\n",
    "if x > y : \n",
    "    print(f'x is {x} and Y is {y} so x is greater ')\n",
    "    \n",
    "elif y > x:\n",
    "    print(f'x is {x} and Y is {y} so y is greater ')\n",
    "\n",
    "else :\n",
    "    print('x and y are equal ')"
   ]
  },
  {
   "cell_type": "code",
   "execution_count": null,
   "id": "4b86d979",
   "metadata": {},
   "outputs": [
    {
     "name": "stdout",
     "output_type": "stream",
     "text": [
      "Final Hello\n"
     ]
    }
   ],
   "source": [
    "# harek ma check gardai aaucha true aayo \n",
    "if False:\n",
    "    print('hello1')\n",
    "elif False:\n",
    "    print('hello2')\n",
    "elif False:\n",
    "    print('hello3')   \n",
    "else:\n",
    "    print(\"Final Hello\")\n"
   ]
  },
  {
   "cell_type": "code",
   "execution_count": 26,
   "id": "644557c8",
   "metadata": {},
   "outputs": [],
   "source": [
    "if False:\n",
    "    print('hello1')\n",
    "elif False:\n",
    "    print('hello2')\n",
    "elif False:\n",
    "    print('hello3')"
   ]
  },
  {
   "cell_type": "code",
   "execution_count": 29,
   "id": "260d4855",
   "metadata": {},
   "outputs": [
    {
     "name": "stdout",
     "output_type": "stream",
     "text": [
      "hello0\n",
      "hello2\n",
      "hello3\n"
     ]
    }
   ],
   "source": [
    "if True:\n",
    "    print('hello0')\n",
    "\n",
    "if False:\n",
    "    print('hello1')\n",
    "else:\n",
    "    print('hello2')\n",
    "\n",
    "if True:\n",
    "    print('hello3')    \n",
    "elif False:\n",
    "    print('hello4')"
   ]
  },
  {
   "cell_type": "code",
   "execution_count": null,
   "id": "be9544c8",
   "metadata": {},
   "outputs": [],
   "source": [
    "if False:\n",
    "    print(\"hello1 \")\n",
    "\n",
    "if True:\n",
    "    print(\"hello2 \")\n",
    "elif true:\n",
    "    print(\"hello13 \")\n",
    "\n",
    "if True:\n",
    "    print(\"hello4 \")\n",
    "else :\n",
    "    print(\"hello5 \")\n",
    "\n"
   ]
  },
  {
   "cell_type": "code",
   "execution_count": 2,
   "id": "e9916eb1",
   "metadata": {},
   "outputs": [
    {
     "name": "stdout",
     "output_type": "stream",
     "text": [
      "hello2 \n",
      "hello 3\n",
      "hello 8\n"
     ]
    }
   ],
   "source": [
    "if False:\n",
    "    print(\"hello1 \")\n",
    "\n",
    "if True:\n",
    "    print(\"hello2 \")\n",
    "\n",
    "if True:\n",
    "    print(\"hello 3\")\n",
    "elif True:\n",
    "    print(\"hello1 4 \")\n",
    "else:\n",
    "    print (\"hello 5\")\n",
    "\n",
    "if False:\n",
    "    print(\"hello 6\")\n",
    "elif False:\n",
    "    print(\"hello1 7 \")\n",
    "else:\n",
    "    print (\"hello 8\")\n"
   ]
  },
  {
   "cell_type": "code",
   "execution_count": 7,
   "id": "7c5d17cc",
   "metadata": {},
   "outputs": [
    {
     "name": "stdout",
     "output_type": "stream",
     "text": [
      "incorrect password\n"
     ]
    }
   ],
   "source": [
    "# task \n",
    "username = input(\"Enter Username\")\n",
    "password = input(\"Enter Password\")\n",
    "if username == \"admin\" and password == \"admin123\":\n",
    "    print(\"correct username and password\")\n",
    "else : \n",
    "    print(\"Incorrect password\")\n",
    "\n"
   ]
  },
  {
   "cell_type": "code",
   "execution_count": null,
   "id": "3fc203bd",
   "metadata": {},
   "outputs": [
    {
     "name": "stdout",
     "output_type": "stream",
     "text": [
      "Successfully logged in \n"
     ]
    }
   ],
   "source": [
    "#  task \n",
    "username = input(\"Enter Username\")\n",
    "password = input(\"Enter Password\")\n",
    "secret = int(input(\"Enter Pin\"))\n",
    "if username == \"admin\" and password == \"admin123\":\n",
    "    print(\"Successfully logged in\")\n",
    "elif secret == 9900:\n",
    "    print(\"Successfully logged in \")\n",
    "else : \n",
    "    print(\"Cannot Login\")\n",
    "\n",
    "# alternative way \n",
    "if ((username == \"admin\" and password == \"admin123\")or secret==9900):\n",
    "    print(\"Successfully logged in\")\n",
    "else : \n",
    "    print(\"Cannot Login\")\n",
    "\n"
   ]
  },
  {
   "cell_type": "code",
   "execution_count": 25,
   "id": "f5640890",
   "metadata": {},
   "outputs": [
    {
     "name": "stdout",
     "output_type": "stream",
     "text": [
      "Cannot Login\n"
     ]
    }
   ],
   "source": [
    "#  task \n",
    "username = input(\"Enter Username\")\n",
    "password = input(\"Enter Password\")\n",
    "\n",
    "if username == \"admin\" and password == \"admin123\":\n",
    "    print(\"Successfully logged in\")\n",
    "elif username != \"admin\" and password != \"admin123\":\n",
    "    secret = int(input(\"Enter Pin\"))\n",
    "    if secret == 9900:\n",
    "        print(\"Successfully logged in \")\n",
    "    else:\n",
    "        print(\"Wrong secret pin\")\n",
    "\n",
    "else:\n",
    "    print(\"Cannot Login\")\n",
    "    \n"
   ]
  },
  {
   "cell_type": "code",
   "execution_count": 24,
   "id": "0c523a70",
   "metadata": {},
   "outputs": [
    {
     "name": "stdout",
     "output_type": "stream",
     "text": [
      "Successfully logged in\n"
     ]
    }
   ],
   "source": [
    "username = input(\"Enter Username: \")\n",
    "password = input(\"Enter Password: \")\n",
    "\n",
    "if username == \"admin\" and password == \"admin123\":\n",
    "    print(\"Successfully logged in\")\n",
    "\n",
    "elif username != \"admin\" and password != \"admin123\":\n",
    "    secret = int(input(\"Enter Pin: \"))\n",
    "    if secret == 9900:\n",
    "        print(\"Successfully logged in\")\n",
    "    else:\n",
    "        print(\"Wrong secret pin\")\n",
    "\n",
    "else:\n",
    "    print(\"Cannot Login\")\n"
   ]
  },
  {
   "cell_type": "code",
   "execution_count": null,
   "id": "337ec6dc",
   "metadata": {},
   "outputs": [],
   "source": [
    "sub1 = int(input('Marks Obtained in sub1'))\n",
    "sub2 = int(input('Marks Obtained in sub1'))\n",
    "sub3 = int(input('Marks Obtained in sub1'))\n",
    "sub4 = int(input('Marks Obtained in sub1'))\n",
    "sub5 = int(input('Marks Obtained in sub1'))\n",
    "sub6 = int(input('Marks Obtained in sub1'))\n",
    "sub7 = int(input('Marks Obtained in sub1'))\n",
    "sub8 = int(input('Marks Obtained in sub1'))\n",
    "\n",
    "\n",
    "final_marks= (sub1+sub2+sub3+sub4+sub5+sub6+sub7+sub8)/8\n",
    "print(\"your marks is \")\n",
    "if final_marks>=  80:\n",
    "    print(\"distinction\")\n",
    "elif (final_marks>=  60 and final_marks< 80): #last ma yo narakyea pani huncha \n",
    "    print(\"first division\")\n",
    "elif (final_marks>=  50 and final_marks< 60):\n",
    "    print(\"second division\")\n",
    "elif (final_marks>=  35 and final_marks< 50):\n",
    "    print(\"Third division\")\n",
    "else:\n",
    "    print(\"fail\")\n"
   ]
  },
  {
   "cell_type": "code",
   "execution_count": null,
   "id": "aaee0838",
   "metadata": {},
   "outputs": [],
   "source": [
    "\n",
    "sub1 = int(input('Marks Obtained in sub1'))\n",
    "sub2 = int(input('Marks Obtained in sub1'))\n",
    "sub3 = int(input('Marks Obtained in sub1'))\n",
    "sub4 = int(input('Marks Obtained in sub1'))\n",
    "sub5 = int(input('Marks Obtained in sub1'))\n",
    "sub6 = int(input('Marks Obtained in sub1'))\n",
    "sub7 = int(input('Marks Obtained in sub1'))\n",
    "sub8 = int(input('Marks Obtained in sub1'))\n",
    "\n",
    "\n",
    "final_marks= (sub1+sub2+sub3+sub4+sub5+sub6+sub7+sub8)/8\n",
    "if final_marks>=  80:\n",
    "    print(\"distinction\")\n",
    "if (final_marks>=  60 and final_marks< 80): #last ma yo narakyea pani huncha \n",
    "    print(\"first division\")\n",
    "if (final_marks>=  50 and final_marks< 60):\n",
    "    print(\"second division\")\n",
    "if (final_marks>=  35 and final_marks< 50):\n",
    "    print(\"Third division\")\n",
    "else:\n",
    "    print(\"fail\")\n"
   ]
  },
  {
   "cell_type": "code",
   "execution_count": null,
   "id": "45d784bb",
   "metadata": {},
   "outputs": [],
   "source": [
    "s1 = int(input(\"Enter the marks obtained in Subject 1\"))\n",
    "s2 = int(input(\"Enter the marks obtained in Subject 2\"))\n",
    "s3 = int(input(\"Enter the marks obtained in Subject 3\"))\n",
    "s4 = int(input(\"Enter the marks obtained in Subject 4\"))\n",
    "s5 = int(input(\"Enter the marks obtained in Subject 5\"))\n",
    "s6 = int(input(\"Enter the marks obtained in Subject 6\"))\n",
    "s7 = int(input(\"Enter the marks obtained in Subject 7\"))\n",
    "s8 = int(input(\"Enter the marks obtained in Subject 8\"))\n",
    " \n",
    "average = (s1 + s2 + s3 + s4 + s5 + s6 + s7 + s8)/8\n",
    " \n",
    "if average >= 80:\n",
    "    print(\"Distinction\")\n",
    "elif average >= 60:\n",
    "    print(\"First Division\")\n",
    "elif average >= 50:\n",
    "    print(\"Second Division\")\n",
    "elif average >= 35:\n",
    "    print(\"Third Division\")\n",
    "else: \n",
    "    print(\"Fail\")"
   ]
  },
  {
   "cell_type": "code",
   "execution_count": null,
   "id": "64b8fb08",
   "metadata": {},
   "outputs": [],
   "source": []
  }
 ],
 "metadata": {
  "kernelspec": {
   "display_name": "Python 3",
   "language": "python",
   "name": "python3"
  },
  "language_info": {
   "codemirror_mode": {
    "name": "ipython",
    "version": 3
   },
   "file_extension": ".py",
   "mimetype": "text/x-python",
   "name": "python",
   "nbconvert_exporter": "python",
   "pygments_lexer": "ipython3",
   "version": "3.13.3"
  }
 },
 "nbformat": 4,
 "nbformat_minor": 5
}
