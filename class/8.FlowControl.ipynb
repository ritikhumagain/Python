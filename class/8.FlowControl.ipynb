{
 "cells": [
  {
   "cell_type": "code",
   "execution_count": 2,
   "id": "0481ea83",
   "metadata": {},
   "outputs": [
    {
     "name": "stdout",
     "output_type": "stream",
     "text": [
      "Autorized\n",
      "Hello\n"
     ]
    }
   ],
   "source": [
    "# if else\n",
    "age = 17 \n",
    "if age> 16:\n",
    "    print('Autorized') # indentation\n",
    "print(\"Hello\")"
   ]
  },
  {
   "cell_type": "code",
   "execution_count": 3,
   "id": "47f5489f",
   "metadata": {},
   "outputs": [
    {
     "name": "stdout",
     "output_type": "stream",
     "text": [
      "hello\n"
     ]
    }
   ],
   "source": [
    "age = 17 \n",
    "if age >=18:\n",
    "    print('Authorized')\n",
    "    print('hi')\n",
    "\n",
    "print('hello'\n",
    ")"
   ]
  },
  {
   "cell_type": "code",
   "execution_count": null,
   "id": "ea034cf9",
   "metadata": {},
   "outputs": [
    {
     "name": "stdout",
     "output_type": "stream",
     "text": [
      "your age is : 18\n",
      "Your are Authorized\n"
     ]
    }
   ],
   "source": [
    "age = int(input('enter your age'))\n",
    "if age >=18: \n",
    "    print(f'your age is :',age)\n",
    "    print(\"Your are Authorized\")\n",
    "else: print(\"you are unauthorized\")"
   ]
  },
  {
   "cell_type": "code",
   "execution_count": null,
   "id": "27968d57",
   "metadata": {},
   "outputs": [],
   "source": []
  }
 ],
 "metadata": {
  "kernelspec": {
   "display_name": "Python 3",
   "language": "python",
   "name": "python3"
  },
  "language_info": {
   "codemirror_mode": {
    "name": "ipython",
    "version": 3
   },
   "file_extension": ".py",
   "mimetype": "text/x-python",
   "name": "python",
   "nbconvert_exporter": "python",
   "pygments_lexer": "ipython3",
   "version": "3.13.3"
  }
 },
 "nbformat": 4,
 "nbformat_minor": 5
}
