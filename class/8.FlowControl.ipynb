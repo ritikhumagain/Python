{
 "cells": [
  {
   "cell_type": "code",
   "execution_count": 2,
   "id": "0481ea83",
   "metadata": {},
   "outputs": [
    {
     "name": "stdout",
     "output_type": "stream",
     "text": [
      "Autorized\n",
      "Hello\n"
     ]
    }
   ],
   "source": [
    "# if else\n",
    "age = 17 \n",
    "if age> 16:\n",
    "    print('Autorized') # indentation\n",
    "print(\"Hello\")"
   ]
  },
  {
   "cell_type": "code",
   "execution_count": 3,
   "id": "47f5489f",
   "metadata": {},
   "outputs": [
    {
     "name": "stdout",
     "output_type": "stream",
     "text": [
      "hello\n"
     ]
    }
   ],
   "source": [
    "age = 17 \n",
    "if age >=18:\n",
    "    print('Authorized')\n",
    "    print('hi')\n",
    "\n",
    "print('hello'\n",
    ")"
   ]
  },
  {
   "cell_type": "code",
   "execution_count": 20,
   "id": "ea034cf9",
   "metadata": {},
   "outputs": [
    {
     "name": "stdout",
     "output_type": "stream",
     "text": [
      "your age is : 11\n",
      "Your are UnAuthorized\n"
     ]
    }
   ],
   "source": [
    "#only if statement  yeasma chai sabai check garch ans aayea pani \n",
    "age = int(input('enter your age'))\n",
    "if age >=18: \n",
    "    print(f'your age is :',age)\n",
    "    print(\"Your are Authorized\")\n",
    "if age <18:\n",
    "    print(f'your age is :',age)\n",
    "    print(\"Your are UnAuthorized\")"
   ]
  },
  {
   "cell_type": "code",
   "execution_count": 17,
   "id": "27968d57",
   "metadata": {},
   "outputs": [
    {
     "name": "stdout",
     "output_type": "stream",
     "text": [
      "x and y are equal \n"
     ]
    }
   ],
   "source": [
    "# greatest\n",
    "x = int(input('Enter the value of x :'))\n",
    "y = int(input('Enter the value of y :'))\n",
    "if x > y : \n",
    "    print(f'x is {x} and Y is {y} so x is greater ')\n",
    "    \n",
    "if y > x:\n",
    "    print(f'x is {x} and Y is {y} so y is greater ')\n",
    "\n",
    "if x == y :\n",
    "    print('x and y are equal ')\n",
    "\n",
    "\n",
    "\n"
   ]
  },
  {
   "cell_type": "code",
   "execution_count": 19,
   "id": "c208107a",
   "metadata": {},
   "outputs": [
    {
     "name": "stdout",
     "output_type": "stream",
     "text": [
      "your age is : 11\n",
      "Your are UnAuthorized\n"
     ]
    }
   ],
   "source": [
    "#else if \n",
    "age = int(input('enter your age'))\n",
    "if age >=18: \n",
    "    print(f'your age is :',age)\n",
    "    print(\"Your are Authorized\")\n",
    "else:\n",
    "    print(f'your age is :',age)\n",
    "    print(\"Your are UnAuthorized\")"
   ]
  },
  {
   "cell_type": "code",
   "execution_count": 22,
   "id": "143581df",
   "metadata": {},
   "outputs": [
    {
     "name": "stdout",
     "output_type": "stream",
     "text": [
      "x is 11 and Y is 12 so y is greater \n"
     ]
    }
   ],
   "source": [
    "# elif yesma chai ans aayo vanea aaru ma check gardaina\n",
    "x = int(input('Enter the value of x :'))\n",
    "y = int(input('Enter the value of y :'))\n",
    "if x > y : \n",
    "    print(f'x is {x} and Y is {y} so x is greater ')\n",
    "    \n",
    "elif y > x:\n",
    "    print(f'x is {x} and Y is {y} so y is greater ')\n",
    "\n",
    "else :\n",
    "    print('x and y are equal ')"
   ]
  },
  {
   "cell_type": "code",
   "execution_count": null,
   "id": "4b86d979",
   "metadata": {},
   "outputs": [
    {
     "name": "stdout",
     "output_type": "stream",
     "text": [
      "Final Hello\n"
     ]
    }
   ],
   "source": [
    "# harek ma check gardai aaucha true aayo \n",
    "if False:\n",
    "    print('hello1')\n",
    "elif False:\n",
    "    print('hello2')\n",
    "elif False:\n",
    "    print('hello3')   \n",
    "else:\n",
    "    print(\"Final Hello\")\n"
   ]
  },
  {
   "cell_type": "code",
   "execution_count": 26,
   "id": "644557c8",
   "metadata": {},
   "outputs": [],
   "source": [
    "if False:\n",
    "    print('hello1')\n",
    "elif False:\n",
    "    print('hello2')\n",
    "elif False:\n",
    "    print('hello3')"
   ]
  },
  {
   "cell_type": "code",
   "execution_count": 29,
   "id": "260d4855",
   "metadata": {},
   "outputs": [
    {
     "name": "stdout",
     "output_type": "stream",
     "text": [
      "hello0\n",
      "hello2\n",
      "hello3\n"
     ]
    }
   ],
   "source": [
    "if True:\n",
    "    print('hello0')\n",
    "\n",
    "if False:\n",
    "    print('hello1')\n",
    "else:\n",
    "    print('hello2')\n",
    "\n",
    "if True:\n",
    "    print('hello3')    \n",
    "elif False:\n",
    "    print('hello4')"
   ]
  },
  {
   "cell_type": "code",
   "execution_count": null,
   "id": "be9544c8",
   "metadata": {},
   "outputs": [],
   "source": []
  }
 ],
 "metadata": {
  "kernelspec": {
   "display_name": "Python 3",
   "language": "python",
   "name": "python3"
  },
  "language_info": {
   "codemirror_mode": {
    "name": "ipython",
    "version": 3
   },
   "file_extension": ".py",
   "mimetype": "text/x-python",
   "name": "python",
   "nbconvert_exporter": "python",
   "pygments_lexer": "ipython3",
   "version": "3.13.3"
  }
 },
 "nbformat": 4,
 "nbformat_minor": 5
}
