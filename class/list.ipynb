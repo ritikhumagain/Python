{
 "cells": [
  {
   "cell_type": "code",
   "execution_count": 39,
   "id": "ec202225",
   "metadata": {},
   "outputs": [
    {
     "name": "stdout",
     "output_type": "stream",
     "text": [
      "banana\n",
      "['banana', 'kiwi']\n",
      "4\n",
      "[4, 5]\n",
      "[5]\n",
      "5\n",
      "4\n",
      "['banana', 'kiwi', 'orange']\n",
      "None\n",
      "[]\n",
      "1796747194112\n",
      "1796745880768\n",
      "['apple', 'banana', 'kiwi', 'orange', 'grapes']\n",
      "1\n",
      "['apple', 'banana', 'kiwi', 'orange', ['ram', 1, 2, 'hari']]\n"
     ]
    },
    {
     "ename": "NameError",
     "evalue": "name 'Print' is not defined",
     "output_type": "error",
     "traceback": [
      "\u001b[31m---------------------------------------------------------------------------\u001b[39m",
      "\u001b[31mNameError\u001b[39m                                 Traceback (most recent call last)",
      "\u001b[36mCell\u001b[39m\u001b[36m \u001b[39m\u001b[32mIn[39]\u001b[39m\u001b[32m, line 47\u001b[39m\n\u001b[32m     45\u001b[39m \u001b[38;5;28mprint\u001b[39m(fruits1)\n\u001b[32m     46\u001b[39m fruits1.extend(\u001b[33m'\u001b[39m\u001b[33mramesh\u001b[39m\u001b[33m'\u001b[39m)\n\u001b[32m---> \u001b[39m\u001b[32m47\u001b[39m \u001b[43mPrint\u001b[49m(fruits1)\n",
      "\u001b[31mNameError\u001b[39m: name 'Print' is not defined"
     ]
    }
   ],
   "source": [
    "#indexing \n",
    "#list is mutable object but nuber and string is imutable\n",
    "#order collection\n",
    "#support any type of data structure\n",
    "fruits = ['apple', 'banana',  'kiwi', 'orange']\n",
    "print(fruits[1])\n",
    "print(fruits[1:-1])\n",
    "\n",
    "# nested list \n",
    "#list vitra list vayo vanea yeasari nikalni \n",
    "x = [1,3,[3,4,5,5],7,8,9]\n",
    "print(x[2][1])     \n",
    "print(x[2][1:3])     \n",
    "print(x[2][2:3])\n",
    "x = [1, [2, [3, 4, 5, 6], 7], 8, 9] # nested list\n",
    "print(x[1][1][2])\n",
    "x = [1,[[2,[3,4,5,5],7],8],9]\n",
    "print(x[1][0][1][1])\n",
    "\n",
    "#mutable example\n",
    "#delete operation  Syntax :del(variable[which place]) \n",
    "fruits = ['apple', 'banana','kiwi', 'orange']\n",
    "del fruits[0]\n",
    "print(fruits)\n",
    "\n",
    "# help(list)\n",
    "print(fruits.append('mango'))\n",
    "\n",
    "#clear garna\n",
    "fruits.clear()\n",
    "print(fruits)\n",
    "fruits1 = ['apple', 'banana','kiwi', 'orange']\n",
    "fruits2 = fruits1.copy()\n",
    "print(id(fruits1))\n",
    "print(id(fruits2))\n",
    "(fruits2.append('grapes')) #errr print garna milirako chaina \n",
    "print(fruits2)\n",
    "#count garni \n",
    "print(fruits2.count('apple'))\n",
    "#append lea chai jasto cha teastai thapcha tara extend lea extend garcha\n",
    "\n",
    "#extend\n",
    "fruits1 = ['apple', 'banana','kiwi', 'orange']\n",
    "fruits1.append(['ram',1,2,'hari'])\n",
    "print(fruits1)\n",
    "fruits1.extend('ramesh')\n",
    "Print(fruits1)\n",
    "\n",
    "\n",
    "\n",
    "\n"
   ]
  },
  {
   "cell_type": "code",
   "execution_count": null,
   "id": "424842d9",
   "metadata": {},
   "outputs": [
    {
     "name": "stdout",
     "output_type": "stream",
     "text": [
      "['apple', 'watermelon', 'banana', 'kiwi', 'orange']\n"
     ]
    }
   ],
   "source": [
    "# bichma add garna \n",
    "fruits1 = ['apple', 'banana','kiwi', 'orange']\n",
    "fruits1.insert(1,'watermelon')\n",
    "print(fruits1)\n"
   ]
  },
  {
   "cell_type": "code",
   "execution_count": null,
   "id": "e3942ddc",
   "metadata": {},
   "outputs": [
    {
     "name": "stdout",
     "output_type": "stream",
     "text": [
      "Help on method_descriptor:\n",
      "\n",
      "index(self, value, start=0, stop=9223372036854775807, /) unbound builtins.list method\n",
      "    Return first index of value.\n",
      "\n",
      "    Raises ValueError if the value is not present.\n",
      "\n"
     ]
    }
   ],
   "source": [
    "#kun no ma cha index herni \n",
    "fruits1 = ['apple', 'banana','kiwi', 'orange']\n",
    "fruits1.index('banana')\n",
    "# fruits1.index('adf')\n",
    "#help(list.index)\n",
    "# help(list.index)"
   ]
  },
  {
   "cell_type": "code",
   "execution_count": null,
   "id": "21c5c9a2",
   "metadata": {},
   "outputs": [
    {
     "name": "stdout",
     "output_type": "stream",
     "text": [
      "kiwi\n"
     ]
    }
   ],
   "source": [
    "# index bata hatauna kam lagcha\n",
    "fruits1 = ['apple', 'banana','kiwi', 'orange']\n",
    "print(fruits1.pop(2))\n",
    "# print(fruits1)\n",
    "#help(list.pop)"
   ]
  },
  {
   "cell_type": "code",
   "execution_count": 61,
   "id": "a149f94c",
   "metadata": {},
   "outputs": [
    {
     "name": "stdout",
     "output_type": "stream",
     "text": [
      "['banana', 'kiwi', 'orange']\n"
     ]
    }
   ],
   "source": [
    "#value bata hatauna chai remove lea kam garcha\n",
    "fruits1 = ['apple', 'banana','kiwi', 'orange']\n",
    "(fruits1.remove('apple'))\n",
    "print(fruits1)"
   ]
  },
  {
   "cell_type": "code",
   "execution_count": null,
   "id": "715f36df",
   "metadata": {},
   "outputs": [
    {
     "name": "stdout",
     "output_type": "stream",
     "text": [
      "[1, 2, 3, 4, 5]\n"
     ]
    }
   ],
   "source": [
    "#list ma assending order \n",
    "x = [1,4,3,5,2]\n",
    "x.sort()\n",
    "\n",
    "print(x)\n",
    "print\n"
   ]
  },
  {
   "cell_type": "code",
   "execution_count": null,
   "id": "8a28ab20",
   "metadata": {},
   "outputs": [],
   "source": []
  }
 ],
 "metadata": {
  "kernelspec": {
   "display_name": "Python 3",
   "language": "python",
   "name": "python3"
  },
  "language_info": {
   "codemirror_mode": {
    "name": "ipython",
    "version": 3
   },
   "file_extension": ".py",
   "mimetype": "text/x-python",
   "name": "python",
   "nbconvert_exporter": "python",
   "pygments_lexer": "ipython3",
   "version": "3.13.3"
  }
 },
 "nbformat": 4,
 "nbformat_minor": 5
}
