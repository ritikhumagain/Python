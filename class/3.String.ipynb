{
 "cells": [
  {
   "cell_type": "code",
   "execution_count": null,
   "id": "8196e2d7",
   "metadata": {},
   "outputs": [],
   "source": [
    "# string \n",
    "# string in python are immutable \n",
    "# How string can be written in variable \n",
    "x = 'ram '\n",
    "x = \"ram\"\n",
    "x = '''ram'''\n",
    "x = \"\"\"ram\"\"\"\n"
   ]
  },
  {
   "cell_type": "code",
   "execution_count": null,
   "id": "dfec265f",
   "metadata": {},
   "outputs": [
    {
     "name": "stdout",
     "output_type": "stream",
     "text": [
      "welcomt \n",
      " to \n",
      " python \n",
      " code  \n",
      "welcomt \\n to \n",
      " python \n",
      " code  \n",
      "welcomt \\n to \\n python \\n code  \n"
     ]
    }
   ],
   "source": [
    "#line structure \n",
    "s = \"welcom to python code \" \n",
    "s = \"welcomt \\n to \\n python \\n code  \"  # \\n:(new line) garyo vane next line ma jancha\n",
    "print(s)\n",
    "#\\feari saryo vanea yeaslai special character na banauni\n",
    "s = \"welcomt \\\\n to \\n python \\n code  \"  # \\n:(new line) garyo vane next line ma jancha\n",
    "print(s) \n",
    "#easy way 3 ota ' or \" rakhna milcha \n",
    "s = '''welcome \n",
    "to \n",
    "python \n",
    "code'''\n",
    "\n",
    "# r : raw character print huncha \n",
    "s = r\"welcomt \\n to \\n python \\n code  \"  # \\n:(new line) garyo vane next line ma jancha\n",
    "print(s)\n",
    "\n",
    "\n"
   ]
  },
  {
   "cell_type": "code",
   "execution_count": 6,
   "id": "9262bf76",
   "metadata": {},
   "outputs": [
    {
     "name": "stdout",
     "output_type": "stream",
     "text": [
      "ritik\n",
      "3\n"
     ]
    }
   ],
   "source": [
    "# input garda chai jahilea yeaslea string ko rup ma ligch\n",
    "x = input('Enter your name ')\n",
    "print(x)\n",
    "a =int(input('Enter your any number '))\n",
    "b = int(input('Enter your any number') )\n",
    "print(a + b)\n"
   ]
  },
  {
   "cell_type": "code",
   "execution_count": null,
   "id": "923fa3c6",
   "metadata": {},
   "outputs": [
    {
     "name": "stdout",
     "output_type": "stream",
     "text": [
      "Positive Indexing:\n",
      "text[0] = P\n",
      "text[1] = Y\n",
      "text[5] = N\n",
      "\n",
      "Negative Indexing:\n",
      "text[-1] = N\n",
      "text[-2] = O\n",
      "text[-6] = P\n",
      "\n",
      "Slicing [start:end]:\n",
      "text[1:4] = YTH\n",
      "text[:3] = PYT\n",
      "text[3:] = HON\n",
      "\n",
      "Slicing with Step [start:end:step]:\n",
      "text[::2] = PTO\n",
      "text[1::2] = YHN\n",
      "text[::-1] = NOHTYP\n",
      "\n",
      "Full Copy of String:\n",
      "copy = PYTHON\n"
     ]
    }
   ],
   "source": [
    "#  String Indexing in Python - All Types in One Code\n",
    "\n",
    "text = \"PYTHON\"\n",
    "\n",
    "# ✅ 1. Positive Indexing (Left to Right)\n",
    "# Syntax: string[index] \n",
    "print(\"Positive Indexing:\")\n",
    "print(\"text[0] =\", text[0])   # P\n",
    "print(\"text[1] =\", text[1])   # Y\n",
    "print(\"text[5] =\", text[5])   # N\n",
    "\n",
    "# ✅ 2. Negative Indexing (Right to Left)\n",
    "# Syntax: string[-index]\n",
    "print(\"\\nNegative Indexing:\")\n",
    "print(\"text[-1] =\", text[-1])  # N\n",
    "print(\"text[-2] =\", text[-2])  # O\n",
    "print(\"text[-6] =\", text[-6])  # P\n",
    "\n",
    "# ✅ 3. Slicing [start:end] — end is excluded\n",
    "# Syntax: string[start:end:step]\n",
    "print(\"\\nSlicing [start:end]:\")\n",
    "print(\"text[1:4] =\", text[1:4])  # YTH\n",
    "print(\"text[:3] =\", text[:3])    # PYT\n",
    "print(\"text[3:] =\", text[3:])    # HON\n",
    "\n",
    "# ✅ 4. Slicing with Step [start:end:step]\n",
    "# Syntax: string[start:end:step]\n",
    "print(\"\\nSlicing with Step [start:end:step]:\")\n",
    "print(\"text[::2] =\", text[::2])     # PTO\n",
    "print(\"text[1::2] =\", text[1::2])   # YHN\n",
    "print(\"text[::-1] =\", text[::-1])   # Reverse → NOHTYP\n",
    "\n",
    "# ✅ 5. Full Copy of String\n",
    "# Syntax: string[:]\n",
    "print(\"\\nFull Copy of String:\")\n",
    "copy = text[:]\n",
    "print(\"copy =\", copy)              # PYTHON\n",
    "\n",
    "# ✅ 6. Invalid Index (Commented to prevent error)\n",
    "# Syntax: string[out_of_range_index]\n",
    "# print(text[6])  # IndexError: string index out of range\n"
   ]
  },
  {
   "cell_type": "code",
   "execution_count": null,
   "id": "16a708b6",
   "metadata": {},
   "outputs": [
    {
     "name": "stdout",
     "output_type": "stream",
     "text": [
      "this is stirng\n",
      "s\n"
     ]
    }
   ],
   "source": [
    "#indexing \n",
    "x = 'this is stirng'\n",
    "print(x)\n",
    "print(x[6])\n"
   ]
  },
  {
   "cell_type": "code",
   "execution_count": null,
   "id": "77b58f21",
   "metadata": {},
   "outputs": [
    {
     "name": "stdout",
     "output_type": "stream",
     "text": [
      "i\n",
      "ritik\n"
     ]
    }
   ],
   "source": [
    "#negative indexing \n",
    "x = 'ritik humagain'\n",
    "print(x[-2])\n",
    "print(x[0:5])"
   ]
  },
  {
   "cell_type": "code",
   "execution_count": null,
   "id": "f16582a8",
   "metadata": {},
   "outputs": [
    {
     "name": "stdout",
     "output_type": "stream",
     "text": [
      "is string. String in python are immutabl\n",
      "ti ssrn\n",
      "immutable.\n",
      "this is string. String in python are immutable.\n",
      "this is string. String in python are immutable.\n",
      ".elbatummi era nohtyp ni gnirtS .gnirts si siht\n",
      "i\n",
      "ritik\n"
     ]
    }
   ],
   "source": [
    "#start:stop:step syntax garni syntax\n",
    "s = 'this is string. String in python are immutable.'\n",
    "print(s[5:-2])\n",
    "print(s[0:14:2])\n",
    "print(s[-10:])\n",
    "print(s[0:])\n",
    "print(s[:])\n",
    "print(s[::-1])\n",
    "x = 'ritik humagain'\n",
    "print(x[-2])  #indexing\n",
    "print(x[0:5])  #slicing\n",
    "\n"
   ]
  },
  {
   "cell_type": "code",
   "execution_count": null,
   "id": "f4e3933f",
   "metadata": {},
   "outputs": [],
   "source": [
    "# 📘 Python String Methods — All-Purpose Reference with Examples\n",
    "\n",
    "text = \"  Python is Powerful and Popular. Python is Easy!  \"\n",
    "\n",
    "# ✅ 1. Case Conversion\n",
    "# Syntax: str.lower(), str.upper(), str.title(), str.capitalize(), str.swapcase()\n",
    "print(text.lower())         # All lowercase\n",
    "print(text.upper())         # All uppercase\n",
    "print(text.title())         # Title Case\n",
    "print(text.capitalize())    # Capitalize first character\n",
    "print(text.swapcase())      # Swap case\n",
    "\n",
    "# ✅ 2. Checking Content\n",
    "# Syntax: str.isalpha(), str.isalnum(), str.isdigit(), str.isidentifier(), str.isspace(), str.isupper(), str.islower(), str.istitle()\n",
    "print(text.isalpha())        # False (spaces and punctuation)\n",
    "print(\"Python123\".isalnum())# True (alphanumeric)\n",
    "print(\"123\".isdigit())       # True\n",
    "print(\"abc\".isidentifier())  # True\n",
    "print(\" \".isspace())         # True\n",
    "print(\"Python\".isupper())    # False\n",
    "print(\"python\".islower())    # True\n",
    "print(\"Python Is Cool\".istitle())  # True\n",
    "\n",
    "# ✅ 3. Searching & Counting\n",
    "# Syntax: str.find(sub), str.rfind(sub), str.index(sub), str.count(sub[, start[, end]])\n",
    "print(text.find(\"Python\",2))     # Returns first index of 'Python'\n",
    "print(text.rfind(\"Python\"))    # Returns last index\n",
    "print(text.index(\"Python\"))    # Same as find but errors if not found\n",
    "print(text.count(\"Python\"))    # Counts all 'Python'\n",
    "print(text.count(\"is\", 10))    # Count \"is\" from index 10\n",
    "\n",
    "# ✅ 4. Startswith/Endswith\n",
    "# Syntax: str.startswith(prefix[, start[, end]]), str.endswith(suffix[, start[, end]])\n",
    "print(text.startswith(\"  Python\"))  # True\n",
    "print(text.endswith(\"Easy!  \"))     # True\n",
    "\n",
    "# ✅ 5. Replace\n",
    "# Syntax: str.replace(old, new[, count])\n",
    "print(text.replace(\"Python\", \"Everyone\"))\n",
    "\n",
    "# ✅ 6. Strip (Trimming whitespace)\n",
    "# Syntax: str.strip([chars]), str.lstrip([chars]), str.rstrip([chars])\n",
    "print(text.strip())         # Remove leading/trailing spaces\n",
    "print(text.lstrip())        # Left strip\n",
    "print(text.rstrip())        # Right strip\n",
    "\n",
    "# ✅ 7. Splitting and Joining\n",
    "# Syntax: str.split(sep=None, maxsplit=-1), str.join(iterable)\n",
    "words = text.split()         # Splits by whitespace\n",
    "print(words)\n",
    "print(\"-\".join(words))       # Join using '-'\n",
    "\n",
    "# ✅ 8. Formatting\n",
    "# Syntax: f\"{value}\", str.format(), % formatting (older)\n",
    "name = \"Ritik\"\n",
    "age = 20\n",
    "print(f\"My name is {name} and I am {age} years old.\")\n",
    "print(\"My name is {} and I am {} years old.\".format(name, age))\n",
    "\n",
    "# ✅ 9. Encoding & Decoding\n",
    "# Syntax: str.encode(encoding), bytes.decode(encoding)\n",
    "encoded = text.encode()\n",
    "print(encoded)              # Encoded bytes\n",
    "print(encoded.decode())     # Decoded back to string\n",
    "\n",
    "# ✅ 10. String Slicing\n",
    "# Syntax: str[start:end:step]\n",
    "print(text[0:6])            # Slice from index 0 to 5\n",
    "print(text[-6:])            # Last 6 characters\n",
    "print(text[::-1])           # Reverse string\n",
    "\n",
    "# ✅ 11. String Copy\n",
    "# Syntax: str[:]\n",
    "copy = text[:]\n",
    "print(copy)\n",
    "\n",
    "# ✅ 12. String Comparison\n",
    "# Syntax: str1 == str2, str1 < str2, str1 > str2\n",
    "print(\"apple\" == \"Apple\")     # False\n",
    "print(\"apple\" < \"banana\")     # True (lexical order)\n",
    "\n",
    "# ✅ 13. Check Membership\n",
    "# Syntax: substring in string, substring not in string\n",
    "print(\"Python\" in text)        # True\n",
    "print(\"Java\" not in text)      # True\n",
    "\n",
    "# ✅ 14. Center, Ljust, Rjust\n",
    "# Syntax: str.center(width[, fillchar]), str.ljust(width[, fillchar]), str.rjust(width[, fillchar])\n",
    "print(\"Python\".center(20, '*'))  # Center align with padding\n",
    "print(\"Python\".ljust(10, '-'))   # Left align\n",
    "print(\"Python\".rjust(10, '-'))   # Right align\n",
    "\n",
    "# ✅ 15. Zfill\n",
    "# Syntax: str.zfill(width)\n",
    "print(\"42\".zfill(5))            # Pads with zeros → '00042'\n",
    "\n",
    "# ✅ 16. Partition & Rpartition\n",
    "# Syntax: str.partition(sep), str.rpartition(sep)\n",
    "print(text.partition(\"is\"))    # Splits into 3 parts: before, match, after\n",
    "print(text.rpartition(\"is\"))   # Same as partition but from right\n",
    "\n",
    "# ✅ 17. Expand Tabs\n",
    "# Syntax: str.expandtabs(tabsize=8)\n",
    "print(\"Python\\tis\\tawesome\".expandtabs(4))  # Replace tabs with spaces\n",
    "\n",
    "# ✅ 18. Translate (with maketrans)\n",
    "# Syntax: str.translate(map), str.maketrans(x, y)\n",
    "trans = str.maketrans(\"aeiou\", \"12345\")\n",
    "print(\"hello world\".translate(trans))\n",
    "\n",
    "# ✅ 19. Remove Prefix/Suffix (Python 3.9+)\n",
    "# Syntax: str.removeprefix(prefix), str.removesuffix(suffix)\n",
    "print(\"unhappy\".removeprefix(\"un\"))  # → happy\n",
    "print(\"filename.txt\".removesuffix(\".txt\"))  # → filename\n"
   ]
  },
  {
   "cell_type": "code",
   "execution_count": 7,
   "id": "de8b96ca",
   "metadata": {},
   "outputs": [
    {
     "name": "stdout",
     "output_type": "stream",
     "text": [
      "This is string . strings  in python are immutable.\n",
      "this is string . strings  in python are immutable.\n",
      "THIS IS STRING . STRINGS  IN PYTHON ARE IMMUTABLE.\n",
      "This Is String . Strings  In Python Are Immutable.\n",
      "5\n",
      "Help on method_descriptor:\n",
      "\n",
      "count(self, sub[, start[, end]], /) unbound builtins.str method\n",
      "    Return the number of non-overlapping occurrences of substring sub in string S[start:end].\n",
      "\n",
      "    Optional arguments start and end are interpreted as in slice notation.\n",
      "\n",
      "2\n",
      "True\n",
      "True\n",
      "THIS IS STRING . sTRINGS  IN PYTHON ARE IMMUTABLE.\n",
      "3\n"
     ]
    }
   ],
   "source": [
    "# first lai capital ani aaru lai small \n",
    "s = 'this is string . Strings  in python are immutable.'\n",
    "print(s.capitalize())\n",
    "\n",
    "#lower , upper , title \n",
    "print(s.lower())\n",
    "print(s.upper())\n",
    "print(s.title())\n",
    "print(s.count('t'))\n",
    "help(str.count)   # s.count('t-sub' , start , end)\n",
    "print(s.count('t',3,30))\n",
    "\n",
    "#start with \n",
    "print(s.startswith('t'))\n",
    "print(s.startswith('this'))\n",
    "\n",
    "#lower into upper and vise versa\n",
    "print(s.swapcase())\n",
    "\n",
    "#find garnni \n",
    "s = 'this is string . Strings  in python are immutable.'\n",
    "print(s.find('s'))\n",
    "\n",
    "\n"
   ]
  },
  {
   "cell_type": "code",
   "execution_count": 1,
   "id": "385325bc",
   "metadata": {},
   "outputs": [
    {
     "name": "stdout",
     "output_type": "stream",
     "text": [
      "my name is ram.my age is 22\n",
      "my name is ram .my age is 22\n",
      "THIS IS STRING . sTRINGS  IN PYTHON ARE IMMUTABLE.\n"
     ]
    }
   ],
   "source": [
    "name = 'ram'\n",
    "age = 22 \n",
    "print(f'my name is {name}.my age is {age}')\n",
    "\n",
    "print (\"my name is {} .my age is {}\".format(name,age))\n",
    "\n",
    "# swap \n",
    "s = 'this is string . Strings  in python are immutable.'\n",
    "print(s.swapcase())"
   ]
  },
  {
   "cell_type": "code",
   "execution_count": 34,
   "id": "ad589282",
   "metadata": {},
   "outputs": [
    {
     "name": "stdout",
     "output_type": "stream",
     "text": [
      "ritik2034\n"
     ]
    }
   ],
   "source": [
    "#strip when entering password\n",
    "password = \"    ritik2034   \"\n",
    "print(password.strip())"
   ]
  },
  {
   "cell_type": "code",
   "execution_count": 3,
   "id": "73b70bdc",
   "metadata": {},
   "outputs": [
    {
     "name": "stdout",
     "output_type": "stream",
     "text": [
      "['ram', 'hari', 'sita', '']\n",
      "ram-hari-sita-\n"
     ]
    }
   ],
   "source": [
    "# Define a string with words separated by spaces\n",
    "x = \"ram hari sita \"\n",
    "\n",
    "# Split the string x into a list of words using space as separator\n",
    "words = x.split(\" \")\n",
    "print(words)  # ['ram', 'hari', 'sita', ''] — note the last empty string because of trailing space\n",
    "\n",
    "# Join the list back into a string with '-' as separator\n",
    "joined_string = '-'.join(words)\n",
    "print(joined_string)  # ram-hari-sita-\n"
   ]
  },
  {
   "cell_type": "code",
   "execution_count": 4,
   "id": "237b4006",
   "metadata": {},
   "outputs": [
    {
     "name": "stdout",
     "output_type": "stream",
     "text": [
      "python 4 everybody\n"
     ]
    }
   ],
   "source": [
    "#replace 'data science 'with 'everybody ' in th string \n",
    "x = 'python 4 data science'\n",
    "\n",
    "# Replace 'data science' with 'everybody'\n",
    "new_x = x.replace('data science', 'everybody')\n",
    "\n",
    "print(new_x)  # Output: python 4 everybody\n"
   ]
  },
  {
   "cell_type": "code",
   "execution_count": null,
   "id": "4fc99176",
   "metadata": {},
   "outputs": [],
   "source": [
    "# kun place deakhi \n",
    "s = \"This is StRinG. Strings in python are immutable \"\n",
    "print(s.count(\"t\",10))\n",
    "\n",
    "#syntax : str.count(sub[, start[, end]])\n",
    "# sub is the substring you want to count.\n",
    "# start is optional, the index to start counting from (default 0).\n",
    "# end is optional, the index to end counting (default length of string)."
   ]
  }
 ],
 "metadata": {
  "kernelspec": {
   "display_name": "Python 3",
   "language": "python",
   "name": "python3"
  },
  "language_info": {
   "codemirror_mode": {
    "name": "ipython",
    "version": 3
   },
   "file_extension": ".py",
   "mimetype": "text/x-python",
   "name": "python",
   "nbconvert_exporter": "python",
   "pygments_lexer": "ipython3",
   "version": "3.13.3"
  }
 },
 "nbformat": 4,
 "nbformat_minor": 5
}
