{
 "cells": [
  {
   "cell_type": "code",
   "execution_count": 2,
   "id": "8196e2d7",
   "metadata": {},
   "outputs": [],
   "source": [
    "# string \n",
    "# How string can be written in variable \n",
    "x = 'ram '\n",
    "x = \"ram\"\n",
    "x = '''ram'''\n",
    "x = \"\"\"ram\"\"\"\n"
   ]
  },
  {
   "cell_type": "code",
   "execution_count": null,
   "id": "dfec265f",
   "metadata": {},
   "outputs": [
    {
     "name": "stdout",
     "output_type": "stream",
     "text": [
      "welcomt \n",
      " to \n",
      " python \n",
      " code  \n",
      "welcomt \\n to \n",
      " python \n",
      " code  \n",
      "welcomt \\n to \\n python \\n code  \n"
     ]
    }
   ],
   "source": [
    "#line structure \n",
    "s = \"welcom to python code \" \n",
    "s = \"welcomt \\n to \\n python \\n code  \"  # \\n:(new line) garyo vane next line ma jancha\n",
    "print(s)\n",
    "#\\feari saryo vanea yeaslai special character na banauni\n",
    "s = \"welcomt \\\\n to \\n python \\n code  \"  # \\n:(new line) garyo vane next line ma jancha\n",
    "print(s) \n",
    "#easy way 3 ota ' or \" rakhna milcha \n",
    "s = '''welcome \n",
    "to \n",
    "python \n",
    "code'''\n",
    "\n",
    "# r : raw character print huncha \n",
    "s = r\"welcomt \\n to \\n python \\n code  \"  # \\n:(new line) garyo vane next line ma jancha\n",
    "print(s)\n",
    "\n",
    "\n"
   ]
  },
  {
   "cell_type": "code",
   "execution_count": 6,
   "id": "9262bf76",
   "metadata": {},
   "outputs": [
    {
     "name": "stdout",
     "output_type": "stream",
     "text": [
      "ritik\n",
      "3\n"
     ]
    }
   ],
   "source": [
    "# input garda chai jahilea yeaslea string ko rup ma ligch\n",
    "x = input('Enter your name ')\n",
    "print(x)\n",
    "a =int(input('Enter your any number '))\n",
    "b = int(input('Enter your any number') )\n",
    "print(a + b)\n"
   ]
  },
  {
   "cell_type": "code",
   "execution_count": 1,
   "id": "923fa3c6",
   "metadata": {},
   "outputs": [
    {
     "name": "stdout",
     "output_type": "stream",
     "text": [
      "Positive Indexing:\n",
      "text[0] = P\n",
      "text[1] = Y\n",
      "text[5] = N\n",
      "\n",
      "Negative Indexing:\n",
      "text[-1] = N\n",
      "text[-2] = O\n",
      "text[-6] = P\n",
      "\n",
      "Slicing [start:end]:\n",
      "text[1:4] = YTH\n",
      "text[:3] = PYT\n",
      "text[3:] = HON\n",
      "\n",
      "Slicing with Step [start:end:step]:\n",
      "text[::2] = PTO\n",
      "text[1::2] = YHN\n",
      "text[::-1] = NOHTYP\n",
      "\n",
      "Full Copy of String:\n",
      "copy = PYTHON\n"
     ]
    }
   ],
   "source": [
    "#  String Indexing in Python - All Types in One Code\n",
    "\n",
    "text = \"PYTHON\"\n",
    "\n",
    "# ✅ 1. Positive Indexing (Left to Right)\n",
    "# Syntax: string[index]\n",
    "print(\"Positive Indexing:\")\n",
    "print(\"text[0] =\", text[0])   # P\n",
    "print(\"text[1] =\", text[1])   # Y\n",
    "print(\"text[5] =\", text[5])   # N\n",
    "\n",
    "# ✅ 2. Negative Indexing (Right to Left)\n",
    "# Syntax: string[-index]\n",
    "print(\"\\nNegative Indexing:\")\n",
    "print(\"text[-1] =\", text[-1])  # N\n",
    "print(\"text[-2] =\", text[-2])  # O\n",
    "print(\"text[-6] =\", text[-6])  # P\n",
    "\n",
    "# ✅ 3. Slicing [start:end] — end is excluded\n",
    "# Syntax: string[start:end]\n",
    "print(\"\\nSlicing [start:end]:\")\n",
    "print(\"text[1:4] =\", text[1:4])  # YTH\n",
    "print(\"text[:3] =\", text[:3])    # PYT\n",
    "print(\"text[3:] =\", text[3:])    # HON\n",
    "\n",
    "# ✅ 4. Slicing with Step [start:end:step]\n",
    "# Syntax: string[start:end:step]\n",
    "print(\"\\nSlicing with Step [start:end:step]:\")\n",
    "print(\"text[::2] =\", text[::2])     # PTO\n",
    "print(\"text[1::2] =\", text[1::2])   # YHN\n",
    "print(\"text[::-1] =\", text[::-1])   # Reverse → NOHTYP\n",
    "\n",
    "# ✅ 5. Full Copy of String\n",
    "# Syntax: string[:]\n",
    "print(\"\\nFull Copy of String:\")\n",
    "copy = text[:]\n",
    "print(\"copy =\", copy)              # PYTHON\n",
    "\n",
    "# ✅ 6. Invalid Index (Commented to prevent error)\n",
    "# Syntax: string[out_of_range_index]\n",
    "# print(text[6])  # IndexError: string index out of range\n"
   ]
  },
  {
   "cell_type": "code",
   "execution_count": null,
   "id": "16a708b6",
   "metadata": {},
   "outputs": [
    {
     "name": "stdout",
     "output_type": "stream",
     "text": [
      "this is stirng\n",
      "s\n"
     ]
    }
   ],
   "source": [
    "#indexing \n",
    "x = 'this is stirng'\n",
    "print(x)\n",
    "print(x[6])\n"
   ]
  },
  {
   "cell_type": "code",
   "execution_count": null,
   "id": "77b58f21",
   "metadata": {},
   "outputs": [
    {
     "name": "stdout",
     "output_type": "stream",
     "text": [
      "i\n",
      "ritik\n"
     ]
    }
   ],
   "source": [
    "#negative indexing \n",
    "x = 'ritik humagain'\n",
    "print(x[-2])\n",
    "print(x[0:5])"
   ]
  },
  {
   "cell_type": "code",
   "execution_count": null,
   "id": "f16582a8",
   "metadata": {},
   "outputs": [
    {
     "name": "stdout",
     "output_type": "stream",
     "text": [
      "is string. String in python are immutabl\n",
      "ti ssrn\n",
      "immutable.\n",
      "this is string. String in python are immutable.\n",
      "this is string. String in python are immutable.\n",
      ".elbatummi era nohtyp ni gnirtS .gnirts si siht\n",
      "i\n",
      "ritik\n"
     ]
    }
   ],
   "source": [
    "#start:stop:step syntax garni syntax\n",
    "s = 'this is string. String in python are immutable.'\n",
    "print(s[5:-2])\n",
    "print(s[0:14:2])\n",
    "print(s[-10:])\n",
    "print(s[0:])\n",
    "print(s[:])\n",
    "print(s[::-1])\n",
    "x = 'ritik humagain'\n",
    "print(x[-2])  #indexing\n",
    "print(x[0:5])  #slicing\n",
    "\n"
   ]
  },
  {
   "cell_type": "code",
   "execution_count": null,
   "id": "de8b96ca",
   "metadata": {},
   "outputs": [
    {
     "name": "stdout",
     "output_type": "stream",
     "text": [
      "This is string . strings  in python are immutable.\n",
      "this is string . strings  in python are immutable.\n",
      "THIS IS STRING . STRINGS  IN PYTHON ARE IMMUTABLE.\n",
      "This Is String . Strings  In Python Are Immutable.\n",
      "5\n",
      "Help on method_descriptor:\n",
      "\n",
      "count(self, sub[, start[, end]], /) unbound builtins.str method\n",
      "    Return the number of non-overlapping occurrences of substring sub in string S[start:end].\n",
      "\n",
      "    Optional arguments start and end are interpreted as in slice notation.\n",
      "\n",
      "2\n",
      "True\n",
      "True\n",
      "THIS IS STRING . sTRINGS  IN PYTHON ARE IMMUTABLE.\n"
     ]
    }
   ],
   "source": [
    "# first lai capital ani aaru lai smaal \n",
    "s = 'this is string . Strings  in python are immutable.'\n",
    "print(s.capitalize())\n",
    "\n",
    "#lower , upper , title \n",
    "print(s.lower())\n",
    "print(s.upper())\n",
    "print(s.title())\n",
    "print(s.count('t'))\n",
    "help(str.count)   # s.count('t-sub' , start , end)\n",
    "print(s.count('t',3,30))\n",
    "\n",
    "#start with \n",
    "print(s.startswith('t'))\n",
    "print(s.startswith('this'))\n",
    "\n",
    "#lower into upper and vise versa\n",
    "print(s.swapcase())\n",
    "\n",
    "#\n",
    "\n"
   ]
  },
  {
   "cell_type": "code",
   "execution_count": 32,
   "id": "385325bc",
   "metadata": {},
   "outputs": [
    {
     "name": "stdout",
     "output_type": "stream",
     "text": [
      "my name is ram.my age is 22\n",
      "my name is ram .my age is 22\n"
     ]
    }
   ],
   "source": [
    "name = 'ram'\n",
    "age = 22 \n",
    "print(f'my name is {name}.my age is {age}')\n",
    "\n",
    "print (\"my name is {} .my age is {}\".format(name,age))"
   ]
  },
  {
   "cell_type": "code",
   "execution_count": 34,
   "id": "ad589282",
   "metadata": {},
   "outputs": [
    {
     "name": "stdout",
     "output_type": "stream",
     "text": [
      "ritik2034\n"
     ]
    }
   ],
   "source": [
    "#strip when entering password\n",
    "password = \"    ritik2034   \"\n",
    "print(password.strip())"
   ]
  },
  {
   "cell_type": "code",
   "execution_count": 41,
   "id": "73b70bdc",
   "metadata": {},
   "outputs": [
    {
     "ename": "SyntaxError",
     "evalue": "invalid syntax. Perhaps you forgot a comma? (1291345366.py, line 2)",
     "output_type": "error",
     "traceback": [
      "  \u001b[36mCell\u001b[39m\u001b[36m \u001b[39m\u001b[32mIn[41]\u001b[39m\u001b[32m, line 2\u001b[39m\n\u001b[31m    \u001b[39m\u001b[31my =[ram hari sita]\u001b[39m\n        ^\n\u001b[31mSyntaxError\u001b[39m\u001b[31m:\u001b[39m invalid syntax. Perhaps you forgot a comma?\n"
     ]
    }
   ],
   "source": [
    "#split\n",
    "y =[ram hari sita]\n",
    "print(x.split(\" \"))\n",
    "#+ lea join garna \n",
    "y = '-'.join(x)\n",
    "print(y)"
   ]
  },
  {
   "cell_type": "code",
   "execution_count": null,
   "id": "237b4006",
   "metadata": {},
   "outputs": [],
   "source": [
    "#replace 'data science 'with 'everybody ' in th string \n",
    "x = 'python 4 data science'\n",
    "string.replace"
   ]
  }
 ],
 "metadata": {
  "kernelspec": {
   "display_name": "Python 3",
   "language": "python",
   "name": "python3"
  },
  "language_info": {
   "codemirror_mode": {
    "name": "ipython",
    "version": 3
   },
   "file_extension": ".py",
   "mimetype": "text/x-python",
   "name": "python",
   "nbconvert_exporter": "python",
   "pygments_lexer": "ipython3",
   "version": "3.13.3"
  }
 },
 "nbformat": 4,
 "nbformat_minor": 5
}
