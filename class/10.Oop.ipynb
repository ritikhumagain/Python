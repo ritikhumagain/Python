{
 "cells": [
  {
   "cell_type": "code",
   "execution_count": 1,
   "id": "d79c9f94",
   "metadata": {},
   "outputs": [],
   "source": [
    "# Oop = Object Oriented Programming\n",
    "# class = person - blueprint/structure/termplate\n",
    "# Object= ram - actually exists /  instance of class\n"
   ]
  },
  {
   "cell_type": "code",
   "execution_count": null,
   "id": "8856750f",
   "metadata": {},
   "outputs": [],
   "source": [
    "class Person:\n",
    "# attripute / property\n",
    "    name= 'Ritik'\n",
    "    age= 25\n",
    "    height= 5.11    \n",
    "    weight = 90\n",
    "    gender= \"Male\"\n",
    "    address= \"Balaju\"\n",
    "# method / action/behaviou/characteristics/\n",
    "    def eat():\n",
    "        print(\"Eating..\")\n",
    "    def sleep():\n",
    "        print(\"Sleeping..\")\n",
    "    def walk():\n",
    "        print(\"Walking..\")   \n",
    "    def play():\n",
    "        print(\"Playing..\")\n",
    "    def code():\n",
    "        print(\"Coding..\")\n"
   ]
  },
  {
   "cell_type": "code",
   "execution_count": 7,
   "id": "db90919b",
   "metadata": {},
   "outputs": [
    {
     "name": "stdout",
     "output_type": "stream",
     "text": [
      "<__main__.Person object at 0x000002B14B699FD0>\n"
     ]
    },
    {
     "data": {
      "text/plain": [
       "5.11"
      ]
     },
     "execution_count": 7,
     "metadata": {},
     "output_type": "execute_result"
    }
   ],
   "source": [
    "p = Person()\n",
    "print(p)  # object of class person\n",
    "p.name\n",
    "Person().age\n",
    "Person().height\n"
   ]
  },
  {
   "cell_type": "code",
   "execution_count": null,
   "id": "8af93bb1",
   "metadata": {},
   "outputs": [
    {
     "name": "stdout",
     "output_type": "stream",
     "text": [
      "<__main__.Person object at 0x000002B14B7C4350>\n"
     ]
    }
   ],
   "source": [
    "p2 = Person()\n",
    "print(p2)\n"
   ]
  },
  {
   "cell_type": "code",
   "execution_count": 10,
   "id": "dd5f0bdb",
   "metadata": {},
   "outputs": [
    {
     "data": {
      "text/plain": [
       "25"
      ]
     },
     "execution_count": 10,
     "metadata": {},
     "output_type": "execute_result"
    }
   ],
   "source": [
    "p2.name\n",
    "p2.age"
   ]
  },
  {
   "cell_type": "code",
   "execution_count": null,
   "id": "9938a27b",
   "metadata": {},
   "outputs": [
    {
     "name": "stdout",
     "output_type": "stream",
     "text": [
      "ram 22 balaju\n",
      "shyam 40 india\n"
     ]
    },
    {
     "data": {
      "text/plain": [
       "'india'"
      ]
     },
     "execution_count": 17,
     "metadata": {},
     "output_type": "execute_result"
    }
   ],
   "source": [
    "class Person:\n",
    "    def __init__(self,name,age,address):\n",
    "        # print(name,age,address)\n",
    "        self.name = name \n",
    "        self.age = age \n",
    "        self.address = address\n",
    "    def eat (self):\n",
    "        print('eating')\n",
    "    def sleep(self):\n",
    "        print(\"Sleeping..\")\n",
    "    def walk(self):\n",
    "        print(\"Walking..\")   \n",
    "    def play(self):\n",
    "        print(\"Playing..\")\n",
    "    def code(self):\n",
    "        print(\"Coding..\")\n",
    "p1 = Person(\"ram\",22,\"balaju\")\n",
    "p1.name\n",
    "p2 =Person('shyam',40,'india')\n",
    "p2.address"
   ]
  },
  {
   "cell_type": "code",
   "execution_count": null,
   "id": "9d662fd9",
   "metadata": {},
   "outputs": [
    {
     "data": {
      "text/plain": [
       "22"
      ]
     },
     "execution_count": 18,
     "metadata": {},
     "output_type": "execute_result"
    }
   ],
   "source": [
    "class Student:\n",
    "    def __init__(self,name,age,address ,college,faculty,rool_no):\n",
    "        self.name= name\n",
    "        self.age= age\n",
    "        self.address= address\n",
    "        self.college= college\n",
    "        self.faculty= faculty\n",
    "        self.rool_no= rool_no\n",
    "    def learn(self):\n",
    "        printt (\"student is learning \")\n",
    "p1 = Student(\"ram\",22,\"balaju\",'ncit','science',30)\n",
    "p1.age\n",
    "    "
   ]
  },
  {
   "cell_type": "code",
   "execution_count": null,
   "id": "45a20b20",
   "metadata": {},
   "outputs": [],
   "source": []
  }
 ],
 "metadata": {
  "kernelspec": {
   "display_name": "Python 3",
   "language": "python",
   "name": "python3"
  },
  "language_info": {
   "codemirror_mode": {
    "name": "ipython",
    "version": 3
   },
   "file_extension": ".py",
   "mimetype": "text/x-python",
   "name": "python",
   "nbconvert_exporter": "python",
   "pygments_lexer": "ipython3",
   "version": "3.13.3"
  }
 },
 "nbformat": 4,
 "nbformat_minor": 5
}
