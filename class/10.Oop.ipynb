{
 "cells": [
  {
   "cell_type": "code",
   "execution_count": 1,
   "id": "d79c9f94",
   "metadata": {},
   "outputs": [],
   "source": [
    "# Oop = Object Oriented Programming\n",
    "# class = person - blueprint/structure/termplate\n",
    "# Object= ram - actually exists /  instance of class\n"
   ]
  },
  {
   "cell_type": "code",
   "execution_count": null,
   "id": "8856750f",
   "metadata": {},
   "outputs": [],
   "source": [
    "#static#\n",
    "class Person:\n",
    "# attripute / property\n",
    "    name= 'Ritik'\n",
    "    age= 25\n",
    "    height= 5.11    \n",
    "    weight = 90\n",
    "    gender= \"Male\"\n",
    "    address= \"Balaju\"\n",
    "# method / action/behaviou/characteristics/\n",
    "    def eat():\n",
    "        print(\"Eating..\")\n",
    "    def sleep():\n",
    "        print(\"Sleeping..\")\n",
    "    def walk():\n",
    "        print(\"Walking..\")   \n",
    "    def play():\n",
    "        print(\"Playing..\")\n",
    "    def code():\n",
    "        print(\"Coding..\")\n"
   ]
  },
  {
   "cell_type": "code",
   "execution_count": 7,
   "id": "db90919b",
   "metadata": {},
   "outputs": [
    {
     "name": "stdout",
     "output_type": "stream",
     "text": [
      "<__main__.Person object at 0x000002B14B699FD0>\n"
     ]
    },
    {
     "data": {
      "text/plain": [
       "5.11"
      ]
     },
     "execution_count": 7,
     "metadata": {},
     "output_type": "execute_result"
    }
   ],
   "source": [
    "p = Person()\n",
    "print(p)  # object of class person\n",
    "p.name\n",
    "Person().age\n",
    "Person().height\n"
   ]
  },
  {
   "cell_type": "code",
   "execution_count": null,
   "id": "8af93bb1",
   "metadata": {},
   "outputs": [
    {
     "name": "stdout",
     "output_type": "stream",
     "text": [
      "<__main__.Person object at 0x000002B14B7C4350>\n"
     ]
    }
   ],
   "source": [
    "p2 = Person()\n",
    "print(p2)\n"
   ]
  },
  {
   "cell_type": "code",
   "execution_count": 10,
   "id": "dd5f0bdb",
   "metadata": {},
   "outputs": [
    {
     "data": {
      "text/plain": [
       "25"
      ]
     },
     "execution_count": 10,
     "metadata": {},
     "output_type": "execute_result"
    }
   ],
   "source": [
    "p2.name\n",
    "p2.age"
   ]
  },
  {
   "cell_type": "code",
   "execution_count": null,
   "id": "9938a27b",
   "metadata": {},
   "outputs": [
    {
     "name": "stdout",
     "output_type": "stream",
     "text": [
      "ram 22 balaju\n",
      "shyam 40 india\n"
     ]
    },
    {
     "data": {
      "text/plain": [
       "'india'"
      ]
     },
     "execution_count": 17,
     "metadata": {},
     "output_type": "execute_result"
    }
   ],
   "source": [
    "class Person:\n",
    "    def __init__(self,name,age,address):\n",
    "        # print(name,age,address)\n",
    "        self.name = name \n",
    "        self.age = age \n",
    "        self.address = address\n",
    "    def eat (self):\n",
    "        print('eating')\n",
    "    def sleep(self):\n",
    "        print(\"Sleeping..\")\n",
    "    def walk(self):\n",
    "        print(\"Walking..\")   \n",
    "    def play(self):\n",
    "        print(\"Playing..\")\n",
    "    def code(self):\n",
    "        print(\"Coding..\")\n",
    "p1 = Person(\"ram\",22,\"balaju\") #ram 22 balaju\n",
    "p1.name #ram\n",
    "p2 =Person('shyam',40,'india') #shyam 40 india\n",
    "p2.address #shyam"
   ]
  },
  {
   "cell_type": "code",
   "execution_count": 9,
   "id": "9d662fd9",
   "metadata": {},
   "outputs": [
    {
     "data": {
      "text/plain": [
       "['python', 'Math']"
      ]
     },
     "execution_count": 9,
     "metadata": {},
     "output_type": "execute_result"
    }
   ],
   "source": [
    "class Student:\n",
    "    def __init__(self,name,age,address ,college,faculty,rool_no):\n",
    "        self.name= name\n",
    "        self.age= age\n",
    "        self.address= address\n",
    "        self.college= college\n",
    "        self.faculty= faculty\n",
    "        self.rool_no= rool_no\n",
    "        self.subjects= []\n",
    "    def learn(self):\n",
    "        print (\"student is learning \")\n",
    "    def add_subject(self,subject_name):\n",
    "        if subject_name in self.subjects:\n",
    "            return 1 \n",
    "        else:\n",
    "            self.subjects.append(subject_name)\n",
    "p1 = Student(\"ram\",22,\"balaju\",'ncit','science',30)\n",
    "p1.age # 22\n",
    "# p1.learn() # student is learnin \n",
    "s1 = Student\n",
    "p1.subjects\n",
    "p1.add_subject('python')\n",
    "p1.subjects\n",
    "p1.add_subject('Math')\n",
    "p1.subjects\n",
    "p1.add_subject('python' )\n",
    "p1.subjects\n"
   ]
  },
  {
   "cell_type": "code",
   "execution_count": 10,
   "id": "45a20b20",
   "metadata": {},
   "outputs": [],
   "source": [
    "# Inheritan  and its type \n",
    "#single inheritance\n",
    "\n",
    "#multiple inheritancd\n",
    "class Mother():\n",
    "    pass\n",
    "class Father():\n",
    "    pass\n",
    "class Child(Father,Mother):\n",
    "    pass"
   ]
  },
  {
   "cell_type": "code",
   "execution_count": 16,
   "id": "ad9f2447",
   "metadata": {},
   "outputs": [
    {
     "name": "stdout",
     "output_type": "stream",
     "text": [
      "inside company class\n",
      "Name: Google location kathmandu\n",
      "Inside person class\n",
      "Name: ritik Age: 40\n"
     ]
    }
   ],
   "source": [
    "# parent class example\n",
    "class Person():\n",
    "    def person_info(self,name,age):\n",
    "        print('Inside person class')\n",
    "        print(\"Name:\",name,'Age:',age)\n",
    "class Company():\n",
    "    def company_info(self,company_name,location):\n",
    "        print('inside company class')\n",
    "        print('Name:',company_name,'location',location)\n",
    "\n",
    "class Employee (Person,Company):\n",
    "    def employee_info(self,salary,skill):\n",
    "        print('Inside Employee class')\n",
    "        print('Salary:',salary,'skill',skill)\n",
    "emp = Employee()\n",
    "emp.company_info(\"Google\",\"kathmandu\")\n",
    "emp.person_info('ritik',40)\n"
   ]
  },
  {
   "cell_type": "code",
   "execution_count": 17,
   "id": "01dfede9",
   "metadata": {},
   "outputs": [],
   "source": [
    "# multi- level in heritance\n",
    "class Person():\n",
    "    pass\n",
    "class Student(Person):\n",
    "    pass\n",
    "class BachelorStudent(Student):\n",
    "    pass"
   ]
  },
  {
   "cell_type": "code",
   "execution_count": null,
   "id": "802a8cb7",
   "metadata": {},
   "outputs": [],
   "source": [
    "# Example of multi- level in heritance\n",
    "class Person:\n",
    "    def __init__(self, name ,age, address):\n",
    "        self.name = name\n",
    "        self.age = age\n",
    "        self.address = address\n",
    "\n",
    "    def eat(self): # self is object\n",
    "        print(f'{self.name} is eating')\n",
    "\n",
    "    def sleep(self):\n",
    "        print(f'{self.name} is sleeping')\n",
    "\n",
    "    def walk(self):\n",
    "        print(f'{self.name} is walking')\n",
    "\n",
    "    def info(self):\n",
    "        print(f\"Name: {self.name}\")\n",
    "        print(f\"Age: {self.age}\")\n",
    "        print(f\"Address: {self.address}\")\n",
    "\n",
    "\n",
    "class Student(Person): # Inheritance\n",
    "    def __init__(self, name ,age, address, college, faculty, roll_no):\n",
    "        super().__init__(name, age, address) # calling Person's __init__ method\n",
    "        self.college = college\n",
    "        self.faculty = faculty\n",
    "        self.roll_no = roll_no\n",
    "        self.subjects = []\n",
    "\n",
    "    def learn(self):\n",
    "        print(f\"Student is learning {self.subjects}.\")\n",
    "\n",
    "    def add_subject(self, subject_name):\n",
    "        if subject_name not in self.subjects:\n",
    "            self.subjects.append(subject_name)\n",
    "\n",
    "    def info(self):\n",
    "        super().info() # calling Person's info method\n",
    "        print(f\"College: {self.college}\")\n",
    "        print(f\"Faculty: {self.faculty}\")\n",
    "        print(f\"Roll No: {self.roll_no}\")\n",
    "        print(f\"Subjects: {self.subjects}\")\n",
    "\n",
    "    class BachelorStudent(Student):\n",
    "        def __init__(self,name,age,address,college,faculty,roll_no,university):\n",
    "            super().__init__(name,age,address,college,faculty,roll_no)\n",
    "            self.university = university\n",
    "\n",
    "            #BachelorStudent class le student class ko info method override gareko ho \n",
    "            def info (self):\n",
    "                #calling Student's info method\n",
    "                super().info()\n",
    "                print(f'University:{self.university}')"
   ]
  },
  {
   "cell_type": "code",
   "execution_count": 19,
   "id": "2c5b7bfe",
   "metadata": {},
   "outputs": [],
   "source": [
    "# hierarchical inheritance \n",
    "# euta class lai multiple lea liyeako cha vanea yeaslai hami hierarchical vancham\n",
    "class Person:\n",
    "    pass \n",
    "class Student(Person):\n",
    "    pass\n",
    "class Teacher(Person):\n",
    "    pass\n",
    "class Employee(Person):\n",
    "    pass\n",
    "class Principle(Person):\n",
    "    pass\n",
    "class Cook(Person):\n",
    "    pass\n"
   ]
  },
  {
   "cell_type": "code",
   "execution_count": 20,
   "id": "8805b2e7",
   "metadata": {},
   "outputs": [
    {
     "name": "stdout",
     "output_type": "stream",
     "text": [
      "This is Vehicle\n",
      "Car name is : BMW\n",
      "This is Vehicle\n",
      "Truck name is : Ford\n"
     ]
    }
   ],
   "source": [
    "# example hirarchical inheritance\n",
    "class Vehicle:\n",
    "    def info(self):\n",
    "        print('This is Vehicle')\n",
    "class Car(Vehicle):\n",
    "    def car_info(self,name):\n",
    "        print('Car name is :',name)\n",
    "class Truck (Vehicle):\n",
    "    def truck_info(self,name):\n",
    "        print(\"Truck name is :\",name)\n",
    "obj1= Car()\n",
    "obj1.info()\n",
    "obj1.car_info('BMW')\n",
    "obj2 = Truck()\n",
    "obj2.info()\n",
    "obj2.truck_info('Ford')\n"
   ]
  },
  {
   "cell_type": "code",
   "execution_count": 21,
   "id": "6d9f8d66",
   "metadata": {},
   "outputs": [],
   "source": [
    "# hybrid in heritance - spagetti code\n",
    "# sabai mix huni code eutai ma \n",
    "class Vehicle:\n",
    "    def vehicle_info(self):\n",
    "        print('Inside Vehicle class')\n",
    "\n",
    "class Car (Vehicle):\n",
    "    def truck_info(self):\n",
    "        pass\n",
    "class truck (Vehicle):\n",
    "    pass\n",
    "\n",
    "# sports Car can in herit properties of vehicle and car\n",
    "class SportsCar(Car,Vehicle):\n",
    "    def sports_car_info(self):\n",
    "        pass\n"
   ]
  },
  {
   "cell_type": "code",
   "execution_count": 26,
   "id": "c1447f3e",
   "metadata": {},
   "outputs": [
    {
     "name": "stdout",
     "output_type": "stream",
     "text": [
      "<__main__.Hello object at 0x000001ED89171550>\n",
      "<__main__.Hello object at 0x000001ED89171550>\n",
      "<__main__.Hello object at 0x000001ED89171550>\n"
     ]
    }
   ],
   "source": [
    "class Hello():\n",
    "    def hi(self): # self is an object crated outside of class\n",
    "        print(self)\n",
    "h = Hello()\n",
    "print(h)\n",
    "h.hi() # hello .hi(h)\n",
    "Hello.hi(h)\n"
   ]
  },
  {
   "cell_type": "code",
   "execution_count": 1,
   "id": "3142886c",
   "metadata": {},
   "outputs": [],
   "source": [
    "class Rectangle:\n",
    "    def __init__(self,length):\n",
    "        self.length= length\n",
    "        self.breath = []\n",
    "r1 = Rectangle(5)\n"
   ]
  },
  {
   "cell_type": "code",
   "execution_count": 3,
   "id": "94bad61a",
   "metadata": {},
   "outputs": [
    {
     "name": "stdout",
     "output_type": "stream",
     "text": [
      "<__main__.point object at 0x000002811F3DFCB0>\n"
     ]
    }
   ],
   "source": [
    "class point ():\n",
    "    def __init__(self, x ,y):\n",
    "        self.x = x\n",
    "        self.y = y\n",
    "p = point(3,4)\n",
    "print(p)"
   ]
  },
  {
   "cell_type": "code",
   "execution_count": null,
   "id": "69dbf031",
   "metadata": {},
   "outputs": [
    {
     "name": "stdout",
     "output_type": "stream",
     "text": [
      "point(3,5)\n"
     ]
    },
    {
     "data": {
      "text/plain": [
       "point(3,5)"
      ]
     },
     "execution_count": 10,
     "metadata": {},
     "output_type": "execute_result"
    }
   ],
   "source": [
    "# special method / double underscore/dunder/magic method\n",
    "class point ():\n",
    "    def __init__(self, x ,y):\n",
    "        self.x = x\n",
    "        self.y = y\n",
    "    def __str__(self):   # yeaslea chai print(p)  garda value print garcha\n",
    "        return f'point({self.x},{self.y})'\n",
    "    def __repr__(self):\n",
    "        return f'point({self.x},{self.y})' # yo chai p ko lagi matra value print garna ho\n",
    "p = point(3,5)\n",
    "print(p)\n",
    "p\n",
    "    "
   ]
  },
  {
   "cell_type": "code",
   "execution_count": 11,
   "id": "5ba189e4",
   "metadata": {},
   "outputs": [],
   "source": [
    "# two types of developers:\n",
    "# 1 framework / library /python - use garne  so hami yo use garcham\n",
    "# 2.framework / library /python - banaune"
   ]
  },
  {
   "cell_type": "code",
   "execution_count": 21,
   "id": "43d8cc4f",
   "metadata": {},
   "outputs": [
    {
     "ename": "TypeError",
     "evalue": "Add1() takes no arguments",
     "output_type": "error",
     "traceback": [
      "\u001b[31m---------------------------------------------------------------------------\u001b[39m",
      "\u001b[31mTypeError\u001b[39m                                 Traceback (most recent call last)",
      "\u001b[36mCell\u001b[39m\u001b[36m \u001b[39m\u001b[32mIn[21]\u001b[39m\u001b[32m, line 6\u001b[39m\n\u001b[32m      4\u001b[39m         totaly = \u001b[38;5;28mself\u001b[39m.y +other.y\n\u001b[32m      5\u001b[39m         \u001b[38;5;28;01mreturn\u001b[39;00m Add1 (totalx,totaly)\n\u001b[32m----> \u001b[39m\u001b[32m6\u001b[39m p1 = \u001b[43mAdd1\u001b[49m\u001b[43m \u001b[49m\u001b[43m(\u001b[49m\u001b[32;43m1\u001b[39;49m\u001b[43m,\u001b[49m\u001b[32;43m2\u001b[39;49m\u001b[43m)\u001b[49m\n\u001b[32m      7\u001b[39m p2 = Add1 (\u001b[32m2\u001b[39m,\u001b[32m3\u001b[39m)\n\u001b[32m      8\u001b[39m p1 + p2 \n",
      "\u001b[31mTypeError\u001b[39m: Add1() takes no arguments"
     ]
    }
   ],
   "source": [
    "\n",
    "class Add1():\n",
    "    def __add__(self,other):\n",
    "        totalx = self.x +other.x\n",
    "        totaly = self.y +other.y\n",
    "        return Add1 (totalx,totaly)\n",
    "p1 = Add1 (1,2)\n",
    "p2 = Add1 (2,3)\n",
    "p1 + p2 "
   ]
  },
  {
   "cell_type": "code",
   "execution_count": null,
   "id": "a6c6f5ea",
   "metadata": {},
   "outputs": [
    {
     "ename": "NameError",
     "evalue": "name 'sqrt' is not defined",
     "output_type": "error",
     "traceback": [
      "\u001b[31m---------------------------------------------------------------------------\u001b[39m",
      "\u001b[31mNameError\u001b[39m                                 Traceback (most recent call last)",
      "\u001b[36mCell\u001b[39m\u001b[36m \u001b[39m\u001b[32mIn[23]\u001b[39m\u001b[32m, line 19\u001b[39m\n\u001b[32m     17\u001b[39m p1 = point(\u001b[32m4\u001b[39m,\u001b[32m4\u001b[39m)\n\u001b[32m     18\u001b[39m p2 = point(\u001b[32m2\u001b[39m,\u001b[32m3\u001b[39m)\n\u001b[32m---> \u001b[39m\u001b[32m19\u001b[39m \u001b[43mp1\u001b[49m\u001b[43m \u001b[49m\u001b[43m>\u001b[49m\u001b[43m \u001b[49m\u001b[43mp2\u001b[49m\n",
      "\u001b[36mCell\u001b[39m\u001b[36m \u001b[39m\u001b[32mIn[23]\u001b[39m\u001b[32m, line 11\u001b[39m, in \u001b[36mpoint.__gt__\u001b[39m\u001b[34m(self, other)\u001b[39m\n\u001b[32m     10\u001b[39m \u001b[38;5;28;01mdef\u001b[39;00m\u001b[38;5;250m \u001b[39m\u001b[34m__gt__\u001b[39m(\u001b[38;5;28mself\u001b[39m,other):\n\u001b[32m---> \u001b[39m\u001b[32m11\u001b[39m     self_distance = \u001b[43msqrt\u001b[49m(\u001b[38;5;28mself\u001b[39m.x**\u001b[32m2\u001b[39m + \u001b[38;5;28mself\u001b[39m.y **\u001b[32m2\u001b[39m )\n\u001b[32m     12\u001b[39m     other_distance = sqrt (other.x **\u001b[32m2\u001b[39m + other.y **\u001b[32m2\u001b[39m)\n\u001b[32m     13\u001b[39m     \u001b[38;5;28;01mif\u001b[39;00m self_distance > other_distance:\n",
      "\u001b[31mNameError\u001b[39m: name 'sqrt' is not defined"
     ]
    }
   ],
   "source": [
    "import math\n",
    "class point ():\n",
    "    def __init__(self, x ,y):\n",
    "        self.x = x\n",
    "        self.y = y\n",
    "    def __str__(self):   # yeaslea chai print(p)  garda value print garcha\n",
    "        return f'point({self.x},{self.y})'\n",
    "    def __repr__(self):\n",
    "        return f'point({self.x},{self.y})' # yo chai p ko lagi matra value print garna ho\n",
    "    def __gt__(self,other):\n",
    "        self_distance = math.sqrt(self.x**2 + self.y **2 )\n",
    "        other_distance = math.sqrt (other.x **2 + other.y **2)\n",
    "        if self_distance > other_distance:\n",
    "            return True\n",
    "        else:\n",
    "            return False\n",
    "p1 = point(4,4)\n",
    "p2 = point(2,3)\n",
    "p1 > p2"
   ]
  },
  {
   "cell_type": "code",
   "execution_count": 32,
   "id": "49816d3f",
   "metadata": {},
   "outputs": [
    {
     "name": "stdout",
     "output_type": "stream",
     "text": [
      "True\n"
     ]
    }
   ],
   "source": [
    "import math\n",
    "\n",
    "class Point:\n",
    "    def __init__(self, x, y):\n",
    "        self.x = x\n",
    "        self.y = y\n",
    "\n",
    "    def __str__(self):  # For print(p)\n",
    "        return f'Point({self.x}, {self.y})'\n",
    "\n",
    "    def __repr__(self):  # For just typing p in interpreter\n",
    "        return f'Point({self.x}, {self.y})'\n",
    "\n",
    "    def __gt__(self, other):\n",
    "        self_distance = math.sqrt(self.x**2 + self.y**2)\n",
    "        other_distance = math.sqrt(other.x**2 + other.y**2)\n",
    "        return self_distance > other_distance\n",
    "    \n",
    "    def __lt__(self, other):\n",
    "        self_distance = math.sqrt(self.x**2 + self.y**2)\n",
    "        other_distance = math.sqrt(other.x**2 + other.y**2)\n",
    "        return self_distance < other_distance\n",
    "    def __eq__(self, other):\n",
    "        self_distance = math.sqrt(self.x**2 + self.y**2)\n",
    "        other_distance = math.sqrt(other.x**2 + other.y**2)\n",
    "        return self_distance == other_distance\n",
    "    \n",
    "\n",
    "p1 = Point(2, 3)\n",
    "p2 = Point(2, 3)\n",
    "\n",
    "print(p1 == p2)  # Output: True\n"
   ]
  },
  {
   "cell_type": "code",
   "execution_count": null,
   "id": "4bb87ac4",
   "metadata": {},
   "outputs": [],
   "source": []
  }
 ],
 "metadata": {
  "kernelspec": {
   "display_name": "Python 3",
   "language": "python",
   "name": "python3"
  },
  "language_info": {
   "codemirror_mode": {
    "name": "ipython",
    "version": 3
   },
   "file_extension": ".py",
   "mimetype": "text/x-python",
   "name": "python",
   "nbconvert_exporter": "python",
   "pygments_lexer": "ipython3",
   "version": "3.13.3"
  }
 },
 "nbformat": 4,
 "nbformat_minor": 5
}
