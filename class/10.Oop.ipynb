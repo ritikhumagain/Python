{
 "cells": [
  {
   "cell_type": "code",
   "execution_count": null,
   "id": "d79c9f94",
   "metadata": {},
   "outputs": [],
   "source": [
    "# Oop = Object Oriented Programming\n",
    "# class = person - blueprint/structure/termplate\n",
    "# Object= ram - actually exists /  instance of class\n"
   ]
  }
 ],
 "metadata": {
  "language_info": {
   "name": "python"
  }
 },
 "nbformat": 4,
 "nbformat_minor": 5
}
