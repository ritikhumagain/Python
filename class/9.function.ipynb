{
 "cells": [
  {
   "cell_type": "code",
   "execution_count": 1,
   "id": "ca16686f",
   "metadata": {},
   "outputs": [
    {
     "name": "stdout",
     "output_type": "stream",
     "text": [
      "3\n"
     ]
    }
   ],
   "source": [
    "x = 1  \n",
    "y = 2 \n",
    "sum  = x + y \n",
    "print(sum)\n"
   ]
  },
  {
   "cell_type": "code",
   "execution_count": 5,
   "id": "3cb14ddb",
   "metadata": {},
   "outputs": [
    {
     "name": "stdout",
     "output_type": "stream",
     "text": [
      "3\n",
      "3\n"
     ]
    }
   ],
   "source": [
    "#defining function :funx banako \n",
    "\n",
    "def addition():\n",
    "    x = 1 \n",
    "    y = 2 \n",
    "    sum = x + y \n",
    "    print(sum)\n",
    "addition()\n",
    "addition()"
   ]
  },
  {
   "cell_type": "code",
   "execution_count": 7,
   "id": "e112876f",
   "metadata": {},
   "outputs": [
    {
     "name": "stdout",
     "output_type": "stream",
     "text": [
      "9\n",
      "14\n"
     ]
    }
   ],
   "source": [
    "def addition(x , y):\n",
    "    \n",
    "    sum = x + y \n",
    "    print(sum)\n",
    "addition(4,5)\n",
    "addition(4,10)"
   ]
  },
  {
   "cell_type": "code",
   "execution_count": 6,
   "id": "8888c0f4",
   "metadata": {},
   "outputs": [
    {
     "name": "stdout",
     "output_type": "stream",
     "text": [
      "9\n",
      "14\n",
      "13\n",
      "6\n"
     ]
    }
   ],
   "source": [
    "def addition(x , y):\n",
    "    \n",
    "    sum = x + y \n",
    "    print(sum)\n",
    "addition(4,5)\n",
    "addition(4,10)\n",
    "addition(y = 5 , x = 8 )  # x=2 keyword argument   4 : positional argument\n",
    "# positional argument pachi chai key word rakhna milcha \n",
    "# keyword argument pachi chai positional argument rakhna mildaina\n",
    "addition(4, y= 2 )"
   ]
  },
  {
   "cell_type": "code",
   "execution_count": 3,
   "id": "9573dd3e",
   "metadata": {},
   "outputs": [],
   "source": [
    "#garna namilni tarika \n",
    "# addition (4,x = 2)"
   ]
  },
  {
   "cell_type": "code",
   "execution_count": 2,
   "id": "b147ff0c",
   "metadata": {},
   "outputs": [
    {
     "name": "stdout",
     "output_type": "stream",
     "text": [
      "9\n"
     ]
    }
   ],
   "source": [
    "def  addition(x,y):\n",
    "    sum1 = x + y \n",
    "    return sum1\n",
    "a = addition(1,2)\n",
    "print(a**2)\n"
   ]
  },
  {
   "cell_type": "code",
   "execution_count": null,
   "id": "f381b0c8",
   "metadata": {},
   "outputs": [],
   "source": [
    "def  compress_pdf(file):\n",
    "    compress_code = \"dfdkfdfklsdfksdfsldfk\" \n",
    "    return compress_code\n",
    "    "
   ]
  },
  {
   "cell_type": "code",
   "execution_count": null,
   "id": "1bb85238",
   "metadata": {},
   "outputs": [
    {
     "data": {
      "text/plain": [
       "8"
      ]
     },
     "execution_count": 11,
     "metadata": {},
     "output_type": "execute_result"
    }
   ],
   "source": [
    "# yeadi hamlea value diyea vanea ko case ma \n",
    "def  addition(x,y= 0 ): # y is called default argument \n",
    "    sum1 = x + y \n",
    "    return sum1\n",
    "addition(4) \n",
    "addition(4,4)  # by default 0 huna paryo keahi value send garya chaina vanea\n"
   ]
  },
  {
   "cell_type": "code",
   "execution_count": 13,
   "id": "ce9b63a3",
   "metadata": {},
   "outputs": [
    {
     "data": {
      "text/plain": [
       "(6, 2)"
      ]
     },
     "execution_count": 13,
     "metadata": {},
     "output_type": "execute_result"
    }
   ],
   "source": [
    "def calculator(x,y):\n",
    "    add  = x + y \n",
    "    sub  = x - y \n",
    "    return add, sub\n",
    "    # return sub\n",
    "# yeasari value aaudaina so hamle multiple value return garnu cha vanea comma garna parcha\n",
    "calculator(4,2)"
   ]
  },
  {
   "cell_type": "code",
   "execution_count": 14,
   "id": "c82d76c1",
   "metadata": {},
   "outputs": [
    {
     "data": {
      "text/plain": [
       "14"
      ]
     },
     "execution_count": 14,
     "metadata": {},
     "output_type": "execute_result"
    }
   ],
   "source": [
    "def addition (x,y,z,a):\n",
    "    sum = x + y + z + a\n",
    "    return sum \n",
    "addition(2,3,4,5)"
   ]
  },
  {
   "cell_type": "code",
   "execution_count": null,
   "id": "e179c4b1",
   "metadata": {},
   "outputs": [
    {
     "name": "stdout",
     "output_type": "stream",
     "text": [
      "25\n"
     ]
    }
   ],
   "source": [
    "# jati ota send garye ni chalna paryo \n",
    "def addition (*args): # support only positional argument it doesnot support keyword argument\n",
    "    sum = 0\n",
    "    for i in args :\n",
    "        \n",
    "        sum += i \n",
    "    # * means any numbers of arguments\n",
    "    print(sum)\n",
    "    # return sum\n",
    "\n",
    "# addition(3,4,5)\n",
    "addition(3,4,5,6,7)"
   ]
  },
  {
   "cell_type": "code",
   "execution_count": 24,
   "id": "8d60c1ed",
   "metadata": {},
   "outputs": [
    {
     "data": {
      "text/plain": [
       "3"
      ]
     },
     "execution_count": 24,
     "metadata": {},
     "output_type": "execute_result"
    }
   ],
   "source": [
    "def addition (** kwargs): # **means any number of key words arguments \n",
    "    sum = 0\n",
    "    for k , v in kwargs.items():\n",
    "        sum += v\n",
    "    return sum \n",
    "addition (x = 1, y = 2)\n",
    "# addition (3,4,5,6,x = 1, y = 2 ,z = 3)   # both positional and key word argument\n"
   ]
  },
  {
   "cell_type": "code",
   "execution_count": 26,
   "id": "41b0bdd1",
   "metadata": {},
   "outputs": [
    {
     "data": {
      "text/plain": [
       "24"
      ]
     },
     "execution_count": 26,
     "metadata": {},
     "output_type": "execute_result"
    }
   ],
   "source": [
    "def addition (*args,** kwargs): # **means any number of key words arguments \n",
    "    sum = 0\n",
    "    for k , v in kwargs.items():\n",
    "        sum += v\n",
    "    \n",
    "    for i in args :\n",
    "        sum += i\n",
    "    return sum\n",
    "# addition (x = 1, y = 2)\n",
    "addition (3,4,5,6,x = 1, y = 2 ,z = 3)   # both positional and key word argument\n"
   ]
  },
  {
   "cell_type": "code",
   "execution_count": null,
   "id": "d036ad8e",
   "metadata": {},
   "outputs": [
    {
     "name": "stdout",
     "output_type": "stream",
     "text": [
      "8\n"
     ]
    },
    {
     "ename": "NameError",
     "evalue": "name 'xyz' is not defined",
     "output_type": "error",
     "traceback": [
      "\u001b[31m---------------------------------------------------------------------------\u001b[39m",
      "\u001b[31mNameError\u001b[39m                                 Traceback (most recent call last)",
      "\u001b[36mCell\u001b[39m\u001b[36m \u001b[39m\u001b[32mIn[28]\u001b[39m\u001b[32m, line 5\u001b[39m\n\u001b[32m      3\u001b[39m     \u001b[38;5;28mprint\u001b[39m(xyz)\n\u001b[32m      4\u001b[39m hello()\n\u001b[32m----> \u001b[39m\u001b[32m5\u001b[39m \u001b[38;5;28mprint\u001b[39m(\u001b[43mxyz\u001b[49m)\n",
      "\u001b[31mNameError\u001b[39m: name 'xyz' is not defined"
     ]
    }
   ],
   "source": [
    "def hello ():\n",
    "    xyz = 8    # function level = local scope ma cha\n",
    "    print(xyz)\n",
    "hello()\n",
    "# print(xyz) # function vitrai huncha bahira hudaina vitrai sakincha "
   ]
  },
  {
   "cell_type": "code",
   "execution_count": null,
   "id": "3c824027",
   "metadata": {},
   "outputs": [
    {
     "name": "stdout",
     "output_type": "stream",
     "text": [
      "shyam \n"
     ]
    },
    {
     "data": {
      "text/plain": [
       "14"
      ]
     },
     "execution_count": 30,
     "metadata": {},
     "output_type": "execute_result"
    }
   ],
   "source": [
    "name = 'shyam ' # global scope - module level /file level\n",
    "print (name)\n",
    "def hi ():\n",
    "    name = 14\n",
    "    return name\n",
    "hi()\n"
   ]
  },
  {
   "cell_type": "code",
   "execution_count": 37,
   "id": "2c9b0bc7",
   "metadata": {},
   "outputs": [
    {
     "ename": "TypeError",
     "evalue": "'list' object is not callable",
     "output_type": "error",
     "traceback": [
      "\u001b[31m---------------------------------------------------------------------------\u001b[39m",
      "\u001b[31mTypeError\u001b[39m                                 Traceback (most recent call last)",
      "\u001b[36mCell\u001b[39m\u001b[36m \u001b[39m\u001b[32mIn[37]\u001b[39m\u001b[32m, line 1\u001b[39m\n\u001b[32m----> \u001b[39m\u001b[32m1\u001b[39m \u001b[38;5;28mprint\u001b[39m(\u001b[38;5;28;43mmax\u001b[39;49m\u001b[43m(\u001b[49m\u001b[43m[\u001b[49m\u001b[32;43m2\u001b[39;49m\u001b[43m,\u001b[49m\u001b[43m \u001b[49m\u001b[32;43m4\u001b[39;49m\u001b[43m,\u001b[49m\u001b[43m \u001b[49m\u001b[32;43m5\u001b[39;49m\u001b[43m]\u001b[49m\u001b[43m)\u001b[49m)  \u001b[38;5;66;03m# Output: 5\u001b[39;00m\n",
      "\u001b[31mTypeError\u001b[39m: 'list' object is not callable"
     ]
    }
   ],
   "source": [
    "print(max([2, 4, 5]))  # Output: 5\n",
    "\n"
   ]
  },
  {
   "cell_type": "code",
   "execution_count": null,
   "id": "cc931e0e",
   "metadata": {},
   "outputs": [
    {
     "data": {
      "text/plain": [
       "3"
      ]
     },
     "execution_count": 45,
     "metadata": {},
     "output_type": "execute_result"
    }
   ],
   "source": [
    "min ([2,4,45,4])  \n",
    "len ([2, 4, 5]) # Output: 5  # yo chai built in scope ho \n",
    "\n"
   ]
  },
  {
   "cell_type": "code",
   "execution_count": 46,
   "id": "748ce3c5",
   "metadata": {},
   "outputs": [],
   "source": [
    "def hi () :\n",
    "    print (first_name) #first ma local scope hercha teo pachi global scope ma hercha ani teo pachi built in scope ma hercha "
   ]
  },
  {
   "cell_type": "code",
   "execution_count": 47,
   "id": "7249eb86",
   "metadata": {},
   "outputs": [],
   "source": [
    "# built in scope - any where in pyton file - print min max , sorted, sum \n",
    "#global scope - created variable within python file/module \n",
    "#local scope - inside function "
   ]
  },
  {
   "cell_type": "code",
   "execution_count": null,
   "id": "6636b064",
   "metadata": {},
   "outputs": [
    {
     "name": "stdout",
     "output_type": "stream",
     "text": [
      "2\n",
      "5\n"
     ]
    }
   ],
   "source": [
    "# practice\n",
    "x = 5 \n",
    "def hello ():\n",
    "    x = 2 \n",
    "    \n",
    "    return x \n",
    "\n",
    "print(hello ())\n",
    "print(x)\n"
   ]
  },
  {
   "cell_type": "code",
   "execution_count": null,
   "id": "a81f59fc",
   "metadata": {},
   "outputs": [
    {
     "data": {
      "text/plain": [
       "7"
      ]
     },
     "execution_count": 57,
     "metadata": {},
     "output_type": "execute_result"
    }
   ],
   "source": [
    "# Important concept \n",
    "x = 5 \n",
    "def hello ():\n",
    "    # x = x + 2 \n",
    "    y = x + 2  # same variable ma assign garna mildaina value navai kana local ma \n",
    "    return y \n",
    "hello() "
   ]
  },
  {
   "cell_type": "code",
   "execution_count": null,
   "id": "e3adedba",
   "metadata": {},
   "outputs": [
    {
     "name": "stdout",
     "output_type": "stream",
     "text": [
      "7\n"
     ]
    }
   ],
   "source": [
    "# vitra ko lai ni global banauna milcha tara sakye saama use nagarni global kina vanda confussion aaucha\n",
    "x = 5 \n",
    "def hello():\n",
    "    global x \n",
    "    x = x + 2\n",
    "    return x\n",
    "hello ()\n",
    "print(x)"
   ]
  },
  {
   "cell_type": "code",
   "execution_count": null,
   "id": "60719aff",
   "metadata": {},
   "outputs": [],
   "source": []
  }
 ],
 "metadata": {
  "kernelspec": {
   "display_name": "Python 3",
   "language": "python",
   "name": "python3"
  },
  "language_info": {
   "codemirror_mode": {
    "name": "ipython",
    "version": 3
   },
   "file_extension": ".py",
   "mimetype": "text/x-python",
   "name": "python",
   "nbconvert_exporter": "python",
   "pygments_lexer": "ipython3",
   "version": "3.13.3"
  }
 },
 "nbformat": 4,
 "nbformat_minor": 5
}
