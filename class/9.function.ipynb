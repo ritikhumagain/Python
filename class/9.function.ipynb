{
 "cells": [
  {
   "cell_type": "code",
   "execution_count": 1,
   "id": "ca16686f",
   "metadata": {},
   "outputs": [
    {
     "name": "stdout",
     "output_type": "stream",
     "text": [
      "3\n"
     ]
    }
   ],
   "source": [
    "x = 1  \n",
    "y = 2 \n",
    "sum  = x + y \n",
    "print(sum)\n"
   ]
  },
  {
   "cell_type": "code",
   "execution_count": 5,
   "id": "3cb14ddb",
   "metadata": {},
   "outputs": [
    {
     "name": "stdout",
     "output_type": "stream",
     "text": [
      "3\n",
      "3\n"
     ]
    }
   ],
   "source": [
    "#defining function :funx banako \n",
    "\n",
    "def addition():\n",
    "    x = 1 \n",
    "    y = 2 \n",
    "    sum = x + y \n",
    "    print(sum)\n",
    "addition()\n",
    "addition()"
   ]
  },
  {
   "cell_type": "code",
   "execution_count": 7,
   "id": "e112876f",
   "metadata": {},
   "outputs": [
    {
     "name": "stdout",
     "output_type": "stream",
     "text": [
      "9\n",
      "14\n"
     ]
    }
   ],
   "source": [
    "def addition(x , y):\n",
    "    \n",
    "    sum = x + y \n",
    "    print(sum)\n",
    "addition(4,5)\n",
    "addition(4,10)"
   ]
  },
  {
   "cell_type": "code",
   "execution_count": 6,
   "id": "8888c0f4",
   "metadata": {},
   "outputs": [
    {
     "name": "stdout",
     "output_type": "stream",
     "text": [
      "9\n",
      "14\n",
      "13\n",
      "6\n"
     ]
    }
   ],
   "source": [
    "def addition(x , y):\n",
    "    \n",
    "    sum = x + y \n",
    "    print(sum)\n",
    "addition(4,5)\n",
    "addition(4,10)\n",
    "addition(y = 5 , x = 8 )  # x=2 keyword argument   4 : positional argument\n",
    "# positional argument pachi chai key word rakhna milcha \n",
    "# keyword argument pachi chai positional argument rakhna mildaina\n",
    "addition(4, y= 2 )"
   ]
  },
  {
   "cell_type": "code",
   "execution_count": 3,
   "id": "9573dd3e",
   "metadata": {},
   "outputs": [],
   "source": [
    "#garna namilni tarika \n",
    "# addition (4,x = 2)"
   ]
  },
  {
   "cell_type": "code",
   "execution_count": 2,
   "id": "b147ff0c",
   "metadata": {},
   "outputs": [
    {
     "name": "stdout",
     "output_type": "stream",
     "text": [
      "9\n"
     ]
    }
   ],
   "source": [
    "def  addition(x,y):\n",
    "    sum1 = x + y \n",
    "    return sum1\n",
    "a = addition(1,2)\n",
    "print(a**2)\n"
   ]
  },
  {
   "cell_type": "code",
   "execution_count": null,
   "id": "f381b0c8",
   "metadata": {},
   "outputs": [],
   "source": [
    "def  compress_pdf(file):\n",
    "    compress_code = \"dfdkfdfklsdfksdfsldfk\" \n",
    "    return compress_code\n",
    "    "
   ]
  },
  {
   "cell_type": "code",
   "execution_count": null,
   "id": "1bb85238",
   "metadata": {},
   "outputs": [
    {
     "data": {
      "text/plain": [
       "8"
      ]
     },
     "execution_count": 11,
     "metadata": {},
     "output_type": "execute_result"
    }
   ],
   "source": [
    "# yeadi hamlea value diyea vanea ko case ma \n",
    "def  addition(x,y= 0 ): # y is called default argument \n",
    "    sum1 = x + y \n",
    "    return sum1\n",
    "addition(4) \n",
    "addition(4,4)  # by default 0 huna paryo keahi value send garya chaina vanea\n"
   ]
  },
  {
   "cell_type": "code",
   "execution_count": 13,
   "id": "ce9b63a3",
   "metadata": {},
   "outputs": [
    {
     "data": {
      "text/plain": [
       "(6, 2)"
      ]
     },
     "execution_count": 13,
     "metadata": {},
     "output_type": "execute_result"
    }
   ],
   "source": [
    "def calculator(x,y):\n",
    "    add  = x + y \n",
    "    sub  = x - y \n",
    "    return add, sub\n",
    "    # return sub\n",
    "# yeasari value aaudaina so hamle multiple value return garnu cha vanea comma garna parcha\n",
    "calculator(4,2)"
   ]
  },
  {
   "cell_type": "code",
   "execution_count": 14,
   "id": "c82d76c1",
   "metadata": {},
   "outputs": [
    {
     "data": {
      "text/plain": [
       "14"
      ]
     },
     "execution_count": 14,
     "metadata": {},
     "output_type": "execute_result"
    }
   ],
   "source": [
    "def addition (x,y,z,a):\n",
    "    sum = x + y + z + a\n",
    "    return sum \n",
    "addition(2,3,4,5)"
   ]
  },
  {
   "cell_type": "code",
   "execution_count": null,
   "id": "e179c4b1",
   "metadata": {},
   "outputs": [],
   "source": []
  }
 ],
 "metadata": {
  "kernelspec": {
   "display_name": "Python 3",
   "language": "python",
   "name": "python3"
  },
  "language_info": {
   "codemirror_mode": {
    "name": "ipython",
    "version": 3
   },
   "file_extension": ".py",
   "mimetype": "text/x-python",
   "name": "python",
   "nbconvert_exporter": "python",
   "pygments_lexer": "ipython3",
   "version": "3.13.3"
  }
 },
 "nbformat": 4,
 "nbformat_minor": 5
}
