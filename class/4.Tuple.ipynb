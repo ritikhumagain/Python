{
 "cells": [
  {
   "cell_type": "code",
   "execution_count": 1,
   "id": "936a0955",
   "metadata": {},
   "outputs": [
    {
     "name": "stdout",
     "output_type": "stream",
     "text": [
      "(1, 2, 3, 4, 5) <class 'tuple'>\n"
     ]
    }
   ],
   "source": [
    "#tuple datatye / data structure\n",
    "x = (1,2,3,4,5)\n",
    "print(x,type(x))\n"
   ]
  },
  {
   "cell_type": "code",
   "execution_count": null,
   "id": "380c2887",
   "metadata": {},
   "outputs": [],
   "source": [
    "# 📘 Python Tuple Operations — All-Purpose Reference with Examples\n",
    "\n",
    "# ✅ 1. Creating Tuples\n",
    "tup = (1, 2, 3, 4, 5)\n",
    "print(tup)\n",
    "\n",
    "# ✅ 2. Tuple with Mixed Data Types\n",
    "mixed = (1, \"hello\", 3.5, True)\n",
    "print(mixed)\n",
    "\n",
    "# ✅ 3. Accessing Elements (Indexing)\n",
    "# Syntax: tuple[index]\n",
    "print(tup[0])    # First element\n",
    "print(tup[-1])   # Last element\n",
    "\n",
    "# ✅ 4. Slicing Tuples\n",
    "# Syntax: tuple[start:end:step]\n",
    "print(tup[1:4])  # (2, 3, 4)\n",
    "print(tup[::-1]) # Reversed tuple\n",
    "\n",
    "# ✅ 5. Tuple Immutability\n",
    "# tup[0] = 10  # ❌ This will raise TypeError because tuples are immutable\n",
    "\n",
    "# ✅ 6. Tuple Length\n",
    "print(len(tup))\n",
    "\n",
    "# ✅ 7. Iterating Through Tuple\n",
    "for item in tup:\n",
    "    print(item)\n",
    "\n",
    "# ✅ 8. Membership Test\n",
    "print(3 in tup)     # True\n",
    "print(6 not in tup) # True\n",
    "\n",
    "# ✅ 9. Nested Tuples\n",
    "nested = ((1, 2), (3, 4))\n",
    "print(nested[0])     # (1, 2)\n",
    "print(nested[0][1])  # 2\n",
    "\n",
    "# ✅ 10. Tuple Concatenation\n",
    "print(tup + (6, 7))\n",
    "\n",
    "# ✅ 11. Tuple Repetition\n",
    "print(tup * 2)\n",
    "\n",
    "# ✅ 12. Count & Index Methods\n",
    "# Syntax: tuple.count(value), tuple.index(value)\n",
    "tup2 = (1, 2, 1, 3, 1)\n",
    "print(tup2.count(1))  # Count occurrences of 1\n",
    "print(tup2.index(3))  # Index of first occurrence of 3\n",
    "\n",
    "# ✅ 13. Single-Element Tuple\n",
    "one = (10,)  # Note the comma\n",
    "print(type(one))  # <class 'tuple'>\n",
    "\n",
    "# ✅ 14. Tuple Unpacking\n",
    "a, b, c, d, e = tup\n",
    "print(a, b, c, d, e)\n",
    "\n",
    "# ✅ 15. Using * to Collect Remaining Values\n",
    "x, *y, z = (1, 2, 3, 4, 5)\n",
    "print(x)  # 1\n",
    "print(y)  # [2, 3, 4]\n",
    "print(z)  # 5\n",
    "\n",
    "# ✅ 16. Tuple as Function Return\n",
    "def min_max(numbers):\n",
    "    return (min(numbers), max(numbers))\n",
    "\n",
    "result = min_max([5, 1, 9, 2])\n",
    "print(result)  # (1, 9)\n",
    "\n",
    "# ✅ 17. Convert Between Tuple and List\n",
    "lst = list(tup)  # Convert to list\n",
    "tuple_again = tuple(lst)  # Back to tuple\n",
    "print(lst, tuple_again)\n",
    "\n",
    "# ✅ 18. Using Tuples as Dictionary Keys\n",
    "d = { (1,2): \"a\", (3,4): \"b\" }\n",
    "print(d[(1,2)])  # a\n",
    "\n",
    "# ✅ 19. Tuple Sorting (requires conversion to list)\n",
    "sorted_tup = tuple(sorted(tup, reverse=True))\n",
    "print(sorted_tup)\n",
    "\n",
    "# ✅ 20. Checking Tuple Type\n",
    "print(isinstance(tup, tuple))  # True\n",
    "\n",
    "# ✅ 21. Tuple Comparison\n",
    "t1 = (1, 2, 3)\n",
    "t2 = (1, 2, 4)\n",
    "print(t1 < t2)  # True (compares element-wise)\n",
    "\n",
    "# ✅ 22. Tuple Multiplication and Concatenation Combined\n",
    "print((1, 2) * 3 + (3,))  # (1, 2, 1, 2, 1, 2, 3)\n",
    "\n",
    "# ✅ 23. Max, Min, and Sum (if all elements are numeric)\n",
    "numeric_tup = (4, 2, 8, 1)\n",
    "print(max(numeric_tup))  # 8\n",
    "print(min(numeric_tup))  # 1\n",
    "print(sum(numeric_tup))  # 15\n",
    "\n",
    "# ✅ 24. Tuple Comprehension via Generator Expression\n",
    "squares = tuple(x*x for x in range(5))\n",
    "print(squares)  # (0, 1, 4, 9, 16)\n",
    "\n",
    "# ✅ 25. Tuple with No Elements\n",
    "empty = ()\n",
    "print(empty, type(empty))  # () <class 'tuple'>\n"
   ]
  },
  {
   "cell_type": "code",
   "execution_count": 2,
   "id": "9122e863",
   "metadata": {},
   "outputs": [
    {
     "name": "stdout",
     "output_type": "stream",
     "text": [
      "(1, 1.3, 4j, 'string', [1, 2, 3], (1, 2, 3), {1, 2}, {'name': 'ritik'}) <class 'tuple'>\n"
     ]
    }
   ],
   "source": [
    "#supports any type of data structure \n",
    "#ordered collection\n",
    "x = (1,1.3,4j,'string',[1,2,3],(1,2,3),{1,2},{\"name\":'ritik'})\n",
    "print(x,type(x))\n"
   ]
  },
  {
   "cell_type": "code",
   "execution_count": 7,
   "id": "a7e93d72",
   "metadata": {},
   "outputs": [],
   "source": [
    "#tuple is immutable data structure = cannot be changed once defined\n",
    "x = (1,2,3,4,5)\n",
    "# x[0]='number'  error aucha\n"
   ]
  },
  {
   "cell_type": "code",
   "execution_count": 6,
   "id": "ee8ab02d",
   "metadata": {},
   "outputs": [
    {
     "name": "stdout",
     "output_type": "stream",
     "text": [
      "3\n",
      "(3, 4)\n"
     ]
    }
   ],
   "source": [
    "#indexing\n",
    "x = (1,2,3,4,5)\n",
    "print(x[2])\n",
    "print(x[2:4])"
   ]
  },
  {
   "cell_type": "code",
   "execution_count": 10,
   "id": "94165276",
   "metadata": {},
   "outputs": [],
   "source": [
    "# tuple ma k k garna milcha vanyeara herna help(tuple)\n",
    "# help(tuple)"
   ]
  },
  {
   "cell_type": "code",
   "execution_count": null,
   "id": "464b6c7f",
   "metadata": {},
   "outputs": [
    {
     "name": "stdout",
     "output_type": "stream",
     "text": [
      "1\n"
     ]
    }
   ],
   "source": [
    "#count \n",
    "print(x.count(3))\n",
    "print(x.index(3))\n"
   ]
  },
  {
   "cell_type": "code",
   "execution_count": null,
   "id": "5c1fce2c",
   "metadata": {},
   "outputs": [
    {
     "name": "stdout",
     "output_type": "stream",
     "text": [
      "<class 'int'>\n",
      "<class 'tuple'>\n",
      "<class 'tuple'>\n"
     ]
    }
   ],
   "source": [
    "#  tuple kasari huncha: , vayo vanea\n",
    "x = (1)\n",
    "print(type(x))\n",
    "y = (1,2,3)\n",
    "print(type(y))\n",
    "z = 1,2,3,4\n",
    "print(type(z))\n",
    "\n",
    "\n",
    "\n"
   ]
  },
  {
   "cell_type": "code",
   "execution_count": 18,
   "id": "5fddb328",
   "metadata": {},
   "outputs": [
    {
     "name": "stdout",
     "output_type": "stream",
     "text": [
      "1\n",
      "2\n",
      "3\n",
      "2\n"
     ]
    }
   ],
   "source": [
    "#tuple unpacking \n",
    "x,y,z= 1,2,3\n",
    "print(x)\n",
    "print(y)\n",
    "print(z)\n",
    "x = x + 1\n",
    "print(x)"
   ]
  },
  {
   "cell_type": "code",
   "execution_count": null,
   "id": "51d94c28",
   "metadata": {},
   "outputs": [
    {
     "name": "stdout",
     "output_type": "stream",
     "text": [
      "(1, 'ram', 22, 9840027049, 5.9) <class 'tuple'>\n",
      "{'id': 1, 'name': 'ram', 'age': 22, 'contact': 9840027049, 'height': 5.9} <class 'dict'>\n",
      "ram\n",
      "9840027049\n",
      "{'id': 1, 'name': 'ram', 'age': 22, 'contact': 9840027049, 'height': 5.9, 'email': 'ritikhumagain@gmail.com'}\n",
      "{'id': 1, 'name': 'ram', 'contact': 9840027049, 'height': 5.9, 'email': 'ritikhumagain@gmail.com'}\n"
     ]
    }
   ],
   "source": [
    "#list vs tuple \n",
    "#list mutable but tuple immutable \n",
    "# list [] but tuple (,) comma is neccessary \n",
    "#list is slower than tuple tuple is faster\n",
    "#list takes more merory than tuple \n",
    "#list homogenous datastructure where as tuple heterogenous datastructure\n",
    "#generally\n",
    "fruits = ['apple','banana','kiwi']\n",
    "person1 = (1,'ram',22,9840027049,5.9)\n",
    "print(person1,type(person1)) #, rakhyo vanyea aaru kura pani access garna milcha \n",
    "person= {\n",
    "    'id':1,\n",
    "    'name':'ram',\n",
    "    'age':22,\n",
    "    'contact':9840027049,\n",
    "    'height':5.9,\n",
    "}\n",
    "print(person,type(person))\n",
    "print(person['name']) #dic ko kunai key lina paryo vane\n",
    "print(person['contact']) #dic ko kunai key matra lina paryo vane\n",
    "# kunai kura thapna paryo vanea \n",
    "person['email'] = 'ritikhumagain@gmail.com'\n",
    "print(person)\n",
    "#kunai kura del garna paryo vanea \n",
    "del person['age']\n",
    "print(person)\n",
    "#dist ma k k garna mailcha herna help(dist)\n"
   ]
  },
  {
   "cell_type": "code",
   "execution_count": 54,
   "id": "6c803d49",
   "metadata": {},
   "outputs": [],
   "source": [
    "# help(dict)"
   ]
  },
  {
   "cell_type": "code",
   "execution_count": null,
   "id": "1c73c92f",
   "metadata": {},
   "outputs": [],
   "source": [
    "y = person.copy()\n",
    "y['age'] = 25   #error copy garda \n",
    "pe\n"
   ]
  },
  {
   "cell_type": "code",
   "execution_count": null,
   "id": "51cb2899",
   "metadata": {},
   "outputs": [
    {
     "name": "stdout",
     "output_type": "stream",
     "text": [
      "22\n",
      "There is no email\n"
     ]
    }
   ],
   "source": [
    "#non datastructure\n",
    "person= {\n",
    "    'id':1,\n",
    "    'name':'ram',\n",
    "    'age':22,\n",
    "    'contact':9840027049,\n",
    "    'height':5.9,\n",
    "}\n",
    "print(person.get('age', 'there is no age'))  \n",
    "#print(person('age'))  \n",
    "\n",
    "print(person.get('email','There is no email'))  "
   ]
  },
  {
   "cell_type": "code",
   "execution_count": 48,
   "id": "5eaa0d02",
   "metadata": {},
   "outputs": [
    {
     "name": "stdout",
     "output_type": "stream",
     "text": [
      "dict_keys(['id', 'name', 'age', 'contact', 'height'])\n",
      "dict_values([1, 'ram', 22, 9840027049, 5.9])\n",
      "dict_items([('id', 1), ('name', 'ram'), ('age', 22), ('contact', 9840027049), ('height', 5.9)])\n",
      "{'id': 1, 'name': 'ram', 'age': 22, 'contact': 9840027049, 'height': 5.9}\n"
     ]
    }
   ],
   "source": [
    "# key k k ho tha paunu cha vanyea \n",
    "print(person.keys())\n",
    "print(person.values())\n",
    "print(person.items())\n",
    "print(person)\n"
   ]
  },
  {
   "cell_type": "code",
   "execution_count": 51,
   "id": "beb528c3",
   "metadata": {},
   "outputs": [
    {
     "name": "stdout",
     "output_type": "stream",
     "text": [
      "{'id': 1, 'age': 22, 'contact': 9840027049, 'height': 5.9}\n"
     ]
    }
   ],
   "source": [
    "# kunai point bata del garna \n",
    "person= {\n",
    "    'id':1,\n",
    "    'name':'ram',\n",
    "    'age':22,\n",
    "    'contact':9840027049,\n",
    "    'height':5.9,\n",
    "}\n",
    "person.pop('name')\n",
    "print(person)"
   ]
  },
  {
   "cell_type": "code",
   "execution_count": null,
   "id": "ba6a7db6",
   "metadata": {},
   "outputs": [
    {
     "name": "stdout",
     "output_type": "stream",
     "text": [
      "None\n"
     ]
    }
   ],
   "source": [
    "# update garna \n",
    "person= {\n",
    "    'id':1,\n",
    "    'name':'ram',\n",
    "    'age':22,\n",
    "    'contact':9840027049,\n",
    "    'height':5.9,\n",
    "}\n",
    "person.update({'email':'ram@gmail.com','college':\"ncit\"})\n",
    "print(person)\n",
    "# print(person.update({'email':'ram@gmail.com','college':\"ncit\"}))\n",
    "# yeasma kina print vayeana vanea update garni kura print gardai cha so \\\n"
   ]
  },
  {
   "cell_type": "code",
   "execution_count": null,
   "id": "8a4071e4",
   "metadata": {},
   "outputs": [],
   "source": []
  }
 ],
 "metadata": {
  "kernelspec": {
   "display_name": "Python 3",
   "language": "python",
   "name": "python3"
  },
  "language_info": {
   "codemirror_mode": {
    "name": "ipython",
    "version": 3
   },
   "file_extension": ".py",
   "mimetype": "text/x-python",
   "name": "python",
   "nbconvert_exporter": "python",
   "pygments_lexer": "ipython3",
   "version": "3.13.3"
  }
 },
 "nbformat": 4,
 "nbformat_minor": 5
}
