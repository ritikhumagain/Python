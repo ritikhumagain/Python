{
 "cells": [
  {
   "cell_type": "code",
   "execution_count": 25,
   "id": "2851d36b",
   "metadata": {},
   "outputs": [
    {
     "data": {
      "text/plain": [
       "{1: 2, 2: 4}"
      ]
     },
     "execution_count": 25,
     "metadata": {},
     "output_type": "execute_result"
    }
   ],
   "source": [
    "#changing any type of data type into another data type  \n",
    "float(5)  # 5.0 decimal point add garcha\n",
    "int(5.3333) # 5 pachadi ko hataidincha truncate the value  \n",
    "str(56)\n",
    "float('2.5') #Conversion to and from string must contain compatible value \n",
    "set([1,2,3]) \n",
    "list(\"string\")\n",
    "dict([(1,2),(2,4)]) # list into dict but have to have two pair\n",
    " "
   ]
  },
  {
   "cell_type": "code",
   "execution_count": 26,
   "id": "7a8cc954",
   "metadata": {},
   "outputs": [
    {
     "name": "stdout",
     "output_type": "stream",
     "text": [
      "simple_intrest is : 10.0\n"
     ]
    }
   ],
   "source": [
    "#simple_intrest calculation = p*t*r/100\n",
    "p = int(input('enter the value of p'))\n",
    "t = int(input('enter the value of t'))\n",
    "r = int(input('enter the value of r'))\n",
    "simple_intrest = p*t*r/100\n",
    "#f string interpolation\n",
    "print(f'simple_intrest is : {simple_intrest}')  "
   ]
  },
  {
   "cell_type": "code",
   "execution_count": 27,
   "id": "6bebe554",
   "metadata": {},
   "outputs": [
    {
     "name": "stdout",
     "output_type": "stream",
     "text": [
      "The area and perimeter are (100, 40)\n"
     ]
    }
   ],
   "source": [
    "#area and perimeter of the rectange\n",
    "#area = l * b \n",
    "#perimeter = 2 * (l + b)\n",
    "leng = int(input('enter the value of length'))\n",
    "bre = int(input('enter the value of breath'))\n",
    "area = leng * bre\n",
    "perimeter = 2 * (leng + bre)\n",
    "print(f'The area and perimeter are {area,perimeter}')"
   ]
  },
  {
   "cell_type": "code",
   "execution_count": 28,
   "id": "2d7732c6",
   "metadata": {},
   "outputs": [
    {
     "name": "stdout",
     "output_type": "stream",
     "text": [
      "15\n",
      "7\n",
      "12\n",
      "2.5\n",
      "2\n",
      "2\n",
      "8\n"
     ]
    }
   ],
   "source": [
    "#arithmetic operator \n",
    "#addition (+ )\n",
    "a = 10 + 5\n",
    "print(a)  # 15\n",
    "\n",
    "#Subtration (-) \n",
    "a = 10 - 3\n",
    "print(a)  # 7\n",
    "\n",
    "#Multiplication (* )\n",
    "a = 4 * 3\n",
    "print(a)  # 12\n",
    "\n",
    "# Division  (/)\n",
    "a = 10 / 4\n",
    "print(a)  # 2.5\n",
    "\n",
    "#Floor division  (//)\n",
    "# division but returns integer result integer division\n",
    "a = 10 // 4\n",
    "print(a)  # 2\n",
    "\n",
    "# Modulus (%)\n",
    "# Returns the remainder of division.\n",
    "a = 10 % 4\n",
    "print(a)  # 2\n",
    "\n",
    "#Exponentiation \n",
    "#Raises number to apower . #power operator\n",
    "a = 2 ** 3\n",
    "print(a)  # 8\n",
    "\n"
   ]
  },
  {
   "cell_type": "code",
   "execution_count": 30,
   "id": "d63d81c8",
   "metadata": {},
   "outputs": [
    {
     "data": {
      "text/plain": [
       "False"
      ]
     },
     "execution_count": 30,
     "metadata": {},
     "output_type": "execute_result"
    }
   ],
   "source": [
    "# Comparison / Relational Operator \n",
    "\n",
    "#  Equal To (==)\n",
    "# Checks if two values are equal.\n",
    "5 == 5   # True\n",
    "5 == 3   # False\n",
    "\n",
    "# Not Equal To (!=)\n",
    "# Checks if two values are not equal.\n",
    "5 != 3   # True\n",
    "5 != 5   # False\n",
    "\n",
    "#  Greater Than (>)\n",
    "# Checks if the left value is greater than the right.\n",
    "7 > 5    # True\n",
    "4 > 6    # False\n",
    "\n",
    "# Less Than (<)\n",
    "# Checks if the left value is less than the right.\n",
    "3 < 4    # True\n",
    "5 < 2    # False\n",
    "\n",
    "#  Greater Than or Equal To (>=)\n",
    "# Checks if the left value is greater than or equal to the right.\n",
    "6 >= 6   # True\n",
    "6 >= 2   # True\n",
    "6 >= 7   # False\n",
    "\n",
    "# Less Than or Equal To (<=)\n",
    "# Checks if the left value is less than or equal to the right.\n",
    "4 <= 4   # True\n",
    "3 <= 5   # True\n",
    "6 <= 1   # False\n",
    "\n"
   ]
  },
  {
   "cell_type": "code",
   "execution_count": 31,
   "id": "90acb78b",
   "metadata": {},
   "outputs": [
    {
     "name": "stdout",
     "output_type": "stream",
     "text": [
      "True\n",
      "False\n",
      "False\n",
      "True\n",
      "False\n",
      "False\n",
      "True\n"
     ]
    }
   ],
   "source": [
    "#Logical operator\n",
    "# and\n",
    "# Returns True only if both operands are True.\n",
    "print(True and True)    # True\n",
    "print(True and False)   # False\n",
    "print(False and False)  # False\n",
    "# 2. or\n",
    "# Returns True if at least one operand is True.\n",
    "print(True or False)    # True\n",
    "print(False or False)   # False\n",
    "\n",
    "# 3. not\n",
    "# Inverts the Boolean value.\n",
    "print(not True)         # False\n",
    "print(not False)        # True\n",
    "\n",
    "\n",
    "#precedence \n",
    "    # small bracket \n",
    "    # and\n",
    "    # or "
   ]
  },
  {
   "cell_type": "code",
   "execution_count": null,
   "id": "c47d9064",
   "metadata": {},
   "outputs": [],
   "source": [
    "# Bitwise operator \n",
    "a = 5   # Binary: 0101\n",
    "b = 3   # Binary: 0011\n",
    "\n",
    "print(a & b)    # 1   (AND)\n",
    "print(a | b)    # 7   (OR)\n",
    "print(a ^ b)    # 6   (XOR)\n",
    "print(~a)       # -6  (NOT)\n",
    "print(a << 1)   # 10  (Left Shift)\n",
    "print(a >> 1)   # 2   (Right Shift)\n",
    "\n"
   ]
  },
  {
   "cell_type": "code",
   "execution_count": 34,
   "id": "a03c6225",
   "metadata": {},
   "outputs": [],
   "source": [
    "#Assignment operator \n",
    "# Initial values\n",
    "x = 10\n",
    "y = 5\n",
    "\n",
    "# 1. Addition Assignment\n",
    "x += y  # x = x + y\n",
    "\n",
    "# 2. Subtraction Assignment\n",
    "x -= y  # x = x - y\n",
    "\n",
    "# 3. Multiplication Assignment\n",
    "x *= y  # x = x * y\n",
    "\n",
    "# 4. Division Assignment\n",
    "x /= y  # x = x / y → result will be float\n",
    "\n",
    "# 5. Floor Division Assignment\n",
    "x //= y  # x = x // y\n",
    "\n",
    "# 6. Modulus Assignment\n",
    "x %= y  # x = x % y\n",
    "\n",
    "# 7. Exponentiation Assignment\n",
    "x = 2\n",
    "y = 3\n",
    "x **= y  # x = x ** y\n",
    "\n",
    "# Now reset x and y for bitwise assignment (x must be int)\n",
    "x = 6   # binary: 110\n",
    "y = 3   # binary: 011\n",
    "\n",
    "# 8. Bitwise AND Assignment\n",
    "x &= y  # x = x & y\n",
    "\n",
    "# 9. Bitwise OR Assignment\n",
    "x |= y  # x = x | y\n",
    "\n",
    "# 10. Bitwise XOR Assignment\n",
    "x ^= y  # x = x ^ y\n",
    "\n",
    "# 11. Left Shift Assignment\n",
    "x <<= 1  # x = x << 1\n",
    "\n",
    "# 12. Right Shift Assignment\n",
    "x >>= 2  # x = x >> 2\n",
    "\n"
   ]
  },
  {
   "cell_type": "code",
   "execution_count": null,
   "id": "5d72764a",
   "metadata": {},
   "outputs": [
    {
     "name": "stdout",
     "output_type": "stream",
     "text": [
      "x and y is equal  False\n",
      "2554385719056\n",
      "2554385721936\n"
     ]
    }
   ],
   "source": [
    "#Identity Operators \n",
    "# is \n",
    "# check the memory address\n",
    "# 0 -256 value stores in same memory location \n",
    "x = 2 \n",
    "y = 2 \n",
    "x is y \n",
    "x = 300\n",
    "y = 300\n",
    "print(\"x and y is equal \",x is y )\n",
    "print(id(x))\n",
    "print(id(y)) \n",
    "\n",
    "# Example 1: Comparing integers with small values (interning)\n",
    "a = 10\n",
    "b = 10\n",
    "print(a is b)       # True — small integers are cached by Python, so same object\n",
    "print(a == b)       # True — values are equal\n",
    "\n",
    "# Example 2: Comparing integers with larger values\n",
    "x = 1000\n",
    "y = 1000\n",
    "print(x is y)       # False — large integers are not cached, different objects\n",
    "print(x == y)       # True — values are equal\n",
    "\n",
    "# Example 3: Comparing lists (mutable objects)\n",
    "list1 = [1, 2, 3]\n",
    "list2 = [1, 2, 3]\n",
    "print(list1 is list2)   # False — two different lists in memory\n",
    "print(list1 == list2)   # True — values inside are equal\n",
    "\n",
    "# Example 4: Two variables pointing to the same list\n",
    "list3 = list1\n",
    "print(list3 is list1)   # True — both point to the same object\n",
    "print(list3 == list1)   # True — obviously same values\n",
    "\n",
    "# Example 5: Using 'is not'\n",
    "print(list1 is not list2)  # True — different objects\n",
    "print(list1 is not list3)  # False — same object\n",
    "\n",
    "# Example 6: Comparing None (best practice to use is)\n",
    "value = None\n",
    "if value is None:\n",
    "    print(\"Value is None\")\n",
    "else:\n",
    "    print(\"Value is not None\")\n",
    "\n",
    "\n"
   ]
  },
  {
   "cell_type": "code",
   "execution_count": null,
   "id": "736bccee",
   "metadata": {},
   "outputs": [
    {
     "data": {
      "text/plain": [
       "True"
      ]
     },
     "execution_count": 41,
     "metadata": {},
     "output_type": "execute_result"
    }
   ],
   "source": [
    "# membership operator  \n",
    "1 in [ 1,2,3,4,5,6]\n",
    "# in chai list tuple set sab ma herna milcha tara dict ma chai key search garch a\n",
    "\n",
    "# Membership Operators Example\n",
    "\n",
    "fruits = ['apple', 'banana', 'cherry']\n",
    "\n",
    "print('apple' in fruits)        # True, 'apple' is in the list\n",
    "print('grape' in fruits)        # False, 'grape' is not in the list\n",
    "\n",
    "print('banana' not in fruits)   # False, 'banana' is in the list\n",
    "print('grape' not in fruits)    # True, 'grape' is not in the list\n",
    "\n",
    "# Works with strings too\n",
    "text = \"Hello, world!\"\n",
    "\n",
    "print('H' in text)              # True\n",
    "print('z' not in text)          # True\n"
   ]
  },
  {
   "cell_type": "code",
   "execution_count": null,
   "id": "a5b8f412",
   "metadata": {},
   "outputs": [
    {
     "data": {
      "text/plain": [
       "False"
      ]
     },
     "execution_count": 7,
     "metadata": {},
     "output_type": "execute_result"
    }
   ],
   "source": [
    "#isinstance use to compare the data  \n",
    "# isinstance(object, classinfo) \n",
    "# object: The object you want to check.\n",
    "# classinfo: A class, type, or a tuple of classes/types to check against.\n",
    "\n",
    "x = 44\n",
    "y= 1.22\n",
    "\n",
    "isinstance(x,int) #compare x with int\n",
    "isinstance(y,float) #compare y with float data type\n",
    "isinstance(x,(str,float))   #compare x with both str and float #false\n"
   ]
  },
  {
   "cell_type": "code",
   "execution_count": null,
   "id": "a20e8ede",
   "metadata": {},
   "outputs": [],
   "source": []
  },
  {
   "cell_type": "code",
   "execution_count": 46,
   "id": "22b020be",
   "metadata": {},
   "outputs": [
    {
     "name": "stdout",
     "output_type": "stream",
     "text": [
      "0.12345678901234568\n",
      "False\n"
     ]
    }
   ],
   "source": [
    "# 17 number after decimal point only \n",
    "b = 0.1234567890123456789 #decimal ko kailea pani precision mention hudaina \n",
    "\n",
    "print(b) #17 no matra print garcha so decimal pachi accuracy teasto maintain hudaina \n",
    "#for example \n",
    "print(1.1 + 2.2 == 3.3) #false aaucha kina vanda 1.1+2.2 == 3.3000000000000003 #true aaucha\n",
    "# 18 number after decimal point only\n"
   ]
  },
  {
   "cell_type": "code",
   "execution_count": null,
   "id": "3a6b2132",
   "metadata": {},
   "outputs": [
    {
     "name": "stdout",
     "output_type": "stream",
     "text": [
      "3.3\n",
      "3.3\n",
      "3.3\n"
     ]
    }
   ],
   "source": [
    "#import decimal garna milcha \n",
    "\n",
    "from decimal import Decimal\n",
    "print(Decimal('1.1') + Decimal('2.2'))\n",
    "\n",
    "from decimal import Decimal as D #alias # second method\n",
    "print (D('1.1') + D('2.2'))\n",
    "# third method\n",
    "import decimal\n",
    "print(decimal.Decimal('1.1') + decimal.Decimal('2.2'))\n",
    "\n",
    "\n",
    "\n"
   ]
  },
  {
   "cell_type": "code",
   "execution_count": null,
   "id": "9802aea8",
   "metadata": {},
   "outputs": [
    {
     "name": "stdout",
     "output_type": "stream",
     "text": [
      "Your height is :10.23\n"
     ]
    }
   ],
   "source": [
    "from decimal import Decimal as D\n",
    "x = input('enter your height')\n",
    "# print(round(x,4))\n",
    "# height=Decimal(x)\n",
    "print(f'Your height is :{Decimal(x):.2f}')\n",
    "\n",
    "\n",
    "\n",
    "\n",
    "\n"
   ]
  },
  {
   "cell_type": "code",
   "execution_count": null,
   "id": "f68c57f7",
   "metadata": {},
   "outputs": [
    {
     "name": "stdout",
     "output_type": "stream",
     "text": [
      "3.141592653589793\n",
      "-1.0\n",
      "1.2246467991473532e-16\n",
      "22026.465794806718\n",
      "3.0\n",
      "1.1752011936438014\n",
      "720\n"
     ]
    }
   ],
   "source": [
    "#import math lea k k garcha \n",
    "import math\n",
    "#  1. Mathematical Constants\n",
    "math.pi         # π\n",
    "math.e          # Euler's number\n",
    "math.tau        # 2π\n",
    "math.inf        # Infinity\n",
    "math.nan        # Not a Number\n",
    "\n",
    "#Basic Math Function\n",
    "math.pow(x, y)      # x^y (returns float)\n",
    "math.sqrt(x)        # √x\n",
    "math.exp(x)         # e^x\n",
    "math.expm1(x)       # e^x - 1 (more accurate for small x)\n",
    "math.log(x[10, 100]) # log base e by default\n",
    "math.log10(x)       # log base 10\n",
    "math.log2(x)        # log base 2\n",
    "math.log1p(x)       # log(1 + x), accurate for small x\n",
    "\n",
    "\n",
    "# Rounding & Truncation\n",
    "print(math.floor(2.9))     # Round *down*  2\n",
    "print(math.ceil(2.1))      # Round *up* → 3\n",
    "print(math.trunc(5.7))     # Remove decimal part without rounding → 5\n",
    "\n",
    "# Combinatorics\n",
    "print(math.factorial(5))   # 5! = 5×4×3×2×1 = 120\n",
    "print(math.comb(5, 2))     # Combinations (nCr) of 5 choose 2 → 10\n",
    "print(math.perm(5, 2))     # Permutations (nPr) of 5 pick 2 → 20\n",
    "\n",
    "# Trigonometric Functions\n",
    "\n",
    "print(math.sin(math.pi / 2))  # sin(90°) → 1.0\n",
    "print(math.cos(0))            # cos(0°) → 1.0\n",
    "print(math.tan(math.pi / 4))  # tan(45°) → 1.0\n",
    "\n",
    "# Inverse Trigonometric Functions (return angles in radians)\n",
    "print(math.asin(1))           # sin⁻¹(1) → π/2 radians\n",
    "print(math.acos(0))           # cos⁻¹(0) → π/2\n",
    "print(math.atan(1))           # tan⁻¹(1) → π/4\n",
    "\n",
    "#  Angle Conversions\n",
    "print(math.degrees(math.pi))   # Convert π radians to degrees → 180°\n",
    "print(math.radians(180))       # Convert 180° to radians → π\n",
    "\n",
    "# Special Utility Functions\n",
    "print(math.gcd(12, 18))        # Greatest Common Divisor of 12 & 18 → 6\n",
    "print(math.lcm(4, 6))          # Least Common Multiple → 12\n",
    "\n",
    "# Check if number is finite (not inf or nan)\n",
    "print(math.isfinite(100))     # True\n",
    "print(math.isinf(math.inf))   # True\n",
    "print(math.isnan(math.nan))   # True\n",
    "\n",
    "# Hyperbolic Functions (similar to sin, cos, but for hyperbolas)\n",
    "print(math.sinh(1))    # Hyperbolic sine of 1\n",
    "print(math.cosh(1))    # Hyperbolic cosine of 1\n",
    "print(math.tanh(1))    # Hyperbolic tangent of 1\n",
    "\n",
    "\n",
    "#help(math) garyo vane sab aaucha k k garcha\n"
   ]
  },
  {
   "cell_type": "code",
   "execution_count": null,
   "id": "2295ae3e",
   "metadata": {},
   "outputs": [
    {
     "name": "stdout",
     "output_type": "stream",
     "text": [
      "63\n",
      "d\n",
      "['d', 'c', 'e', 'a', 'b']\n",
      "\n",
      "--- Random Numbers ---\n",
      "random(): 0.5457869911222862\n",
      "uniform(10, 20): 17.061730536661344\n",
      "randint(1, 6): 3\n",
      "randrange(0, 10, 2): 0\n",
      "\n",
      "--- Sequence Operations ---\n",
      "choice(colors): yellow\n",
      "choices(colors, k=2): ['yellow', 'red']\n",
      "sample(colors, 2): ['green', 'yellow']\n",
      "shuffled colors: ['yellow', 'green', 'red', 'blue']\n",
      "\n",
      "--- Random State ---\n",
      "random() before setstate: 0.859188556035301\n",
      "random() after setstate: 0.859188556035301\n",
      "\n",
      "--- Distributions ---\n",
      "gauss(0, 1): -1.2936150428838418\n",
      "expovariate(1): 0.7216528198249231\n",
      "betavariate(2, 5): 0.3616314772136377\n",
      "gammavariate(2, 2): 1.9646912678892468\n",
      "lognormvariate(0, 1): 0.31116854427856133\n",
      "normalvariate(100, 10): 111.8551311206366\n",
      "vonmisesvariate(0, 4): 6.124405278562644\n",
      "paretovariate(1): 2.3314538553498507\n",
      "weibullvariate(1, 1): 0.027098198958502937\n",
      "\n",
      "--- Mini Game ---\n",
      "You rolled a: 3\n",
      "Lucky draw winner: Diana\n",
      "\n",
      "--- Shuffling and Sampling ---\n",
      "Shuffled numbers: [6, 3, 10, 4, 7, 8, 2, 1, 5, 9]\n",
      "Random 3 unique numbers: [9, 7, 3]\n",
      "Random 3 numbers (with replacement): [1, 8, 6]\n"
     ]
    }
   ],
   "source": [
    "import random\n",
    "\n",
    "\n",
    "\n",
    "#1. GENERATING RANDOM NUMBERS\n",
    "print(\"\\n--- Random Numbers ---\")\n",
    "print(\"random():\", random.random())                # Random float [0.0, 1.0)\n",
    "print(\"uniform(10, 20):\", random.uniform(10, 20))  # Random float between 10 and 20\n",
    "print(\"randint(1, 6):\", random.randint(1, 6))      # Random int between 1 and 6 (inclusive)\n",
    "print(\"randrange(0, 10, 2):\", random.randrange(0, 10, 2))  # Even number between 0 and 9\n",
    "\n",
    "#2. WORKING WITH SEQUENCES\n",
    "print(\"\\n--- Sequence Operations ---\")\n",
    "colors = ['red', 'green', 'blue', 'yellow']\n",
    "print(\"choice(colors):\", random.choice(colors))             # Random single choice\n",
    "print(\"choices(colors, k=2):\", random.choices(colors, k=2)) # Random 2 choices (with replacement)\n",
    "print(\"sample(colors, 2):\", random.sample(colors, 2))       # Random 2 unique choices\n",
    "random.shuffle(colors)                                      # Shuffle in place\n",
    "print(\"shuffled colors:\", colors)\n",
    "\n",
    "#3. CONTROLLING RANDOMNESS\n",
    "print(\"\\n--- Random State ---\")\n",
    "state = random.getstate()           # Save state\n",
    "print(\"random() before setstate:\", random.random())\n",
    "random.setstate(state)              # Restore state\n",
    "print(\"random() after setstate:\", random.random())  # Should match above\n",
    "\n",
    "#4. REAL-WORLD DISTRIBUTIONS\n",
    "print(\"\\n--- Distributions ---\")\n",
    "print(\"gauss(0, 1):\", random.gauss(0, 1))             # Normal distribution\n",
    "print(\"expovariate(1):\", random.expovariate(1))       # Exponential distribution\n",
    "print(\"betavariate(2, 5):\", random.betavariate(2, 5)) # Beta distribution\n",
    "print(\"gammavariate(2, 2):\", random.gammavariate(2, 2))# Gamma distribution\n",
    "print(\"lognormvariate(0, 1):\", random.lognormvariate(0, 1)) # Log-normal\n",
    "print(\"normalvariate(100, 10):\", random.normalvariate(100, 10)) # Normal\n",
    "print(\"vonmisesvariate(0, 4):\", random.vonmisesvariate(0, 4))   # Circular data\n",
    "print(\"paretovariate(1):\", random.paretovariate(1))   # Pareto\n",
    "print(\"weibullvariate(1, 1):\", random.weibullvariate(1, 1)) # Weibull\n",
    "\n",
    "# 5. MINI GAME: DICE ROLL & LUCKY DRAW\n",
    "print(\"\\n--- Mini Game ---\")\n",
    "dice_roll = random.randint(1, 6)\n",
    "print(f\"You rolled a: {dice_roll}\")\n",
    "\n",
    "names = ['Alice', 'Bob', 'Charlie', 'Diana']\n",
    "winner = random.choice(names)\n",
    "print(\"Lucky draw winner:\", winner)\n",
    "\n",
    "#6. LIST SHUFFLING AND PICKING\n",
    "print(\"\\n--- Shuffling and Sampling ---\")\n",
    "numbers = list(range(1, 11))\n",
    "random.shuffle(numbers)\n",
    "print(\"Shuffled numbers:\", numbers)\n",
    "print(\"Random 3 unique numbers:\", random.sample(numbers, 3))\n",
    "print(\"Random 3 numbers (with replacement):\", random.choices(numbers, k=3))\n",
    "\n",
    "\n",
    "\n",
    "\n",
    "\n"
   ]
  },
  {
   "cell_type": "code",
   "execution_count": null,
   "id": "2049d937",
   "metadata": {},
   "outputs": [],
   "source": []
  }
 ],
 "metadata": {
  "kernelspec": {
   "display_name": "Python 3",
   "language": "python",
   "name": "python3"
  },
  "language_info": {
   "codemirror_mode": {
    "name": "ipython",
    "version": 3
   },
   "file_extension": ".py",
   "mimetype": "text/x-python",
   "name": "python",
   "nbconvert_exporter": "python",
   "pygments_lexer": "ipython3",
   "version": "3.13.3"
  }
 },
 "nbformat": 4,
 "nbformat_minor": 5
}
