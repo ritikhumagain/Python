{
 "cells": [
  {
   "cell_type": "code",
   "execution_count": null,
   "id": "2851d36b",
   "metadata": {},
   "outputs": [],
   "source": []
  },
  {
   "cell_type": "code",
   "execution_count": null,
   "id": "7a8cc954",
   "metadata": {},
   "outputs": [],
   "source": []
  },
  {
   "cell_type": "code",
   "execution_count": null,
   "id": "6bebe554",
   "metadata": {},
   "outputs": [],
   "source": []
  },
  {
   "cell_type": "code",
   "execution_count": null,
   "id": "2d7732c6",
   "metadata": {},
   "outputs": [],
   "source": []
  },
  {
   "cell_type": "code",
   "execution_count": null,
   "id": "a5b8f412",
   "metadata": {},
   "outputs": [
    {
     "data": {
      "text/plain": [
       "False"
      ]
     },
     "execution_count": 7,
     "metadata": {},
     "output_type": "execute_result"
    }
   ],
   "source": [
    "#isinstance use to compare the data \n",
    "x = 44\n",
    "y= 1.22\n",
    "\n",
    "isinstance(x,int) #compare x with int\n",
    "isinstance(y,float) #compare y with float data type\n",
    "isinstance(x,(str,float))   #compare x with both str and float #false\n"
   ]
  },
  {
   "cell_type": "code",
   "execution_count": null,
   "id": "22b020be",
   "metadata": {},
   "outputs": [
    {
     "name": "stdout",
     "output_type": "stream",
     "text": [
      "0.12345678901234568\n"
     ]
    },
    {
     "data": {
      "text/plain": [
       "False"
      ]
     },
     "execution_count": 9,
     "metadata": {},
     "output_type": "execute_result"
    }
   ],
   "source": [
    "# 17 number after decimal point only \n",
    "b = 0.1234567890123456789\n",
    "print(b) #17 no matra print garcha so decimal pachi accuracy teasto maintain hudaina \n",
    "#for example \n",
    "1.1 + 2.2 == 3.3 #false aaucha kina vanda 1.1+2.2 == 3.3000000000000003 #true aaucha\n",
    "# 18 number after decimal point only\n"
   ]
  },
  {
   "cell_type": "code",
   "execution_count": 1,
   "id": "3a6b2132",
   "metadata": {},
   "outputs": [
    {
     "name": "stdout",
     "output_type": "stream",
     "text": [
      "3.3\n",
      "3.3\n",
      "3.3\n"
     ]
    }
   ],
   "source": [
    "#import decimal garna milcha \n",
    "\n",
    "from decimal import Decimal\n",
    "print(Decimal('1.1') + Decimal('2.2'))\n",
    "\n",
    "from decimal import Decimal as D #alias # second method\n",
    "print (D('1.1') + D('2.2'))\n",
    "# third method\n",
    "import decimal\n",
    "print(decimal.Decimal('1.1') + decimal.Decimal('2.2'))\n",
    "\n"
   ]
  },
  {
   "cell_type": "code",
   "execution_count": 10,
   "id": "9802aea8",
   "metadata": {},
   "outputs": [
    {
     "name": "stdout",
     "output_type": "stream",
     "text": [
      "Your height is :10.23\n"
     ]
    }
   ],
   "source": [
    "from decimal import Decimal\n",
    "x = input('enter your height')\n",
    "# print(round(x,4))\n",
    "# height=Decimal(x)\n",
    "print(f'Your height is :{Decimal(x):.2f}')\n",
    "\n",
    "\n",
    "\n",
    "\n",
    "\n"
   ]
  },
  {
   "cell_type": "code",
   "execution_count": 14,
   "id": "f68c57f7",
   "metadata": {},
   "outputs": [
    {
     "name": "stdout",
     "output_type": "stream",
     "text": [
      "3.141592653589793\n",
      "-1.0\n",
      "1.2246467991473532e-16\n",
      "22026.465794806718\n",
      "3.0\n",
      "1.1752011936438014\n",
      "720\n"
     ]
    }
   ],
   "source": [
    "#math \n",
    "import math\n",
    "print(math.pi)\n",
    "print(math.cos(math.pi)) #cos(pi) = -1\n",
    "print(math.sin(math.pi)) #sin(pi) = 0\n",
    "print(math.exp(10))\n",
    "print(math.log10(1000))\n",
    "print(math.sinh(1))\n",
    "print(math.factorial(6))   #help(math ) leakhyo vanea saabai aaucha math "
   ]
  },
  {
   "cell_type": "code",
   "execution_count": null,
   "id": "2295ae3e",
   "metadata": {},
   "outputs": [
    {
     "name": "stdout",
     "output_type": "stream",
     "text": [
      "99\n",
      "a\n",
      "['c', 'b', 'e', 'd', 'a']\n"
     ]
    }
   ],
   "source": [
    "import random\n",
    "x = random.randint(1, 100)\n",
    "print(x)\n",
    "y = ['a','b','c','d','e']\n",
    "print(random.choice(y))\n",
    "random.shuffle(y)\n",
    "print(y)\n",
    "\n",
    "\n",
    "\n",
    "\n",
    "\n"
   ]
  },
  {
   "cell_type": "code",
   "execution_count": null,
   "id": "2049d937",
   "metadata": {},
   "outputs": [],
   "source": []
  }
 ],
 "metadata": {
  "kernelspec": {
   "display_name": "Python 3",
   "language": "python",
   "name": "python3"
  },
  "language_info": {
   "codemirror_mode": {
    "name": "ipython",
    "version": 3
   },
   "file_extension": ".py",
   "mimetype": "text/x-python",
   "name": "python",
   "nbconvert_exporter": "python",
   "pygments_lexer": "ipython3",
   "version": "3.13.3"
  }
 },
 "nbformat": 4,
 "nbformat_minor": 5
}
