{
 "cells": [
  {
   "cell_type": "code",
   "execution_count": 25,
   "id": "2851d36b",
   "metadata": {},
   "outputs": [
    {
     "data": {
      "text/plain": [
       "{1: 2, 2: 4}"
      ]
     },
     "execution_count": 25,
     "metadata": {},
     "output_type": "execute_result"
    }
   ],
   "source": [
    "#changing any type of data type into another data type  \n",
    "float(5)  # 5.0 decimal point add garcha\n",
    "int(5.3333) # 5 pachadi ko hataidincha truncate the value  \n",
    "str(56)\n",
    "float('2.5') #Conversion to and from string must contain compatible value \n",
    "set([1,2,3]) \n",
    "list(\"string\")\n",
    "dict([(1,2),(2,4)]) # list into dict but have to have two pair\n",
    " "
   ]
  },
  {
   "cell_type": "code",
   "execution_count": 26,
   "id": "7a8cc954",
   "metadata": {},
   "outputs": [
    {
     "name": "stdout",
     "output_type": "stream",
     "text": [
      "simple_intrest is : 10.0\n"
     ]
    }
   ],
   "source": [
    "#simple_intrest calculation = p*t*r/100\n",
    "p = int(input('enter the value of p'))\n",
    "t = int(input('enter the value of t'))\n",
    "r = int(input('enter the value of r'))\n",
    "simple_intrest = p*t*r/100\n",
    "#f string interpolation\n",
    "print(f'simple_intrest is : {simple_intrest}')  "
   ]
  },
  {
   "cell_type": "code",
   "execution_count": 27,
   "id": "6bebe554",
   "metadata": {},
   "outputs": [
    {
     "name": "stdout",
     "output_type": "stream",
     "text": [
      "The area and perimeter are (100, 40)\n"
     ]
    }
   ],
   "source": [
    "#area and perimeter of the rectange\n",
    "#area = l * b \n",
    "#perimeter = 2 * (l + b)\n",
    "leng = int(input('enter the value of length'))\n",
    "bre = int(input('enter the value of breath'))\n",
    "area = leng * bre\n",
    "perimeter = 2 * (leng + bre)\n",
    "print(f'The area and perimeter are {area,perimeter}')"
   ]
  },
  {
   "cell_type": "code",
   "execution_count": 28,
   "id": "2d7732c6",
   "metadata": {},
   "outputs": [
    {
     "name": "stdout",
     "output_type": "stream",
     "text": [
      "15\n",
      "7\n",
      "12\n",
      "2.5\n",
      "2\n",
      "2\n",
      "8\n"
     ]
    }
   ],
   "source": [
    "#arithmetic operator \n",
    "#addition (+ )\n",
    "a = 10 + 5\n",
    "print(a)  # 15\n",
    "\n",
    "#Subtration (-) \n",
    "a = 10 - 3\n",
    "print(a)  # 7\n",
    "\n",
    "#Multiplication (* )\n",
    "a = 4 * 3\n",
    "print(a)  # 12\n",
    "\n",
    "# Division  (/)\n",
    "a = 10 / 4\n",
    "print(a)  # 2.5\n",
    "\n",
    "#Floor division  (//)\n",
    "# division but returns integer result integer division\n",
    "a = 10 // 4\n",
    "print(a)  # 2\n",
    "\n",
    "# Modulus (%)\n",
    "# Returns the remainder of division.\n",
    "a = 10 % 4\n",
    "print(a)  # 2\n",
    "\n",
    "#Exponentiation \n",
    "#Raises number to apower . #power operator\n",
    "a = 2 ** 3\n",
    "print(a)  # 8\n",
    "\n"
   ]
  },
  {
   "cell_type": "code",
   "execution_count": 30,
   "id": "d63d81c8",
   "metadata": {},
   "outputs": [
    {
     "data": {
      "text/plain": [
       "False"
      ]
     },
     "execution_count": 30,
     "metadata": {},
     "output_type": "execute_result"
    }
   ],
   "source": [
    "# Comparison / Relational Operator \n",
    "\n",
    "#  Equal To (==)\n",
    "# Checks if two values are equal.\n",
    "5 == 5   # True\n",
    "5 == 3   # False\n",
    "\n",
    "# Not Equal To (!=)\n",
    "# Checks if two values are not equal.\n",
    "5 != 3   # True\n",
    "5 != 5   # False\n",
    "\n",
    "#  Greater Than (>)\n",
    "# Checks if the left value is greater than the right.\n",
    "7 > 5    # True\n",
    "4 > 6    # False\n",
    "\n",
    "# Less Than (<)\n",
    "# Checks if the left value is less than the right.\n",
    "3 < 4    # True\n",
    "5 < 2    # False\n",
    "\n",
    "#  Greater Than or Equal To (>=)\n",
    "# Checks if the left value is greater than or equal to the right.\n",
    "6 >= 6   # True\n",
    "6 >= 2   # True\n",
    "6 >= 7   # False\n",
    "\n",
    "# Less Than or Equal To (<=)\n",
    "# Checks if the left value is less than or equal to the right.\n",
    "4 <= 4   # True\n",
    "3 <= 5   # True\n",
    "6 <= 1   # False\n",
    "\n"
   ]
  },
  {
   "cell_type": "code",
   "execution_count": 31,
   "id": "90acb78b",
   "metadata": {},
   "outputs": [
    {
     "name": "stdout",
     "output_type": "stream",
     "text": [
      "True\n",
      "False\n",
      "False\n",
      "True\n",
      "False\n",
      "False\n",
      "True\n"
     ]
    }
   ],
   "source": [
    "#Logical operator\n",
    "# and\n",
    "# Returns True only if both operands are True.\n",
    "print(True and True)    # True\n",
    "print(True and False)   # False\n",
    "print(False and False)  # False\n",
    "# 2. or\n",
    "# Returns True if at least one operand is True.\n",
    "print(True or False)    # True\n",
    "print(False or False)   # False\n",
    "\n",
    "# 3. not\n",
    "# Inverts the Boolean value.\n",
    "print(not True)         # False\n",
    "print(not False)        # True\n",
    "\n",
    "\n",
    "#precedence \n",
    "    # small bracket \n",
    "    # and\n",
    "    # or "
   ]
  },
  {
   "cell_type": "code",
   "execution_count": null,
   "id": "c47d9064",
   "metadata": {},
   "outputs": [],
   "source": [
    "# Bitwise operator \n",
    "a = 5   # Binary: 0101\n",
    "b = 3   # Binary: 0011\n",
    "\n",
    "print(a & b)    # 1   (AND)\n",
    "print(a | b)    # 7   (OR)\n",
    "print(a ^ b)    # 6   (XOR)\n",
    "print(~a)       # -6  (NOT)\n",
    "print(a << 1)   # 10  (Left Shift)\n",
    "print(a >> 1)   # 2   (Right Shift)\n",
    "\n"
   ]
  },
  {
   "cell_type": "code",
   "execution_count": 34,
   "id": "a03c6225",
   "metadata": {},
   "outputs": [],
   "source": [
    "#Assignment operator \n",
    "# Initial values\n",
    "x = 10\n",
    "y = 5\n",
    "\n",
    "# 1. Addition Assignment\n",
    "x += y  # x = x + y\n",
    "\n",
    "# 2. Subtraction Assignment\n",
    "x -= y  # x = x - y\n",
    "\n",
    "# 3. Multiplication Assignment\n",
    "x *= y  # x = x * y\n",
    "\n",
    "# 4. Division Assignment\n",
    "x /= y  # x = x / y → result will be float\n",
    "\n",
    "# 5. Floor Division Assignment\n",
    "x //= y  # x = x // y\n",
    "\n",
    "# 6. Modulus Assignment\n",
    "x %= y  # x = x % y\n",
    "\n",
    "# 7. Exponentiation Assignment\n",
    "x = 2\n",
    "y = 3\n",
    "x **= y  # x = x ** y\n",
    "\n",
    "# Now reset x and y for bitwise assignment (x must be int)\n",
    "x = 6   # binary: 110\n",
    "y = 3   # binary: 011\n",
    "\n",
    "# 8. Bitwise AND Assignment\n",
    "x &= y  # x = x & y\n",
    "\n",
    "# 9. Bitwise OR Assignment\n",
    "x |= y  # x = x | y\n",
    "\n",
    "# 10. Bitwise XOR Assignment\n",
    "x ^= y  # x = x ^ y\n",
    "\n",
    "# 11. Left Shift Assignment\n",
    "x <<= 1  # x = x << 1\n",
    "\n",
    "# 12. Right Shift Assignment\n",
    "x >>= 2  # x = x >> 2\n",
    "\n"
   ]
  },
  {
   "cell_type": "code",
   "execution_count": null,
   "id": "5d72764a",
   "metadata": {},
   "outputs": [
    {
     "name": "stdout",
     "output_type": "stream",
     "text": [
      "x and y is equal  False\n",
      "2554385719056\n",
      "2554385721936\n"
     ]
    }
   ],
   "source": [
    "#Identity Operators \n",
    "# is \n",
    "# check the memory address\n",
    "# 0 -256 value stores in same memory location \n",
    "x = 2 \n",
    "y = 2 \n",
    "x is y \n",
    "x = 300\n",
    "y = 300\n",
    "print(\"x and y is equal \",x is y )\n",
    "print(id(x))\n",
    "print(id(y)) \n",
    "\n",
    "# Example 1: Comparing integers with small values (interning)\n",
    "a = 10\n",
    "b = 10\n",
    "print(a is b)       # True — small integers are cached by Python, so same object\n",
    "print(a == b)       # True — values are equal\n",
    "\n",
    "# Example 2: Comparing integers with larger values\n",
    "x = 1000\n",
    "y = 1000\n",
    "print(x is y)       # False — large integers are not cached, different objects\n",
    "print(x == y)       # True — values are equal\n",
    "\n",
    "# Example 3: Comparing lists (mutable objects)\n",
    "list1 = [1, 2, 3]\n",
    "list2 = [1, 2, 3]\n",
    "print(list1 is list2)   # False — two different lists in memory\n",
    "print(list1 == list2)   # True — values inside are equal\n",
    "\n",
    "# Example 4: Two variables pointing to the same list\n",
    "list3 = list1\n",
    "print(list3 is list1)   # True — both point to the same object\n",
    "print(list3 == list1)   # True — obviously same values\n",
    "\n",
    "# Example 5: Using 'is not'\n",
    "print(list1 is not list2)  # True — different objects\n",
    "print(list1 is not list3)  # False — same object\n",
    "\n",
    "# Example 6: Comparing None (best practice to use is)\n",
    "value = None\n",
    "if value is None:\n",
    "    print(\"Value is None\")\n",
    "else:\n",
    "    print(\"Value is not None\")\n",
    "\n",
    "\n"
   ]
  },
  {
   "cell_type": "code",
   "execution_count": null,
   "id": "736bccee",
   "metadata": {},
   "outputs": [
    {
     "data": {
      "text/plain": [
       "True"
      ]
     },
     "execution_count": 41,
     "metadata": {},
     "output_type": "execute_result"
    }
   ],
   "source": [
    "# membership operator  \n",
    "1 in [ 1,2,3,4,5,6]\n",
    "# in chai list tuple set sab ma herna milcha tara dict ma chai key search garch a\n",
    "\n",
    "# Membership Operators Example\n",
    "\n",
    "fruits = ['apple', 'banana', 'cherry']\n",
    "\n",
    "print('apple' in fruits)        # True, 'apple' is in the list\n",
    "print('grape' in fruits)        # False, 'grape' is not in the list\n",
    "\n",
    "print('banana' not in fruits)   # False, 'banana' is in the list\n",
    "print('grape' not in fruits)    # True, 'grape' is not in the list\n",
    "\n",
    "# Works with strings too\n",
    "text = \"Hello, world!\"\n",
    "\n",
    "print('H' in text)              # True\n",
    "print('z' not in text)          # True\n"
   ]
  },
  {
   "cell_type": "code",
   "execution_count": null,
   "id": "a5b8f412",
   "metadata": {},
   "outputs": [
    {
     "data": {
      "text/plain": [
       "False"
      ]
     },
     "execution_count": 7,
     "metadata": {},
     "output_type": "execute_result"
    }
   ],
   "source": [
    "#isinstance use to compare the data \n",
    "x = 44\n",
    "y= 1.22\n",
    "\n",
    "isinstance(x,int) #compare x with int\n",
    "isinstance(y,float) #compare y with float data type\n",
    "isinstance(x,(str,float))   #compare x with both str and float #false\n"
   ]
  },
  {
   "cell_type": "code",
   "execution_count": null,
   "id": "a20e8ede",
   "metadata": {},
   "outputs": [],
   "source": []
  },
  {
   "cell_type": "code",
   "execution_count": null,
   "id": "22b020be",
   "metadata": {},
   "outputs": [
    {
     "name": "stdout",
     "output_type": "stream",
     "text": [
      "0.12345678901234568\n"
     ]
    },
    {
     "data": {
      "text/plain": [
       "False"
      ]
     },
     "execution_count": 9,
     "metadata": {},
     "output_type": "execute_result"
    }
   ],
   "source": [
    "# 17 number after decimal point only \n",
    "b = 0.1234567890123456789\n",
    "print(b) #17 no matra print garcha so decimal pachi accuracy teasto maintain hudaina \n",
    "#for example \n",
    "1.1 + 2.2 == 3.3 #false aaucha kina vanda 1.1+2.2 == 3.3000000000000003 #true aaucha\n",
    "# 18 number after decimal point only\n"
   ]
  },
  {
   "cell_type": "code",
   "execution_count": null,
   "id": "3a6b2132",
   "metadata": {},
   "outputs": [
    {
     "name": "stdout",
     "output_type": "stream",
     "text": [
      "3.3\n",
      "3.3\n",
      "3.3\n"
     ]
    }
   ],
   "source": [
    "#import decimal garna milcha \n",
    "\n",
    "from decimal import Decimal\n",
    "print(Decimal('1.1') + Decimal('2.2'))\n",
    "\n",
    "from decimal import Decimal as D #alias # second method\n",
    "print (D('1.1') + D('2.2'))\n",
    "# third method\n",
    "import decimal\n",
    "print(decimal.Decimal('1.1') + decimal.Decimal('2.2'))\n",
    "\n"
   ]
  },
  {
   "cell_type": "code",
   "execution_count": null,
   "id": "9802aea8",
   "metadata": {},
   "outputs": [
    {
     "name": "stdout",
     "output_type": "stream",
     "text": [
      "Your height is :10.23\n"
     ]
    }
   ],
   "source": [
    "from decimal import Decimal\n",
    "x = input('enter your height')\n",
    "# print(round(x,4))\n",
    "# height=Decimal(x)\n",
    "print(f'Your height is :{Decimal(x):.2f}')\n",
    "\n",
    "\n",
    "\n",
    "\n",
    "\n"
   ]
  },
  {
   "cell_type": "code",
   "execution_count": null,
   "id": "f68c57f7",
   "metadata": {},
   "outputs": [
    {
     "name": "stdout",
     "output_type": "stream",
     "text": [
      "3.141592653589793\n",
      "-1.0\n",
      "1.2246467991473532e-16\n",
      "22026.465794806718\n",
      "3.0\n",
      "1.1752011936438014\n",
      "720\n"
     ]
    }
   ],
   "source": [
    "#math \n",
    "import math\n",
    "print(math.pi)\n",
    "print(math.cos(math.pi)) #cos(pi) = -1\n",
    "print(math.sin(math.pi)) #sin(pi) = 0\n",
    "print(math.exp(10))\n",
    "print(math.log10(1000))\n",
    "print(math.sinh(1))\n",
    "print(math.factorial(6))   #help(math ) leakhyo vanea saabai aaucha math "
   ]
  },
  {
   "cell_type": "code",
   "execution_count": null,
   "id": "2295ae3e",
   "metadata": {},
   "outputs": [
    {
     "name": "stdout",
     "output_type": "stream",
     "text": [
      "99\n",
      "a\n",
      "['c', 'b', 'e', 'd', 'a']\n"
     ]
    }
   ],
   "source": [
    "import random\n",
    "x = random.randint(1, 100)\n",
    "print(x)\n",
    "y = ['a','b','c','d','e']\n",
    "print(random.choice(y))\n",
    "random.shuffle(y)\n",
    "print(y)\n",
    "\n",
    "\n",
    "\n",
    "\n",
    "\n"
   ]
  },
  {
   "cell_type": "code",
   "execution_count": null,
   "id": "2049d937",
   "metadata": {},
   "outputs": [],
   "source": []
  }
 ],
 "metadata": {
  "kernelspec": {
   "display_name": "Python 3",
   "language": "python",
   "name": "python3"
  },
  "language_info": {
   "codemirror_mode": {
    "name": "ipython",
    "version": 3
   },
   "file_extension": ".py",
   "mimetype": "text/x-python",
   "name": "python",
   "nbconvert_exporter": "python",
   "pygments_lexer": "ipython3",
   "version": "3.13.3"
  }
 },
 "nbformat": 4,
 "nbformat_minor": 5
}
