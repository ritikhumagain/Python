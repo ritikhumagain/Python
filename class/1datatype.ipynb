{
 "cells": [
  {
   "cell_type": "code",
   "execution_count": 1,
   "id": "7a4707d7",
   "metadata": {},
   "outputs": [
    {
     "name": "stdout",
     "output_type": "stream",
     "text": [
      "3.1\n"
     ]
    }
   ],
   "source": [
    "#First python code \n",
    "#variable banako x and y \n",
    "x = 1   #variable : Int\n",
    "y = 2.1 #Variable : Float  \n",
    "sum = x + y \n",
    "print(sum)"
   ]
  },
  {
   "cell_type": "code",
   "execution_count": 2,
   "id": "c2243665",
   "metadata": {},
   "outputs": [],
   "source": [
    "# comment : Python doesnot run anything after #\n",
    "#indentationerror : python ma space hunu hudaina aagadi sida huna parcha sab \n"
   ]
  },
  {
   "cell_type": "code",
   "execution_count": 3,
   "id": "52a7d158",
   "metadata": {},
   "outputs": [],
   "source": [
    "#Rules for writing Identifiers\n",
    "#1 lowercase (a to z ) or uppercase (A to Z) or digits (0 to 9)or an underscore \n",
    "myVar = 1\n",
    "var_1 = 2\n",
    "test_variable = 3\n",
    "var1 = 4\n",
    "_var = 5\n",
    "\n",
    "#2 Cannot start with a digit . \n",
    "# 1var= \"Error\"\n",
    "\n",
    "#3 Keywords cannot be used as identifiers \n",
    "# for = 'Error' \n",
    "\n",
    "#4 Cannot use special symbols like @, !, \n",
    "# a@ = \"Error\"1basic.ipyn\n",
    "\n",
    "#5 Can be of any length \n",
    "jikesd_sjdlkd_sfdhf_dfhldf = 6\n",
    "\n"
   ]
  },
  {
   "cell_type": "code",
   "execution_count": 4,
   "id": "819f7eb4",
   "metadata": {},
   "outputs": [],
   "source": [
    "# here are some key word\n",
    "#  Keyword     Description                                        |\n",
    " \n",
    "#  `None`      Represents the absence of a value                  \n",
    "#  `True`      Boolean value true                                 \n",
    "#  `and`       Logical AND                                        \n",
    "#  `as`        Used in `with` and `import` statements             \n",
    "#  `assert`    For debugging, to test if a condition is true      \n",
    "#  `async`     Declares an asynchronous function                  \n",
    "#  `await`     Waits for an async function to finish              \n",
    "#  `break`     Exits the current loop                             \n",
    "#  `class`     Defines a class                                    \n",
    "#  `continue`  Skips the rest of the current loop iteration       \n",
    "#  `def`       Defines a function                                 \n",
    "#  `del`       Deletes a variable or item                         \n",
    "#  `elif`      Else if condition                                  \n",
    "#  `else`      Else block                                         \n",
    "#  `except`    Handles exceptions                                 \n",
    "#  `finally`   Runs final code after try/except                   \n",
    "#  `for`       Looping                                            \n",
    "#  `from`      Imports specific parts of a module                 \n",
    "#  `global`    Declares a global variable                         \n",
    "#  `if`        Conditional statement                              \n",
    "#  `import`    Imports a module                                   \n",
    "#  `in`        Membership check or loop iterator                  \n",
    "#  `is`        Identity check                                     \n",
    "#  `lambda`    Creates anonymous function                         \n",
    "#  `nonlocal`  Refers to a variable in the outer non-global scope \n",
    "#  `not`       Logical NOT                                        \n",
    "#  `or`        Logical OR                                         \n",
    "#  `pass`      Empty statement (does nothing)                     \n",
    "#  `raise`     Raises an exception                                \n",
    "#  `return`    Exits a function and returns a value               \n",
    "#  `try`       Tries a block of code                              \n",
    "#  `while`     Loop while condition is true                       \n",
    "#  `with`      Context manager (e.g., for files)                  \n",
    "#  `yield`     Used in generators to return a value               \n",
    "#  `match`     (Python 3.10+) Pattern matching (like switch-case) \n",
    "#  `case`      (Python 3.10+) Pattern match case                  \n"
   ]
  },
  {
   "cell_type": "code",
   "execution_count": 5,
   "id": "c35627c3",
   "metadata": {},
   "outputs": [],
   "source": [
    "# Ramro Variable banauna paryo \n",
    "adkdfkdfldf = 9.8\n",
    "g = 9.8\n",
    "gravity = 9.8\n",
    "gravity_of_earth = 9.8\n",
    "# Kun chai ramro variable cha teii "
   ]
  },
  {
   "cell_type": "code",
   "execution_count": 6,
   "id": "9b172315",
   "metadata": {},
   "outputs": [
    {
     "name": "stdout",
     "output_type": "stream",
     "text": [
      "Python\n",
      "Alice\n",
      "b'ABC'\n",
      "65\n",
      "bytearray(b'ABC')\n",
      "bytearray(b'DBC')\n",
      "bytearray(b'DBCE')\n",
      "72\n",
      "bytearray(b'Jello')\n"
     ]
    }
   ],
   "source": [
    "#Data type: kind of data a variable can hold \n",
    "\n",
    "\n",
    "# 1. Numeric Types\n",
    "# int — Integer numbers (e.g., 5, -10)\n",
    "x = 5\n",
    "x = -10\n",
    "\n",
    "# float — Floating point numbers / decimals \n",
    "x =3.14,\n",
    "x = -0.001\n",
    "\n",
    "# complex — Complex numbers \n",
    "x= 2 + 3j\n",
    "\n",
    "\n",
    "\n",
    "# 2. Sequence Types\n",
    "# list — Ordered, mutable collection \n",
    "x = [1, 2, 3]\n",
    "\n",
    "# tuple — Ordered, immutable collection \n",
    "x = (1, 2, 3)\n",
    "\n",
    "# range — Immutable sequence of numbers, often used in loops \n",
    "# range(stop)\n",
    "# range(start, stop)\n",
    "# range(start, stop, step)\n",
    "x = range(5) \n",
    "range(5)               # 0, 1, 2, 3, 4\n",
    "range(2, 6)            # 2, 3, 4, 5\n",
    "range(1, 10, 2)        # 1, 3, 5, 7, 9\n",
    " \n",
    "\n",
    "\n",
    "# 3. Text Type\n",
    "# str — String of characters \n",
    "x ,  y = \"Hello\", 'Python'\n",
    "print(y)  #python\n",
    "\n",
    "\n",
    "\n",
    "# 4. Set Types\n",
    "# set — Unordered, mutable collection of unique elements \n",
    "x = {1, 2, 3}\n",
    "\n",
    "# frozenset — Immutable version of a set\n",
    "\n",
    "\n",
    "\n",
    "\n",
    "# 5. Mapping Type\n",
    "# dict — Key-value pairs \n",
    "person =  {'name': 'Alice', 'age': 25}\n",
    "print(person['name'])  # vitra chai big bracket use huna paryo\n",
    "\n",
    "\n",
    "\n",
    "# 6. Boolean Type\n",
    "# bool — Represents \n",
    "# True or False\n",
    "\n",
    "\n",
    "\n",
    "# 7. Binary Types\n",
    "# bytes — Immutable sequence of bytes\n",
    "data = bytes([65, 66, 67])  # ASCII for A, B, C\n",
    "print(data)         # Output: b'ABC'\n",
    "print(data[0])      # Output: 65 (ASCII value of 'A')\n",
    "\n",
    "# bytearray — Mutable sequence of bytes\n",
    "data = bytearray([65, 66, 67])\n",
    "print(data)         # Output: bytearray(b'ABC')\n",
    "\n",
    "data[0] = 68        # Change 'A' to 'D'\n",
    "print(data)         # Output: bytearray(b'DBC')\n",
    "\n",
    "data.append(69)     # Add 'E' (ASCII 69)\n",
    "print(data)         # Output: bytearray(b'DBCE')\n",
    "\n",
    "# memoryview — A view of byte data without copying it\n",
    "data = bytearray(b'Hello')\n",
    "view = memoryview(data)\n",
    "\n",
    "print(view[0])          # Output: 72 (ASCII of 'H')\n",
    "\n",
    "view[0] = 74            # Change 'H' to 'J'\n",
    "print(data)             # Output: bytearray(b'Jello')"
   ]
  },
  {
   "cell_type": "code",
   "execution_count": 12,
   "id": "dfedeeb8",
   "metadata": {},
   "outputs": [
    {
     "name": "stdout",
     "output_type": "stream",
     "text": [
      "1 1 1\n",
      "<class 'int'>\n"
     ]
    }
   ],
   "source": [
    "# variable kasari kasari leakhna milcha \n",
    "x = 1 \n",
    "y = 1 \n",
    "z = 1\n",
    "# x,y,z = 1,1,1   #same \n",
    "# x = y = z = 1   #same\n",
    "# x=1;y=1;z= 1 ;  #same \n",
    "print(x,y,z)\n",
    "print(type(x))"
   ]
  },
  {
   "cell_type": "code",
   "execution_count": null,
   "id": "2a8a6074",
   "metadata": {},
   "outputs": [],
   "source": []
  }
 ],
 "metadata": {
  "kernelspec": {
   "display_name": "Python 3",
   "language": "python",
   "name": "python3"
  },
  "language_info": {
   "codemirror_mode": {
    "name": "ipython",
    "version": 3
   },
   "file_extension": ".py",
   "mimetype": "text/x-python",
   "name": "python",
   "nbconvert_exporter": "python",
   "pygments_lexer": "ipython3",
   "version": "3.13.3"
  }
 },
 "nbformat": 4,
 "nbformat_minor": 5
}
