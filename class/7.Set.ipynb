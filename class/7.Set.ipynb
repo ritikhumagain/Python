{
 "cells": [
  {
   "cell_type": "code",
   "execution_count": 1,
   "id": "df796162",
   "metadata": {},
   "outputs": [
    {
     "name": "stdout",
     "output_type": "stream",
     "text": [
      "{1, 2, 3, 4}\n",
      "set()\n",
      "{1, 2, 3, 4, 5}\n",
      "{1, 2, 3, 4, 5, 6, 7, 8}\n",
      "{1, 2, 4, 5, 6, 7, 8}\n",
      "{1, 2, 4, 5, 6, 7, 8}\n",
      "1\n",
      "{2, 4, 5, 6, 7, 8}\n",
      "set()\n",
      "{1, 2, 3, 4, 5, 6}\n",
      "{1, 2, 3, 4, 5, 6}\n",
      "{3, 4}\n",
      "{3, 4}\n",
      "{1, 2}\n",
      "{1, 2}\n",
      "{1, 2, 5, 6}\n",
      "{1, 2, 5, 6}\n",
      "True\n",
      "True\n",
      "True\n",
      "4\n",
      "1\n",
      "2\n",
      "3\n",
      "4\n",
      "{1, 2, 3, 4}\n",
      "frozenset({1, 2, 3})\n",
      "{0, 2, 4, 6, 8}\n",
      "True\n",
      "False\n"
     ]
    }
   ],
   "source": [
    "# =========================\n",
    "# ✅ SET OPERATIONS IN PYTHON\n",
    "# =========================\n",
    "\n",
    "# 1. Creating sets\n",
    "set1 = {1, 2, 3, 4}\n",
    "print(set1)\n",
    "\n",
    "# Using set() constructor (empty set must be created this way)\n",
    "empty_set = set()\n",
    "print(empty_set)\n",
    "\n",
    "# 2. Adding elements\n",
    "set1.add(5)\n",
    "print(set1)\n",
    "\n",
    "# 3. Adding multiple elements (update)\n",
    "set1.update([6, 7, 8])\n",
    "print(set1)\n",
    "\n",
    "# 4. Removing elements\n",
    "set1.remove(3)       # Raises KeyError if element not found\n",
    "print(set1)\n",
    "\n",
    "set1.discard(10)     # Does NOT raise error if element not found\n",
    "print(set1)\n",
    "\n",
    "# 5. Remove and return an arbitrary element\n",
    "popped = set1.pop()\n",
    "print(popped)\n",
    "print(set1)\n",
    "\n",
    "# 6. Clear set\n",
    "set1.clear()\n",
    "print(set1)          # set()\n",
    "\n",
    "# 7. Set operations: union, intersection, difference, symmetric difference\n",
    "a = {1, 2, 3, 4}\n",
    "b = {3, 4, 5, 6}\n",
    "\n",
    "print(a.union(b))                 # {1, 2, 3, 4, 5, 6}\n",
    "print(a | b)                     # same as union\n",
    "\n",
    "print(a.intersection(b))          # {3, 4}\n",
    "print(a & b)                     # same as intersection\n",
    "\n",
    "print(a.difference(b))            # {1, 2}\n",
    "print(a - b)                     # same as difference\n",
    "\n",
    "print(a.symmetric_difference(b)) # {1, 2, 5, 6}\n",
    "print(a ^ b)                     # same as symmetric difference\n",
    "\n",
    "# 8. Checking subset, superset, and disjoint\n",
    "print({1, 2}.issubset(a))        # True\n",
    "print(a.issuperset({2, 3}))      # True\n",
    "print(a.isdisjoint({5, 6}))      # True (no common elements)\n",
    "\n",
    "# 9. Length of a set\n",
    "print(len(a))                    # 4\n",
    "\n",
    "# 10. Iterating over set elements\n",
    "for elem in a:\n",
    "    print(elem)\n",
    "\n",
    "# 11. Copying sets\n",
    "copy_set = a.copy()\n",
    "print(copy_set)\n",
    "\n",
    "# 12. Frozen sets (immutable sets)\n",
    "frozen = frozenset([1, 2, 3])\n",
    "print(frozen)\n",
    "\n",
    "# frozen.add(4)  # ❌ AttributeError: 'frozenset' object has no attribute 'add'\n",
    "\n",
    "# 13. Set comprehension\n",
    "set_comp = {x * 2 for x in range(5)}\n",
    "print(set_comp)\n",
    "\n",
    "# 14. Check membership\n",
    "print(3 in a)      # True\n",
    "print(10 in a)     # False\n",
    "\n",
    "# =========================\n",
    "# End of Set Operations Note\n",
    "# =========================\n",
    "\n"
   ]
  },
  {
   "cell_type": "code",
   "execution_count": 2,
   "id": "2b88a0a3",
   "metadata": {},
   "outputs": [
    {
     "name": "stdout",
     "output_type": "stream",
     "text": [
      "{1, 2, 3, 4, 5} <class 'set'>\n"
     ]
    }
   ],
   "source": [
    "# set data typ \n",
    "s = { 1,2,3,4,5}\n",
    "print(s, type (s))\n"
   ]
  },
  {
   "cell_type": "code",
   "execution_count": 6,
   "id": "e627da06",
   "metadata": {},
   "outputs": [
    {
     "name": "stdout",
     "output_type": "stream",
     "text": [
      "{1, 2, 3, 4, 'ram', 'hari', (7, 8, 9), 'shyam'}\n"
     ]
    }
   ],
   "source": [
    "# unordered collection / unique unordered collection\n",
    "s = { \"ram\", 1 , \"hari\", 'shyam' , (7,8,9), 1, 'ram',2,4,'ram',3}\n",
    "print(s)"
   ]
  },
  {
   "cell_type": "code",
   "execution_count": 10,
   "id": "4ab67a51",
   "metadata": {},
   "outputs": [
    {
     "name": "stdout",
     "output_type": "stream",
     "text": [
      "{1, 2, 3, 4, 'ram', 'hari', (7, 8, 9), 'shyam'}\n"
     ]
    }
   ],
   "source": [
    "# tuple ,  int , float , complex (datatypes ), string : Immutable\n",
    "# list , dictionary , set : mutable \n",
    "s = { \"ram\", 1 , \"hari\", 'shyam' , (7,8,9), 1, 'ram',2,4,'ram',3, #[1,2,3]# \n",
    "     }\n",
    "print(s)\n",
    "# mutable huni datatype rakhna mildaina yeasma "
   ]
  },
  {
   "cell_type": "code",
   "execution_count": 11,
   "id": "86dd97a3",
   "metadata": {},
   "outputs": [],
   "source": [
    "#emply string bananuna \n",
    "empty_string = ''\n",
    "empty_string = str()\n",
    "\n",
    "empty_string = str()  # str()\n",
    "empty_list = []  #list\n",
    "empty_tuple = ()  #Tuple\n",
    "empty_dict = {}  # dict\n",
    "empty_set = set()   #set\n"
   ]
  },
  {
   "cell_type": "code",
   "execution_count": 12,
   "id": "b1345cd2",
   "metadata": {},
   "outputs": [
    {
     "name": "stdout",
     "output_type": "stream",
     "text": [
      "{'hari', 'ram ', 'gita', 'shyam', 'sita'}\n",
      "{'hari', 'ram ', 'gita', 'shyam', 'sita'}\n"
     ]
    }
   ],
   "source": [
    "#union or \n",
    "tea = {'ram ', 'hari', 'sita'}\n",
    "coffee = {'shyam','sita','gita'}\n",
    "tea_or_coffee = tea | coffee #union\n",
    "print(tea_or_coffee)\n",
    "\n",
    "tea = {'ram ', 'hari', 'sita'}\n",
    "coffee = {'shyam','sita','gita'}\n",
    "tea_or_coffee = tea .union( coffee) #union\n",
    "print(tea_or_coffee)\n"
   ]
  },
  {
   "cell_type": "code",
   "execution_count": 13,
   "id": "3c743d70",
   "metadata": {},
   "outputs": [
    {
     "name": "stdout",
     "output_type": "stream",
     "text": [
      "{'sita'}\n",
      "{'sita'}\n"
     ]
    }
   ],
   "source": [
    "#intersection and \n",
    "tea = {'ram ', 'hari', 'sita'}\n",
    "coffee = {'shyam','sita','gita'}\n",
    "tea_or_coffee = tea .intersection( coffee) #intersection\n",
    "print(tea_or_coffee)\n",
    "\n",
    "tea = {'ram ', 'hari', 'sita'}\n",
    "coffee = {'shyam','sita','gita'}\n",
    "tea_or_coffee = tea & ( coffee) #intersection\n",
    "print(tea_or_coffee)\n"
   ]
  },
  {
   "cell_type": "code",
   "execution_count": 15,
   "id": "fc7a94c2",
   "metadata": {},
   "outputs": [
    {
     "name": "stdout",
     "output_type": "stream",
     "text": [
      "{'ram ', 'hari'}\n",
      "{'ram ', 'hari'}\n"
     ]
    }
   ],
   "source": [
    "#difference\n",
    "tea = {'ram ', 'hari', 'sita'}\n",
    "coffee = {'shyam','sita','gita'}\n",
    "tea_only = tea - ( coffee) #difference\n",
    "print(tea_only)\n",
    "tea = {'ram ', 'hari', 'sita'}\n",
    "coffee = {'shyam','sita','gita'}\n",
    "tea_only = tea .difference ( coffee) #difference\n",
    "print(tea_only)\n",
    "\n"
   ]
  },
  {
   "cell_type": "code",
   "execution_count": 16,
   "id": "13c7eec0",
   "metadata": {},
   "outputs": [
    {
     "name": "stdout",
     "output_type": "stream",
     "text": [
      "{'ram ', 'gita', 'hari', 'shyam'}\n"
     ]
    }
   ],
   "source": [
    "#symmetric difference \n",
    "tea = {'ram ', 'hari', 'sita'}\n",
    "coffee = {'shyam','sita','gita'}\n",
    "tea_only_or_coffee_only = tea .symmetric_difference (coffee) #difference\n",
    "print(tea_only_or_coffee_only)"
   ]
  },
  {
   "cell_type": "code",
   "execution_count": null,
   "id": "cc99791c",
   "metadata": {},
   "outputs": [],
   "source": [
    "# set ma k k garna milcha \n",
    "help(set)"
   ]
  },
  {
   "cell_type": "code",
   "execution_count": null,
   "id": "b03109cb",
   "metadata": {},
   "outputs": [
    {
     "name": "stdout",
     "output_type": "stream",
     "text": [
      "{1, 4, 5, 6, 'sita', 'ram', 'Ritik', 'hari'}\n"
     ]
    }
   ],
   "source": [
    "# keahi kura add garna cha vanea \n",
    "s = {'ram', 'hari', 'sita'}\n",
    "s.add('Ritik')\n",
    "s.add(1)\n",
    "s.update((4,5,6))\n",
    "\n",
    "print(s)\n"
   ]
  },
  {
   "cell_type": "code",
   "execution_count": null,
   "id": "1e359bf6",
   "metadata": {},
   "outputs": [
    {
     "name": "stdout",
     "output_type": "stream",
     "text": [
      "{1, 4, 5, 'ram ', 6, 'sita', 'Ritik', 'hari'}\n",
      "{4, 5, 'ram ', 6, 'sita', 'Ritik', 'hari'}\n"
     ]
    }
   ],
   "source": [
    "\n",
    "s = {'ram ', 'hari', 'sita'}\n",
    "s.add('Ritik')\n",
    "s.add(1)\n",
    "s.update((4,5,6))\n",
    "print(s)\n",
    "s.remove(1)\n",
    "print(s)"
   ]
  },
  {
   "cell_type": "code",
   "execution_count": null,
   "id": "735634cf",
   "metadata": {},
   "outputs": [
    {
     "name": "stdout",
     "output_type": "stream",
     "text": [
      "{1, 2, 3, 4, 5, 'sita', 'hari'}\n",
      "{2, 3, 4, 5, 'sita', 'hari'}\n"
     ]
    }
   ],
   "source": [
    "#remove garna \n",
    "# s.clear\n",
    "s = {'ram ', 'hari', 'sita'}\n",
    "s.update((1,2,3,4,5))  # yo chai add garyeko \n",
    "s.remove(\"ram \")\n",
    "print(s)\n",
    "s.pop()\n",
    "print(s)\n"
   ]
  },
  {
   "cell_type": "code",
   "execution_count": null,
   "id": "e0b23a43",
   "metadata": {},
   "outputs": [
    {
     "name": "stdout",
     "output_type": "stream",
     "text": [
      "frozenset({0, 1, 2, 3, 4, 5, 6, 7, 8, 9})\n"
     ]
    }
   ],
   "source": [
    "# basic operation \n",
    "s = { 1, 2,3,4,5,9,8,7,6,0}\n",
    "min(s)\n",
    "max(s)\n",
    "len(s)\n",
    "sorted (s)\n",
    "sorted (s,reverse=True)\n",
    "s = frozenset(s)   # yeasma chai add garna mildaina \n",
    "print(s )\n",
    "# s.update ((10,11))  error\n"
   ]
  },
  {
   "cell_type": "code",
   "execution_count": null,
   "id": "686c9487",
   "metadata": {},
   "outputs": [],
   "source": []
  }
 ],
 "metadata": {
  "kernelspec": {
   "display_name": "Python 3",
   "language": "python",
   "name": "python3"
  },
  "language_info": {
   "codemirror_mode": {
    "name": "ipython",
    "version": 3
   },
   "file_extension": ".py",
   "mimetype": "text/x-python",
   "name": "python",
   "nbconvert_exporter": "python",
   "pygments_lexer": "ipython3",
   "version": "3.13.3"
  }
 },
 "nbformat": 4,
 "nbformat_minor": 5
}
