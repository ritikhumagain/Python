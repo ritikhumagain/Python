{
 "cells": [
  {
   "cell_type": "code",
   "execution_count": null,
   "id": "7a4707d7",
   "metadata": {},
   "outputs": [
    {
     "name": "stdout",
     "output_type": "stream",
     "text": [
      "3.1\n"
     ]
    }
   ],
   "source": [
    "#First python code \n",
    "#variable banako x and y \n",
    "x = 1   #variable : Int\n",
    "y = 2.1 #Variable : Float  \n",
    "x = x + y\n",
    "print(sum)"
   ]
  },
  {
   "cell_type": "code",
   "execution_count": 1,
   "id": "5bd73fcd",
   "metadata": {},
   "outputs": [
    {
     "name": "stdout",
     "output_type": "stream",
     "text": [
      "The value of x is : 7\n",
      "The value of x is : 7\n",
      "The value of x is : 7\n",
      "The value of x is : 7\n",
      "The value of x is : 7\n"
     ]
    }
   ],
   "source": [
    "# # Topic: Different Ways to Print Messages with Variables in Python\n",
    "\n",
    "x = 7\n",
    "\n",
    "# 1. Using f-String (Recommended for readability)\n",
    "print(f\"The value of x is : {x}\")\n",
    "\n",
    "# 2. Using String Concatenation\n",
    "print(\"The value of x is : \" + str(x))\n",
    "\n",
    "# 3. Using format() method\n",
    "print(\"The value of x is : {}\".format(x))\n",
    "\n",
    "# 4. Using printf-style formatting\n",
    "print(\"The value of x is : %d\" % x)\n",
    "\n",
    "# 5. Using multiple arguments (original print style)\n",
    "print(\"The value of x is :\", x)\n"
   ]
  },
  {
   "cell_type": "code",
   "execution_count": 2,
   "id": "c2243665",
   "metadata": {},
   "outputs": [],
   "source": [
    "# comment : Python doesnot run anything after #\n",
    "#indentationerror : python ma space hunu hudaina aagadi sida huna parcha sab \n"
   ]
  },
  {
   "cell_type": "code",
   "execution_count": 3,
   "id": "52a7d158",
   "metadata": {},
   "outputs": [],
   "source": [
    "#Rules for writing Identifiers\n",
    "#1 lowercase (a to z ) or uppercase (A to Z) or digits (0 to 9)or an underscore \n",
    "myVar = 1\n",
    "var_1 = 2\n",
    "test_variable = 3\n",
    "var1 = 4\n",
    "_var = 5\n",
    "\n",
    "#2 Cannot start with a digit . \n",
    "# 1var= \"Error\"\n",
    "\n",
    "#3 Keywords cannot be used as identifiers \n",
    "# for = 'Error' \n",
    "\n",
    "#4 Cannot use special symbols like @, !, \n",
    "# a@ = \"Error\"1basic.ipyn\n",
    "\n",
    "#5 Can be of any length \n",
    "jikesd_sjdlkd_sfdhf_dfhldf = 6\n",
    "\n"
   ]
  },
  {
   "cell_type": "code",
   "execution_count": 4,
   "id": "819f7eb4",
   "metadata": {},
   "outputs": [],
   "source": [
    "# here are some key word\n",
    "#  Keyword     Description                                        |\n",
    " \n",
    "#  `None`      Represents the absence of a value                  \n",
    "#  `True`      Boolean value true                                 \n",
    "#  `and`       Logical AND                                        \n",
    "#  `as`        Used in `with` and `import` statements             \n",
    "#  `assert`    For debugging, to test if a condition is true      \n",
    "#  `async`     Declares an asynchronous function                  \n",
    "#  `await`     Waits for an async function to finish              \n",
    "#  `break`     Exits the current loop                             \n",
    "#  `class`     Defines a class                                    \n",
    "#  `continue`  Skips the rest of the current loop iteration       \n",
    "#  `def`       Defines a function                                 \n",
    "#  `del`       Deletes a variable or item                         \n",
    "#  `elif`      Else if condition                                  \n",
    "#  `else`      Else block                                         \n",
    "#  `except`    Handles exceptions                                 \n",
    "#  `finally`   Runs final code after try/except                   \n",
    "#  `for`       Looping                                            \n",
    "#  `from`      Imports specific parts of a module                 \n",
    "#  `global`    Declares a global variable                         \n",
    "#  `if`        Conditional statement                              \n",
    "#  `import`    Imports a module                                   \n",
    "#  `in`        Membership check or loop iterator                  \n",
    "#  `is`        Identity check                                     \n",
    "#  `lambda`    Creates anonymous function                         \n",
    "#  `nonlocal`  Refers to a variable in the outer non-global scope \n",
    "#  `not`       Logical NOT                                        \n",
    "#  `or`        Logical OR                                         \n",
    "#  `pass`      Empty statement (does nothing)                     \n",
    "#  `raise`     Raises an exception                                \n",
    "#  `return`    Exits a function and returns a value               \n",
    "#  `try`       Tries a block of code                              \n",
    "#  `while`     Loop while condition is true                       \n",
    "#  `with`      Context manager (e.g., for files)                  \n",
    "#  `yield`     Used in generators to return a value               \n",
    "#  `match`     (Python 3.10+) Pattern matching (like switch-case) \n",
    "#  `case`      (Python 3.10+) Pattern match case                  \n"
   ]
  },
  {
   "cell_type": "code",
   "execution_count": 5,
   "id": "c35627c3",
   "metadata": {},
   "outputs": [],
   "source": [
    "# Ramro Variable banauna paryo \n",
    "adkdfkdfldf = 9.8\n",
    "g = 9.8\n",
    "gravity = 9.8\n",
    "gravity_of_earth = 9.8\n",
    "# Kun chai ramro variable cha teii "
   ]
  },
  {
   "cell_type": "code",
   "execution_count": null,
   "id": "9b172315",
   "metadata": {},
   "outputs": [
    {
     "name": "stdout",
     "output_type": "stream",
     "text": [
      "Python\n",
      "Alice\n",
      "<class 'NoneType'>\n",
      "b'ABC'\n",
      "65\n",
      "bytearray(b'ABC')\n",
      "bytearray(b'DBC')\n",
      "bytearray(b'DBCE')\n",
      "72\n",
      "bytearray(b'Jello')\n"
     ]
    }
   ],
   "source": [
    "#Data type: kind of data a variable can hold \n",
    "\n",
    "\n",
    "# 1. Numeric Types\n",
    "# int — Integer numbers (e.g., 5, -10)\n",
    "x = 5\n",
    "x = -10\n",
    "\n",
    "# float — Floating point numbers / decimals \n",
    "x =3.14,\n",
    "x = -0.001\n",
    "\n",
    "# complex — Complex numbers \n",
    "x= 2 + 3j\n",
    "\n",
    "\n",
    "\n",
    "# 2. Sequence Types\n",
    "# list — Ordered, mutable collection \n",
    "x = [1, 2, 3]\n",
    "\n",
    "# tuple — Ordered, immutable collection \n",
    "x = (1, 2, 3)\n",
    "\n",
    "# range — Immutable sequence of numbers, often used in loops \n",
    "# range(stop)\n",
    "# range(start, stop)\n",
    "# range(start, stop, step)\n",
    "x = range(5) \n",
    "range(5)               # 0, 1, 2, 3, 4\n",
    "range(2, 6)            # 2, 3, 4, 5\n",
    "range(1, 10, 2)        # 1, 3, 5, 7, 9\n",
    " \n",
    "\n",
    "\n",
    "# 3. Text Type\n",
    "# str — String of characters \n",
    "x ,  y = \"Hello\", 'Python'\n",
    "print(y)  #python\n",
    "\n",
    "\n",
    "\n",
    "# 4. Set Types\n",
    "# set — Unordered, mutable collection of unique elements \n",
    "x = {1, 2, 3}\n",
    "\n",
    "# frozenset — Immutable version of a set\n",
    "\n",
    "\n",
    "\n",
    "\n",
    "# 5. Mapping Type\n",
    "# dict — Key-value pairs \n",
    "person =  {\n",
    "'name': 'Alice',\n",
    "'age': 25,\n",
    "} # {'key':'value','key':'value'}\n",
    "print(person['name'])  # vitra chai big bracket use huna paryo\n",
    "\n",
    "\n",
    "\n",
    "# 6. Boolean Type\n",
    "# bool — Represents \n",
    "# True or False\n",
    "\n",
    "\n",
    "#none data type \n",
    "x = None\n",
    "print(type(x))\n",
    "\n",
    "\n",
    "# 7. Binary Types\n",
    "# bytes — Immutable sequence of bytes\n",
    "data = bytes([65, 66, 67])  # ASCII for A, B, C\n",
    "print(data)         # Output: b'ABC'\n",
    "print(data[0])      # Output: 65 (ASCII value of 'A')\n",
    "\n",
    "# bytearray — Mutable sequence of bytes\n",
    "data = bytearray([65, 66, 67])\n",
    "print(data)         # Output: bytearray(b'ABC')\n",
    "\n",
    "data[0] = 68        # Change 'A' to 'D'\n",
    "print(data)         # Output: bytearray(b'DBC')\n",
    "\n",
    "data.append(69)     # Add 'E' (ASCII 69)\n",
    "print(data)         # Output: bytearray(b'DBCE')\n",
    "\n",
    "# memoryview — A view of byte data without copying it\n",
    "data = bytearray(b'Hello')\n",
    "view = memoryview(data)\n",
    "\n",
    "print(view[0])          # Output: 72 (ASCII of 'H')\n",
    "\n",
    "view[0] = 74            # Change 'H' to 'J'\n",
    "print(data)             # Output: bytearray(b'Jello')"
   ]
  },
  {
   "cell_type": "code",
   "execution_count": 12,
   "id": "dfedeeb8",
   "metadata": {},
   "outputs": [
    {
     "name": "stdout",
     "output_type": "stream",
     "text": [
      "1 1 1\n",
      "<class 'int'>\n"
     ]
    }
   ],
   "source": [
    "# variable kasari kasari leakhna milcha \n",
    "x = 1 \n",
    "y = 1 \n",
    "z = 1\n",
    "# x,y,z = 1,1,1   #same \n",
    "# x = y = z = 1   #same\n",
    "# x=1;y=1;z= 1 ;  #same \n",
    "print(x,y,z)\n",
    "print(type(x))"
   ]
  },
  {
   "cell_type": "code",
   "execution_count": 17,
   "id": "2a8a6074",
   "metadata": {},
   "outputs": [
    {
     "name": "stdout",
     "output_type": "stream",
     "text": [
      "The value of Pi and Gravity  is (3.1415, 9.8)\n"
     ]
    }
   ],
   "source": [
    "#Constant value must be in Capital letter \n",
    "pi = 3.1415 \n",
    "PI = 3.1415  # VS CODE WILL MAKE DARK BLUE\n",
    "GRAVITY = 9.8\n",
    "print(f\"The value of Pi and Gravity  is {(PI,GRAVITY)}\")"
   ]
  },
  {
   "cell_type": "code",
   "execution_count": 18,
   "id": "af846083",
   "metadata": {},
   "outputs": [
    {
     "name": "stdout",
     "output_type": "stream",
     "text": [
      "21 1000 200 4813\n"
     ]
    }
   ],
   "source": [
    "#binary , octa , decimal , hexadecima \n",
    "a = 0b10101 # Binary literals  : 2 ditil 0 and 1 \n",
    "b = 1000  # Decimal \n",
    "c  = 0o310 # Octal literal : 8 digit 0 - 7 \n",
    "d = 0x12cd # Hexadecimal Literal : 16 digit 0-9 aand a - f\n",
    "print(a, b, c,d )"
   ]
  },
  {
   "cell_type": "code",
   "execution_count": 22,
   "id": "5668fb3e",
   "metadata": {},
   "outputs": [
    {
     "name": "stdout",
     "output_type": "stream",
     "text": [
      "<class 'int'>\n",
      "<class 'float'>\n",
      "<class 'str'>\n"
     ]
    }
   ],
   "source": [
    "#To Check what datatypes this variable hold type key word is used \n",
    "#Type Syntax : type(object)\n",
    "a = 5 \n",
    "print (type(a)) \n",
    "b = 5.1 \n",
    "print (type(b))\n",
    "c = 'Ritik Humagain'\n",
    "print (type(c))\n"
   ]
  },
  {
   "cell_type": "code",
   "execution_count": 24,
   "id": "127733c3",
   "metadata": {},
   "outputs": [
    {
     "name": "stdout",
     "output_type": "stream",
     "text": [
      "140704070575144\n",
      "140704070575112\n"
     ]
    }
   ],
   "source": [
    "#To check the Memory Address where it is stored \n",
    "# id Syntax : id(object)\n",
    "a = 5 \n",
    "print(id(a))\n",
    "b = 4 \n",
    "print(id(b))\n"
   ]
  },
  {
   "cell_type": "code",
   "execution_count": null,
   "id": "049f786e",
   "metadata": {},
   "outputs": [],
   "source": [
    "# Dynamically type language : can change the data type of variable in run tim \n",
    "# c is static data type \n",
    "x = 1\n",
    "x = 1.4 \n",
    "x = 'string '  # static ma chai pahilai vannu parcha int x vanyera tara yeasma pardain \n",
    "\n",
    "# garbage collected language : remove unused / garbage value from the memory \n",
    "# pahila ko location jun ma 1 store vako theeyo teo remove huncha\n",
    " "
   ]
  },
  {
   "cell_type": "code",
   "execution_count": null,
   "id": "26af0e25",
   "metadata": {},
   "outputs": [],
   "source": []
  }
 ],
 "metadata": {
  "kernelspec": {
   "display_name": "Python 3",
   "language": "python",
   "name": "python3"
  },
  "language_info": {
   "codemirror_mode": {
    "name": "ipython",
    "version": 3
   },
   "file_extension": ".py",
   "mimetype": "text/x-python",
   "name": "python",
   "nbconvert_exporter": "python",
   "pygments_lexer": "ipython3",
   "version": "3.13.3"
  }
 },
 "nbformat": 4,
 "nbformat_minor": 5
}
