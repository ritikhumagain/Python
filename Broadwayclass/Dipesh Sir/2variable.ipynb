{
 "cells": [
  {
   "cell_type": "markdown",
   "id": "55dcf457",
   "metadata": {},
   "source": [
    "# second class\n"
   ]
  },
  {
   "cell_type": "code",
   "execution_count": 1,
   "id": "0dca686e",
   "metadata": {},
   "outputs": [
    {
     "name": "stdout",
     "output_type": "stream",
     "text": [
      "python programming \n"
     ]
    },
    {
     "data": {
      "text/plain": [
       "'ritik'"
      ]
     },
     "execution_count": 1,
     "metadata": {},
     "output_type": "execute_result"
    }
   ],
   "source": [
    "# input / output\n",
    "print(\"python programming \")\n",
    "\n",
    "input(\"Enter Your Name\")"
   ]
  },
  {
   "cell_type": "code",
   "execution_count": 4,
   "id": "c425da78",
   "metadata": {},
   "outputs": [
    {
     "name": "stdout",
     "output_type": "stream",
     "text": [
      "44\n"
     ]
    }
   ],
   "source": [
    "roll = int(input(\"enter your roll:\"))\n",
    "print(roll)\n"
   ]
  },
  {
   "cell_type": "code",
   "execution_count": 9,
   "id": "e883c031",
   "metadata": {},
   "outputs": [
    {
     "name": "stdout",
     "output_type": "stream",
     "text": [
      "18\n",
      "roll\n",
      "Your Roll Number is : 18\n",
      "your roll no is : 18\n",
      "Hello ritik, your roll number:18\n"
     ]
    }
   ],
   "source": [
    "name = 'ritik'\n",
    "roll = 18 \n",
    "print(roll)   \n",
    "print(\"roll\")  # string huncha \n",
    "print(f\"Your Roll Number is : {roll}\")\n",
    "print(\"your roll no is :\", roll)\n",
    "print(\"Hello {}, your roll number:{}\".format(name,roll))"
   ]
  },
  {
   "cell_type": "code",
   "execution_count": 1,
   "id": "0b04f275",
   "metadata": {},
   "outputs": [],
   "source": [
    "int  = 145 # without decimal\n",
    "float= 555.3333 # floating point with decimal \n",
    "str = \"hello world \"\n"
   ]
  },
  {
   "cell_type": "code",
   "execution_count": 6,
   "id": "9a05cfa3",
   "metadata": {},
   "outputs": [
    {
     "name": "stdout",
     "output_type": "stream",
     "text": [
      "<class 'str'>\n",
      "True\n",
      "False\n"
     ]
    }
   ],
   "source": [
    "# type \n",
    "ritik = \"name\"\n",
    "print(type(ritik))\n",
    "\n",
    "# boolean \n",
    "# type \n",
    "result = True\n",
    "type(result) \n",
    "\n",
    "print(5 > 2) # rrue\n",
    "print(4 < 2 ) # false"
   ]
  },
  {
   "cell_type": "code",
   "execution_count": 9,
   "id": "4aefe7cf",
   "metadata": {},
   "outputs": [
    {
     "name": "stdout",
     "output_type": "stream",
     "text": [
      "None\n"
     ]
    },
    {
     "data": {
      "text/plain": [
       "NoneType"
      ]
     },
     "execution_count": 9,
     "metadata": {},
     "output_type": "execute_result"
    }
   ],
   "source": [
    "# None \n",
    "# no value \n",
    "gpa = None # khali cha \n",
    "print(gpa)\n",
    "type(gpa)"
   ]
  },
  {
   "cell_type": "markdown",
   "id": "d551766c",
   "metadata": {},
   "source": []
  },
  {
   "cell_type": "code",
   "execution_count": 16,
   "id": "3b62d185",
   "metadata": {},
   "outputs": [
    {
     "data": {
      "text/plain": [
       "4.0"
      ]
     },
     "execution_count": 16,
     "metadata": {},
     "output_type": "execute_result"
    }
   ],
   "source": [
    "# Complex number (a + bi ) real and imaginary \n",
    "import math\n",
    "math.sqrt (4 )\n",
    "cnumber1 = 2 + 4j\n",
    "cnumber2 = complex(2,4)\n",
    "cnumber1 == cnumber2\n",
    "cnumber2.real\n",
    "cnumber2.imag\n"
   ]
  },
  {
   "cell_type": "code",
   "execution_count": 24,
   "id": "42244f4b",
   "metadata": {},
   "outputs": [
    {
     "name": "stdout",
     "output_type": "stream",
     "text": [
      "\thello ritik \n",
      " your roll number 33\n"
     ]
    }
   ],
   "source": [
    "# Escape Sequences \n",
    "\"\"\"\\n = new line \n",
    "\n",
    "\\t = tab\"\"\"\n",
    "name =\"ritik\"\n",
    "roll = 33\n",
    "print(f\"\\thello {name} \\n your roll number {roll}\")"
   ]
  },
  {
   "cell_type": "code",
   "execution_count": null,
   "id": "3e92a266",
   "metadata": {},
   "outputs": [
    {
     "name": "stdout",
     "output_type": "stream",
     "text": [
      "\"hello\" guy\n",
      "'hello'guys\n"
     ]
    }
   ],
   "source": [
    "# task \n",
    "print('''\"hello\" guy''')\n",
    "print('\\'hello\\'guys')\n",
    "\n",
    "# arithmetic operators\n",
    "# comparision operators \n",
    "# logical operators "
   ]
  },
  {
   "cell_type": "code",
   "execution_count": null,
   "id": "cf459987",
   "metadata": {},
   "outputs": [],
   "source": []
  }
 ],
 "metadata": {
  "kernelspec": {
   "display_name": "Python 3",
   "language": "python",
   "name": "python3"
  },
  "language_info": {
   "codemirror_mode": {
    "name": "ipython",
    "version": 3
   },
   "file_extension": ".py",
   "mimetype": "text/x-python",
   "name": "python",
   "nbconvert_exporter": "python",
   "pygments_lexer": "ipython3",
   "version": "3.13.3"
  }
 },
 "nbformat": 4,
 "nbformat_minor": 5
}
