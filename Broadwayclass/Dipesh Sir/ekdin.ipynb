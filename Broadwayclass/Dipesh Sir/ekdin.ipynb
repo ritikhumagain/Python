{
 "cells": [
  {
   "cell_type": "code",
   "execution_count": 1,
   "id": "91725002",
   "metadata": {},
   "outputs": [
    {
     "name": "stdout",
     "output_type": "stream",
     "text": [
      "Hello World\n"
     ]
    }
   ],
   "source": [
    "print(\"Hello World\")"
   ]
  },
  {
   "cell_type": "code",
   "execution_count": 2,
   "id": "7c5ab50d",
   "metadata": {},
   "outputs": [],
   "source": [
    "# remove all the duplicates elements from a list \n",
    "# find the second largest number in a list \n",
    "# count frequency of Element\n",
    "# find common elemnets from two list \n",
    "# student score tracker \n",
    " # use a list of tuple to store student name and score . \n",
    "# add new entries, find average , highest and lowest . "
   ]
  },
  {
   "cell_type": "code",
   "execution_count": 4,
   "id": "8af8daf8",
   "metadata": {},
   "outputs": [
    {
     "name": "stdout",
     "output_type": "stream",
     "text": [
      "3\n"
     ]
    }
   ],
   "source": [
    "# function \n",
    "def addition (a,b ):\n",
    "    sum = a + b \n",
    "    return sum  \n",
    "print(addition(1,2))\n"
   ]
  },
  {
   "cell_type": "code",
   "execution_count": null,
   "id": "3b229622",
   "metadata": {},
   "outputs": [
    {
     "name": "stdout",
     "output_type": "stream",
     "text": [
      "12\n"
     ]
    }
   ],
   "source": [
    "def addition (a,b ):\n",
    "    sum = a + b \n",
    "    return sum  \n",
    "x = int(input(\"enter any number\")) \n",
    "y = int(input(\"enter any number\")) \n",
    "print(addition(x,y))"
   ]
  },
  {
   "cell_type": "code",
   "execution_count": 8,
   "id": "65caa849",
   "metadata": {},
   "outputs": [
    {
     "name": "stdout",
     "output_type": "stream",
     "text": [
      "Simple Intrest :10.0\n",
      "<class 'float'>\n"
     ]
    }
   ],
   "source": [
    "def addition (p,t,r ):\n",
    "    intrest = (p*t*r)/100\n",
    "    return intrest \n",
    "p = int(input(\"enter p\")) \n",
    "t = int(input(\"enter t\")) \n",
    "r = int(input(\"enter r\")) \n",
    "simple_intrest = addition(p,t,r)\n",
    "print(f\"Simple Intrest :{simple_intrest}\")\n",
    "print(type(simple_intrest))"
   ]
  },
  {
   "cell_type": "code",
   "execution_count": null,
   "id": "4cf013b4",
   "metadata": {},
   "outputs": [],
   "source": [
    "# 1\n",
    "def ch(x):\n",
    "    if x % 2 == 0 :\n",
    "        print(\"even\")\n",
    "    else:\n",
    "        print(\"odd\")\n",
    "x = int(input(\"enter any Number \"))\n",
    "\n",
    "# 2 \n",
    "add1 = []\n",
    "def add():\n",
    "    \n",
    "\n",
    "\n",
    "x = list(input(\"enter the number\"))"
   ]
  },
  {
   "cell_type": "code",
   "execution_count": 23,
   "id": "60113715",
   "metadata": {},
   "outputs": [
    {
     "name": "stdout",
     "output_type": "stream",
     "text": [
      "120\n"
     ]
    }
   ],
   "source": [
    "def factorial (n):\n",
    "    fact = 1 \n",
    "    for i in range (1,n+1):\n",
    "        fact *= i\n",
    "    return fact\n",
    "final_fact = factorial(5)\n",
    "print(final_fact)\n"
   ]
  },
  {
   "cell_type": "code",
   "execution_count": 24,
   "id": "887ae59b",
   "metadata": {},
   "outputs": [
    {
     "data": {
      "text/plain": [
       "120"
      ]
     },
     "execution_count": 24,
     "metadata": {},
     "output_type": "execute_result"
    }
   ],
   "source": [
    "def fact(n):\n",
    "    if n==1:\n",
    "        return 1\n",
    "    else:\n",
    "        return n*fact(n-1)\n",
    "fact(5)\n"
   ]
  },
  {
   "cell_type": "code",
   "execution_count": null,
   "id": "7ec6312b",
   "metadata": {},
   "outputs": [
    {
     "name": "stdout",
     "output_type": "stream",
     "text": [
      "10\n"
     ]
    }
   ],
   "source": [
    "#FUNCTION AREA AND PERIMETER OF AN RECTANGLE (Return multiple values)\n",
    "# Return Multiple values\n",
    "\n",
    "def rectangle (l,b):\n",
    "    area  = l * b \n",
    "    perimeter = 2 *( l + b)\n",
    "    return area , perimeter\n",
    "l = 2 \n",
    "b = 2\n",
    "ar, pe = rectangle(5,2)\n",
    "print(ar)\n"
   ]
  },
  {
   "cell_type": "code",
   "execution_count": 28,
   "id": "d67486b7",
   "metadata": {},
   "outputs": [
    {
     "name": "stdout",
     "output_type": "stream",
     "text": [
      "(50, 30)\n"
     ]
    }
   ],
   "source": [
    "l = 10 \n",
    "b = 5\n",
    "ar_pe = rectangle(l , b)\n",
    "print(ar_pe)"
   ]
  },
  {
   "cell_type": "code",
   "execution_count": 7,
   "id": "396d908c",
   "metadata": {},
   "outputs": [
    {
     "data": {
      "text/plain": [
       "1"
      ]
     },
     "execution_count": 7,
     "metadata": {},
     "output_type": "execute_result"
    }
   ],
   "source": [
    "xy = [6,5,4,7,3,9,1]\n",
    "xy.sort()\n",
    "xy\n",
    "xy[-2]\n",
    "xy.count(9)\n"
   ]
  },
  {
   "cell_type": "code",
   "execution_count": 8,
   "id": "29943cb5",
   "metadata": {},
   "outputs": [
    {
     "name": "stdout",
     "output_type": "stream",
     "text": [
      "52\n"
     ]
    }
   ],
   "source": [
    "\n",
    "def sum1(*n):\n",
    "    return sum(n)\n",
    "a=[1,2,33,5,6,3,2]\n",
    "print(sum1(*a))"
   ]
  },
  {
   "cell_type": "code",
   "execution_count": 12,
   "id": "2173fa13",
   "metadata": {},
   "outputs": [
    {
     "name": "stdout",
     "output_type": "stream",
     "text": [
      "Sum of list: 1000\n"
     ]
    }
   ],
   "source": [
    "def sum_list(id):              #p = [ 100m, 200 , 300, 400]  id nai list vaidincha aaba \n",
    "    total = sum (p)\n",
    "    return total\n",
    "\n",
    "p = [100,200,300,400]\n",
    "sum_list(p)\n",
    "sum = sum_list(p)\n",
    "print(\"Sum of list:\",sum)\n"
   ]
  },
  {
   "cell_type": "code",
   "execution_count": 13,
   "id": "45998203",
   "metadata": {},
   "outputs": [],
   "source": [
    "# optinal parameter , Anonymous function , nested function \n"
   ]
  },
  {
   "cell_type": "code",
   "execution_count": 14,
   "id": "13983807",
   "metadata": {},
   "outputs": [],
   "source": [
    "# optinal parameter \n",
    "# parameter , arguments \n"
   ]
  },
  {
   "cell_type": "code",
   "execution_count": 25,
   "id": "c82466bd",
   "metadata": {},
   "outputs": [
    {
     "name": "stdout",
     "output_type": "stream",
     "text": [
      "35\n"
     ]
    }
   ],
   "source": [
    "def rectangle(l= 5,b= 2 ) :\n",
    "    area = l * b \n",
    "    return area\n",
    "# l = 7 \n",
    "# b = 5 \n",
    "ar = rectangle(l,b) \n",
    "print(ar)\n"
   ]
  },
  {
   "cell_type": "code",
   "execution_count": 28,
   "id": "5fc2e25c",
   "metadata": {},
   "outputs": [
    {
     "name": "stdout",
     "output_type": "stream",
     "text": [
      "14\n"
     ]
    }
   ],
   "source": [
    "def rectangle(l= 5,b= 2 ) :\n",
    "    area = l * b \n",
    "    return area\n",
    "# l = 7 \n",
    "# b = 5 \n",
    "ar = rectangle(l) \n",
    "print(ar)"
   ]
  },
  {
   "cell_type": "code",
   "execution_count": 33,
   "id": "4d9b41cb",
   "metadata": {},
   "outputs": [
    {
     "name": "stdout",
     "output_type": "stream",
     "text": [
      "25\n",
      "512\n"
     ]
    }
   ],
   "source": [
    "# anonymous function  (name nai chaina ) \n",
    "# Function with no name : Lambda function \n",
    "def square (n) : \n",
    "    return n ** 2 \n",
    "x = 5 \n",
    "print(square(x))\n",
    "\n",
    "# syntax (lambda parameter : return)\n",
    "cube = lambda n : n ** 3 \n",
    "x = 8 \n",
    "print(cube(x))"
   ]
  },
  {
   "cell_type": "code",
   "execution_count": 35,
   "id": "850c774f",
   "metadata": {},
   "outputs": [
    {
     "name": "stdout",
     "output_type": "stream",
     "text": [
      "15\n"
     ]
    }
   ],
   "source": [
    "# Example \n",
    "area = lambda x,y : x * y \n",
    "rectangle = 3,4\n",
    "print(area(3,5))"
   ]
  },
  {
   "cell_type": "code",
   "execution_count": 40,
   "id": "0e557062",
   "metadata": {},
   "outputs": [
    {
     "name": "stdout",
     "output_type": "stream",
     "text": [
      "parent function\n",
      "child function\n"
     ]
    }
   ],
   "source": [
    "# Nested function \n",
    "def parent () : \n",
    "    print(\"parent function\") \n",
    "\n",
    "    def  child():\n",
    "        print(\"child function\")\n",
    "    child()\n",
    "\n",
    "parent()"
   ]
  },
  {
   "cell_type": "code",
   "execution_count": 41,
   "id": "cdc559d0",
   "metadata": {},
   "outputs": [
    {
     "name": "stdout",
     "output_type": "stream",
     "text": [
      "parent function\n",
      "child2 function\n",
      "child1 function\n"
     ]
    }
   ],
   "source": [
    "# Nested function \n",
    "def parent () : \n",
    "    print(\"parent function\") \n",
    "\n",
    "    def  child1 ():\n",
    "        print(\"child1 function\")\n",
    "    def  child2 ():\n",
    "        print(\"child2 function\")\n",
    "    child2()\n",
    "    child1()\n",
    "    \n",
    "\n",
    "parent()"
   ]
  },
  {
   "cell_type": "code",
   "execution_count": 44,
   "id": "13761c0c",
   "metadata": {},
   "outputs": [
    {
     "name": "stdout",
     "output_type": "stream",
     "text": [
      "parent function\n",
      "child2 function\n",
      "child1 function\n"
     ]
    }
   ],
   "source": [
    "# Nested function \n",
    "def parent () : \n",
    "    print(\"parent function\") \n",
    "    \n",
    "    def  child1 ():\n",
    "        print(\"child1 function\")\n",
    "    def  child2 ():\n",
    "        print(\"child2 function\")\n",
    "    child2()\n",
    "    child1()\n",
    "    \n",
    "\n",
    "parent()"
   ]
  },
  {
   "cell_type": "code",
   "execution_count": 47,
   "id": "7428ad47",
   "metadata": {},
   "outputs": [
    {
     "name": "stdout",
     "output_type": "stream",
     "text": [
      "10\n"
     ]
    },
    {
     "data": {
      "text/plain": [
       "7"
      ]
     },
     "execution_count": 47,
     "metadata": {},
     "output_type": "execute_result"
    }
   ],
   "source": [
    "# local and global variables \n",
    "total = 10 \n",
    "def display():\n",
    "    total = 7 \n",
    "    return total\n",
    "print(total)\n",
    "display()"
   ]
  },
  {
   "cell_type": "code",
   "execution_count": 53,
   "id": "5744f5fd",
   "metadata": {},
   "outputs": [
    {
     "name": "stdout",
     "output_type": "stream",
     "text": [
      "7\n",
      "7\n"
     ]
    }
   ],
   "source": [
    "x = 10 \n",
    "def display():\n",
    "    y = 7 \n",
    "    global x \n",
    "    x = y   \n",
    "    return x \n",
    "print(display())\n",
    "print(x)\n",
    "    "
   ]
  },
  {
   "cell_type": "code",
   "execution_count": null,
   "id": "be7bd846",
   "metadata": {},
   "outputs": [],
   "source": []
  }
 ],
 "metadata": {
  "kernelspec": {
   "display_name": "Python 3",
   "language": "python",
   "name": "python3"
  },
  "language_info": {
   "codemirror_mode": {
    "name": "ipython",
    "version": 3
   },
   "file_extension": ".py",
   "mimetype": "text/x-python",
   "name": "python",
   "nbconvert_exporter": "python",
   "pygments_lexer": "ipython3",
   "version": "3.13.3"
  }
 },
 "nbformat": 4,
 "nbformat_minor": 5
}
