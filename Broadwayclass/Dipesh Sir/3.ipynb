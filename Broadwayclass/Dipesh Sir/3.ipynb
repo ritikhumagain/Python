{
 "cells": [
  {
   "cell_type": "markdown",
   "id": "4ab44406",
   "metadata": {},
   "source": [
    "# Third class \n",
    "###### 4th june\n",
    "\n",
    "\n",
    "revision \n",
    "- input / output\n",
    "- Variables / value\n",
    "- Data types (int, float , string, complex , boolean , None)\n",
    "\n",
    "\n"
   ]
  },
  {
   "cell_type": "code",
   "execution_count": null,
   "id": "4e7ec175",
   "metadata": {},
   "outputs": [
    {
     "name": "stdout",
     "output_type": "stream",
     "text": [
      "a:5\n",
      "b:2\n",
      "sum : 7\n",
      "subtration : 3\n",
      "multiplication : 10\n",
      "Division : 2.5\n",
      "Floor Division : 2.5\n",
      "Modulus / Remainder : 1\n",
      "Floor Division : 25\n"
     ]
    }
   ],
   "source": [
    "# operators \n",
    "# symbol haru jaslea chai operation haru perform garcha\n",
    "a = 5 \n",
    "b = 2 \n",
    "print(f\"a:{a}\")\n",
    "print(f\"b:{b}\")\n",
    "\n",
    "\n",
    "# Arthimetic operation\n",
    "\n",
    "#  addition \n",
    "c = a+b \n",
    "print(f\"sum : {c}\")\n",
    "\n",
    "#subtration\n",
    "c = a-b #  sub operation\n",
    "print(f\"subtration : {c}\")\n",
    "\n",
    "# Multiplication \n",
    "c = a * b\n",
    "print(f\"multiplication : {c}\")\n",
    "\n",
    "# Division \n",
    "c = a /b\n",
    "print(f\"Division : {c}\")\n",
    "\n",
    "# Floor divide \n",
    "c = a//b\n",
    "c = a /b\n",
    "print(f\"Floor Division : {c}\")\n",
    "\n",
    "# Modulus\n",
    "c = a%b\n",
    "print(f\"Modulus / Remainder : {c}\")\n",
    "\n",
    "# Power\n",
    "c = a**b\n",
    "print(f\"Floor Division : {c}\")\n",
    "\n",
    "\n",
    "\n",
    "\n",
    "\n"
   ]
  },
  {
   "cell_type": "code",
   "execution_count": null,
   "id": "1b006bc3",
   "metadata": {},
   "outputs": [
    {
     "name": "stdout",
     "output_type": "stream",
     "text": [
      "True\n",
      "False\n",
      "True\n",
      "False\n",
      "False\n",
      "True\n"
     ]
    }
   ],
   "source": [
    "# Relational operator or Conditional operator \n",
    "a = 5 \n",
    "b = 2 \n",
    "\n",
    "# greater than >\n",
    "print(a > b)\n",
    "\n",
    "# less than    <\n",
    "print(a < b)\n",
    "\n",
    "# Greater than equal to >=\n",
    "print(a >= b)\n",
    "\n",
    "# less than equal to <=\n",
    "print(a <= b)\n",
    "\n",
    "# equal to ==\n",
    "print(a == b)\n",
    "\n",
    "# not equal to !=\n",
    "print(a != b)"
   ]
  },
  {
   "cell_type": "code",
   "execution_count": null,
   "id": "7c532b93",
   "metadata": {},
   "outputs": [
    {
     "name": "stdout",
     "output_type": "stream",
     "text": [
      "Greater: 5\n",
      "c:30\n",
      "d:10\n",
      "c is greater  30\n"
     ]
    }
   ],
   "source": [
    "# Conditional operator\n",
    "\n",
    "# if (condition):\n",
    "    # action1 \n",
    "    # action 2 \n",
    "a = 2 \n",
    "b = 5 \n",
    "if (a > b): # True vayo vanea yo print huncha\n",
    "    print(f\"Greater:{a}\")\n",
    "if (b > a ):\n",
    "    print(\"Greater:\", b)\n",
    "\n",
    "# practice 1\n",
    "c = int(input(\"Enter the value of c \"))\n",
    "d = int(input(\"Enter the  d\"))\n",
    "print(f\"c:{c}\")\n",
    "print(f\"d:{d}\")\n",
    "if (c>d):\n",
    "    print(\"c is greater \",c)\n",
    "if (d>c):\n",
    "    print(f\"d is greater :{d}\")\n",
    "\n",
    "\n"
   ]
  },
  {
   "cell_type": "code",
   "execution_count": 33,
   "id": "9a7c8da8",
   "metadata": {},
   "outputs": [
    {
     "name": "stdout",
     "output_type": "stream",
     "text": [
      "5\n"
     ]
    }
   ],
   "source": [
    "height = 5.11 \n",
    "height = int(height)\n",
    "print(height)"
   ]
  },
  {
   "cell_type": "code",
   "execution_count": null,
   "id": "ca907de6",
   "metadata": {},
   "outputs": [],
   "source": []
  }
 ],
 "metadata": {
  "kernelspec": {
   "display_name": "Python 3",
   "language": "python",
   "name": "python3"
  },
  "language_info": {
   "codemirror_mode": {
    "name": "ipython",
    "version": 3
   },
   "file_extension": ".py",
   "mimetype": "text/x-python",
   "name": "python",
   "nbconvert_exporter": "python",
   "pygments_lexer": "ipython3",
   "version": "3.13.3"
  }
 },
 "nbformat": 4,
 "nbformat_minor": 5
}
