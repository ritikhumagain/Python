{
 "cells": [
  {
   "cell_type": "code",
   "execution_count": null,
   "id": "e44ddb46",
   "metadata": {},
   "outputs": [],
   "source": []
  },
  {
   "cell_type": "markdown",
   "id": "74b1963b",
   "metadata": {},
   "source": [
    "So, the class starts today "
   ]
  },
  {
   "cell_type": "markdown",
   "id": "4220f5aa",
   "metadata": {},
   "source": []
  },
  {
   "cell_type": "markdown",
   "id": "ac14936a",
   "metadata": {},
   "source": [
    "# Jupyter\n",
    "## Jupyter\n",
    "### Jupyter\n",
    "#### Jupyter\n",
    "##### Jupyter\n",
    "###### Jupyter"
   ]
  },
  {
   "cell_type": "code",
   "execution_count": 3,
   "id": "3e2c84a3",
   "metadata": {},
   "outputs": [],
   "source": [
    "# markdown \n",
    "# mathi ko heading banauna kam lagcha \n",
    "#  # yo sign jati ota vayo teti ota heading file huncha \n"
   ]
  },
  {
   "cell_type": "markdown",
   "id": "ee9e6b0f",
   "metadata": {},
   "source": [
    "set up \n",
    "1. cmd - pip install notebook \n",
    "2. create a folder and open it and, in path type cmd\n",
    "3. juypter notebook /  - m jypter notebook \n",
    "\n",
    "vs code \n",
    "1. extensions ma gayeara jupyer install garni \n",
    "2. GOto view click command palette\n",
    "\n"
   ]
  },
  {
   "cell_type": "markdown",
   "id": "0cb2b444",
   "metadata": {},
   "source": [
    "###\n",
    "1. is a high-level integreted programming language knowns for its simplicity. readability and versatility.\n",
    "2. philosophy of code readability and a syntax \n",
    "3. creator guido avn rossum in 1991 \n",
    "3. named after the british comedy comedy group python's flyiing circus , which van rossum enjoyed\n"
   ]
  },
  {
   "cell_type": "markdown",
   "id": "9014b701",
   "metadata": {},
   "source": []
  },
  {
   "cell_type": "markdown",
   "id": "69db85c2",
   "metadata": {},
   "source": [
    "1. Input \n",
    "2. Output \n",
    "3. Comments \n",
    "4. variables"
   ]
  },
  {
   "cell_type": "code",
   "execution_count": null,
   "id": "217bb512",
   "metadata": {},
   "outputs": [
    {
     "name": "stdout",
     "output_type": "stream",
     "text": [
      "\n",
      "Hello world\n",
      "13\n"
     ]
    }
   ],
   "source": [
    "# Output function\n",
    "print()\n",
    "print(\"Hello world\")\n",
    "print(13)"
   ]
  },
  {
   "cell_type": "code",
   "execution_count": 3,
   "id": "b8457106",
   "metadata": {},
   "outputs": [
    {
     "name": "stdout",
     "output_type": "stream",
     "text": [
      "ritik 33 22.0\n"
     ]
    }
   ],
   "source": [
    "# Input function\n",
    "name = input(\"what is your name\")\n",
    "roll = int(input(\"Enter your name \"))\n",
    "height = float(input(\"Enter Your height\"))\n",
    "print(name,roll,height)\n"
   ]
  },
  {
   "cell_type": "code",
   "execution_count": null,
   "id": "1dd0305c",
   "metadata": {},
   "outputs": [
    {
     "name": "stdout",
     "output_type": "stream",
     "text": [
      "ritik\n"
     ]
    }
   ],
   "source": [
    "# comments \n",
    "# used for documentation \n",
    "# print(name)\n",
    "print(name)\n",
    "'''single line comment # \n",
    "multi line comments    hello '''  ''' 3 ota yeasto'''"
   ]
  },
  {
   "cell_type": "code",
   "execution_count": null,
   "id": "95e48aae",
   "metadata": {},
   "outputs": [],
   "source": [
    "#variables \n",
    "roll = 7  \n",
    "# Everything is object  in python \n",
    "# Rules to make variable \n",
    "    # A - Z , 0 -9 , a - b\n",
    "    # start with letter or underscore not digits \n",
    "    # are case- sensitive age and AGE are different\n",
    "    # spaces and special characters not allowed (@ , # ,$, %)\n",
    "    # keyword (if, for , while , etc) cannot be used \n"
   ]
  }
 ],
 "metadata": {
  "kernelspec": {
   "display_name": "Python 3",
   "language": "python",
   "name": "python3"
  },
  "language_info": {
   "codemirror_mode": {
    "name": "ipython",
    "version": 3
   },
   "file_extension": ".py",
   "mimetype": "text/x-python",
   "name": "python",
   "nbconvert_exporter": "python",
   "pygments_lexer": "ipython3",
   "version": "3.13.3"
  }
 },
 "nbformat": 4,
 "nbformat_minor": 5
}
