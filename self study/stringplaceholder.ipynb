{
 "cells": [
  {
   "cell_type": "code",
   "execution_count": null,
   "id": "8c1649e2",
   "metadata": {},
   "outputs": [
    {
     "name": "stdout",
     "output_type": "stream",
     "text": [
      "My name is Ritik. I am 21 years old and 5.9 feet tall.\n"
     ]
    }
   ],
   "source": [
    "# old school use placeholder like this \n",
    "# all type of placeholder are \n",
    "#%s = string\n",
    "#%d = integer\n",
    "#%f = float\n",
    "#%2f = float with 2 decimal places\n",
    "# %r = repr() of the value\n",
    "# %x = hexa decimal number\n",
    "# %X = hexa decimal number in uppercase\n",
    "# %c = character\n",
    "name = \"Ritik\"\n",
    "age = 24\n",
    "height = 5.9\n",
    "\n",
    "print(\"My name is %s. I am %d years old and %.1f feet tall.\" % (name, age, height))\n",
    "# print('my name is %s . i am %d years old and %1f feet tall '%(name,age,height))\n"
   ]
  },
  {
   "cell_type": "code",
   "execution_count": null,
   "id": "2d99ffe0",
   "metadata": {},
   "outputs": [
    {
     "name": "stdout",
     "output_type": "stream",
     "text": [
      "Hello\n",
      "World\n",
      "Name:\tRitik\n",
      "He said: \"Hi!\"\n"
     ]
    }
   ],
   "source": [
    "# | Escape Code | Description            |\n",
    "# | ----------- | ---------------------- |\n",
    "# | `\\n`        | New line               |\n",
    "# | `\\t`        | Tab                    |\n",
    "# | `\\\\`        | Backslash (`\\`)        |\n",
    "# | `\\'`        | Single quote           |\n",
    "# | `\\\"`        | Double quote           |\n",
    "# | `\\r`        | Carriage return (rare) |\n",
    "print(\"Hello\\nWorld\")        # New line\n",
    "print(\"Name:\\tRitik\")        # Tab space\n",
    "print(\"He said: \\\"Hi!\\\"\")    # Quoted word\n"
   ]
  },
  {
   "cell_type": "code",
   "execution_count": 3,
   "id": "b23c1771",
   "metadata": {},
   "outputs": [
    {
     "name": "stdout",
     "output_type": "stream",
     "text": [
      "My name is Ritik and I am 21 years old.\n"
     ]
    }
   ],
   "source": [
    "# This is a modern and flexible way to format strings.\n",
    "name = \"Ritik\"\n",
    "age = 21\n",
    "\n",
    "print(\"My name is {} and I am {} years old.\".format(name, age))"
   ]
  },
  {
   "cell_type": "code",
   "execution_count": 6,
   "id": "2de69fe6",
   "metadata": {},
   "outputs": [
    {
     "name": "stdout",
     "output_type": "stream",
     "text": [
      "My name is Ritik and I am 21 years old.\n",
      "Division result: 3.33\n"
     ]
    }
   ],
   "source": [
    "# The most modern and readable way to format strings.\n",
    "name = \"Ritik\"\n",
    "age = 21\n",
    "print(f\"My name is {name} and I am {age} years old.\")\n",
    "x = 10\n",
    "y = 3\n",
    "print(f\"Division result: {x / y:.2f}\")  # Output: 3.33"
   ]
  },
  {
   "cell_type": "code",
   "execution_count": null,
   "id": "26a8e684",
   "metadata": {},
   "outputs": [],
   "source": []
  }
 ],
 "metadata": {
  "kernelspec": {
   "display_name": "Python 3",
   "language": "python",
   "name": "python3"
  },
  "language_info": {
   "codemirror_mode": {
    "name": "ipython",
    "version": 3
   },
   "file_extension": ".py",
   "mimetype": "text/x-python",
   "name": "python",
   "nbconvert_exporter": "python",
   "pygments_lexer": "ipython3",
   "version": "3.13.3"
  }
 },
 "nbformat": 4,
 "nbformat_minor": 5
}
