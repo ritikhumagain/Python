{
 "cells": [
  {
   "cell_type": "code",
   "execution_count": 4,
   "id": "899a5b5c",
   "metadata": {},
   "outputs": [
    {
     "name": "stdout",
     "output_type": "stream",
     "text": [
      "Multiplication table of 1 \n",
      "1 x 1: 1\n",
      "1 x 2: 2\n",
      "1 x 3: 3\n",
      "1 x 4: 4\n",
      "1 x 5: 5\n",
      "1 x 6: 6\n",
      "1 x 7: 7\n",
      "1 x 8: 8\n",
      "1 x 9: 9\n",
      "1 x 10: 10\n",
      "Multiplication table of 2 \n",
      "2 x 1: 2\n",
      "2 x 2: 4\n",
      "2 x 3: 6\n",
      "2 x 4: 8\n",
      "2 x 5: 10\n",
      "2 x 6: 12\n",
      "2 x 7: 14\n",
      "2 x 8: 16\n",
      "2 x 9: 18\n",
      "2 x 10: 20\n",
      "Multiplication table of 3 \n",
      "3 x 1: 3\n",
      "3 x 2: 6\n",
      "3 x 3: 9\n",
      "3 x 4: 12\n",
      "3 x 5: 15\n",
      "3 x 6: 18\n",
      "3 x 7: 21\n",
      "3 x 8: 24\n",
      "3 x 9: 27\n",
      "3 x 10: 30\n",
      "Multiplication table of 4 \n",
      "4 x 1: 4\n",
      "4 x 2: 8\n",
      "4 x 3: 12\n",
      "4 x 4: 16\n",
      "4 x 5: 20\n",
      "4 x 6: 24\n",
      "4 x 7: 28\n",
      "4 x 8: 32\n",
      "4 x 9: 36\n",
      "4 x 10: 40\n"
     ]
    }
   ],
   "source": [
    "# 1. Multiplication Table Generator\n",
    "\n",
    "for i in range (1,5):\n",
    "    print(f\"Multiplication table of {i} \")\n",
    "\n",
    "    for j in range (1,11):\n",
    "        print(f'{i} x {j}: {i *j}')\n",
    "end=\"\\t\""
   ]
  },
  {
   "cell_type": "code",
   "execution_count": 7,
   "id": "bd6af1d0",
   "metadata": {},
   "outputs": [
    {
     "name": "stdout",
     "output_type": "stream",
     "text": [
      "Factorial of 4 is 24\n"
     ]
    }
   ],
   "source": [
    "#factoinal calculator\n",
    "num = int(input(\"Enter a number: \"))\n",
    "fact = 1\n",
    "for i in range(1, num + 1):\n",
    "    fact *= i\n",
    "print(f\"Factorial of {num} is {fact}\")"
   ]
  },
  {
   "cell_type": "code",
   "execution_count": null,
   "id": "d05c4923",
   "metadata": {},
   "outputs": [
    {
     "name": "stdout",
     "output_type": "stream",
     "text": [
      "Fibonacci series:\n",
      "0 1 1 2 3 5 8 13 21 34 55 89 144 233 377 "
     ]
    }
   ],
   "source": [
    "#fibonaci series \n",
    "n = 15  # number of terms you want\n",
    "\n",
    "a = 0\n",
    "b = 1\n",
    "\n",
    "print(\"Fibonacci series:\")\n",
    "\n",
    "for i in range(n):\n",
    "    print(a,end=\" \") \n",
    "    c = a + b\n",
    "    a = b\n",
    "    b = c "
   ]
  },
  {
   "cell_type": "code",
   "execution_count": 18,
   "id": "4f816f66",
   "metadata": {},
   "outputs": [
    {
     "name": "stdout",
     "output_type": "stream",
     "text": [
      "reverserd string:  atinrrab kitir\n"
     ]
    }
   ],
   "source": [
    "#Reverse a string \n",
    "name = input(\"enter character you want to reversed\")\n",
    "reversed= \"\"\n",
    "for char in name:\n",
    "    reversed = char +reversed\n",
    "    # print(reversed)\n",
    "print('reverserd string:',reversed)\n",
    "    "
   ]
  },
  {
   "cell_type": "code",
   "execution_count": null,
   "id": "acebd7b2",
   "metadata": {},
   "outputs": [
    {
     "name": "stdout",
     "output_type": "stream",
     "text": [
      "\n",
      "1 \n",
      "1 2 \n",
      "1 2 3 \n",
      "1 2 3 4 \n"
     ]
    }
   ],
   "source": [
    "#Simple number Pattern\n",
    "for i in range (5):\n",
    "\n",
    "    for j in range (1,i +1):\n",
    "        print(j,end=\" \")\n",
    "    print()                  # move into next line\n"
   ]
  },
  {
   "cell_type": "code",
   "execution_count": null,
   "id": "7e4f0479",
   "metadata": {},
   "outputs": [],
   "source": []
  }
 ],
 "metadata": {
  "kernelspec": {
   "display_name": "Python 3",
   "language": "python",
   "name": "python3"
  },
  "language_info": {
   "codemirror_mode": {
    "name": "ipython",
    "version": 3
   },
   "file_extension": ".py",
   "mimetype": "text/x-python",
   "name": "python",
   "nbconvert_exporter": "python",
   "pygments_lexer": "ipython3",
   "version": "3.13.3"
  }
 },
 "nbformat": 4,
 "nbformat_minor": 5
}
