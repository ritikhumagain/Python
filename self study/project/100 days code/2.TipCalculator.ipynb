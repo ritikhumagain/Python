{
 "cells": [
  {
   "cell_type": "code",
   "execution_count": 2,
   "id": "34f3e420",
   "metadata": {},
   "outputs": [
    {
     "name": "stdout",
     "output_type": "stream",
     "text": [
      "Welcome to the tip calculator\n",
      "Each person should pay : 27.308000000000003\n"
     ]
    }
   ],
   "source": [
    "print('Welcome to the tip calculator')\n",
    "total_bill = float(input ('What was the total bill'))\n",
    "people = int(input (\"How many people to split the bill\" ))\n",
    "tip = float(input ('what percentage tip would you like to give '))\n",
    "pay = (total_bill+tip)/people \n",
    "print(f'Each person should pay :',pay)"
   ]
  },
  {
   "cell_type": "code",
   "execution_count": null,
   "id": "8630ef95",
   "metadata": {},
   "outputs": [],
   "source": []
  }
 ],
 "metadata": {
  "kernelspec": {
   "display_name": "Python 3",
   "language": "python",
   "name": "python3"
  },
  "language_info": {
   "codemirror_mode": {
    "name": "ipython",
    "version": 3
   },
   "file_extension": ".py",
   "mimetype": "text/x-python",
   "name": "python",
   "nbconvert_exporter": "python",
   "pygments_lexer": "ipython3",
   "version": "3.13.3"
  }
 },
 "nbformat": 4,
 "nbformat_minor": 5
}
