{
 "cells": [
  {
   "cell_type": "code",
   "execution_count": 5,
   "id": "f2f26ffb",
   "metadata": {},
   "outputs": [
    {
     "name": "stdout",
     "output_type": "stream",
     "text": [
      "The number that lies in index 0 is : P\n",
      "The number that lies between  : PT\n"
     ]
    }
   ],
   "source": [
    "text = \"PYTHON\"\n",
    "print(\"The number that lies in index 0 is :\",text[0])\n",
    "print(\"The number that lies between  :\",text[0:4:2])\n"
   ]
  },
  {
   "cell_type": "code",
   "execution_count": 6,
   "id": "7ec8a54c",
   "metadata": {},
   "outputs": [
    {
     "name": "stdout",
     "output_type": "stream",
     "text": [
      "\n",
      "Full Copy of String:\n",
      "the copy is hello world\n"
     ]
    }
   ],
   "source": [
    "text = 'hello world'\n",
    "print(\"\\nFull Copy of String:\")\n",
    "# copy = text[:]\n",
    "# print(\"copy =\", copy)   \n",
    "print('the copy is',text[:])"
   ]
  },
  {
   "cell_type": "code",
   "execution_count": 43,
   "id": "934e2bed",
   "metadata": {},
   "outputs": [
    {
     "name": "stdout",
     "output_type": "stream",
     "text": [
      "python is powerful and popular. python is easy\n",
      "PYTHON IS POWERFUL AND POPULAR. PYTHON IS EASY\n",
      "Python Is Powerful And Popular. Python Is Easy\n",
      "Python is powerful and popular. python is easy\n",
      "pYTHON IS pOWERFUL AND pOPULAR. pYTHON IS eASY\n",
      "False\n",
      "False\n",
      "True\n",
      "2\n",
      "True\n",
      "True\n"
     ]
    },
    {
     "data": {
      "text/plain": [
       "'Python a Powerful and Popular. Python a Easy'"
      ]
     },
     "execution_count": 43,
     "metadata": {},
     "output_type": "execute_result"
    }
   ],
   "source": [
    "text = \"Python is Powerful and Popular. Python is Easy\"\n",
    "print(text.lower())\n",
    "print(text.upper())\n",
    "print(text.title())\n",
    "print(text.capitalize())\n",
    "print(text.swapcase())\n",
    "new= \"1alpha\"\n",
    "print(new.isidentifier())\n",
    "print(\"ritik 1\".isidentifier())\n",
    "print(\"ritik_1\".isidentifier())\n",
    "# text.rfind(\"is\")\n",
    "text.count(\"Python\")\n",
    "print(text.count('is',0))\n",
    "\n",
    "print(text.startswith('Python'))\n",
    "print(text.endswith(\"Python is Easy\"))\n",
    "text.replace('is','a')\n",
    "\n",
    "\n",
    "\n",
    "\n"
   ]
  },
  {
   "cell_type": "code",
   "execution_count": null,
   "id": "9f213f9b",
   "metadata": {},
   "outputs": [],
   "source": []
  }
 ],
 "metadata": {
  "kernelspec": {
   "display_name": "Python 3",
   "language": "python",
   "name": "python3"
  },
  "language_info": {
   "codemirror_mode": {
    "name": "ipython",
    "version": 3
   },
   "file_extension": ".py",
   "mimetype": "text/x-python",
   "name": "python",
   "nbconvert_exporter": "python",
   "pygments_lexer": "ipython3",
   "version": "3.13.3"
  }
 },
 "nbformat": 4,
 "nbformat_minor": 5
}
