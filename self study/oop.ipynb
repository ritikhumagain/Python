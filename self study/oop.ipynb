{
 "cells": [
  {
   "cell_type": "code",
   "execution_count": null,
   "id": "19593d24",
   "metadata": {},
   "outputs": [],
   "source": [
    "to ampa with real world scenarios we started "
   ]
  }
 ],
 "metadata": {
  "language_info": {
   "name": "python"
  }
 },
 "nbformat": 4,
 "nbformat_minor": 5
}
