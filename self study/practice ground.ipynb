{
 "cells": [
  {
   "cell_type": "code",
   "execution_count": null,
   "id": "6e5a37b6",
   "metadata": {},
   "outputs": [],
   "source": [
    "#this is arena\n",
    "\n"
   ]
  },
  {
   "cell_type": "code",
   "execution_count": 5,
   "id": "96057d10",
   "metadata": {},
   "outputs": [
    {
     "name": "stdout",
     "output_type": "stream",
     "text": [
      "5 x 0 : 0\n",
      "5 x 1 : 5\n",
      "5 x 2 : 10\n",
      "5 x 3 : 15\n",
      "5 x 4 : 20\n",
      "5 x 5 : 25\n",
      "5 x 6 : 30\n",
      "5 x 7 : 35\n",
      "5 x 8 : 40\n",
      "5 x 9 : 45\n",
      "5 x 10 : 50\n"
     ]
    }
   ],
   "source": [
    "\n",
    "for a in range (11):\n",
    "    mult = 5 * a \n",
    "    print ( f\"5 x {a} :\",mult)\n"
   ]
  },
  {
   "cell_type": "code",
   "execution_count": 7,
   "id": "aeab28c5",
   "metadata": {},
   "outputs": [
    {
     "name": "stdout",
     "output_type": "stream",
     "text": [
      "table of 1\n",
      "1*1: 1\n",
      "1*2: 2\n",
      "1*3: 3\n",
      "1*4: 4\n",
      "1*5: 5\n",
      "1*6: 6\n",
      "1*7: 7\n",
      "1*8: 8\n",
      "1*9: 9\n",
      "1*10: 10\n",
      "table of 2\n",
      "2*1: 2\n",
      "2*2: 4\n",
      "2*3: 6\n",
      "2*4: 8\n",
      "2*5: 10\n",
      "2*6: 12\n",
      "2*7: 14\n",
      "2*8: 16\n",
      "2*9: 18\n",
      "2*10: 20\n",
      "table of 3\n",
      "3*1: 3\n",
      "3*2: 6\n",
      "3*3: 9\n",
      "3*4: 12\n",
      "3*5: 15\n",
      "3*6: 18\n",
      "3*7: 21\n",
      "3*8: 24\n",
      "3*9: 27\n",
      "3*10: 30\n",
      "table of 4\n",
      "4*1: 4\n",
      "4*2: 8\n",
      "4*3: 12\n",
      "4*4: 16\n",
      "4*5: 20\n",
      "4*6: 24\n",
      "4*7: 28\n",
      "4*8: 32\n",
      "4*9: 36\n",
      "4*10: 40\n"
     ]
    }
   ],
   "source": [
    "for a in range (1,5):\n",
    "    print(f\"table of {a}\")\n",
    "    for b in range (1,11):\n",
    "        multip = a * b \n",
    "        print(f\"{a}*{b}:\", multip)"
   ]
  },
  {
   "cell_type": "code",
   "execution_count": 15,
   "id": "77aa85e8",
   "metadata": {},
   "outputs": [
    {
     "name": "stdout",
     "output_type": "stream",
     "text": [
      "*\n",
      "**\n",
      "***\n",
      "****\n",
      "*****\n"
     ]
    }
   ],
   "source": [
    "for b in range (1,6):\n",
    "        string = \"*\"*b\n",
    "        print(string)"
   ]
  },
  {
   "cell_type": "code",
   "execution_count": null,
   "id": "9d228344",
   "metadata": {},
   "outputs": [],
   "source": []
  }
 ],
 "metadata": {
  "kernelspec": {
   "display_name": "Python 3",
   "language": "python",
   "name": "python3"
  },
  "language_info": {
   "codemirror_mode": {
    "name": "ipython",
    "version": 3
   },
   "file_extension": ".py",
   "mimetype": "text/x-python",
   "name": "python",
   "nbconvert_exporter": "python",
   "pygments_lexer": "ipython3",
   "version": "3.13.3"
  }
 },
 "nbformat": 4,
 "nbformat_minor": 5
}
