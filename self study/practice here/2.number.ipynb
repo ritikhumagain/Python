{
 "cells": [
  {
   "cell_type": "code",
   "execution_count": 3,
   "id": "211f3aae",
   "metadata": {},
   "outputs": [
    {
     "name": "stdout",
     "output_type": "stream",
     "text": [
      "5\n"
     ]
    }
   ],
   "source": [
    "mixed = (1,3,'ritik',(3,5),5)\n",
    "print(mixed[3][1])"
   ]
  },
  {
   "cell_type": "code",
   "execution_count": null,
   "id": "ec0c01d3",
   "metadata": {},
   "outputs": [],
   "source": []
  },
  {
   "cell_type": "code",
   "execution_count": 4,
   "id": "afc1e19e",
   "metadata": {},
   "outputs": [
    {
     "name": "stdout",
     "output_type": "stream",
     "text": [
      "(1, 2, 3, 4)\n"
     ]
    }
   ],
   "source": [
    "print((1, 2) + (3, 4))\n"
   ]
  },
  {
   "cell_type": "code",
   "execution_count": 5,
   "id": "144d424d",
   "metadata": {},
   "outputs": [
    {
     "name": "stdout",
     "output_type": "stream",
     "text": [
      "('Hi', 'Hi', 'Hi')\n"
     ]
    }
   ],
   "source": [
    "print((\"Hi\",) * 3)"
   ]
  },
  {
   "cell_type": "code",
   "execution_count": 7,
   "id": "7106687b",
   "metadata": {},
   "outputs": [
    {
     "name": "stdout",
     "output_type": "stream",
     "text": [
      "False\n"
     ]
    }
   ],
   "source": [
    "print(0 in mixed)\n"
   ]
  },
  {
   "cell_type": "code",
   "execution_count": 11,
   "id": "c4839ead",
   "metadata": {},
   "outputs": [
    {
     "name": "stdout",
     "output_type": "stream",
     "text": [
      "3\n",
      "0\n"
     ]
    }
   ],
   "source": [
    "nums = (1,2,3,4,5,6,1,1)\n",
    "\n",
    "# count and index\n",
    "print(nums.count(1))\n",
    "print(nums.index(1))"
   ]
  },
  {
   "cell_type": "code",
   "execution_count": null,
   "id": "494b9222",
   "metadata": {},
   "outputs": [],
   "source": []
  }
 ],
 "metadata": {
  "kernelspec": {
   "display_name": "Python 3",
   "language": "python",
   "name": "python3"
  },
  "language_info": {
   "codemirror_mode": {
    "name": "ipython",
    "version": 3
   },
   "file_extension": ".py",
   "mimetype": "text/x-python",
   "name": "python",
   "nbconvert_exporter": "python",
   "pygments_lexer": "ipython3",
   "version": "3.13.3"
  }
 },
 "nbformat": 4,
 "nbformat_minor": 5
}
