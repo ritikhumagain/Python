{
 "cells": [
  {
   "cell_type": "code",
   "execution_count": 1,
   "id": "76cd4b6d",
   "metadata": {},
   "outputs": [
    {
     "name": "stdout",
     "output_type": "stream",
     "text": [
      "15\n",
      "15\n",
      "15\n"
     ]
    }
   ],
   "source": [
    "a = 5 \n",
    "b =10 \n",
    "sum = a + b\n",
    "print (sum)\n",
    "\n",
    "\n",
    "# more lines of code\n",
    "\n",
    "a = 5 \n",
    "b =10 \n",
    "sum = a + b\n",
    "print (sum)\n",
    "\n",
    "\n",
    "# more lines of code\n",
    "\n",
    "a = 5 \n",
    "b =10 \n",
    "sum = a + b\n",
    "print (sum)\n",
    "\n"
   ]
  },
  {
   "cell_type": "code",
   "execution_count": null,
   "id": "203df328",
   "metadata": {},
   "outputs": [
    {
     "data": {
      "text/plain": [
       "3"
      ]
     },
     "execution_count": 5,
     "metadata": {},
     "output_type": "execute_result"
    }
   ],
   "source": [
    "def calc_sum(x,y): # parameters\n",
    "    s = x+y\n",
    "    return s\n",
    "calc_sum(1,2) # function call , argument\n",
    "# def func_name (param1,param2,param3....)\n",
    "#pass\n",
    "\n"
   ]
  },
  {
   "cell_type": "code",
   "execution_count": 8,
   "id": "e2d0c260",
   "metadata": {},
   "outputs": [
    {
     "name": "stdout",
     "output_type": "stream",
     "text": [
      "hello\n",
      "None\n"
     ]
    }
   ],
   "source": [
    "#function defination \n",
    "def print_hello():\n",
    "    print( \"hello\")\n",
    "output = print_hello()\n",
    "print(output)\n"
   ]
  },
  {
   "cell_type": "code",
   "execution_count": 9,
   "id": "a111535d",
   "metadata": {},
   "outputs": [
    {
     "name": "stdout",
     "output_type": "stream",
     "text": [
      "hello\n",
      "None\n"
     ]
    }
   ],
   "source": [
    "def print_hello():\n",
    "    print( \"hello\")\n",
    "output = print_hello()\n",
    "print(output)\n"
   ]
  },
  {
   "cell_type": "code",
   "execution_count": 10,
   "id": "628a7114",
   "metadata": {},
   "outputs": [
    {
     "data": {
      "text/plain": [
       "15.0"
      ]
     },
     "execution_count": 10,
     "metadata": {},
     "output_type": "execute_result"
    }
   ],
   "source": [
    "# average of 3 no \n",
    "def average_no(x,y,z):\n",
    "    average = (x+y+z)/3\n",
    "    return average\n",
    "average_no(10,15,20)"
   ]
  },
  {
   "cell_type": "code",
   "execution_count": 11,
   "id": "5fdb0770",
   "metadata": {},
   "outputs": [
    {
     "data": {
      "text/plain": [
       "3.0"
      ]
     },
     "execution_count": 11,
     "metadata": {},
     "output_type": "execute_result"
    }
   ],
   "source": [
    "average_no(2,3,4)"
   ]
  },
  {
   "cell_type": "code",
   "execution_count": null,
   "id": "92878190",
   "metadata": {},
   "outputs": [
    {
     "data": {
      "text/plain": [
       "4.0"
      ]
     },
     "execution_count": 12,
     "metadata": {},
     "output_type": "execute_result"
    }
   ],
   "source": [
    "average= lambda x,y,z :  (x+y+z)/3\n",
    "average(3,4,5)"
   ]
  },
  {
   "cell_type": "code",
   "execution_count": null,
   "id": "5d16263f",
   "metadata": {},
   "outputs": [],
   "source": []
  }
 ],
 "metadata": {
  "kernelspec": {
   "display_name": "Python 3",
   "language": "python",
   "name": "python3"
  },
  "language_info": {
   "codemirror_mode": {
    "name": "ipython",
    "version": 3
   },
   "file_extension": ".py",
   "mimetype": "text/x-python",
   "name": "python",
   "nbconvert_exporter": "python",
   "pygments_lexer": "ipython3",
   "version": "3.13.3"
  }
 },
 "nbformat": 4,
 "nbformat_minor": 5
}
