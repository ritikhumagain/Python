{
 "cells": [
  {
   "cell_type": "code",
   "execution_count": 7,
   "id": "19593d24",
   "metadata": {},
   "outputs": [
    {
     "name": "stdout",
     "output_type": "stream",
     "text": [
      "Ritik\n",
      "Ritik\n"
     ]
    }
   ],
   "source": [
    "# shradha khapra \n",
    "#creating class\n",
    "class Student:\n",
    "    name = \"Ritik\"\n",
    "    \n",
    "\n",
    "#Creating object (instance)\n",
    "s1 = Student()\n",
    "print (s1.name)\n",
    "\n",
    "s2 = Student ()\n",
    "print(s2.name )\n",
    "\n"
   ]
  },
  {
   "cell_type": "code",
   "execution_count": 9,
   "id": "9e64930a",
   "metadata": {},
   "outputs": [
    {
     "name": "stdout",
     "output_type": "stream",
     "text": [
      "blue \n",
      "bmw\n"
     ]
    }
   ],
   "source": [
    "class Car :\n",
    "    color = \"blue \"\n",
    "    brand = \"bmw\"\n",
    "\n",
    "car1 = Car()\n",
    "print(car1.color)\n",
    "print(car1.brand)"
   ]
  },
  {
   "cell_type": "code",
   "execution_count": null,
   "id": "046170dd",
   "metadata": {},
   "outputs": [
    {
     "name": "stdout",
     "output_type": "stream",
     "text": [
      "<__main__.Student object at 0x0000014869875550>\n",
      "adding new student in data base....\n",
      "<__main__.Student object at 0x0000014869875550>\n"
     ]
    }
   ],
   "source": [
    "class Student:\n",
    "    def __init__(self):\n",
    "        # name = \"karan\"\n",
    "        print(self)S\n",
    "        print (\"adding new student in data base....\")\n",
    "\n",
    "s1 = Student()\n",
    "print(s1)"
   ]
  },
  {
   "cell_type": "code",
   "execution_count": null,
   "id": "893ebde1",
   "metadata": {},
   "outputs": [
    {
     "name": "stdout",
     "output_type": "stream",
     "text": [
      "Adding new student in database .. \n",
      "ram 44\n",
      "Adding new student in database .. \n",
      "hari\n",
      "55\n"
     ]
    }
   ],
   "source": [
    "class Student :\n",
    "\n",
    "    #Default constructors\n",
    "    def __init__(self):\n",
    "        pass\n",
    "\n",
    "    #Parameterized constructors\n",
    "    def __init__(self,fullname,rollno):\n",
    "        self.name = fullname\n",
    "        self.roll = rollno\n",
    "        print (\"Adding new student in database .. \")\n",
    "\n",
    "\n",
    "\n",
    "s1 = Student(\"ram\",44)\n",
    "# s1 = Student (44)  # yeasari leakna mildina mathi ko jasari leakhni \n",
    "print(s1.name,s1.roll)  \n",
    "# print(s1.roll)\n",
    "\n",
    "s2 = Student ('hari', 55)\n",
    "print(s2.name )\n",
    "print (s2.roll)\n",
    " "
   ]
  },
  {
   "cell_type": "code",
   "execution_count": 28,
   "id": "49a2f4f2",
   "metadata": {},
   "outputs": [
    {
     "name": "stdout",
     "output_type": "stream",
     "text": [
      "Student Details\n",
      "ritik lokhanthali 11\n"
     ]
    }
   ],
   "source": [
    "# class and Instance Attiributes\n",
    "class Student : \n",
    "    def __init__(self,name,roll,location ):\n",
    "        self.name = name \n",
    "        self.roll = roll \n",
    "        self.location = location\n",
    "        print ('Student Details')\n",
    "s1 = Student('ritik',11,'lokhanthali')\n",
    "print(s1.name,s1.location,s1.roll)\n",
    "        "
   ]
  },
  {
   "cell_type": "code",
   "execution_count": null,
   "id": "3bc66448",
   "metadata": {},
   "outputs": [],
   "source": []
  }
 ],
 "metadata": {
  "kernelspec": {
   "display_name": "Python 3",
   "language": "python",
   "name": "python3"
  },
  "language_info": {
   "codemirror_mode": {
    "name": "ipython",
    "version": 3
   },
   "file_extension": ".py",
   "mimetype": "text/x-python",
   "name": "python",
   "nbconvert_exporter": "python",
   "pygments_lexer": "ipython3",
   "version": "3.13.3"
  }
 },
 "nbformat": 4,
 "nbformat_minor": 5
}
