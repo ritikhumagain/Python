{
 "cells": [
  {
   "cell_type": "code",
   "execution_count": null,
   "id": "8c1649e2",
   "metadata": {},
   "outputs": [
    {
     "name": "stdout",
     "output_type": "stream",
     "text": [
      "My name is Ritik. I am 21 years old and 5.9 feet tall.\n"
     ]
    }
   ],
   "source": [
    "# old school use placeholder like this \n",
    "# all type of placeholder are \n",
    "#%s = string\n",
    "#%d = integer\n",
    "#%f = float\n",
    "#%2f = float with 2 decimal places\n",
    "# %r = repr() of the value\n",
    "# %x = hexa decimal number\n",
    "# %X = hexa decimal number in uppercase\n",
    "# %c = character\n",
    "name = \"Ritik\"\n",
    "age = 24\n",
    "height = 5.9\n",
    "\n",
    "print(\"My name is %s. I am %d years old and %.1f feet tall.\" % (name, age, height))\n",
    "# print('my name is %s . i am %d years old and %1f feet tall '%(name,age,height))\n"
   ]
  },
  {
   "cell_type": "code",
   "execution_count": null,
   "id": "2d99ffe0",
   "metadata": {},
   "outputs": [
    {
     "name": "stdout",
     "output_type": "stream",
     "text": [
      "Hello\n",
      "World\n",
      "Name:\tRitik\n",
      "He said: \"Hi!\"\n"
     ]
    }
   ],
   "source": [
    "# | Escape Code | Description            |\n",
    "# | ----------- | ---------------------- |\n",
    "# | `\\n`        | New line               |\n",
    "# | `\\t`        | Tab                    |\n",
    "# | `\\\\`        | Backslash (`\\`)        |\n",
    "# | `\\'`        | Single quote           |\n",
    "# | `\\\"`        | Double quote           |\n",
    "# | `\\r`        | Carriage return (rare) |\n",
    "print(\"Hello\\nWorld\")        # New line\n",
    "print(\"Name:\\tRitik\")        # Tab space\n",
    "print(\"He said: \\\"Hi!\\\"\")    # Quoted word\n"
   ]
  },
  {
   "cell_type": "code",
   "execution_count": 3,
   "id": "b23c1771",
   "metadata": {},
   "outputs": [
    {
     "name": "stdout",
     "output_type": "stream",
     "text": [
      "My name is Ritik and I am 21 years old.\n"
     ]
    }
   ],
   "source": [
    "# This is a modern and flexible way to format strings.\n",
    "name = \"Ritik\"\n",
    "age = 21\n",
    "\n",
    "print(\"My name is {} and I am {} years old.\".format(name, age))"
   ]
  },
  {
   "cell_type": "code",
   "execution_count": 6,
   "id": "2de69fe6",
   "metadata": {},
   "outputs": [
    {
     "name": "stdout",
     "output_type": "stream",
     "text": [
      "My name is Ritik and I am 21 years old.\n",
      "Division result: 3.33\n"
     ]
    }
   ],
   "source": [
    "# The most modern and readable way to format strings.\n",
    "name = \"Ritik\"\n",
    "age = 21\n",
    "print(f\"My name is {name} and I am {age} years old.\")\n",
    "x = 10\n",
    "y = 3\n",
    "print(f\"Division result: {x / y:.2f}\")  # Output: 3.33"
   ]
  },
  {
   "cell_type": "code",
   "execution_count": null,
   "id": "26a8e684",
   "metadata": {},
   "outputs": [
    {
     "name": "stdout",
     "output_type": "stream",
     "text": [
      "['I', 'love', 'Python']\n",
      "I-love-Python\n"
     ]
    }
   ],
   "source": [
    "text = \"I love Python\"\n",
    "words = text.split()\n",
    "print(words)\n",
    "new_sent = \"-\".join(words)\n",
    "print(new_sent)\n",
    "\n"
   ]
  },
  {
   "cell_type": "code",
   "execution_count": 6,
   "id": "4c6c8e7b",
   "metadata": {},
   "outputs": [
    {
     "name": "stdout",
     "output_type": "stream",
     "text": [
      "my name is ritik.and my age is 20\n"
     ]
    }
   ],
   "source": [
    "name = \"ritik\"\n",
    "age = 20\n",
    "print('my name is {}.and my age is {}'.format(name,age))"
   ]
  },
  {
   "cell_type": "code",
   "execution_count": 19,
   "id": "be686c16",
   "metadata": {},
   "outputs": [
    {
     "name": "stdout",
     "output_type": "stream",
     "text": [
      "[65, 66, 67, 68, 69, 70, 71, 72, 73, 74, 75, 76, 77, 78, 79, 80, 81, 82, 83, 84, 85, 86, 87, 88, 89, 90]\n",
      "[97, 98, 99, 100, 101, 102, 103, 104, 105, 106, 107, 108, 109, 110, 111, 112, 113, 114, 115, 116, 117, 118, 119, 120, 121, 122]\n"
     ]
    }
   ],
   "source": [
    "text = \"ABCDEFGHIJKLMNOPQRSTUVWXYZ\"\n",
    "new= \"abcdefghijklmnopqrstuvwxyz\"\n",
    "encoded = text.encode()\n",
    "print(list(encoded))\n",
    "newe = new.encode()\n",
    "print(list(newe))\n"
   ]
  },
  {
   "cell_type": "code",
   "execution_count": 21,
   "id": "bca3f390",
   "metadata": {},
   "outputs": [
    {
     "name": "stdout",
     "output_type": "stream",
     "text": [
      "False\n",
      "True\n"
     ]
    }
   ],
   "source": [
    "print(\"apple\" == \"Apple\")     # False\n",
    "print(\"apple\" < \"banana\")     # True (lexical order)\n"
   ]
  },
  {
   "cell_type": "code",
   "execution_count": 23,
   "id": "40fecdb8",
   "metadata": {},
   "outputs": [
    {
     "name": "stdout",
     "output_type": "stream",
     "text": [
      "Voluptatem quiquia etincidunt dolorem dolorem consectetur dolorem porro.\n"
     ]
    }
   ],
   "source": [
    "import lorem \n",
    "print(lorem.sentence())"
   ]
  },
  {
   "cell_type": "code",
   "execution_count": null,
   "id": "4b4d7d10",
   "metadata": {},
   "outputs": [
    {
     "name": "stdout",
     "output_type": "stream",
     "text": [
      "That vote create big back.\n"
     ]
    }
   ],
   "source": [
    "from faker import Faker\n",
    "print(fake.sentence())\n",
    "\n"
   ]
  },
  {
   "cell_type": "code",
   "execution_count": 27,
   "id": "29d99eed",
   "metadata": {},
   "outputs": [
    {
     "name": "stdout",
     "output_type": "stream",
     "text": [
      "Marriage tough song learn top figure respond.\n"
     ]
    }
   ],
   "source": [
    "sent = fake.sentence()\n",
    "print(sent)"
   ]
  },
  {
   "cell_type": "code",
   "execution_count": null,
   "id": "6f958977",
   "metadata": {},
   "outputs": [
    {
     "name": "stdout",
     "output_type": "stream",
     "text": [
      "Value miss represent behind. Deep among student travel usually less. Close box morning thought.\n",
      "there is ritik in the text False\n"
     ]
    }
   ],
   "source": [
    "sent = fake.paragraph()\n",
    "print(sent)\n",
    "print(\"there is ritik in the text :\",\"is\" not in sent)\n"
   ]
  },
  {
   "cell_type": "code",
   "execution_count": 39,
   "id": "76a2ff47",
   "metadata": {},
   "outputs": [
    {
     "name": "stdout",
     "output_type": "stream",
     "text": [
      "-------------Ritik Humagain-------------\n",
      "Ritik Humagain--------------------------\n",
      "--------------------------Ritik Humagain\n"
     ]
    }
   ],
   "source": [
    "text = \"Ritik Humagain\"\n",
    "print(text.center(40,\"-\"))\n",
    "print(text.ljust(40,\"-\"))\n",
    "print(text.rjust(40,\"-\"))"
   ]
  },
  {
   "cell_type": "code",
   "execution_count": 40,
   "id": "69d9c533",
   "metadata": {},
   "outputs": [
    {
     "name": "stdout",
     "output_type": "stream",
     "text": [
      "count: 1\n",
      "count: 2\n",
      "count: 3\n",
      "count: 4\n",
      "count: 5\n",
      "count: 6\n",
      "count: 7\n",
      "count: 8\n",
      "count: 9\n",
      "count: 10\n"
     ]
    }
   ],
   "source": [
    "# print numbers from 1 to 10 using a while loop \n",
    "i = 1 \n",
    "while i <= 10:\n",
    "    print('count:',i)\n",
    "    i += 1\n",
    "    \n"
   ]
  },
  {
   "cell_type": "code",
   "execution_count": null,
   "id": "8bdd4338",
   "metadata": {},
   "outputs": [],
   "source": [
    "# write a program to print even numbers from 1 to 20 \n",
    "# i = 1\n",
    "# while i <= 20: \n",
    "#     if i % 2 ==0:\n",
    "#         print('Even no is :',i)\n",
    "# i += 1 \n",
    "# retur\n"
   ]
  },
  {
   "cell_type": "code",
   "execution_count": 2,
   "id": "5932f70a",
   "metadata": {},
   "outputs": [
    {
     "name": "stdout",
     "output_type": "stream",
     "text": [
      "Even no is: 2\n",
      "Even no is: 4\n",
      "Even no is: 6\n",
      "Even no is: 8\n",
      "Even no is: 10\n",
      "Even no is: 12\n",
      "Even no is: 14\n",
      "Even no is: 16\n",
      "Even no is: 18\n",
      "Even no is: 20\n"
     ]
    }
   ],
   "source": [
    "i = 1\n",
    "while i <= 20:\n",
    "    if i % 2 == 0:\n",
    "        print('Even no is:', i)\n",
    "    i += 1\n"
   ]
  },
  {
   "cell_type": "code",
   "execution_count": null,
   "id": "ef2b2627",
   "metadata": {},
   "outputs": [],
   "source": [
    "#print the multiplication table of 5 using a while loop\n",
    "i = 1\n",
    "while i <= 10:\n",
    "    if i % 5 == 0:\n",
    "        i \n"
   ]
  }
 ],
 "metadata": {
  "kernelspec": {
   "display_name": "Python 3",
   "language": "python",
   "name": "python3"
  },
  "language_info": {
   "codemirror_mode": {
    "name": "ipython",
    "version": 3
   },
   "file_extension": ".py",
   "mimetype": "text/x-python",
   "name": "python",
   "nbconvert_exporter": "python",
   "pygments_lexer": "ipython3",
   "version": "3.13.3"
  }
 },
 "nbformat": 4,
 "nbformat_minor": 5
}
