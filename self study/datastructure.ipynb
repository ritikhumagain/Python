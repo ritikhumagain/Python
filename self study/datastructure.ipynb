{
 "cells": [
  {
   "cell_type": "code",
   "execution_count": null,
   "id": "65570b4a",
   "metadata": {},
   "outputs": [
    {
     "name": "stdout",
     "output_type": "stream",
     "text": [
      "1\n",
      "k\n",
      "5\n"
     ]
    }
   ],
   "source": [
    "#indexing in data structure\n",
    "my_list=[1,2,3,4]\n",
    "ritik = 'ritik'\n",
    "my_tuple= (1,2,3,4,5)\n",
    "print(my_list[0]) # prints 1\n",
    "print(ritik[4])\n",
    "print(my_tuple[4])"
   ]
  },
  {
   "cell_type": "code",
   "execution_count": 13,
   "id": "78bfd27e",
   "metadata": {},
   "outputs": [
    {
     "name": "stdout",
     "output_type": "stream",
     "text": [
      "[2, 3]\n",
      "i\n",
      "(1, 2, 3)\n"
     ]
    }
   ],
   "source": [
    "#slicing in data structure\n",
    "my_list=[1,2,3,4]\n",
    "ritik = 'ritik'\n",
    "my_tuple= (1,2,3,4,5)\n",
    "print(my_list[1:3])\n",
    "print(ritik[1:2])\n",
    "print(my_tuple[0:3])"
   ]
  },
  {
   "cell_type": "code",
   "execution_count": 17,
   "id": "5ab5de06",
   "metadata": {},
   "outputs": [
    {
     "name": "stdout",
     "output_type": "stream",
     "text": [
      "[1, 2, 3, 4, 5]\n",
      "[1, 'cherry', 2, 3, 4, 5]\n"
     ]
    }
   ],
   "source": [
    "#append / insert in data structure\n",
    "#work only for list \n",
    "my_list=[1,2,3,4]\n",
    "#append le last ma add garcha\n",
    "my_list.append(5)\n",
    "print(my_list) # [1, 2, 3, 4, 5]\n",
    "my_list.insert(1,\"cherry\")\n",
    "print(my_list)\n"
   ]
  },
  {
   "cell_type": "code",
   "execution_count": null,
   "id": "f46a7165",
   "metadata": {},
   "outputs": [
    {
     "name": "stdout",
     "output_type": "stream",
     "text": [
      "[1, 2, 3, 4]\n",
      "Hello World\n",
      "(1, 2, 3, 4)\n",
      "4\n"
     ]
    }
   ],
   "source": [
    "#concatenation \n",
    "#applied for list ,string and tuple\n",
    "a = [1, 2]\n",
    "b = [3, 4]\n",
    "print(a + b)  # [1, 2, 3, 4]\n",
    "\n",
    "s1 = \"Hello \"\n",
    "s2 = \"World\"\n",
    "print(s1 + s2)  # Hello World\n",
    "#concatenation of string is done using + operator\n",
    "\n",
    "a = (1, 2)\n",
    "b = (3, 4)\n",
    "print(a + b) \n",
    "# [1, 2, 3, 4]\n",
    "a = 1\n",
    "b = 3\n",
    "print(a + b) \n",
    "# 4\n",
    "\n",
    "\n",
    "\n"
   ]
  },
  {
   "cell_type": "code",
   "execution_count": 39,
   "id": "10e98590",
   "metadata": {},
   "outputs": [
    {
     "name": "stdout",
     "output_type": "stream",
     "text": [
      "[1, 2, 3]\n",
      "3\n",
      "1\n",
      "{'name': 'ritik', 'age': 20}\n",
      "<class 'int'>\n"
     ]
    }
   ],
   "source": [
    "#pop works only for list and dicionary\n",
    "list=[1,2,3,4]\n",
    "detail={\n",
    "    'name':'ritik',\n",
    "    'age':20,\n",
    "    \n",
    "}\n",
    "list.pop()\n",
    "print(list)\n",
    "print(list.pop()) #output: 4\n",
    "print(list.pop(0)) #output: 1\n",
    "print(detail)\n",
    "# print(detail.pop('age'))\n",
    "print(type(detail['age']))"
   ]
  },
  {
   "cell_type": "code",
   "execution_count": null,
   "id": "7f7bce3d",
   "metadata": {},
   "outputs": [
    {
     "name": "stdout",
     "output_type": "stream",
     "text": [
      "[5, 4, 3, 2, 1]\n",
      "ritik\n"
     ]
    }
   ],
   "source": [
    "#reversal works only for list and string but through only slicing \n",
    "#reversal of spring is done through slicing\n",
    "num=[1,2,3,4,5]\n",
    "name='kitir'\n",
    "num.reverse()\n",
    "print(num)\n",
    "print(name[::-1]) #string reverse garna chai yo method bata garna parcha\n",
    "\n"
   ]
  },
  {
   "cell_type": "code",
   "execution_count": 54,
   "id": "faed3665",
   "metadata": {},
   "outputs": [
    {
     "name": "stdout",
     "output_type": "stream",
     "text": [
      "ritikritik\n"
     ]
    }
   ],
   "source": [
    "#duplicate \n",
    "num=[1,2,3,4,5]\n",
    "name='kitir'\n",
    "name =name[::-1]\n",
    "name=name*2\n",
    "print(name)\n"
   ]
  },
  {
   "cell_type": "code",
   "execution_count": 55,
   "id": "7b229be7",
   "metadata": {},
   "outputs": [
    {
     "name": "stdout",
     "output_type": "stream",
     "text": [
      "True\n",
      "True\n",
      "True\n"
     ]
    }
   ],
   "source": [
    "#member ship test\n",
    "fruits = ['apple', 'banana']\n",
    "print('apple' in fruits)    # True\n",
    "\n",
    "word = \"hello\"\n",
    "print('e' in word)          # True\n",
    "\n",
    "data = {'x': 100}\n",
    "print('x' in data)          # True (checks keys only)\n"
   ]
  },
  {
   "cell_type": "code",
   "execution_count": 56,
   "id": "df57f3b5",
   "metadata": {},
   "outputs": [],
   "source": [
    "#mutable and nonmutable data types\n",
    "#mutable data types are lists, dictionaries, sets, user-defined classes\n",
    "#nonmutable data types are integers, floats, strings, tuples, boolean values, NoneType\n",
    "#mutable data types can be changed after they are created\n",
    "#nonmutable data types cannot be changed after they are created\n",
    "# In Python, lists are mutable data types. They can be changed after they are created.  \n",
    "# In Python, tuples are non-mutable data types. They cannot be changed after they are created\n",
    "# In Python, strings are non-mutable data types. They cannot be changed after they are created\n",
    "# In Python, dictionaries are mutable data types. They can be changed after they are created"
   ]
  },
  {
   "cell_type": "code",
   "execution_count": 58,
   "id": "d6233b50",
   "metadata": {},
   "outputs": [
    {
     "data": {
      "text/plain": [
       "False"
      ]
     },
     "execution_count": 58,
     "metadata": {},
     "output_type": "execute_result"
    }
   ],
   "source": [
    "x = 'ram '\n",
    "y = 'hari '\n",
    "len(x )==len(y)\n"
   ]
  },
  {
   "cell_type": "code",
   "execution_count": null,
   "id": "1b173c9f",
   "metadata": {},
   "outputs": [],
   "source": []
  }
 ],
 "metadata": {
  "kernelspec": {
   "display_name": "Python 3",
   "language": "python",
   "name": "python3"
  },
  "language_info": {
   "codemirror_mode": {
    "name": "ipython",
    "version": 3
   },
   "file_extension": ".py",
   "mimetype": "text/x-python",
   "name": "python",
   "nbconvert_exporter": "python",
   "pygments_lexer": "ipython3",
   "version": "3.13.3"
  }
 },
 "nbformat": 4,
 "nbformat_minor": 5
}
