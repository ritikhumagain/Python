{
 "cells": [
  {
   "cell_type": "code",
   "execution_count": null,
   "id": "2929c08f",
   "metadata": {},
   "outputs": [],
   "source": [
    "#1\n",
    "x = [1,1.4,'apple','banana',True]\n",
    "\n"
   ]
  },
  {
   "cell_type": "code",
   "execution_count": 4,
   "id": "1cf7a378",
   "metadata": {},
   "outputs": [
    {
     "name": "stdout",
     "output_type": "stream",
     "text": [
      "5\n",
      "1\n",
      "1.4\n",
      "apple\n"
     ]
    }
   ],
   "source": [
    "#2\n",
    "x = [1,1.4,'apple','banana',True]\n",
    "print(len(x))\n",
    "#3\n",
    "print(x[0])\n",
    "print(x[1])\n",
    "print(x[2])\n",
    "\n"
   ]
  },
  {
   "cell_type": "code",
   "execution_count": 16,
   "id": "84c7d547",
   "metadata": {},
   "outputs": [
    {
     "name": "stdout",
     "output_type": "stream",
     "text": [
      "['Guava', 'Mango', 'Apple', 'Pear', 'Fig', 'Orange', 'Banana']\n",
      "7\n",
      "Guava\n",
      "Mango\n",
      "Apple\n",
      "['Guava', 'Mango', 'Apple', 'Pear', 'Fig', 'Orange', 'Banana', 'Grapes']\n",
      "['Guava', 'watermelon', 'Mango', 'Apple', 'Pear', 'Fig', 'Orange', 'Banana', 'Grapes']\n"
     ]
    },
    {
     "ename": "AttributeError",
     "evalue": "'list' object has no attribute 'upper'",
     "output_type": "error",
     "traceback": [
      "\u001b[31m---------------------------------------------------------------------------\u001b[39m",
      "\u001b[31mAttributeError\u001b[39m                            Traceback (most recent call last)",
      "\u001b[36mCell\u001b[39m\u001b[36m \u001b[39m\u001b[32mIn[16]\u001b[39m\u001b[32m, line 20\u001b[39m\n\u001b[32m     18\u001b[39m \u001b[38;5;28mprint\u001b[39m(mix_fruits)\n\u001b[32m     19\u001b[39m \u001b[38;5;66;03m#12\u001b[39;00m\n\u001b[32m---> \u001b[39m\u001b[32m20\u001b[39m \u001b[43mmix_fruits\u001b[49m\u001b[43m.\u001b[49m\u001b[43mupper\u001b[49m(\u001b[33m'\u001b[39m\u001b[33mapple\u001b[39m\u001b[33m'\u001b[39m)\n",
      "\u001b[31mAttributeError\u001b[39m: 'list' object has no attribute 'upper'"
     ]
    }
   ],
   "source": [
    "#4 \n",
    "my_info= ['ritik humagain',25,5.11,'unmarried','nepal']\n",
    "#5\n",
    "mix_fruits= ['Guava','Mango','Apple','Pear','Fig','Orange','Banana']\n",
    "#6\n",
    "print(mix_fruits)\n",
    "#7\n",
    "print(len(mix_fruits))\n",
    "#8\n",
    "print(mix_fruits[0])\n",
    "print(mix_fruits[1])\n",
    "print(mix_fruits[2])\n",
    "#10\n",
    "mix_fruits.append('Grapes')\n",
    "print(mix_fruits)\n",
    "#11\n",
    "mix_fruits.insert(1,'watermelon')\n",
    "print(mix_fruits)\n",
    "#12\n",
    "mix_fruits.upper('apple')\n",
    "\n",
    "\n"
   ]
  },
  {
   "cell_type": "code",
   "execution_count": null,
   "id": "5859c0ec",
   "metadata": {},
   "outputs": [],
   "source": []
  }
 ],
 "metadata": {
  "kernelspec": {
   "display_name": "Python 3",
   "language": "python",
   "name": "python3"
  },
  "language_info": {
   "codemirror_mode": {
    "name": "ipython",
    "version": 3
   },
   "file_extension": ".py",
   "mimetype": "text/x-python",
   "name": "python",
   "nbconvert_exporter": "python",
   "pygments_lexer": "ipython3",
   "version": "3.13.3"
  }
 },
 "nbformat": 4,
 "nbformat_minor": 5
}
