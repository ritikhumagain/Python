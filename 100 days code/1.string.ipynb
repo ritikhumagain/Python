{
 "cells": [
  {
   "cell_type": "code",
   "execution_count": 4,
   "id": "0ac3be10",
   "metadata": {},
   "outputs": [
    {
     "name": "stdout",
     "output_type": "stream",
     "text": [
      "Hello world!\n",
      "HELLO WORLD\n",
      "hello world\n",
      "hello ritik\n",
      "Hello ritik \n"
     ]
    }
   ],
   "source": [
    "# string lai new line ma leakna \n",
    "print('''Hello world!\n",
    "HELLO WORLD\n",
    "hello world''')\n",
    "\n",
    "print('hello ritik\\nHello ritik ')"
   ]
  },
  {
   "cell_type": "code",
   "execution_count": null,
   "id": "ad00ed66",
   "metadata": {},
   "outputs": [
    {
     "name": "stdout",
     "output_type": "stream",
     "text": [
      "helloRitik\n",
      "hello Ritik\n",
      "hello Ritik\n"
     ]
    }
   ],
   "source": [
    "#string concadination\n",
    "print('hello'+'Ritik')# no space character \n",
    "print('hello'+ ' '+'Ritik')# 1 st \n",
    "print('hello '+'Ritik')# 2 st \n"
   ]
  },
  {
   "cell_type": "code",
   "execution_count": 8,
   "id": "1282a6fc",
   "metadata": {},
   "outputs": [
    {
     "name": "stdout",
     "output_type": "stream",
     "text": [
      "hello Ritik\n"
     ]
    }
   ],
   "source": [
    "# Indentation Error\n",
    "print('hello '+'Ritik')# correct\n",
    "#    print('hello '+'Ritik')# Incorrect"
   ]
  },
  {
   "cell_type": "code",
   "execution_count": 9,
   "id": "31c305c1",
   "metadata": {},
   "outputs": [
    {
     "name": "stdout",
     "output_type": "stream",
     "text": [
      "hello Ritik\n"
     ]
    }
   ],
   "source": [
    "#Synatx error \n",
    "print('hello '+'Ritik')# correct\n",
    "# print('hello '+'Ritik )# incorrect because something is missig "
   ]
  },
  {
   "cell_type": "code",
   "execution_count": null,
   "id": "b6539749",
   "metadata": {},
   "outputs": [],
   "source": [
    "# name error \n",
    "# misspell some word "
   ]
  },
  {
   "cell_type": "code",
   "execution_count": null,
   "id": "8015bbaa",
   "metadata": {},
   "outputs": [
    {
     "name": "stdout",
     "output_type": "stream",
     "text": [
      "day 1 - string manipulation \n",
      "string concatenation is done with the '+ 'sign.\n",
      "eg print(\"hello\"+\"world\")\n",
      "New lines can be created with a backslash and n\n"
     ]
    }
   ],
   "source": [
    "#debuging exercise \n",
    "print('day 1 - string manipulation ')\n",
    "print('string concatenation is done with the '+\"'+ '\" +'sign.')\n",
    "print('eg print(\"Hello\"+\"World\")')\n",
    "print('New lines can be created with a backslash and n.')"
   ]
  },
  {
   "cell_type": "code",
   "execution_count": null,
   "id": "b5fd40ba",
   "metadata": {},
   "outputs": [
    {
     "name": "stdout",
     "output_type": "stream",
     "text": [
      "hello riitk humgaina\n"
     ]
    }
   ],
   "source": [
    "# To enter the data  input () function \n",
    "input('what is your name ')  # input ('a promt for the user ')\n",
    "print(\"hello \"+ input('what is your full name ')) # we can concadenate with input and print "
   ]
  },
  {
   "cell_type": "code",
   "execution_count": 25,
   "id": "9df16dd0",
   "metadata": {},
   "outputs": [
    {
     "name": "stdout",
     "output_type": "stream",
     "text": [
      "ritik\n",
      "5\n"
     ]
    }
   ],
   "source": [
    "# practise\n",
    "name = input(\"enter your name \")\n",
    "print(name)\n",
    "print(len(name))\n",
    "\n",
    "# short method \n"
   ]
  },
  {
   "cell_type": "markdown",
   "id": "07830279",
   "metadata": {},
   "source": [
    "Python variable "
   ]
  },
  {
   "cell_type": "markdown",
   "id": "4802f899",
   "metadata": {},
   "source": []
  },
  {
   "cell_type": "code",
   "execution_count": 30,
   "id": "f70cc47c",
   "metadata": {},
   "outputs": [
    {
     "name": "stdout",
     "output_type": "stream",
     "text": [
      "RITIK \n",
      "6\n",
      "ritik\n",
      "rajat\n"
     ]
    }
   ],
   "source": [
    "# variable bananko\n",
    "name = input (\"what is your name ?\")\n",
    "print(name)\n",
    "print(len(name))\n",
    "# variable data can be changed \n",
    "name1 = \"ritik\"\n",
    "print(name1)\n",
    "name1 = 'rajat'\n",
    "print(name1)"
   ]
  },
  {
   "cell_type": "code",
   "execution_count": null,
   "id": "8f556e64",
   "metadata": {},
   "outputs": [
    {
     "name": "stdout",
     "output_type": "stream",
     "text": [
      "the value of a becomes  6969\n",
      "the value of b becomes  69\n"
     ]
    }
   ],
   "source": [
    "#exercise \n",
    "a = input('a')\n",
    "b = input('b:')\n",
    "c = a \n",
    "a = b\n",
    "b = c\n",
    "\n",
    "\n",
    "\n",
    "print ( \"the value of a becomes \", a)\n",
    "print ( \"the value of b becomes \", b)\n"
   ]
  },
  {
   "cell_type": "code",
   "execution_count": 37,
   "id": "bf7d4b32",
   "metadata": {},
   "outputs": [],
   "source": [
    "# variable naming \n"
   ]
  },
  {
   "cell_type": "code",
   "execution_count": null,
   "id": "70d37ce0",
   "metadata": {},
   "outputs": [],
   "source": [
    "#seperate the  no with only _ \" \" for eg user_name\n",
    "# you can use no but not in form of the code  for eg 1user is incorrect \n"
   ]
  }
 ],
 "metadata": {
  "kernelspec": {
   "display_name": "Python 3",
   "language": "python",
   "name": "python3"
  },
  "language_info": {
   "codemirror_mode": {
    "name": "ipython",
    "version": 3
   },
   "file_extension": ".py",
   "mimetype": "text/x-python",
   "name": "python",
   "nbconvert_exporter": "python",
   "pygments_lexer": "ipython3",
   "version": "3.13.3"
  }
 },
 "nbformat": 4,
 "nbformat_minor": 5
}
