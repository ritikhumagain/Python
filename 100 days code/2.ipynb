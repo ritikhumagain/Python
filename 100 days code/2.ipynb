{
 "cells": [
  {
   "cell_type": "code",
   "execution_count": 1,
   "id": "85b1a982",
   "metadata": {},
   "outputs": [],
   "source": [
    "# Data type "
   ]
  },
  {
   "cell_type": "code",
   "execution_count": null,
   "id": "ecd2a96a",
   "metadata": {},
   "outputs": [
    {
     "data": {
      "text/plain": [
       "'o'"
      ]
     },
     "execution_count": 3,
     "metadata": {},
     "output_type": "execute_result"
    }
   ],
   "source": [
    "# string \n",
    "#indexing \n",
    "x = \"hello\"[4]\n"
   ]
  },
  {
   "cell_type": "code",
   "execution_count": 4,
   "id": "a45b1e70",
   "metadata": {},
   "outputs": [
    {
     "name": "stdout",
     "output_type": "stream",
     "text": [
      "447\n"
     ]
    }
   ],
   "source": [
    "#Integer\n",
    "x = 123\n",
    "print(123+324)"
   ]
  },
  {
   "cell_type": "code",
   "execution_count": 5,
   "id": "482eda6d",
   "metadata": {},
   "outputs": [],
   "source": [
    "#representation sajilo huncha \n",
    "x =123_123_123_123"
   ]
  },
  {
   "cell_type": "code",
   "execution_count": 6,
   "id": "5537e654",
   "metadata": {},
   "outputs": [],
   "source": [
    "#Float \n",
    "x = 321.342"
   ]
  },
  {
   "cell_type": "code",
   "execution_count": 7,
   "id": "6d1058fc",
   "metadata": {},
   "outputs": [
    {
     "data": {
      "text/plain": [
       "False"
      ]
     },
     "execution_count": 7,
     "metadata": {},
     "output_type": "execute_result"
    }
   ],
   "source": [
    "# Boolean \n",
    "True \n",
    "False"
   ]
  },
  {
   "cell_type": "code",
   "execution_count": null,
   "id": "152b5503",
   "metadata": {},
   "outputs": [
    {
     "name": "stdout",
     "output_type": "stream",
     "text": [
      "Your name has   5  characters\n",
      "your name has 5character\n",
      "<class 'int'>\n"
     ]
    }
   ],
   "source": [
    "# finding length of your name \n",
    "num_char = len(input('what is your name '))\n",
    "print (f'Your name has   {num_char}  characters')\n",
    "\n",
    "# or \n",
    "new_num_char = str(num_char)\n",
    "print('your name has '+ new_num_char+'character')\n",
    "\n",
    "# we can check which data type is present in the code \n",
    "print(type(num_char))"
   ]
  },
  {
   "cell_type": "code",
   "execution_count": 19,
   "id": "bd30a34d",
   "metadata": {},
   "outputs": [
    {
     "name": "stdout",
     "output_type": "stream",
     "text": [
      "123.0\n"
     ]
    }
   ],
   "source": [
    "a = float(123 )\n",
    "type(a)\n",
    "print(a)\n"
   ]
  },
  {
   "cell_type": "code",
   "execution_count": 22,
   "id": "45a09fd3",
   "metadata": {},
   "outputs": [
    {
     "name": "stdout",
     "output_type": "stream",
     "text": [
      "3\n"
     ]
    }
   ],
   "source": [
    "#practice \n",
    "random_no = input('Enter any Two digit no')\n",
    "first_digit = int(random_no[0])\n",
    "second_digit = int(random_no[1])\n",
    "sum = first_digit+second_digit\n",
    "print (sum)"
   ]
  },
  {
   "cell_type": "code",
   "execution_count": null,
   "id": "0833c128",
   "metadata": {},
   "outputs": [
    {
     "data": {
      "text/plain": [
       "16"
      ]
     },
     "execution_count": 25,
     "metadata": {},
     "output_type": "execute_result"
    }
   ],
   "source": [
    "# mathemathical operator \n",
    "3 + 5 \n",
    "7 - 4 \n",
    "3 * 2 \n",
    "type(6/3)  # always end with float point \n",
    "4**2  # power 4^2\n",
    "# bodmas \n",
    "()\n",
    "**\n",
    "*/\n",
    "+-\n",
    " \n"
   ]
  },
  {
   "cell_type": "code",
   "execution_count": null,
   "id": "03230348",
   "metadata": {},
   "outputs": [
    {
     "data": {
      "text/plain": [
       "7.0"
      ]
     },
     "execution_count": 26,
     "metadata": {},
     "output_type": "execute_result"
    }
   ],
   "source": [
    "3**2- 3 + 3 / 3 - 3 \n"
   ]
  },
  {
   "cell_type": "code",
   "execution_count": null,
   "id": "24594fb0",
   "metadata": {},
   "outputs": [],
   "source": [
    "# write a program that calculates the Body mass Index (BMI)"
   ]
  }
 ],
 "metadata": {
  "kernelspec": {
   "display_name": "Python 3",
   "language": "python",
   "name": "python3"
  },
  "language_info": {
   "codemirror_mode": {
    "name": "ipython",
    "version": 3
   },
   "file_extension": ".py",
   "mimetype": "text/x-python",
   "name": "python",
   "nbconvert_exporter": "python",
   "pygments_lexer": "ipython3",
   "version": "3.13.3"
  }
 },
 "nbformat": 4,
 "nbformat_minor": 5
}
