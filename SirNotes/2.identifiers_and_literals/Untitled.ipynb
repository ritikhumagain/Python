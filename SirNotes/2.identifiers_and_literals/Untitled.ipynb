{
 "cells": [
  {
   "cell_type": "code",
   "execution_count": 1,
   "id": "f1f3c4b1-791a-4c23-a963-94d1b9f165b3",
   "metadata": {},
   "outputs": [
    {
     "name": "stdout",
     "output_type": "stream",
     "text": [
      "<class 'int'>\n"
     ]
    }
   ],
   "source": [
    "a = 5\n",
    "print(type(a))"
   ]
  },
  {
   "cell_type": "code",
   "execution_count": 2,
   "id": "07f21183-3c7a-4cad-91ad-70c303e918f3",
   "metadata": {},
   "outputs": [
    {
     "name": "stdout",
     "output_type": "stream",
     "text": [
      "<class 'float'>\n"
     ]
    }
   ],
   "source": [
    "a = 5.3\n",
    "print(type(a))"
   ]
  },
  {
   "cell_type": "code",
   "execution_count": 3,
   "id": "bb858060-6373-4149-b689-178bfe8511df",
   "metadata": {},
   "outputs": [
    {
     "name": "stdout",
     "output_type": "stream",
     "text": [
      "<class 'str'>\n"
     ]
    }
   ],
   "source": [
    "a = 'ram'\n",
    "print(type(a))"
   ]
  },
  {
   "cell_type": "code",
   "execution_count": 4,
   "id": "4dcd2160-bc76-46fe-9e8f-e83b612375d4",
   "metadata": {},
   "outputs": [],
   "source": [
    "# dynamically typed language => can change the datatype of variable in run time."
   ]
  },
  {
   "cell_type": "code",
   "execution_count": 5,
   "id": "b01bf251-0112-4614-88c2-890af967e163",
   "metadata": {},
   "outputs": [
    {
     "name": "stdout",
     "output_type": "stream",
     "text": [
      "4438613840\n"
     ]
    }
   ],
   "source": [
    "a = 'ram'\n",
    "print(id(a)) # memory address of a"
   ]
  },
  {
   "cell_type": "code",
   "execution_count": 6,
   "id": "017eaeb0-3760-4e42-bca4-156aca76b273",
   "metadata": {},
   "outputs": [
    {
     "name": "stdout",
     "output_type": "stream",
     "text": [
      "<class 'str'>\n"
     ]
    }
   ],
   "source": [
    "r = 'ramesh'\n",
    "\n",
    "print(type(r))"
   ]
  },
  {
   "cell_type": "code",
   "execution_count": 7,
   "id": "66ecdf8b-dbb3-49e2-b79e-fa34d6325b49",
   "metadata": {},
   "outputs": [
    {
     "name": "stdout",
     "output_type": "stream",
     "text": [
      "<class 'str'>\n"
     ]
    }
   ],
   "source": [
    "r = \"ramesh\"\n",
    "\n",
    "print(type(r))"
   ]
  },
  {
   "cell_type": "code",
   "execution_count": 8,
   "id": "ca435172-f894-4f0f-bba2-cd969bbd2f31",
   "metadata": {},
   "outputs": [
    {
     "name": "stdout",
     "output_type": "stream",
     "text": [
      "<class 'str'>\n"
     ]
    }
   ],
   "source": [
    "r = '''ramesh'''\n",
    "\n",
    "print(type(r))"
   ]
  },
  {
   "cell_type": "code",
   "execution_count": 9,
   "id": "23ad9638-3850-4b8f-9acd-665bf1f13421",
   "metadata": {},
   "outputs": [
    {
     "name": "stdout",
     "output_type": "stream",
     "text": [
      "<class 'str'>\n"
     ]
    }
   ],
   "source": [
    "r = \"\"\"ramesh\"\"\"\n",
    "\n",
    "print(type(r))"
   ]
  },
  {
   "cell_type": "code",
   "execution_count": 10,
   "id": "d7ffb184-3c27-4814-a03d-5b20033350f9",
   "metadata": {},
   "outputs": [
    {
     "name": "stdout",
     "output_type": "stream",
     "text": [
      "True <class 'bool'>\n"
     ]
    }
   ],
   "source": [
    "# boolean\n",
    "x = True\n",
    "print(x, type(x))"
   ]
  },
  {
   "cell_type": "code",
   "execution_count": 11,
   "id": "f81ae69d-e98a-4f47-899b-fab468fd8c9e",
   "metadata": {},
   "outputs": [
    {
     "name": "stdout",
     "output_type": "stream",
     "text": [
      "False <class 'bool'>\n"
     ]
    }
   ],
   "source": [
    "x = False\n",
    "print(x, type(x))"
   ]
  },
  {
   "cell_type": "code",
   "execution_count": 12,
   "id": "3181406e-aa73-4dd0-93ae-4f674bdb9358",
   "metadata": {},
   "outputs": [
    {
     "name": "stdout",
     "output_type": "stream",
     "text": [
      "<class 'NoneType'>\n"
     ]
    }
   ],
   "source": [
    "# None datatype\n",
    "x = None\n",
    "print(type(x))"
   ]
  },
  {
   "cell_type": "code",
   "execution_count": 13,
   "id": "34946a62-726f-4334-9202-0ee99b32298b",
   "metadata": {},
   "outputs": [
    {
     "name": "stdout",
     "output_type": "stream",
     "text": [
      "[1, 2, 3, 4] <class 'list'>\n"
     ]
    }
   ],
   "source": [
    "# list datatype\n",
    "x = [1,2,3,4]\n",
    "print(x, type(x))"
   ]
  },
  {
   "cell_type": "code",
   "execution_count": 14,
   "id": "97e6b440-e51b-405b-8340-247846a13e39",
   "metadata": {},
   "outputs": [
    {
     "name": "stdout",
     "output_type": "stream",
     "text": [
      "(1, 2, 3, 4) <class 'tuple'>\n"
     ]
    }
   ],
   "source": [
    "# tuple datatype\n",
    "x = (1,2,3,4)\n",
    "print(x, type(x))"
   ]
  },
  {
   "cell_type": "code",
   "execution_count": 15,
   "id": "e9494366-b1d7-4559-b900-43d049ac6721",
   "metadata": {},
   "outputs": [
    {
     "name": "stdout",
     "output_type": "stream",
     "text": [
      "{1, 2, 3, 4} <class 'set'>\n"
     ]
    }
   ],
   "source": [
    "# set datatype\n",
    "x = {1,2,3,4}\n",
    "print(x, type(x))"
   ]
  },
  {
   "cell_type": "code",
   "execution_count": 16,
   "id": "adcf7b34-06ad-4d62-bd3e-942641c8a248",
   "metadata": {},
   "outputs": [
    {
     "name": "stdout",
     "output_type": "stream",
     "text": [
      "{'name': 'ram', 'age': 22, 'address': 'ktm'} <class 'dict'>\n"
     ]
    }
   ],
   "source": [
    "# dictionary\n",
    "\n",
    "person = {\n",
    "    'name': 'ram', # key:value pair with comma separated\n",
    "    'age': 22,\n",
    "    'address': 'ktm' # last ko comma is optional\n",
    "}\n",
    "print(person, type(person))"
   ]
  },
  {
   "cell_type": "code",
   "execution_count": 17,
   "id": "2f0db439-13cf-45bb-9591-57357ded4465",
   "metadata": {},
   "outputs": [],
   "source": [
    "# datatype\n",
    "# integer => 1\n",
    "# string => 'ram'\n",
    "# float => 1.5\n",
    "# complex => 1j \n",
    "# boolean = True / False\n",
    "# None \n",
    "# list => [1,2,3]\n",
    "# tuple => (1,2,3)\n",
    "# set => {1,2,3}\n",
    "# dictionary => key:value pair {}"
   ]
  },
  {
   "cell_type": "code",
   "execution_count": 18,
   "id": "0142bf07-682b-4b01-9370-5028505c1270",
   "metadata": {},
   "outputs": [
    {
     "name": "stdout",
     "output_type": "stream",
     "text": [
      "welcome to python course. python is dynamic typed langauage. python is my favorite language. i love python.\n"
     ]
    }
   ],
   "source": [
    "s = \"welcome to python course. python is dynamic typed langauage. python is my favorite language. i love python.\"\n",
    "print(s)"
   ]
  },
  {
   "cell_type": "code",
   "execution_count": 19,
   "id": "77fbf2ba-3c7c-4a08-ac89-69e5a4c6d4b5",
   "metadata": {},
   "outputs": [
    {
     "ename": "SyntaxError",
     "evalue": "unterminated string literal (detected at line 1) (3781599760.py, line 1)",
     "output_type": "error",
     "traceback": [
      "\u001b[0;36m  Cell \u001b[0;32mIn[19], line 1\u001b[0;36m\u001b[0m\n\u001b[0;31m    s = \"welcome to python course.\u001b[0m\n\u001b[0m        ^\u001b[0m\n\u001b[0;31mSyntaxError\u001b[0m\u001b[0;31m:\u001b[0m unterminated string literal (detected at line 1)\n"
     ]
    }
   ],
   "source": [
    "s = \"welcome to python course. \n",
    "python is dynamic typed langauage. \n",
    "python is my favorite language. \n",
    "i love python.\"\n",
    "print(s)"
   ]
  },
  {
   "cell_type": "code",
   "execution_count": 20,
   "id": "a9bfd75b-53d6-4aff-9386-f6d3498936c3",
   "metadata": {},
   "outputs": [
    {
     "name": "stdout",
     "output_type": "stream",
     "text": [
      "welcome to python course.\n",
      "python is dynamic typed langauage.\n",
      "python is my favorite language.\n",
      "i love python.\n"
     ]
    }
   ],
   "source": [
    "# \\n is return character => go to new line\n",
    "\n",
    "s = \"welcome to python course.\\npython is dynamic typed langauage.\\npython is my favorite language.\\ni love python.\"\n",
    "print(s)"
   ]
  },
  {
   "cell_type": "code",
   "execution_count": 21,
   "id": "0f7d8ef8-5309-4fa6-ae03-d846cb574b21",
   "metadata": {},
   "outputs": [
    {
     "name": "stdout",
     "output_type": "stream",
     "text": [
      "Welcome to Python course. \n",
      "Python is a dynamically typed language. \n",
      "Python is my favorite language.\n",
      "I love Python\n"
     ]
    }
   ],
   "source": [
    "# triple quoted string => multiline string\n",
    "s = \"\"\"Welcome to Python course. \n",
    "Python is a dynamically typed language. \n",
    "Python is my favorite language.\n",
    "I love Python\"\"\"\n",
    "print(s)"
   ]
  },
  {
   "cell_type": "code",
   "execution_count": 22,
   "id": "9a8c8c84-d0e4-4f8c-bb58-6f9519c54840",
   "metadata": {},
   "outputs": [
    {
     "name": "stdout",
     "output_type": "stream",
     "text": [
      "Welcome to Python course. \n",
      "Python is a dynamically typed language. \n",
      "Python is my favorite language.\n",
      "I love Python\n"
     ]
    }
   ],
   "source": [
    "# triple quoted string => multiline string\n",
    "s = '''Welcome to Python course. \n",
    "Python is a dynamically typed language. \n",
    "Python is my favorite language.\n",
    "I love Python'''\n",
    "print(s)"
   ]
  },
  {
   "cell_type": "code",
   "execution_count": 24,
   "id": "bd42e929-facb-4ffd-bef7-9bf18871f85f",
   "metadata": {},
   "outputs": [
    {
     "name": "stdout",
     "output_type": "stream",
     "text": [
      "welcome to python course.\\npython is dynamic typed langauage.\\npython is my favorite language.\\ni love python.\n"
     ]
    }
   ],
   "source": [
    "# escaping character\n",
    "\n",
    "s = \"welcome to python course.\\\\npython is dynamic typed langauage.\\\\npython is my favorite language.\\\\ni love python.\"\n",
    "print(s)"
   ]
  },
  {
   "cell_type": "code",
   "execution_count": 25,
   "id": "0fac5550-0a4a-4d4f-893f-d9b66e397175",
   "metadata": {},
   "outputs": [
    {
     "name": "stdout",
     "output_type": "stream",
     "text": [
      "welcome to python course.\\npython is dynamic typed langauage.\\npython is my favorite language.\\ni love python.\n"
     ]
    }
   ],
   "source": [
    "# r means raw character\n",
    "s = r\"welcome to python course.\\npython is dynamic typed langauage.\\npython is my favorite language.\\ni love python.\"\n",
    "print(s)"
   ]
  },
  {
   "cell_type": "code",
   "execution_count": 27,
   "id": "bc2c881f-7bb0-48f1-87ae-88e54b463f92",
   "metadata": {},
   "outputs": [
    {
     "name": "stdin",
     "output_type": "stream",
     "text": [
      "Enter the value of x:  1\n",
      "Enter the value of y:  3\n"
     ]
    },
    {
     "name": "stdout",
     "output_type": "stream",
     "text": [
      "<class 'str'>\n",
      "<class 'str'>\n",
      "13\n"
     ]
    }
   ],
   "source": [
    "x = input(\"Enter the value of x: \")\n",
    "y = input(\"Enter the value of y: \")\n",
    "\n",
    "print(type(x))\n",
    "print(type(y))\n",
    "\n",
    "sum = x + y\n",
    "\n",
    "print(sum)"
   ]
  },
  {
   "cell_type": "code",
   "execution_count": 28,
   "id": "873f717d-604b-4f40-9fac-b77cf264841e",
   "metadata": {},
   "outputs": [
    {
     "data": {
      "text/plain": [
       "'rambahadur'"
      ]
     },
     "execution_count": 28,
     "metadata": {},
     "output_type": "execute_result"
    }
   ],
   "source": [
    "'ram' + 'bahadur'"
   ]
  },
  {
   "cell_type": "code",
   "execution_count": 29,
   "id": "45e6d5dc-d94d-4e4d-a01c-b2270db554f2",
   "metadata": {},
   "outputs": [
    {
     "data": {
      "text/plain": [
       "'13'"
      ]
     },
     "execution_count": 29,
     "metadata": {},
     "output_type": "execute_result"
    }
   ],
   "source": [
    "'1' + '3'"
   ]
  },
  {
   "cell_type": "code",
   "execution_count": 30,
   "id": "cb953664-b90f-4841-833c-0dd33f82ca78",
   "metadata": {},
   "outputs": [
    {
     "data": {
      "text/plain": [
       "4"
      ]
     },
     "execution_count": 30,
     "metadata": {},
     "output_type": "execute_result"
    }
   ],
   "source": [
    "1 + 3"
   ]
  },
  {
   "cell_type": "code",
   "execution_count": null,
   "id": "46cdd306-7498-4d54-ac83-86b587a43a58",
   "metadata": {},
   "outputs": [],
   "source": []
  }
 ],
 "metadata": {
  "kernelspec": {
   "display_name": "Python 3 (ipykernel)",
   "language": "python",
   "name": "python3"
  },
  "language_info": {
   "codemirror_mode": {
    "name": "ipython",
    "version": 3
   },
   "file_extension": ".py",
   "mimetype": "text/x-python",
   "name": "python",
   "nbconvert_exporter": "python",
   "pygments_lexer": "ipython3",
   "version": "3.12.4"
  },
  "widgets": {
   "application/vnd.jupyter.widget-state+json": {
    "state": {},
    "version_major": 2,
    "version_minor": 0
   }
  }
 },
 "nbformat": 4,
 "nbformat_minor": 5
}
